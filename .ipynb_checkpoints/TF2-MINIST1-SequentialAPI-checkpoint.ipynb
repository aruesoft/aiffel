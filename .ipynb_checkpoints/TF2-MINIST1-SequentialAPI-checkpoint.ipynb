{
 "cells": [
  {
   "cell_type": "markdown",
   "id": "7feba846-ed46-4bca-91b0-36f36c9eb721",
   "metadata": {},
   "source": [
    "## MNIST (1) Sequential API 활용"
   ]
  },
  {
   "cell_type": "code",
   "execution_count": 14,
   "id": "d0c093b6-fa7b-4e69-bf09-fc83eda98e4c",
   "metadata": {
    "tags": []
   },
   "outputs": [],
   "source": [
    "from datetime import datetime"
   ]
  },
  {
   "cell_type": "code",
   "execution_count": 1,
   "id": "90930995-3fbb-4cdd-96f9-6b5bfe154005",
   "metadata": {
    "tags": []
   },
   "outputs": [],
   "source": [
    "import tensorflow as tf\n",
    "from tensorflow import keras\n",
    "import numpy as np"
   ]
  },
  {
   "cell_type": "code",
   "execution_count": 2,
   "id": "d1e823a5-7a6b-4bd3-a9ee-3088722c7831",
   "metadata": {
    "tags": []
   },
   "outputs": [
    {
     "name": "stdout",
     "output_type": "stream",
     "text": [
      "Metal device set to: Apple M1 Pro\n",
      "60000 10000\n",
      "데이터의 크기는 : (60000, 28, 28, 1) 입니다.\n"
     ]
    }
   ],
   "source": [
    "# 데이터 구성부분\n",
    "mnist = keras.datasets.mnist\n",
    "\n",
    "(x_train, y_train), (x_test, y_test) = mnist.load_data()\n",
    "x_train, x_test = x_train / 255.0, x_test / 255.0\n",
    "\n",
    "x_train = tf.expand_dims(x_train, axis = 3)\n",
    "x_test = tf.expand_dims(x_test, axis = 3)\n",
    "\n",
    "print(len(x_train), len(x_test))\n",
    "print(f\"데이터의 크기는 : {x_train.shape} 입니다.\")"
   ]
  },
  {
   "cell_type": "code",
   "execution_count": 3,
   "id": "35784b77-e5c5-42b9-b4b5-9d494a4e744b",
   "metadata": {
    "tags": []
   },
   "outputs": [
    {
     "data": {
      "text/plain": [
       "TensorShape([28, 28, 1])"
      ]
     },
     "execution_count": 3,
     "metadata": {},
     "output_type": "execute_result"
    }
   ],
   "source": [
    "x_train.shape[1:]"
   ]
  },
  {
   "cell_type": "code",
   "execution_count": 11,
   "id": "9e7c75a6-c2b7-406b-85bf-a959e5b469b6",
   "metadata": {
    "tags": []
   },
   "outputs": [
    {
     "name": "stdout",
     "output_type": "stream",
     "text": [
      "CPU times: user 1 µs, sys: 0 ns, total: 1 µs\n",
      "Wall time: 3.1 µs\n",
      "Model: \"sequential_2\"\n",
      "_________________________________________________________________\n",
      " Layer (type)                Output Shape              Param #   \n",
      "=================================================================\n",
      " conv2d_4 (Conv2D)           (None, 26, 26, 32)        320       \n",
      "                                                                 \n",
      " conv2d_5 (Conv2D)           (None, 24, 24, 64)        18496     \n",
      "                                                                 \n",
      " flatten_2 (Flatten)         (None, 36864)             0         \n",
      "                                                                 \n",
      " dense_4 (Dense)             (None, 128)               4718720   \n",
      "                                                                 \n",
      " dense_5 (Dense)             (None, 10)                1290      \n",
      "                                                                 \n",
      "=================================================================\n",
      "Total params: 4,738,826\n",
      "Trainable params: 4,738,826\n",
      "Non-trainable params: 0\n",
      "_________________________________________________________________\n"
     ]
    }
   ],
   "source": [
    "# Sequential Model을 구성해주세요.\n",
    "\"\"\"\n",
    "Spec:\n",
    "1. 32개의 채널을 가지고, 커널의 크기가 3, activation function이 relu를 갖고 있으며 input_shape은 데이터 크기로 하는 Conv2D 레이어\n",
    "2. 64개의 채널을 가지고, 커널의 크기가 3, activation function이 relu인 Conv2D 레이어\n",
    "3. Flatten 레이어\n",
    "4. 128개의 아웃풋 노드를 가지고, activation function이 relu인 Fully-Connected Layer(Dense)\n",
    "5. 데이터셋의 클래스 개수에 맞는 아웃풋 노드를 가지고, activation function이 softmax인 Fully-Connected Layer(Dense)\n",
    "\"\"\"\n",
    "data_size = x_train.shape[1:]\n",
    "\n",
    "model = keras.Sequential([\n",
    "    keras.layers.Conv2D(32,(3,3),activation = 'relu',input_shape=(data_size)),\n",
    "    keras.layers.Conv2D(64,(3,3),activation = 'relu'),\n",
    "    keras.layers.Flatten(),\n",
    "    keras.layers.Dense(128,activation='relu'),\n",
    "    keras.layers.Dense(10,activation='softmax')\n",
    "])\n",
    "\n",
    "# 여기에 모델을 구성해주세요\n",
    "\n",
    "model.summary()"
   ]
  },
  {
   "cell_type": "code",
   "execution_count": 17,
   "id": "8ff01577-2052-42cf-aae2-852ed39f3408",
   "metadata": {
    "tags": []
   },
   "outputs": [
    {
     "name": "stdout",
     "output_type": "stream",
     "text": [
      " Started on:  01:29:39 PM\n",
      "Epoch 1/2\n",
      "1875/1875 [==============================] - 20s 10ms/step - loss: 0.0200 - accuracy: 0.9937\n",
      "Epoch 2/2\n",
      "1875/1875 [==============================] - 20s 11ms/step - loss: 0.0131 - accuracy: 0.9957\n",
      "313/313 - 2s - loss: 0.0451 - accuracy: 0.9888 - 2s/epoch - 7ms/step\n",
      "Job Completed on:  01:30:21 PM\n",
      "Job Completed on:  01:30:21 PM\n",
      "Job Execution Term:  0:00:41.853455\n"
     ]
    }
   ],
   "source": [
    "start_time = datetime.now()\n",
    "print(\" Started on: \", start_time.strftime(\"%I:%M:%S %p\"))\n",
    "\n",
    "model.compile(optimizer='adam',\n",
    "              loss='sparse_categorical_crossentropy',\n",
    "              metrics=['accuracy'])\n",
    "\n",
    "model.fit(x_train, y_train, epochs=2)\n",
    "\n",
    "model.evaluate(x_test,  y_test, verbose=2)\n",
    "\n",
    "end_time = datetime.now()\n",
    "print(\"Job Completed on: \", end_time.strftime(\"%I:%M:%S %p\"))\n",
    "\n",
    "execution_time = end_time - start_time\n",
    "print(\"Job Execution Time: \", during_time)\n"
   ]
  },
  {
   "cell_type": "code",
   "execution_count": null,
   "id": "e4713884-7587-44b7-a4c4-1b22be732d5a",
   "metadata": {},
   "outputs": [],
   "source": []
  }
 ],
 "metadata": {
  "kernelspec": {
   "display_name": "Python 3.10 (tensorflow)",
   "language": "python",
   "name": "tensorflow"
  },
  "language_info": {
   "codemirror_mode": {
    "name": "ipython",
    "version": 3
   },
   "file_extension": ".py",
   "mimetype": "text/x-python",
   "name": "python",
   "nbconvert_exporter": "python",
   "pygments_lexer": "ipython3",
   "version": "3.10.10"
  }
 },
 "nbformat": 4,
 "nbformat_minor": 5
}
