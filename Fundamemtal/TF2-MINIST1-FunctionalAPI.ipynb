{
 "cells": [
  {
   "cell_type": "code",
   "execution_count": 8,
   "id": "aa8e4155-52e7-4900-a57c-546960e446a1",
   "metadata": {
    "tags": []
   },
   "outputs": [],
   "source": [
    "import tensorflow as tf\n",
    "from tensorflow import keras\n",
    "import numpy as np\n",
    "from datetime import datetime "
   ]
  },
  {
   "cell_type": "code",
   "execution_count": 9,
   "id": "fd3af50e-c473-4b39-991e-4c84dc86bc89",
   "metadata": {
    "tags": []
   },
   "outputs": [
    {
     "name": "stdout",
     "output_type": "stream",
     "text": [
      "60000 10000\n",
      "(60000, 28, 28, 1)\n",
      "(28, 28, 1)\n"
     ]
    }
   ],
   "source": [
    "\n",
    "mnist = keras.datasets.mnist\n",
    "\n",
    "(x_train, y_train), (x_test, y_test) = mnist.load_data()\n",
    "x_train, x_test = x_train / 255.0, x_test / 255.0\n",
    "\n",
    "x_train = tf.expand_dims(x_train, axis = 3)\n",
    "x_test = tf.expand_dims(x_test, axis = 3)\n",
    "\n",
    "print(len(x_train), len(x_test))\n",
    "\n",
    "print(x_train.shape)\n",
    "print(x_train.shape[1:])\n",
    "\n",
    "data_size = x_train.shape[1:]\n"
   ]
  },
  {
   "cell_type": "code",
   "execution_count": 13,
   "id": "8264cbbf-8a57-41f7-9d03-bbc177027992",
   "metadata": {
    "tags": []
   },
   "outputs": [
    {
     "name": "stdout",
     "output_type": "stream",
     "text": [
      " Started on:  01:57:42 PM\n",
      "Model: \"model_1\"\n",
      "_________________________________________________________________\n",
      " Layer (type)                Output Shape              Param #   \n",
      "=================================================================\n",
      " input_layer (InputLayer)    [(None, 28, 28, 1)]       0         \n",
      "                                                                 \n",
      " conv2d_1 (Conv2D)           (None, 26, 26, 32)        320       \n",
      "                                                                 \n",
      " conv2d_2 (Conv2D)           (None, 24, 24, 64)        18496     \n",
      "                                                                 \n",
      " flatten (Flatten)           (None, 36864)             0         \n",
      "                                                                 \n",
      " dense_1 (Dense)             (None, 128)               4718720   \n",
      "                                                                 \n",
      " output_layer (Dense)        (None, 10)                1290      \n",
      "                                                                 \n",
      "=================================================================\n",
      "Total params: 4,738,826\n",
      "Trainable params: 4,738,826\n",
      "Non-trainable params: 0\n",
      "_________________________________________________________________\n",
      "Job Completed on:  01:57:42 PM\n",
      "Job Execution Time:  0:00:00.047293\n"
     ]
    }
   ],
   "source": [
    "\"\"\"\n",
    "Spec:\n",
    "0. 데이터 크기로로 정의된 Input\n",
    "1. 32개의 채널을 가지고, 커널의 크기가 3, activation function이 relu인 Conv2D 레이어\n",
    "2. 64개의 채널을 가지고, 커널의 크기가 3, activation function이 relu인 Conv2D 레이어\n",
    "3. Flatten 레이어\n",
    "4. 128개의 아웃풋 노드를 가지고, activation function이 relu인 Fully-Connected Layer(Dense)\n",
    "5. 데이터셋의 클래스 개수에 맞는 아웃풋 노드를 가지고, activation function이 softmax인 Fully-Connected Layer(Dense)\n",
    "\n",
    "\"\"\"\n",
    "\n",
    "inputs = keras.Input(shape=data_size , name = 'input_layer')\n",
    "x = keras.layers.Conv2D(32,(3,3),activation='relu' , name = 'conv2d_1')(inputs)\n",
    "x = keras.layers.Conv2D(64,(3,3),activation='relu' , name = 'conv2d_2')(x)\n",
    "x = keras.layers.Flatten(name = 'flatten')(x)\n",
    "x = keras.layers.Dense(128,activation='relu', name = 'dense_1')(x)\n",
    "prediction = keras.layers.Dense(10,activation='softmax',name='output_layer')(x)\n",
    "\n",
    "model = keras.Model(inputs=inputs, outputs=prediction)\n",
    "model.summary()\n"
   ]
  },
  {
   "cell_type": "code",
   "execution_count": 15,
   "id": "8088b573-afc8-4b4c-9e9f-3b2cd0f907c6",
   "metadata": {
    "tags": []
   },
   "outputs": [
    {
     "name": "stdout",
     "output_type": "stream",
     "text": [
      " Started on:  02:08:57 PM\n",
      "Epoch 1/2\n",
      "1875/1875 [==============================] - 20s 11ms/step - loss: 0.0207 - accuracy: 0.9934\n",
      "Epoch 2/2\n",
      "1875/1875 [==============================] - 20s 11ms/step - loss: 0.0115 - accuracy: 0.9961\n",
      "313/313 - 2s - loss: 0.0432 - accuracy: 0.9875 - 2s/epoch - 7ms/step\n",
      "Job Completed on:  02:09:39 PM\n",
      "Job Execution Time:  0:00:42.197487\n"
     ]
    }
   ],
   "source": [
    "start_time = datetime.now()\n",
    "print(\" Started on: \", start_time.strftime(\"%I:%M:%S %p\"))\n",
    "\n",
    "\n",
    "model.compile(optimizer='adam',\n",
    "              loss='sparse_categorical_crossentropy',\n",
    "              metrics=['accuracy'])\n",
    "\n",
    "model.fit(x_train, y_train, epochs=2)\n",
    "model.evaluate(x_test,  y_test, verbose=2)\n",
    "\n",
    "end_time = datetime.now()\n",
    "print(\"Job Completed on: \", end_time.strftime(\"%I:%M:%S %p\"))\n",
    "\n",
    "execution_time = end_time - start_time\n",
    "print(\"Job Execution Time: \", execution_time)\n"
   ]
  },
  {
   "cell_type": "code",
   "execution_count": 16,
   "id": "35e179a9-d50b-4493-8db0-5d3dff241264",
   "metadata": {
    "tags": []
   },
   "outputs": [
    {
     "name": "stdin",
     "output_type": "stream",
     "text": [
      "Once deleted, variables cannot be recovered. Proceed (y/[n])?  y\n"
     ]
    }
   ],
   "source": [
    "%reset"
   ]
  },
  {
   "cell_type": "code",
   "execution_count": null,
   "id": "5a11a71b-21ed-47fc-8829-68f0f9dc6cbb",
   "metadata": {},
   "outputs": [],
   "source": []
  }
 ],
 "metadata": {
  "kernelspec": {
   "display_name": "Python 3.10 (tensorflow)",
   "language": "python",
   "name": "tensorflow"
  },
  "language_info": {
   "codemirror_mode": {
    "name": "ipython",
    "version": 3
   },
   "file_extension": ".py",
   "mimetype": "text/x-python",
   "name": "python",
   "nbconvert_exporter": "python",
   "pygments_lexer": "ipython3",
   "version": "3.10.10"
  }
 },
 "nbformat": 4,
 "nbformat_minor": 5
}
