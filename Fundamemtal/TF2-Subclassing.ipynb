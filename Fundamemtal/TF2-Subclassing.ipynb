{
 "cells": [
  {
   "cell_type": "markdown",
   "id": "5899d8e7-04df-4777-a1a5-6f5b716defa4",
   "metadata": {},
   "source": [
    "## MNIST (3) Subclassing 활용"
   ]
  },
  {
   "cell_type": "markdown",
   "id": "c4809d23-bae2-4f4c-ac9a-07f65b798e6f",
   "metadata": {},
   "source": [
    "마지막으로 Subclassing 방법입니다.   \n",
    "keras.Model을 상속받은 클래스를 만드는 것입니다.  \n",
    "__init__() 메서드 안에서 레이어를 선언하고, call() 메서드 안에서 forward propagation을 구현하는 방식임을 기억해 주세요.  \n",
    "Functional 방식과 비교하자면, call()의 입력이 Input이고, call()의 리턴값이 Output이 되는 것입니다."
   ]
  },
  {
   "cell_type": "code",
   "execution_count": 1,
   "id": "22f8273a-b5b7-49fd-b8ab-09abd629acae",
   "metadata": {
    "tags": []
   },
   "outputs": [],
   "source": [
    "import tensorflow as tf\n",
    "from tensorflow import keras\n",
    "import numpy as np\n",
    "from datetime import datetime"
   ]
  },
  {
   "cell_type": "code",
   "execution_count": 2,
   "id": "8918b3fe-1f6e-4292-811d-c0b090d7a37f",
   "metadata": {
    "tags": []
   },
   "outputs": [
    {
     "name": "stdout",
     "output_type": "stream",
     "text": [
      "Metal device set to: Apple M1 Pro\n",
      "60000 10000\n"
     ]
    }
   ],
   "source": [
    "# 데이터 구성부분\n",
    "mnist = keras.datasets.mnist\n",
    "\n",
    "(x_train, y_train), (x_test, y_test) = mnist.load_data()\n",
    "x_train, x_test = x_train / 255.0, x_test / 255.0\n",
    "\n",
    "x_train = tf.expand_dims(x_train, axis = 3)\n",
    "x_test = tf.expand_dims(x_test, axis = 3)\n",
    "\n",
    "print(len(x_train), len(x_test))"
   ]
  },
  {
   "cell_type": "code",
   "execution_count": 5,
   "id": "927057c4-e103-4d5f-a4bf-41e637aab6d1",
   "metadata": {
    "tags": []
   },
   "outputs": [],
   "source": [
    "data_size = x_train.shape[1:]"
   ]
  },
  {
   "cell_type": "code",
   "execution_count": 6,
   "id": "9cbcb08a-a4ec-4414-9c98-8e7b6a5d6d2f",
   "metadata": {
    "tags": []
   },
   "outputs": [
    {
     "data": {
      "text/plain": [
       "TensorShape([28, 28, 1])"
      ]
     },
     "execution_count": 6,
     "metadata": {},
     "output_type": "execute_result"
    }
   ],
   "source": [
    "data_size"
   ]
  },
  {
   "cell_type": "code",
   "execution_count": 13,
   "id": "60f239f0-492f-48eb-aee3-c1a22dbb7461",
   "metadata": {
    "tags": []
   },
   "outputs": [
    {
     "name": "stdout",
     "output_type": "stream",
     "text": [
      "Model: \"model\"\n",
      "_________________________________________________________________\n",
      " Layer (type)                Output Shape              Param #   \n",
      "=================================================================\n",
      " input_6 (InputLayer)        [(None, 28, 28, 1)]       0         \n",
      "                                                                 \n",
      " conv2d_12 (Conv2D)          (None, 26, 26, 32)        320       \n",
      "                                                                 \n",
      " conv2d_13 (Conv2D)          (None, 24, 24, 64)        18496     \n",
      "                                                                 \n",
      " flatten_6 (Flatten)         (None, 36864)             0         \n",
      "                                                                 \n",
      " dense_12 (Dense)            (None, 128)               4718720   \n",
      "                                                                 \n",
      " dense_13 (Dense)            (None, 10)                1290      \n",
      "                                                                 \n",
      "=================================================================\n",
      "Total params: 4,738,826\n",
      "Trainable params: 4,738,826\n",
      "Non-trainable params: 0\n",
      "_________________________________________________________________\n"
     ]
    }
   ],
   "source": [
    "# Subclassing을 활용한 Model을 구성해주세요.\n",
    "\n",
    "\n",
    "# 여기에 모델을 구성해주세요\n",
    "\n",
    "class CustomModel(keras.Model):\n",
    "    ##[[YOUR CODE]]\n",
    "    \"\"\"\n",
    "    Spec:\n",
    "    0. keras.Model 을 상속받았으며, __init__()와 call() 메서드를 가진 모델 클래스\n",
    "    1. 32개의 채널을 가지고, 커널의 크기가 3, activation function이 relu인 Conv2D 레이어\n",
    "    2. 64개의 채널을 가지고, 커널의 크기가 3, activation function이 relu인 Conv2D 레이어\n",
    "    3. Flatten 레이어\n",
    "    4. 128개의 아웃풋 노드를 가지고, activation function이 relu인 Fully-Connected Layer(Dense)\n",
    "    5. 데이터셋의 클래스 개수에 맞는 아웃풋 노드를 가지고, activation function이 softmax인 Fully-Connected Layer(Dense)\n",
    "    6. call의 입력값이 모델의 Input, call의 리턴값이 모델의 Output\n",
    "    \"\"\"\n",
    "        \n",
    "    def __init__(self):        \n",
    "        super(CustomModel,self).__init__()\n",
    "\n",
    "        self.conv1 = keras.layers.Conv2D(32,(3,3),activation='relu')\n",
    "        self.conv2 = keras.layers.Conv2D(64,(3,3),activation='relu')\n",
    "        self.flatten = keras.layers.Flatten()\n",
    "        self.dense1 = keras.layers.Dense(128,activation='relu')\n",
    "        self.dense2 = keras.layers.Dense(10,activation='softmax')\n",
    "\n",
    "        \n",
    "    def call(self,inputs):\n",
    "        x = self.conv1(inputs)\n",
    "        x = self.conv2(x)\n",
    "        x = self.flatten(x)\n",
    "        x = self.dense1(x)\n",
    "        outputs = self.dense2(x)\n",
    "        return outputs\n",
    "        \n",
    "    def summary(self):\n",
    "        x = keras.Input(shape = (28,28,1))\n",
    "        model = keras.Model(inputs=[x], outputs = self.call(x))\n",
    "        return model.summary()\n",
    "\n",
    "\n",
    "model = CustomModel()\n",
    "\n",
    "model.summary()"
   ]
  },
  {
   "cell_type": "code",
   "execution_count": 14,
   "id": "4ac90a8d-32c1-415d-89ac-44bb811859e8",
   "metadata": {
    "tags": []
   },
   "outputs": [
    {
     "name": "stdout",
     "output_type": "stream",
     "text": [
      " Started on:  02:43:18 PM\n",
      "Epoch 1/2\n"
     ]
    },
    {
     "name": "stderr",
     "output_type": "stream",
     "text": [
      "2023-05-11 14:43:19.092955: W tensorflow/tsl/platform/profile_utils/cpu_utils.cc:128] Failed to get CPU frequency: 0 Hz\n"
     ]
    },
    {
     "name": "stdout",
     "output_type": "stream",
     "text": [
      "1875/1875 [==============================] - 22s 11ms/step - loss: 0.1042 - accuracy: 0.9674\n",
      "Epoch 2/2\n",
      "1875/1875 [==============================] - 20s 11ms/step - loss: 0.0331 - accuracy: 0.9893\n",
      "313/313 - 2s - loss: 0.0422 - accuracy: 0.9859 - 2s/epoch - 7ms/step\n",
      "Job Completed on:  02:44:04 PM\n",
      "Job Execution Time:  0:00:45.310898\n"
     ]
    }
   ],
   "source": [
    "from datetime import datetime\n",
    "start_time = datetime.now()\n",
    "print(\" Started on: \", start_time.strftime(\"%I:%M:%S %p\"))\n",
    "\n",
    "model.compile(optimizer='adam',\n",
    "              loss='sparse_categorical_crossentropy',\n",
    "              metrics=['accuracy'])\n",
    "\n",
    "model.fit(x_train, y_train, epochs=2)\n",
    "\n",
    "model.evaluate(x_test,  y_test, verbose=2)\n",
    "\n",
    "\n",
    "\n",
    "end_time = datetime.now()\n",
    "print(\"Job Completed on: \", end_time.strftime(\"%I:%M:%S %p\"))\n",
    "\n",
    "execution_time = end_time - start_time\n",
    "print(\"Job Execution Time: \", execution_time)\n"
   ]
  },
  {
   "cell_type": "code",
   "execution_count": 15,
   "id": "9232d4a8-41fb-4a24-9e0d-3c140184a3ee",
   "metadata": {
    "tags": []
   },
   "outputs": [
    {
     "name": "stdout",
     "output_type": "stream",
     "text": [
      "313/313 - 2s - loss: 0.0422 - accuracy: 0.9859 - 2s/epoch - 7ms/step\n"
     ]
    },
    {
     "data": {
      "text/plain": [
       "[0.04217268154025078, 0.9859000444412231]"
      ]
     },
     "execution_count": 15,
     "metadata": {},
     "output_type": "execute_result"
    }
   ],
   "source": [
    "model.evaluate(x_test,  y_test, verbose=2)"
   ]
  },
  {
   "cell_type": "code",
   "execution_count": 17,
   "id": "8605a67a-7f7a-476a-9772-a3e4d64faa26",
   "metadata": {
    "tags": []
   },
   "outputs": [
    {
     "data": {
      "text/plain": [
       "3"
      ]
     },
     "execution_count": 17,
     "metadata": {},
     "output_type": "execute_result"
    }
   ],
   "source": []
  },
  {
   "cell_type": "code",
   "execution_count": null,
   "id": "160df87d-ccc4-43b6-8ecb-918a4169849f",
   "metadata": {},
   "outputs": [],
   "source": []
  }
 ],
 "metadata": {
  "kernelspec": {
   "display_name": "Python 3.10 (tensorflow)",
   "language": "python",
   "name": "tensorflow"
  },
  "language_info": {
   "codemirror_mode": {
    "name": "ipython",
    "version": 3
   },
   "file_extension": ".py",
   "mimetype": "text/x-python",
   "name": "python",
   "nbconvert_exporter": "python",
   "pygments_lexer": "ipython3",
   "version": "3.10.10"
  }
 },
 "nbformat": 4,
 "nbformat_minor": 5
}
