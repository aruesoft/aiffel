{
 "cells": [
  {
   "cell_type": "code",
   "execution_count": 1,
   "id": "b4e2a15f-7e86-4202-bfee-178a8e5df070",
   "metadata": {
    "tags": []
   },
   "outputs": [
    {
     "name": "stdout",
     "output_type": "stream",
     "text": [
      "x_train: 50000 x_test: 10000\n"
     ]
    }
   ],
   "source": [
    "import tensorflow as tf\n",
    "from tensorflow import keras\n",
    "from tensorflow.keras import layers\n",
    "\n",
    "# CIFAR100 데이터셋을 가져옵시다. \n",
    "cifar100 = keras.datasets.cifar100\n",
    "\n",
    "(x_train, y_train), (x_test, y_test) = cifar100.load_data()\n",
    "x_train, x_test = x_train / 255.0, x_test / 255.0\n",
    "\n",
    "print(\"x_train:\", len(x_train), \"x_test:\", len(x_test))"
   ]
  },
  {
   "cell_type": "code",
   "execution_count": 2,
   "id": "a7903a0d-9e1c-4c0a-9c4a-b624e1fd9c89",
   "metadata": {
    "tags": []
   },
   "outputs": [],
   "source": [
    "img_input = keras.Input(shape=(32, 32, 3))"
   ]
  },
  {
   "cell_type": "markdown",
   "id": "80c6593e-c9ac-4696-8464-3ea78851788b",
   "metadata": {},
   "source": [
    "-------"
   ]
  },
  {
   "cell_type": "code",
   "execution_count": null,
   "id": "3fd1cc00-c528-4518-a1d7-b950014b261e",
   "metadata": {
    "tags": []
   },
   "outputs": [],
   "source": [
    "\n",
    "x = keras.layers.Conv2D(16, 3, activation='relu')(img_input)\n",
    "x = keras.layers.MaxPool2D((2,2))(x)\n",
    "x = keras.layers.Conv2D(32, 3, activation='relu')(x)\n",
    "x = keras.layers.MaxPool2D((2,2))(x)\n",
    "x = keras.layers.Flatten()(x)\n",
    "x = keras.layers.Dense(256, activation='relu')(x)\n",
    "\n",
    "\n",
    "predictions = keras.layers.Dense(100, activation='softmax')(x)\n",
    "model = keras.Model(inputs=img_input, outputs=predictions)\n",
    "\n",
    "model.summary()"
   ]
  },
  {
   "cell_type": "markdown",
   "id": "3ade2251-67d8-4aa4-b057-00ff103e4d15",
   "metadata": {},
   "source": [
    "우리가 그동안 학습했던 Convolution Neural Network는 대략 위와 같은 model 구조를 가지고 있을 것입니다. 학습해야 할 파라미터 개수가 대략 326K 정도 되는군요.\n",
    "\n",
    "1 Epoch만 훈련시켜 봅시다. 우리는 성능 최적화를 시도하는 게 아니라 모델 구조를 분석하고 있는 거니까요."
   ]
  },
  {
   "cell_type": "code",
   "execution_count": null,
   "id": "0d288bde-429d-405f-8552-00fdb278f7a4",
   "metadata": {
    "tags": []
   },
   "outputs": [],
   "source": [
    "# 모델 학습!! \n",
    "model.compile(optimizer='adam',\n",
    "              loss='sparse_categorical_crossentropy',\n",
    "              metrics=['accuracy'])\n",
    "\n",
    "model.fit(x_train, y_train, epochs=1)    # 1 Epoch만 학습합니다."
   ]
  },
  {
   "cell_type": "markdown",
   "id": "7356f56c-2b77-42a7-ae80-7373dbc775a5",
   "metadata": {},
   "source": [
    "--------"
   ]
  },
  {
   "cell_type": "markdown",
   "id": "3e56e6ff-2d59-4a0d-9312-75042c496e8e",
   "metadata": {},
   "source": [
    "좋습니다. 그럼 이제 위 코드에서 model 부분을 VGG16으로 바꿔보겠습니다. 이전 스텝에서 알려드린 Keras VGG16 코드 구현 소스코드로부터 다음 구현 부분을 찾아서 적용해 봅시다. 지금 필요한 것은 Ctrl+C와 Ctrl+V 입니다.\n",
    "\n",
    "지금부터 해볼 문제는 코드에서 Block마다 구현이 어떻게 되어 있는지 찾는 것입니다. 구분해서 찾아야 할 블록은 다음과 같습니다.\n",
    "\n",
    "첫 번째 블록 (첫 번째 Max pooling까지)\n",
    "두 번째 블록 (두 번째 Max pooling까지)\n",
    "세 번째 블록 (세 번째 Max pooling까지)\n",
    "네 번째 블록 (네 번째 Max pooling까지)\n",
    "다섯 번째 블록 (다섯 번째 Max pooling까지)\n",
    "여섯 번째 블록 (완전 연결 레이어 + softmax까지)\n",
    "첫 번째 블록의 예시 답안은 다음과 같습니다. Keras의 Functional API 구조가 익숙하시다면 어려움 없이 답을 찾으실 수 있을 것입니다."
   ]
  },
  {
   "cell_type": "code",
   "execution_count": 3,
   "id": "46e85834-24c1-4f50-ad49-2514d35db19e",
   "metadata": {
    "tags": []
   },
   "outputs": [
    {
     "name": "stdout",
     "output_type": "stream",
     "text": [
      "Metal device set to: Apple M1 Pro\n",
      "첫 번째 블록 OK!!\n"
     ]
    }
   ],
   "source": [
    "# 첫 번째 블록(예시)\n",
    "x = layers.Conv2D(64, (3, 3),\n",
    "                  activation='relu',\n",
    "                  padding='same',\n",
    "                  name='block1_conv1')(img_input)\n",
    "x = layers.Conv2D(64, (3, 3),\n",
    "                  activation='relu',\n",
    "                  padding='same',\n",
    "                  name='block1_conv2')(x)\n",
    "x = layers.MaxPooling2D((2, 2), strides=(2, 2), name='block1_pool')(x)\n",
    "\n",
    "print('첫 번째 블록 OK!!')"
   ]
  },
  {
   "cell_type": "code",
   "execution_count": 4,
   "id": "774b05e7-10aa-4e46-85ef-ae3ea2bb160d",
   "metadata": {
    "tags": []
   },
   "outputs": [
    {
     "name": "stdout",
     "output_type": "stream",
     "text": [
      "두 번째 블록 OK!!\n"
     ]
    }
   ],
   "source": [
    "# Q. 두 번째 블록\n",
    "# Block 2\n",
    "x = layers.Conv2D(128, (3, 3),\n",
    "                    activation='relu',\n",
    "                    padding='same',\n",
    "                    name='block2_conv1')(x)\n",
    "x = layers.Conv2D(128, (3, 3),\n",
    "                    activation='relu',\n",
    "                    padding='same',\n",
    "                    name='block2_conv2')(x)\n",
    "x = layers.MaxPooling2D((2, 2), strides=(2, 2), name='block2_pool')(x)\n",
    "\n",
    "print('두 번째 블록 OK!!')"
   ]
  },
  {
   "cell_type": "code",
   "execution_count": 5,
   "id": "257e80d5-6b6c-4a8c-9e25-fda5f273403f",
   "metadata": {
    "tags": []
   },
   "outputs": [
    {
     "name": "stdout",
     "output_type": "stream",
     "text": [
      "세 번째 블록 OK!!\n"
     ]
    }
   ],
   "source": [
    "# Q. 세 번째 블록\n",
    "x = layers.Conv2D(256, (3, 3),\n",
    "                      activation='relu',\n",
    "                      padding='same',\n",
    "                      name='block3_conv1')(x)\n",
    "x = layers.Conv2D(256, (3, 3),\n",
    "                    activation='relu',\n",
    "                    padding='same',\n",
    "                    name='block3_conv2')(x)\n",
    "x = layers.Conv2D(256, (3, 3),\n",
    "                    activation='relu',\n",
    "                    padding='same',\n",
    "                    name='block3_conv3')(x)\n",
    "x = layers.MaxPooling2D((2, 2), strides=(2, 2), name='block3_pool')(x)\n",
    "\n",
    "print('세 번째 블록 OK!!')"
   ]
  },
  {
   "cell_type": "code",
   "execution_count": 6,
   "id": "6fa07102-2ede-49a0-bfac-8933e35754e4",
   "metadata": {
    "tags": []
   },
   "outputs": [
    {
     "name": "stdout",
     "output_type": "stream",
     "text": [
      "네 번째 블록 OK!!\n"
     ]
    }
   ],
   "source": [
    "# Q. 네 번째 블록\n",
    "x = layers.Conv2D(512, (3, 3),\n",
    "                      activation='relu',\n",
    "                      padding='same',\n",
    "                      name='block4_conv1')(x)\n",
    "x = layers.Conv2D(512, (3, 3),\n",
    "                    activation='relu',\n",
    "                    padding='same',\n",
    "                    name='block4_conv2')(x)\n",
    "x = layers.Conv2D(512, (3, 3),\n",
    "                    activation='relu',\n",
    "                    padding='same',\n",
    "                    name='block4_conv3')(x)\n",
    "x = layers.MaxPooling2D((2, 2), strides=(2, 2), name='block4_pool')(x)\n",
    "\n",
    "print('네 번째 블록 OK!!')"
   ]
  },
  {
   "cell_type": "code",
   "execution_count": 7,
   "id": "b4a76b4b-56a2-4ff5-a7fc-ceeec3d72034",
   "metadata": {
    "tags": []
   },
   "outputs": [
    {
     "name": "stdout",
     "output_type": "stream",
     "text": [
      "다섯 번째 블록 OK!!\n"
     ]
    }
   ],
   "source": [
    "# Q. 다섯 번째 블록\n",
    "x = layers.Conv2D(512, (3, 3),\n",
    "                      activation='relu',\n",
    "                      padding='same',\n",
    "                      name='block5_conv1')(x)\n",
    "x = layers.Conv2D(512, (3, 3),\n",
    "                    activation='relu',\n",
    "                    padding='same',\n",
    "                    name='block5_conv2')(x)\n",
    "x = layers.Conv2D(512, (3, 3),\n",
    "                    activation='relu',\n",
    "                    padding='same',\n",
    "                    name='block5_conv3')(x)\n",
    "x = layers.MaxPooling2D((2, 2), strides=(2, 2), name='block5_pool')(x)\n",
    "\n",
    "print('다섯 번째 블록 OK!!')"
   ]
  },
  {
   "cell_type": "code",
   "execution_count": 8,
   "id": "cbc064b8-28bd-42a3-89b9-ab1dc7b6b4e9",
   "metadata": {
    "tags": []
   },
   "outputs": [
    {
     "name": "stdout",
     "output_type": "stream",
     "text": [
      "여섯 번째 블록 OK!!\n"
     ]
    }
   ],
   "source": [
    "# Q. 여섯 번째 블록\n",
    "# [Keras VGG16 코드 구현] 링크의 if include_top: 부분을 유심히 보세요 \n",
    "x = layers.Flatten(name='flatten')(x)\n",
    "x = layers.Dense(4096, activation='relu', name='fc1')(x)\n",
    "x = layers.Dense(4096, activation='relu', name='fc2')(x)\n",
    "\n",
    "classes=100\n",
    "x = layers.Dense(classes, activation='softmax', name='predictions')(x)    # CIFAR100을 위한 모델 Output\n",
    "print('여섯 번째 블록 OK!!')\n",
    "\n"
   ]
  },
  {
   "cell_type": "code",
   "execution_count": 9,
   "id": "794edb26-2995-4658-9cf4-ec77bca470d4",
   "metadata": {
    "tags": []
   },
   "outputs": [
    {
     "name": "stdout",
     "output_type": "stream",
     "text": [
      "Model: \"VGG-16\"\n",
      "_________________________________________________________________\n",
      " Layer (type)                Output Shape              Param #   \n",
      "=================================================================\n",
      " input_1 (InputLayer)        [(None, 32, 32, 3)]       0         \n",
      "                                                                 \n",
      " block1_conv1 (Conv2D)       (None, 32, 32, 64)        1792      \n",
      "                                                                 \n",
      " block1_conv2 (Conv2D)       (None, 32, 32, 64)        36928     \n",
      "                                                                 \n",
      " block1_pool (MaxPooling2D)  (None, 16, 16, 64)        0         \n",
      "                                                                 \n",
      " block2_conv1 (Conv2D)       (None, 16, 16, 128)       73856     \n",
      "                                                                 \n",
      " block2_conv2 (Conv2D)       (None, 16, 16, 128)       147584    \n",
      "                                                                 \n",
      " block2_pool (MaxPooling2D)  (None, 8, 8, 128)         0         \n",
      "                                                                 \n",
      " block3_conv1 (Conv2D)       (None, 8, 8, 256)         295168    \n",
      "                                                                 \n",
      " block3_conv2 (Conv2D)       (None, 8, 8, 256)         590080    \n",
      "                                                                 \n",
      " block3_conv3 (Conv2D)       (None, 8, 8, 256)         590080    \n",
      "                                                                 \n",
      " block3_pool (MaxPooling2D)  (None, 4, 4, 256)         0         \n",
      "                                                                 \n",
      " block4_conv1 (Conv2D)       (None, 4, 4, 512)         1180160   \n",
      "                                                                 \n",
      " block4_conv2 (Conv2D)       (None, 4, 4, 512)         2359808   \n",
      "                                                                 \n",
      " block4_conv3 (Conv2D)       (None, 4, 4, 512)         2359808   \n",
      "                                                                 \n",
      " block4_pool (MaxPooling2D)  (None, 2, 2, 512)         0         \n",
      "                                                                 \n",
      " block5_conv1 (Conv2D)       (None, 2, 2, 512)         2359808   \n",
      "                                                                 \n",
      " block5_conv2 (Conv2D)       (None, 2, 2, 512)         2359808   \n",
      "                                                                 \n",
      " block5_conv3 (Conv2D)       (None, 2, 2, 512)         2359808   \n",
      "                                                                 \n",
      " block5_pool (MaxPooling2D)  (None, 1, 1, 512)         0         \n",
      "                                                                 \n",
      " flatten (Flatten)           (None, 512)               0         \n",
      "                                                                 \n",
      " fc1 (Dense)                 (None, 4096)              2101248   \n",
      "                                                                 \n",
      " fc2 (Dense)                 (None, 4096)              16781312  \n",
      "                                                                 \n",
      " predictions (Dense)         (None, 100)               409700    \n",
      "                                                                 \n",
      "=================================================================\n",
      "Total params: 34,006,948\n",
      "Trainable params: 34,006,948\n",
      "Non-trainable params: 0\n",
      "_________________________________________________________________\n"
     ]
    }
   ],
   "source": [
    "model = keras.Model(name=\"VGG-16\", inputs=img_input, outputs=x)\n",
    "\n",
    "model.summary()"
   ]
  },
  {
   "cell_type": "code",
   "execution_count": null,
   "id": "cad41d0e-c5e9-492e-9064-f2a0be0a4201",
   "metadata": {},
   "outputs": [],
   "source": []
  }
 ],
 "metadata": {
  "kernelspec": {
   "display_name": "Python 3.10 (tensorflow)",
   "language": "python",
   "name": "tensorflow"
  },
  "language_info": {
   "codemirror_mode": {
    "name": "ipython",
    "version": 3
   },
   "file_extension": ".py",
   "mimetype": "text/x-python",
   "name": "python",
   "nbconvert_exporter": "python",
   "pygments_lexer": "ipython3",
   "version": "3.10.10"
  }
 },
 "nbformat": 4,
 "nbformat_minor": 5
}
