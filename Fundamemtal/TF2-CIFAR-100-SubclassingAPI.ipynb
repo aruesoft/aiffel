{
 "cells": [
  {
   "cell_type": "markdown",
   "id": "b6fce5d8-c1b7-4c48-a645-4a1a3727b2a2",
   "metadata": {
    "tags": []
   },
   "source": [
    "## CIFAR-100 Subclassing API 활용"
   ]
  },
  {
   "cell_type": "code",
   "execution_count": 2,
   "id": "69ff1435-b19b-419d-bb14-162c8afbfee4",
   "metadata": {
    "tags": []
   },
   "outputs": [],
   "source": [
    "import tensorflow as tf\n",
    "from tensorflow import keras\n",
    "from datetime import datetime"
   ]
  },
  {
   "cell_type": "code",
   "execution_count": 3,
   "id": "955edf50-48ef-4c35-b59f-26e7adfae76c",
   "metadata": {
    "tags": []
   },
   "outputs": [
    {
     "name": "stdout",
     "output_type": "stream",
     "text": [
      "50000 10000\n"
     ]
    }
   ],
   "source": [
    "# 데이터 구성부분\n",
    "cifar100 = keras.datasets.cifar100\n",
    "\n",
    "(x_train, y_train), (x_test, y_test) = cifar100.load_data()\n",
    "x_train, x_test = x_train / 255.0, x_test / 255.0\n",
    "print(len(x_train), len(x_test))"
   ]
  },
  {
   "cell_type": "code",
   "execution_count": 4,
   "id": "478c60fd-2c55-445f-ba06-ad5b02ec952f",
   "metadata": {
    "tags": []
   },
   "outputs": [
    {
     "name": "stdout",
     "output_type": "stream",
     "text": [
      "(32, 32, 3)\n",
      "Metal device set to: Apple M1 Pro\n",
      "Model: \"model\"\n",
      "_________________________________________________________________\n",
      " Layer (type)                Output Shape              Param #   \n",
      "=================================================================\n",
      " input_1 (InputLayer)        [(None, 32, 32, 3)]       0         \n",
      "                                                                 \n",
      " conv2d (Conv2D)             (None, 30, 30, 16)        448       \n",
      "                                                                 \n",
      " max_pooling2d (MaxPooling2D  (None, 15, 15, 16)       0         \n",
      " )                                                               \n",
      "                                                                 \n",
      " conv2d_1 (Conv2D)           (None, 13, 13, 32)        4640      \n",
      "                                                                 \n",
      " max_pooling2d_1 (MaxPooling  (None, 6, 6, 32)         0         \n",
      " 2D)                                                             \n",
      "                                                                 \n",
      " flatten (Flatten)           (None, 1152)              0         \n",
      "                                                                 \n",
      " dense (Dense)               (None, 256)               295168    \n",
      "                                                                 \n",
      " dense_1 (Dense)             (None, 100)               25700     \n",
      "                                                                 \n",
      "=================================================================\n",
      "Total params: 325,956\n",
      "Trainable params: 325,956\n",
      "Non-trainable params: 0\n",
      "_________________________________________________________________\n"
     ]
    }
   ],
   "source": [
    "data_size = x_train.shape[1:]\n",
    "print(data_size)\n",
    "\n",
    "\n",
    "# Subclassing을 활용한 Model을 구성해주세요.\n",
    "# 여기에 모델을 구성해주세요\n",
    "\n",
    "class CustomModel(keras.Model):\n",
    "    ##[[YOUR CODE]]\n",
    "    \"\"\"\n",
    "    Spec:\n",
    "    1. 16개의 채널을 가지고, 커널의 크기가 3, activation function이 relu, input_shape는 train 데이터 크기에 맞춘 Conv2D 레이어\n",
    "    2. pool_size가 2인 MaxPool 레이어\n",
    "    3. 32개의 채널을 가지고, 커널의 크기가 3, activation function이 relu인 Conv2D 레이어\n",
    "    4. pool_size가 2인 MaxPool 레이어\n",
    "    5. Flatten 레이어\n",
    "    6. 256개의 아웃풋 노드를 가지고, activation function이 relu인 Fully-Connected Layer(Dense)\n",
    "    7. 데이터셋의 클래스 개수에 맞는 아웃풋 노드를 가지고, activation function이 softmax인 Fully-Connected Layer(Dense)\n",
    "    \"\"\"\n",
    "        \n",
    "    def __init__(self):        \n",
    "        super(CustomModel,self).__init__()\n",
    "\n",
    "        self.conv1 = keras.layers.Conv2D(16,(3,3),activation='relu')\n",
    "        self.maxpool1 = keras.layers.MaxPool2D(2,2)\n",
    "        self.conv2 = keras.layers.Conv2D(32,(3,3),activation='relu')\n",
    "        self.maxpool2 = keras.layers.MaxPool2D(2,2)\n",
    "        self.flatten = keras.layers.Flatten()\n",
    "        self.dense1 = keras.layers.Dense(256,activation='relu')\n",
    "        self.dense2 = keras.layers.Dense(100,activation='softmax')\n",
    "\n",
    "        \n",
    "    def call(self,inputs):\n",
    "        x = self.conv1(inputs)\n",
    "        x = self.maxpool1(x)\n",
    "        x = self.conv2(x)\n",
    "        x = self.maxpool2(x)\n",
    "        x = self.flatten(x)\n",
    "        x = self.dense1(x)\n",
    "        outputs = self.dense2(x)\n",
    "        return outputs\n",
    "        \n",
    "    def summary(self):\n",
    "        x = keras.Input(shape = data_size)\n",
    "        model = keras.Model(inputs=[x], outputs = self.call(x))\n",
    "        return model.summary()\n",
    "\n",
    "\n",
    "model = CustomModel()\n",
    "\n",
    "model.summary()"
   ]
  },
  {
   "cell_type": "code",
   "execution_count": 5,
   "id": "5933f871-c902-46f8-81b4-92bde8800a6d",
   "metadata": {
    "tags": []
   },
   "outputs": [
    {
     "name": "stdout",
     "output_type": "stream",
     "text": [
      " Started on:  03:52:14 PM\n",
      "Epoch 1/2\n"
     ]
    },
    {
     "name": "stderr",
     "output_type": "stream",
     "text": [
      "2023-05-11 15:52:15.700394: W tensorflow/tsl/platform/profile_utils/cpu_utils.cc:128] Failed to get CPU frequency: 0 Hz\n"
     ]
    },
    {
     "name": "stdout",
     "output_type": "stream",
     "text": [
      "1563/1563 [==============================] - 13s 6ms/step - loss: 3.6073 - accuracy: 0.1614\n",
      "Epoch 2/2\n",
      "1563/1563 [==============================] - 10s 6ms/step - loss: 2.9138 - accuracy: 0.2841\n",
      "313/313 - 1s - loss: 2.8868 - accuracy: 0.2916 - 1s/epoch - 4ms/step\n",
      "Job Completed on:  03:52:39 PM\n",
      "Job Execution Time:  0:00:24.604704\n"
     ]
    }
   ],
   "source": [
    "from datetime import datetime\n",
    "start_time = datetime.now()\n",
    "print(\" Started on: \", start_time.strftime(\"%I:%M:%S %p\"))\n",
    "\n",
    "model.compile(optimizer='adam',\n",
    "              loss='sparse_categorical_crossentropy',\n",
    "              metrics=['accuracy'])\n",
    "\n",
    "model.fit(x_train, y_train, epochs=2)\n",
    "\n",
    "model.evaluate(x_test,  y_test, verbose=2)\n",
    "\n",
    "\n",
    "\n",
    "end_time = datetime.now()\n",
    "print(\"Job Completed on: \", end_time.strftime(\"%I:%M:%S %p\"))\n",
    "\n",
    "execution_time = end_time - start_time\n",
    "print(\"Job Execution Time: \", execution_time)\n"
   ]
  },
  {
   "cell_type": "code",
   "execution_count": null,
   "id": "02f03435-3110-43a4-af33-7eae14bcd1e1",
   "metadata": {},
   "outputs": [],
   "source": []
  }
 ],
 "metadata": {
  "kernelspec": {
   "display_name": "Python 3.10 (tensorflow)",
   "language": "python",
   "name": "tensorflow"
  },
  "language_info": {
   "codemirror_mode": {
    "name": "ipython",
    "version": 3
   },
   "file_extension": ".py",
   "mimetype": "text/x-python",
   "name": "python",
   "nbconvert_exporter": "python",
   "pygments_lexer": "ipython3",
   "version": "3.10.10"
  }
 },
 "nbformat": 4,
 "nbformat_minor": 5
}
