{
 "cells": [
  {
   "cell_type": "markdown",
   "id": "2bf16642-7005-4773-8953-55280ca24f97",
   "metadata": {},
   "source": [
    "## CIFAR-100 (2) Functional API 활용"
   ]
  },
  {
   "cell_type": "code",
   "execution_count": 2,
   "id": "b043ee2f-3762-40d3-9e48-bd99881215db",
   "metadata": {
    "tags": []
   },
   "outputs": [],
   "source": [
    "import tensorflow as tf\n",
    "from tensorflow import keras\n",
    "from datetime import datetime"
   ]
  },
  {
   "cell_type": "code",
   "execution_count": 3,
   "id": "557870cf-373f-4b3d-a330-93856a4b019b",
   "metadata": {
    "tags": []
   },
   "outputs": [
    {
     "name": "stdout",
     "output_type": "stream",
     "text": [
      "50000 10000\n"
     ]
    }
   ],
   "source": [
    "# 데이터 구성부분\n",
    "cifar100 = keras.datasets.cifar100\n",
    "\n",
    "(x_train, y_train), (x_test, y_test) = cifar100.load_data()\n",
    "x_train, x_test = x_train / 255.0, x_test / 255.0\n",
    "print(len(x_train), len(x_test))"
   ]
  },
  {
   "cell_type": "code",
   "execution_count": 4,
   "id": "8108e912-9211-4a9a-9464-e67c1263efaf",
   "metadata": {
    "tags": []
   },
   "outputs": [
    {
     "name": "stdout",
     "output_type": "stream",
     "text": [
      "(32, 32, 3)\n"
     ]
    }
   ],
   "source": [
    "data_size = x_train.shape[1:]\n",
    "print(data_size)"
   ]
  },
  {
   "cell_type": "code",
   "execution_count": 8,
   "id": "8bd54b64-509d-4352-8c34-b787b0b2af2c",
   "metadata": {
    "tags": []
   },
   "outputs": [
    {
     "name": "stdout",
     "output_type": "stream",
     "text": [
      "Model: \"model_1\"\n",
      "_________________________________________________________________\n",
      " Layer (type)                Output Shape              Param #   \n",
      "=================================================================\n",
      " input_layer (InputLayer)    [(None, 32, 32, 3)]       0         \n",
      "                                                                 \n",
      " conv2d_1 (Conv2D)           (None, 30, 30, 16)        448       \n",
      "                                                                 \n",
      " maxpool_1 (MaxPooling2D)    (None, 15, 15, 16)        0         \n",
      "                                                                 \n",
      " conv2d_2 (Conv2D)           (None, 13, 13, 32)        4640      \n",
      "                                                                 \n",
      " maxpool_2 (MaxPooling2D)    (None, 6, 6, 32)          0         \n",
      "                                                                 \n",
      " flatten (Flatten)           (None, 1152)              0         \n",
      "                                                                 \n",
      " dense (Dense)               (None, 256)               295168    \n",
      "                                                                 \n",
      " output_layer (Dense)        (None, 100)               25700     \n",
      "                                                                 \n",
      "=================================================================\n",
      "Total params: 325,956\n",
      "Trainable params: 325,956\n",
      "Non-trainable params: 0\n",
      "_________________________________________________________________\n"
     ]
    }
   ],
   "source": [
    "\"\"\"\n",
    "Spec:\n",
    "0. (32X32X3) 차원으로 정의된 Input\n",
    "1. 16개의 채널을 가지고, 커널의 크기가 3, activation function이 relu인 Conv2D 레이어\n",
    "2. pool_size가 2인 MaxPool 레이어\n",
    "3. 32개의 채널을 가지고, 커널의 크기가 3, activation function이 relu인 Conv2D 레이어\n",
    "4. pool_size가 2인 MaxPool 레이어\n",
    "5. Flatten 레이어\n",
    "6. 256개의 아웃풋 노드를 가지고, activation function이 relu인 Fully-Connected Layer(Dense)\n",
    "7. 데이터셋의 클래스 개수에 맞는 아웃풋 노드를 가지고, activation function이 softmax인 Fully-Connected Layer(Dense)\n",
    "\"\"\"\n",
    "\n",
    "inputs = keras.Input(shape=data_size,name='input_layer')\n",
    "x = keras.layers.Conv2D(16,(3,3),activation='relu',input_shape=(data_size),name='conv2d_1')(inputs)\n",
    "x = keras.layers.MaxPool2D(2,2,name='maxpool_1')(x)\n",
    "x = keras.layers.Conv2D(32,(3,3),activation='relu',name='conv2d_2')(x)\n",
    "x = keras.layers.MaxPool2D(2,2,name='maxpool_2')(x)\n",
    "x = keras.layers.Flatten(name='flatten')(x)\n",
    "x = keras.layers.Dense(256,activation='relu',name='dense')(x)\n",
    "prediction = keras.layers.Dense(100,activation='softmax',name='output_layer')(x)\n",
    "\n",
    "\n",
    "model = keras.Model(inputs=inputs, outputs=prediction)\n",
    "model.summary()"
   ]
  },
  {
   "cell_type": "code",
   "execution_count": 9,
   "id": "2d71fb29-a2dc-4e7b-9894-45f875795374",
   "metadata": {
    "tags": []
   },
   "outputs": [
    {
     "name": "stdout",
     "output_type": "stream",
     "text": [
      " Started on:  03:41:20 PM\n",
      "Epoch 1/5\n"
     ]
    },
    {
     "name": "stderr",
     "output_type": "stream",
     "text": [
      "2023-05-11 15:41:21.641524: W tensorflow/tsl/platform/profile_utils/cpu_utils.cc:128] Failed to get CPU frequency: 0 Hz\n"
     ]
    },
    {
     "name": "stdout",
     "output_type": "stream",
     "text": [
      "1563/1563 [==============================] - 13s 6ms/step - loss: 3.6140 - accuracy: 0.1575\n",
      "Epoch 2/5\n",
      "1563/1563 [==============================] - 10s 6ms/step - loss: 2.8969 - accuracy: 0.2844\n",
      "Epoch 3/5\n",
      "1563/1563 [==============================] - 11s 7ms/step - loss: 2.6015 - accuracy: 0.3452\n",
      "Epoch 4/5\n",
      "1563/1563 [==============================] - 11s 7ms/step - loss: 2.3852 - accuracy: 0.3906\n",
      "Epoch 5/5\n",
      "1563/1563 [==============================] - 10s 7ms/step - loss: 2.2129 - accuracy: 0.4265\n",
      "313/313 - 1s - loss: 2.5848 - accuracy: 0.3506 - 1s/epoch - 4ms/step\n",
      "Job Completed on:  03:42:17 PM\n",
      "Job Execution Time:  0:00:56.446201\n"
     ]
    }
   ],
   "source": [
    "start_time = datetime.now()\n",
    "print(\" Started on: \", start_time.strftime(\"%I:%M:%S %p\"))\n",
    "\n",
    "\n",
    "model.compile(optimizer='adam',\n",
    "              loss='sparse_categorical_crossentropy',\n",
    "              metrics=['accuracy'])\n",
    "\n",
    "model.fit(x_train, y_train, epochs=5)\n",
    "model.evaluate(x_test,  y_test, verbose=2)\n",
    "\n",
    "end_time = datetime.now()\n",
    "print(\"Job Completed on: \", end_time.strftime(\"%I:%M:%S %p\"))\n",
    "\n",
    "execution_time = end_time - start_time\n",
    "print(\"Job Execution Time: \", execution_time)\n"
   ]
  },
  {
   "cell_type": "code",
   "execution_count": null,
   "id": "e6e9f4e5-181c-4a6c-939f-e3c8e38b5dd4",
   "metadata": {},
   "outputs": [],
   "source": []
  }
 ],
 "metadata": {
  "kernelspec": {
   "display_name": "Python 3.10 (tensorflow)",
   "language": "python",
   "name": "tensorflow"
  },
  "language_info": {
   "codemirror_mode": {
    "name": "ipython",
    "version": 3
   },
   "file_extension": ".py",
   "mimetype": "text/x-python",
   "name": "python",
   "nbconvert_exporter": "python",
   "pygments_lexer": "ipython3",
   "version": "3.10.10"
  }
 },
 "nbformat": 4,
 "nbformat_minor": 5
}
