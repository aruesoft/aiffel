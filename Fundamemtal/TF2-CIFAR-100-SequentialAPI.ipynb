{
 "cells": [
  {
   "cell_type": "markdown",
   "id": "d11bfba0-630f-45e2-bbb4-c762f3629a7f",
   "metadata": {},
   "source": [
    "## CIFAR-100 (1) Sequential API 활용"
   ]
  },
  {
   "cell_type": "code",
   "execution_count": 1,
   "id": "2f353e85-6045-4bdb-9a2c-c3ffdf686a96",
   "metadata": {
    "tags": []
   },
   "outputs": [],
   "source": [
    "import tensorflow as tf\n",
    "from tensorflow import keras"
   ]
  },
  {
   "cell_type": "code",
   "execution_count": 2,
   "id": "4f86f533-ae2c-406e-a233-a6709e7520f3",
   "metadata": {
    "tags": []
   },
   "outputs": [
    {
     "name": "stdout",
     "output_type": "stream",
     "text": [
      "50000 10000\n"
     ]
    }
   ],
   "source": [
    "# 데이터 구성부분\n",
    "cifar100 = keras.datasets.cifar100\n",
    "\n",
    "(x_train, y_train), (x_test, y_test) = cifar100.load_data()\n",
    "x_train, x_test = x_train / 255.0, x_test / 255.0\n",
    "print(len(x_train), len(x_test))"
   ]
  },
  {
   "cell_type": "code",
   "execution_count": 6,
   "id": "388d2643-b4bc-4b9e-b928-b8deeba633af",
   "metadata": {
    "tags": []
   },
   "outputs": [
    {
     "name": "stdout",
     "output_type": "stream",
     "text": [
      "(32, 32, 3)\n"
     ]
    }
   ],
   "source": [
    "data_size = x_train.shape[1:]\n",
    "print(data_size)"
   ]
  },
  {
   "cell_type": "code",
   "execution_count": 10,
   "id": "47c0b21d-66b1-436e-ac3c-59d988deaf26",
   "metadata": {
    "tags": []
   },
   "outputs": [
    {
     "name": "stdout",
     "output_type": "stream",
     "text": [
      "Metal device set to: Apple M1 Pro\n",
      "Model: \"sequential\"\n",
      "_________________________________________________________________\n",
      " Layer (type)                Output Shape              Param #   \n",
      "=================================================================\n",
      " conv2d (Conv2D)             (None, 30, 30, 16)        448       \n",
      "                                                                 \n",
      " max_pooling2d (MaxPooling2D  (None, 15, 15, 16)       0         \n",
      " )                                                               \n",
      "                                                                 \n",
      " conv2d_1 (Conv2D)           (None, 13, 13, 32)        4640      \n",
      "                                                                 \n",
      " max_pooling2d_1 (MaxPooling  (None, 6, 6, 32)         0         \n",
      " 2D)                                                             \n",
      "                                                                 \n",
      " flatten (Flatten)           (None, 1152)              0         \n",
      "                                                                 \n",
      " dense (Dense)               (None, 256)               295168    \n",
      "                                                                 \n",
      " dense_1 (Dense)             (None, 100)               25700     \n",
      "                                                                 \n",
      "=================================================================\n",
      "Total params: 325,956\n",
      "Trainable params: 325,956\n",
      "Non-trainable params: 0\n",
      "_________________________________________________________________\n"
     ]
    }
   ],
   "source": [
    "# Sequential Model을 구성해주세요.\n",
    "\"\"\"\n",
    "Spec:\n",
    "1. 16개의 채널을 가지고, 커널의 크기가 3, activation function이 relu, input_shape는 train 데이터 크기에 맞춘 Conv2D 레이어\n",
    "2. pool_size가 2인 MaxPool 레이어\n",
    "3. 32개의 채널을 가지고, 커널의 크기가 3, activation function이 relu인 Conv2D 레이어\n",
    "4. pool_size가 2인 MaxPool 레이어\n",
    "5. Flatten 레이어\n",
    "6. 256개의 아웃풋 노드를 가지고, activation function이 relu인 Fully-Connected Layer(Dense)\n",
    "7. 데이터셋의 클래스 개수에 맞는 아웃풋 노드를 가지고, activation function이 softmax인 Fully-Connected Layer(Dense)\n",
    "\"\"\"\n",
    "\n",
    "model = keras.Sequential([\n",
    "    keras.layers.Conv2D(16,(3,3),activation='relu',input_shape=(data_size)),\n",
    "    keras.layers.MaxPool2D(2,2),\n",
    "    keras.layers.Conv2D(32,(3,3),activation='relu'),\n",
    "    keras.layers.MaxPool2D(2,2),\n",
    "    keras.layers.Flatten(),\n",
    "    keras.layers.Dense(256,activation='relu'),\n",
    "    keras.layers.Dense(100,activation='softmax')\n",
    "])\n",
    "\n",
    "model.summary()"
   ]
  },
  {
   "cell_type": "code",
   "execution_count": 14,
   "id": "acfa213f-de03-4493-a9ba-5e57446fcefa",
   "metadata": {
    "tags": []
   },
   "outputs": [
    {
     "name": "stdout",
     "output_type": "stream",
     "text": [
      " Started on:  03:25:57 PM\n",
      "Epoch 1/5\n",
      "1563/1563 [==============================] - 10s 6ms/step - loss: 2.5568 - accuracy: 0.3529\n",
      "Epoch 2/5\n",
      "1563/1563 [==============================] - 9s 6ms/step - loss: 2.3558 - accuracy: 0.3963\n",
      "Epoch 3/5\n",
      "1563/1563 [==============================] - 10s 6ms/step - loss: 2.1963 - accuracy: 0.4298\n",
      "Epoch 4/5\n",
      "1563/1563 [==============================] - 9s 6ms/step - loss: 2.0601 - accuracy: 0.4592\n",
      "Epoch 5/5\n",
      "1563/1563 [==============================] - 9s 6ms/step - loss: 1.9286 - accuracy: 0.4886\n",
      "313/313 - 1s - loss: 2.6077 - accuracy: 0.3705 - 1s/epoch - 4ms/step\n",
      "Job Completed on:  03:26:46 PM\n",
      "Job Execution Time:  0:00:49.316530\n"
     ]
    }
   ],
   "source": [
    "from datetime import datetime \n",
    "start_time = datetime.now()\n",
    "print(\" Started on: \", start_time.strftime(\"%I:%M:%S %p\"))\n",
    "\n",
    "\n",
    "model.compile(optimizer='adam',\n",
    "              loss='sparse_categorical_crossentropy',\n",
    "              metrics=['accuracy'])\n",
    "\n",
    "model.fit(x_train, y_train, epochs=5)\n",
    "\n",
    "model.evaluate(x_test,  y_test, verbose=2)\n",
    "\n",
    "end_time = datetime.now()\n",
    "print(\"Job Completed on: \", end_time.strftime(\"%I:%M:%S %p\"))\n",
    "execution_time = end_time - start_time\n",
    "print(\"Job Execution Time: \", execution_time)"
   ]
  },
  {
   "cell_type": "code",
   "execution_count": null,
   "id": "9635f6e1-a88b-426c-be15-f49690061c3f",
   "metadata": {},
   "outputs": [],
   "source": []
  }
 ],
 "metadata": {
  "kernelspec": {
   "display_name": "Python 3.10 (tensorflow)",
   "language": "python",
   "name": "tensorflow"
  },
  "language_info": {
   "codemirror_mode": {
    "name": "ipython",
    "version": 3
   },
   "file_extension": ".py",
   "mimetype": "text/x-python",
   "name": "python",
   "nbconvert_exporter": "python",
   "pygments_lexer": "ipython3",
   "version": "3.10.10"
  }
 },
 "nbformat": 4,
 "nbformat_minor": 5
}
