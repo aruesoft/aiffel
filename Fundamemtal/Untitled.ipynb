{
 "cells": [
  {
   "cell_type": "code",
   "execution_count": 4,
   "id": "b8b62d72-11ed-48ee-938f-9e1e9374d5a0",
   "metadata": {
    "tags": []
   },
   "outputs": [],
   "source": [
    "import numpy as np"
   ]
  },
  {
   "cell_type": "code",
   "execution_count": 5,
   "id": "dc806677-af74-4c2c-8241-3056e6a70682",
   "metadata": {
    "tags": []
   },
   "outputs": [
    {
     "data": {
      "text/plain": [
       "array([[-0.24253563, -0.90373784],\n",
       "       [ 0.3939193 , -0.97854978]])"
      ]
     },
     "execution_count": 5,
     "metadata": {},
     "output_type": "execute_result"
    }
   ],
   "source": [
    "from sklearn.metrics.pairwise import cosine_similarity\n",
    "t1 = np.array([[5, 3],[2,5]])\n",
    "t2 = np.array([[-1, 1],[-2,-3]])\n",
    "cosine_similarity(t1,t2)\n"
   ]
  },
  {
   "cell_type": "code",
   "execution_count": null,
   "id": "77f7a887-2068-4829-8008-7f817ab89778",
   "metadata": {},
   "outputs": [],
   "source": []
  }
 ],
 "metadata": {
  "kernelspec": {
   "display_name": "Python 3 (ipykernel)",
   "language": "python",
   "name": "python3"
  },
  "language_info": {
   "codemirror_mode": {
    "name": "ipython",
    "version": 3
   },
   "file_extension": ".py",
   "mimetype": "text/x-python",
   "name": "python",
   "nbconvert_exporter": "python",
   "pygments_lexer": "ipython3",
   "version": "3.10.10"
  }
 },
 "nbformat": 4,
 "nbformat_minor": 5
}
