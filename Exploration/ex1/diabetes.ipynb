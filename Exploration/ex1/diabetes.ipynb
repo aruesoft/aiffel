{
 "cells": [
  {
   "cell_type": "code",
   "execution_count": 1,
   "id": "0252d19e-3449-4e63-bad8-ce6c2fb52e05",
   "metadata": {
    "tags": []
   },
   "outputs": [],
   "source": [
    "import pandas as pd\n",
    "import numpy as np\n",
    "import seaborn as sns\n",
    "import matplotlib.pyplot as plt"
   ]
  },
  {
   "cell_type": "code",
   "execution_count": 2,
   "id": "b1cc1522-eeb2-4ef7-9951-77c43939b271",
   "metadata": {
    "tags": []
   },
   "outputs": [],
   "source": [
    "from sklearn.model_selection import train_test_split"
   ]
  },
  {
   "cell_type": "code",
   "execution_count": null,
   "id": "298c419c-f05c-468e-aa47-a24e3654edb3",
   "metadata": {
    "tags": []
   },
   "outputs": [],
   "source": []
  },
  {
   "cell_type": "code",
   "execution_count": null,
   "id": "b37d29bd-377e-45f0-b449-17b59d2a646f",
   "metadata": {},
   "outputs": [],
   "source": []
  },
  {
   "cell_type": "markdown",
   "id": "3f4c1e82-cbe9-4403-ac9a-a01138383927",
   "metadata": {},
   "source": [
    "# 프로젝트 1 : 손수 설계하는 선형회귀, 당뇨병 수치를 맞춰보자!"
   ]
  },
  {
   "cell_type": "markdown",
   "id": "f68344f5-a128-48e0-b7d9-c00b5df97d3e",
   "metadata": {
    "tags": []
   },
   "source": [
    "## (1) 데이터 가져오기"
   ]
  },
  {
   "cell_type": "markdown",
   "id": "2021bbd6-8d65-4726-8e85-09e9ad90baad",
   "metadata": {},
   "source": [
    "    - sklearn.datasets의 load_diabetes에서 데이터를 가져와주세요.\n",
    "    - diabetes의 data를 df_X에, target을 df_y에 저장해주세요."
   ]
  },
  {
   "cell_type": "code",
   "execution_count": 3,
   "id": "7ea52b8c-3357-4308-ab4d-7e3701e319c3",
   "metadata": {},
   "outputs": [],
   "source": [
    "from sklearn.datasets import load_diabetes\n",
    "\n",
    "diabetes=load_diabetes()"
   ]
  },
  {
   "cell_type": "markdown",
   "id": "0658ff24-0b62-4c7f-ae74-da54a78466b0",
   "metadata": {},
   "source": [
    "## (2) 모델에 입력할 데이터 X 준비하기"
   ]
  },
  {
   "cell_type": "markdown",
   "id": "2d7d037a-26ab-4ec4-84c3-a20700cd1386",
   "metadata": {
    "tags": []
   },
   "source": [
    "    - df_X에 있는 값들을 numpy array로 변환해서 저장해주세요."
   ]
  },
  {
   "cell_type": "code",
   "execution_count": 4,
   "id": "aed7e6e6-ed3e-42da-8ce5-e06127201051",
   "metadata": {},
   "outputs": [],
   "source": [
    "df_X = diabetes.data"
   ]
  },
  {
   "cell_type": "code",
   "execution_count": 5,
   "id": "ef94b298-b8a8-40f1-bbf6-133615e0fbda",
   "metadata": {},
   "outputs": [
    {
     "data": {
      "text/plain": [
       "['age', 'sex', 'bmi', 'bp', 's1', 's2', 's3', 's4', 's5', 's6']"
      ]
     },
     "execution_count": 5,
     "metadata": {},
     "output_type": "execute_result"
    }
   ],
   "source": [
    "diabetes.feature_names"
   ]
  },
  {
   "cell_type": "code",
   "execution_count": 6,
   "id": "2ef2f977-fa5c-40a6-b9c5-7446842ff1ea",
   "metadata": {},
   "outputs": [
    {
     "name": "stdout",
     "output_type": "stream",
     "text": [
      "feature 1 : age\n",
      "feature 2 : sex\n",
      "feature 3 : bmi\n",
      "feature 4 : bp\n",
      "feature 5 : s1\n",
      "feature 6 : s2\n",
      "feature 7 : s3\n",
      "feature 8 : s4\n",
      "feature 9 : s5\n",
      "feature 10 : s6\n"
     ]
    }
   ],
   "source": [
    "for i,feature_name in enumerate(diabetes.feature_names):\n",
    "  print(f'feature {i+1} : {feature_name}')"
   ]
  },
  {
   "cell_type": "code",
   "execution_count": null,
   "id": "8fd8ff49-5ca5-4c09-a190-f4571630588b",
   "metadata": {},
   "outputs": [],
   "source": []
  },
  {
   "cell_type": "markdown",
   "id": "402707d1-45f2-4727-ae52-953c0cbf77c8",
   "metadata": {},
   "source": [
    "## (3) 모델에 예측할 데이터 y 준비하기"
   ]
  },
  {
   "cell_type": "code",
   "execution_count": 7,
   "id": "28b21388-fbc2-4a5f-a553-af4641430c7a",
   "metadata": {},
   "outputs": [],
   "source": [
    "df_Y = diabetes.target"
   ]
  },
  {
   "cell_type": "code",
   "execution_count": null,
   "id": "89652bca-8630-44bc-93ae-01abac44dae6",
   "metadata": {},
   "outputs": [],
   "source": []
  },
  {
   "cell_type": "code",
   "execution_count": 8,
   "id": "a6a46714-8b7a-4fa2-95d6-7f11f74f8b77",
   "metadata": {
    "tags": []
   },
   "outputs": [
    {
     "data": {
      "text/plain": [
       "\"for col in df_X.columns:\\n    plt.figure(figsize=(3,3))\\n    plt.scatter(df_X[col],df_Y['label'])\\n    plt.xlabel(col)\\n    plt.ylabel('target')\\n    plt.title('Scatterplot of {}'.format(col))\\n    plt.show()\\n\""
      ]
     },
     "execution_count": 8,
     "metadata": {},
     "output_type": "execute_result"
    }
   ],
   "source": [
    "'''for col in df_X.columns:\n",
    "    plt.figure(figsize=(3,3))\n",
    "    plt.scatter(df_X[col],df_Y['label'])\n",
    "    plt.xlabel(col)\n",
    "    plt.ylabel('target')\n",
    "    plt.title('Scatterplot of {}'.format(col))\n",
    "    plt.show()\n",
    "'''"
   ]
  },
  {
   "cell_type": "markdown",
   "id": "6a709368-6566-4a77-93bf-b804c6db9ed1",
   "metadata": {},
   "source": [
    "## (4) train 데이터와 test 데이터로 분리하기"
   ]
  },
  {
   "cell_type": "code",
   "execution_count": 9,
   "id": "932934fe-26c2-4a1f-9d55-5fb43a668e9a",
   "metadata": {},
   "outputs": [],
   "source": [
    "X_train, X_test, y_train, y_test = train_test_split(df_X,df_Y,test_size=0.2, random_state=36)"
   ]
  },
  {
   "cell_type": "markdown",
   "id": "dd52bf98-3e1b-4791-80a0-ffa7122a420a",
   "metadata": {},
   "source": [
    "## (5) 모델 준비하기"
   ]
  },
  {
   "cell_type": "markdown",
   "id": "73d77e0e-c9ff-462b-90f2-669d84b19197",
   "metadata": {},
   "source": [
    "    - 입력 데이터 개수에 맞는 가중치 W와 b를 준비해주세요.모델 함수를 구현해주세요."
   ]
  },
  {
   "cell_type": "code",
   "execution_count": 10,
   "id": "529d3ee2-a85d-4c0a-b70e-d726fa3c11c2",
   "metadata": {},
   "outputs": [],
   "source": [
    "def model(x, w, b):\n",
    "    y = np.sum(w * x, axis=-1) + b\n",
    "    return y"
   ]
  },
  {
   "cell_type": "markdown",
   "id": "3effd860-63f6-4aa9-b356-4524d809bcd8",
   "metadata": {},
   "source": [
    "## (6) 손실함수 loss 정의하기"
   ]
  },
  {
   "cell_type": "code",
   "execution_count": 11,
   "id": "db84a29a-93a7-47ca-9e37-eb2b65846623",
   "metadata": {},
   "outputs": [],
   "source": [
    "def MSE(a, b):\n",
    "    mse = ((a - b) ** 2).mean()  # 두 값의 차이의 제곱의 평균\n",
    "    return mse"
   ]
  },
  {
   "cell_type": "code",
   "execution_count": 12,
   "id": "e080adf2-02a8-48c3-8542-92eb72142fa1",
   "metadata": {},
   "outputs": [],
   "source": [
    "def RMSE(a,b):\n",
    "    mse = ((a - b) ** 2).mean()  # 두 값의 차이의 제곱의 평균\n",
    "    rmse = mse ** 0.5        # MSE의 제곱근\n",
    "    return rmse"
   ]
  },
  {
   "cell_type": "code",
   "execution_count": 13,
   "id": "cccf5f23-55dd-41a1-a482-5bceb6b16a35",
   "metadata": {},
   "outputs": [],
   "source": [
    "def loss(x, w, b, y):\n",
    "    predictions = model(x, w, b)\n",
    "    L = MSE(predictions, y)\n",
    "    return L\n"
   ]
  },
  {
   "cell_type": "code",
   "execution_count": 14,
   "id": "cb3d6b43-9dec-4eb8-8121-7b72d1774ff9",
   "metadata": {},
   "outputs": [],
   "source": [
    "def loss2(x, w, b, y):\n",
    "    predictions = model(x, w, b)\n",
    "    L = RMSE(predictions, y)\n",
    "    return L\n"
   ]
  },
  {
   "cell_type": "code",
   "execution_count": null,
   "id": "e8ffebca-7be5-4f89-8c25-c3ff1a519130",
   "metadata": {},
   "outputs": [],
   "source": []
  },
  {
   "cell_type": "markdown",
   "id": "b98d5a52-83ac-44a4-a0c2-1059e6dccba1",
   "metadata": {},
   "source": [
    "## (7) 기울기를 구하는 gradient 함수 구현하기"
   ]
  },
  {
   "cell_type": "code",
   "execution_count": 15,
   "id": "e97c159d-b70a-4ffe-99d8-be95bda435d6",
   "metadata": {},
   "outputs": [],
   "source": [
    "def gradient(x, w, b, y):\n",
    "    dw = np.zeros_like(w)\n",
    "    for i in range(len(w)):\n",
    "        w_tmp = np.copy(w)\n",
    "        w_tmp[i] += 0.0001\n",
    "        dw[i] = (loss(x, w_tmp, b, y) - loss(x, w, b, y)) / 0.0001\n",
    "    db = (loss(x, w, b + 0.0001, y) - loss(x, w, b, y)) / 0.0001\n",
    "    return dw, db"
   ]
  },
  {
   "cell_type": "code",
   "execution_count": null,
   "id": "19618d39-821a-44ee-8ebc-8eb92f4a64e2",
   "metadata": {},
   "outputs": [],
   "source": []
  },
  {
   "cell_type": "markdown",
   "id": "dfb0c9a7-6c8f-4f67-963d-7c5d65524937",
   "metadata": {},
   "source": [
    "## (8) 하이퍼 파라미터인 학습률 설정하기"
   ]
  },
  {
   "cell_type": "code",
   "execution_count": 35,
   "id": "6258e60f-5118-4253-8655-c21e1e4631b4",
   "metadata": {},
   "outputs": [],
   "source": [
    "lr = 0.05"
   ]
  },
  {
   "cell_type": "markdown",
   "id": "59068ae5-5907-471d-b9a7-4f370a892e01",
   "metadata": {},
   "source": [
    "## (9) 모델 학습하기"
   ]
  },
  {
   "cell_type": "code",
   "execution_count": 36,
   "id": "cd89864b-7365-4438-b79c-5a46da5701fc",
   "metadata": {},
   "outputs": [],
   "source": [
    "losses=[]\n",
    "weight_history=[]\n",
    "bias_history=[]"
   ]
  },
  {
   "cell_type": "code",
   "execution_count": 37,
   "id": "573889cc-179c-4edc-ada1-02d77634a16c",
   "metadata": {},
   "outputs": [],
   "source": [
    "w = np.ones(df_X.shape[1])\n",
    "b = 0"
   ]
  },
  {
   "cell_type": "code",
   "execution_count": 38,
   "id": "7182e037-e725-49c5-92d8-e1d5a96129bc",
   "metadata": {},
   "outputs": [
    {
     "name": "stdout",
     "output_type": "stream",
     "text": [
      "Iteration 1000 : Loss 3977.6944\n",
      "Iteration 2000 : Loss 3422.1012\n",
      "Iteration 3000 : Loss 3196.5274\n",
      "Iteration 4000 : Loss 3075.0972\n",
      "Iteration 5000 : Loss 3002.2149\n",
      "Iteration 6000 : Loss 2956.7197\n",
      "Iteration 7000 : Loss 2927.7586\n",
      "Iteration 8000 : Loss 2909.0468\n",
      "Iteration 9000 : Loss 2896.7853\n",
      "Iteration 10000 : Loss 2888.6328\n",
      "Iteration 11000 : Loss 2883.1281\n",
      "Iteration 12000 : Loss 2879.3494\n",
      "Iteration 13000 : Loss 2876.7089\n",
      "Iteration 14000 : Loss 2874.8283\n",
      "Iteration 15000 : Loss 2873.4612\n",
      "Iteration 16000 : Loss 2872.4457\n",
      "Iteration 17000 : Loss 2871.6742\n",
      "Iteration 18000 : Loss 2871.0741\n",
      "Iteration 19000 : Loss 2870.5961\n"
     ]
    }
   ],
   "source": [
    "for i in range(1, 20000):\n",
    "    dw, db = gradient(X_train, w, b, y_train)   # 3, 4번: 모델이 prediction을 예측하고, 손실함수값을 계산함과 동시에 기울기 계산\n",
    "    w -= lr * dw         # 5번: w = w - η * dw 로 업데이트\n",
    "    b -= lr * db         # 5번: b = b - η * db 로 업데이트 \n",
    "    L = loss(X_train, w, b, y_train)            # 현재의 loss 값 계산\n",
    "    losses.append(L)                # loss 값 기록\n",
    "    weight_loss\n",
    "    if i % 1000 == 0:\n",
    "        print('Iteration %d : Loss %0.4f' % (i, L))"
   ]
  },
  {
   "cell_type": "markdown",
   "id": "99d3d035-4c78-4aed-b547-7a7d8348935e",
   "metadata": {},
   "source": [
    "## (10) test 데이터에 대한 성능 확인하기"
   ]
  },
  {
   "cell_type": "code",
   "execution_count": 41,
   "id": "16263cab-62f0-4850-9ee0-4a1714cbecbe",
   "metadata": {
    "tags": []
   },
   "outputs": [
    {
     "name": "stdout",
     "output_type": "stream",
     "text": [
      "Training Loss: 2870.2067\n",
      "Test Loss: 2978.8922\n",
      "Training RMSE: 53.5743\n",
      "Test RMSE: 54.5792\n"
     ]
    },
    {
     "data": {
      "image/png": "[encoded data removed]",
      "text/plain": [
       "<Figure size 1000x700 with 1 Axes>"
      ]
     },
     "metadata": {},
     "output_type": "display_data"
    }
   ],
   "source": [
    "# Calculate and print the loss on the training set\n",
    "train_loss = loss(X_train, w, b, y_train)\n",
    "print(f'Training Loss: {train_loss:.4f}')\n",
    "\n",
    "# Calculate and print the loss on the test set\n",
    "test_loss = loss(X_test, w, b, y_test)\n",
    "print(f'Test Loss: {test_loss:.4f}')\n",
    "\n",
    "# Calculate and print the RMSE on the training set\n",
    "train_rmse = loss2(X_train, w, b, y_train)\n",
    "print(f'Training RMSE: {train_rmse:.4f}')\n",
    "\n",
    "# Calculate and print the RMSE on the test set\n",
    "test_rmse = loss2(X_test, w, b, y_test)\n",
    "print(f'Test RMSE: {test_rmse:.4f}')\n",
    "\n",
    "# Plot the loss values\n",
    "plt.figure(figsize=(10, 7))\n",
    "plt.plot(losses)\n",
    "plt.title('Loss value over iterations')\n",
    "plt.xlabel('Iteration')\n",
    "plt.ylabel('Loss')\n",
    "plt.show()"
   ]
  },
  {
   "cell_type": "markdown",
   "id": "3c9002c7-9b9e-49fb-9310-23668311de88",
   "metadata": {},
   "source": [
    "## (11) 정답 데이터와 예측한 데이터 시각화하기"
   ]
  },
  {
   "cell_type": "markdown",
   "id": "bf0ce33e-bebd-445f-b308-944d086c0a6c",
   "metadata": {
    "tags": []
   },
   "source": [
    "    - x축에는 X 데이터의 첫 번째 컬럼을, y축에는 정답인 target 데이터를 넣어서 모델이 예측한 데이터를 시각화해 주세요."
   ]
  },
  {
   "cell_type": "code",
   "execution_count": 46,
   "id": "02188716-b6b6-4275-8365-63d926874c75",
   "metadata": {
    "tags": []
   },
   "outputs": [
    {
     "data": {
      "image/png": "[encoded data removed]",
      "text/plain": [
       "<Figure size 1000x700 with 1 Axes>"
      ]
     },
     "metadata": {},
     "output_type": "display_data"
    }
   ],
   "source": [
    "y_pred = model(X_test, w, b)\n",
    "\n",
    "\n",
    "plt.figure(figsize=(10, 7))\n",
    "plt.scatter(X_test[:, 0], y_test, color='blue', label='actual')\n",
    "plt.scatter(X_test[:, 0], y_pred, color='red', label='predict')\n",
    "plt.title('actual vs Predicted values')\n",
    "plt.xlabel('First feature')\n",
    "plt.ylabel('Target')\n",
    "plt.grid()\n",
    "plt.legend()\n",
    "plt.show()"
   ]
  },
  {
   "cell_type": "code",
   "execution_count": null,
   "id": "4ca1bfcd-c5f9-44e8-b0cc-867d87cc7969",
   "metadata": {},
   "outputs": [],
   "source": []
  }
 ],
 "metadata": {
  "kernelspec": {
   "display_name": "Python 3 (ipykernel)",
   "language": "python",
   "name": "python3"
  },
  "language_info": {
   "codemirror_mode": {
    "name": "ipython",
    "version": 3
   },
   "file_extension": ".py",
   "mimetype": "text/x-python",
   "name": "python",
   "nbconvert_exporter": "python",
   "pygments_lexer": "ipython3",
   "version": "3.10.10"
  },
  "toc-showmarkdowntxt": false
 },
 "nbformat": 4,
 "nbformat_minor": 5
}
