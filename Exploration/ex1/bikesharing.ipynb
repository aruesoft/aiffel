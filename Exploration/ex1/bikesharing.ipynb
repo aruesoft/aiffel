{
 "cells": [
  {
   "cell_type": "markdown",
   "id": "eec4f344-4c64-4d23-ac5c-a924242288f9",
   "metadata": {},
   "source": [
    "# 프로젝트 2 : 날씨 좋은 월요일 오후 세 시, 자전거 타는 사람은 몇 명?"
   ]
  },
  {
   "cell_type": "code",
   "execution_count": 1,
   "id": "51f93d2a-604a-4253-953e-86cf9797becb",
   "metadata": {
    "tags": []
   },
   "outputs": [],
   "source": [
    "# Ignore  the warnings\n",
    "import warnings\n",
    "warnings.filterwarnings('always')\n",
    "warnings.filterwarnings('ignore')"
   ]
  },
  {
   "cell_type": "code",
   "execution_count": 2,
   "id": "c6d5d397-41ea-4b9a-ba42-1e87616f48a3",
   "metadata": {
    "tags": []
   },
   "outputs": [],
   "source": [
    "# data visualisation and manipulation\n",
    "import numpy as np\n",
    "import pandas as pd\n",
    "import matplotlib.pyplot as plt\n",
    "import seaborn as sns\n",
    "import missingno as msno\n",
    "import datetime as dt"
   ]
  },
  {
   "cell_type": "code",
   "execution_count": 3,
   "id": "314e1f1e-7f2d-4514-981a-b2548aa48810",
   "metadata": {
    "tags": []
   },
   "outputs": [],
   "source": [
    "from sklearn.linear_model import LinearRegression,Ridge,Lasso,RidgeCV\n",
    "from sklearn.model_selection import train_test_split\n",
    "from sklearn.preprocessing import MinMaxScaler,StandardScaler\n",
    "\n",
    "#evaluation metrics\n",
    "from sklearn.metrics import mean_squared_log_error,mean_squared_error # for regression\n"
   ]
  },
  {
   "cell_type": "markdown",
   "id": "487216ba-8afd-4dee-9225-095be808f778",
   "metadata": {},
   "source": [
    "## (1) 데이터 가져오기"
   ]
  },
  {
   "cell_type": "code",
   "execution_count": 4,
   "id": "e4e9e809-14c3-4efc-898f-7459a4a3dbfa",
   "metadata": {
    "tags": []
   },
   "outputs": [],
   "source": [
    "## Local로 작업"
   ]
  },
  {
   "cell_type": "code",
   "execution_count": 5,
   "id": "81f15964-a376-4d27-9216-ae5e635b80ac",
   "metadata": {
    "tags": []
   },
   "outputs": [],
   "source": [
    "train_df = pd.read_csv('./data/bike_train.csv')\n",
    "test_df = pd.read_csv('./data/bike_test.csv')\n",
    "df = train_df.copy()"
   ]
  },
  {
   "cell_type": "code",
   "execution_count": 6,
   "id": "447f0d95-1b36-495a-92cd-7a4651edb077",
   "metadata": {
    "tags": []
   },
   "outputs": [
    {
     "data": {
      "text/plain": [
       "(10886, 12)"
      ]
     },
     "execution_count": 6,
     "metadata": {},
     "output_type": "execute_result"
    }
   ],
   "source": [
    "df.shape"
   ]
  },
  {
   "cell_type": "code",
   "execution_count": 7,
   "id": "32de6fd0-c319-497d-81db-1e1c29292491",
   "metadata": {
    "tags": []
   },
   "outputs": [
    {
     "data": {
      "text/html": [
       "<div>\n",
       "<style scoped>\n",
       "    .dataframe tbody tr th:only-of-type {\n",
       "        vertical-align: middle;\n",
       "    }\n",
       "\n",
       "    .dataframe tbody tr th {\n",
       "        vertical-align: top;\n",
       "    }\n",
       "\n",
       "    .dataframe thead th {\n",
       "        text-align: right;\n",
       "    }\n",
       "</style>\n",
       "<table border=\"1\" class=\"dataframe\">\n",
       "  <thead>\n",
       "    <tr style=\"text-align: right;\">\n",
       "      <th></th>\n",
       "      <th>season</th>\n",
       "      <th>holiday</th>\n",
       "      <th>workingday</th>\n",
       "      <th>weather</th>\n",
       "      <th>temp</th>\n",
       "      <th>atemp</th>\n",
       "      <th>humidity</th>\n",
       "      <th>windspeed</th>\n",
       "      <th>casual</th>\n",
       "      <th>registered</th>\n",
       "      <th>count</th>\n",
       "    </tr>\n",
       "  </thead>\n",
       "  <tbody>\n",
       "    <tr>\n",
       "      <th>count</th>\n",
       "      <td>10886.000000</td>\n",
       "      <td>10886.000000</td>\n",
       "      <td>10886.000000</td>\n",
       "      <td>10886.000000</td>\n",
       "      <td>10886.00000</td>\n",
       "      <td>10886.000000</td>\n",
       "      <td>10886.000000</td>\n",
       "      <td>10886.000000</td>\n",
       "      <td>10886.000000</td>\n",
       "      <td>10886.000000</td>\n",
       "      <td>10886.000000</td>\n",
       "    </tr>\n",
       "    <tr>\n",
       "      <th>mean</th>\n",
       "      <td>2.506614</td>\n",
       "      <td>0.028569</td>\n",
       "      <td>0.680875</td>\n",
       "      <td>1.418427</td>\n",
       "      <td>20.23086</td>\n",
       "      <td>23.655084</td>\n",
       "      <td>61.886460</td>\n",
       "      <td>12.799395</td>\n",
       "      <td>36.021955</td>\n",
       "      <td>155.552177</td>\n",
       "      <td>191.574132</td>\n",
       "    </tr>\n",
       "    <tr>\n",
       "      <th>std</th>\n",
       "      <td>1.116174</td>\n",
       "      <td>0.166599</td>\n",
       "      <td>0.466159</td>\n",
       "      <td>0.633839</td>\n",
       "      <td>7.79159</td>\n",
       "      <td>8.474601</td>\n",
       "      <td>19.245033</td>\n",
       "      <td>8.164537</td>\n",
       "      <td>49.960477</td>\n",
       "      <td>151.039033</td>\n",
       "      <td>181.144454</td>\n",
       "    </tr>\n",
       "    <tr>\n",
       "      <th>min</th>\n",
       "      <td>1.000000</td>\n",
       "      <td>0.000000</td>\n",
       "      <td>0.000000</td>\n",
       "      <td>1.000000</td>\n",
       "      <td>0.82000</td>\n",
       "      <td>0.760000</td>\n",
       "      <td>0.000000</td>\n",
       "      <td>0.000000</td>\n",
       "      <td>0.000000</td>\n",
       "      <td>0.000000</td>\n",
       "      <td>1.000000</td>\n",
       "    </tr>\n",
       "    <tr>\n",
       "      <th>25%</th>\n",
       "      <td>2.000000</td>\n",
       "      <td>0.000000</td>\n",
       "      <td>0.000000</td>\n",
       "      <td>1.000000</td>\n",
       "      <td>13.94000</td>\n",
       "      <td>16.665000</td>\n",
       "      <td>47.000000</td>\n",
       "      <td>7.001500</td>\n",
       "      <td>4.000000</td>\n",
       "      <td>36.000000</td>\n",
       "      <td>42.000000</td>\n",
       "    </tr>\n",
       "    <tr>\n",
       "      <th>50%</th>\n",
       "      <td>3.000000</td>\n",
       "      <td>0.000000</td>\n",
       "      <td>1.000000</td>\n",
       "      <td>1.000000</td>\n",
       "      <td>20.50000</td>\n",
       "      <td>24.240000</td>\n",
       "      <td>62.000000</td>\n",
       "      <td>12.998000</td>\n",
       "      <td>17.000000</td>\n",
       "      <td>118.000000</td>\n",
       "      <td>145.000000</td>\n",
       "    </tr>\n",
       "    <tr>\n",
       "      <th>75%</th>\n",
       "      <td>4.000000</td>\n",
       "      <td>0.000000</td>\n",
       "      <td>1.000000</td>\n",
       "      <td>2.000000</td>\n",
       "      <td>26.24000</td>\n",
       "      <td>31.060000</td>\n",
       "      <td>77.000000</td>\n",
       "      <td>16.997900</td>\n",
       "      <td>49.000000</td>\n",
       "      <td>222.000000</td>\n",
       "      <td>284.000000</td>\n",
       "    </tr>\n",
       "    <tr>\n",
       "      <th>max</th>\n",
       "      <td>4.000000</td>\n",
       "      <td>1.000000</td>\n",
       "      <td>1.000000</td>\n",
       "      <td>4.000000</td>\n",
       "      <td>41.00000</td>\n",
       "      <td>45.455000</td>\n",
       "      <td>100.000000</td>\n",
       "      <td>56.996900</td>\n",
       "      <td>367.000000</td>\n",
       "      <td>886.000000</td>\n",
       "      <td>977.000000</td>\n",
       "    </tr>\n",
       "  </tbody>\n",
       "</table>\n",
       "</div>"
      ],
      "text/plain": [
       "             season       holiday    workingday       weather         temp   \n",
       "count  10886.000000  10886.000000  10886.000000  10886.000000  10886.00000  \\\n",
       "mean       2.506614      0.028569      0.680875      1.418427     20.23086   \n",
       "std        1.116174      0.166599      0.466159      0.633839      7.79159   \n",
       "min        1.000000      0.000000      0.000000      1.000000      0.82000   \n",
       "25%        2.000000      0.000000      0.000000      1.000000     13.94000   \n",
       "50%        3.000000      0.000000      1.000000      1.000000     20.50000   \n",
       "75%        4.000000      0.000000      1.000000      2.000000     26.24000   \n",
       "max        4.000000      1.000000      1.000000      4.000000     41.00000   \n",
       "\n",
       "              atemp      humidity     windspeed        casual    registered   \n",
       "count  10886.000000  10886.000000  10886.000000  10886.000000  10886.000000  \\\n",
       "mean      23.655084     61.886460     12.799395     36.021955    155.552177   \n",
       "std        8.474601     19.245033      8.164537     49.960477    151.039033   \n",
       "min        0.760000      0.000000      0.000000      0.000000      0.000000   \n",
       "25%       16.665000     47.000000      7.001500      4.000000     36.000000   \n",
       "50%       24.240000     62.000000     12.998000     17.000000    118.000000   \n",
       "75%       31.060000     77.000000     16.997900     49.000000    222.000000   \n",
       "max       45.455000    100.000000     56.996900    367.000000    886.000000   \n",
       "\n",
       "              count  \n",
       "count  10886.000000  \n",
       "mean     191.574132  \n",
       "std      181.144454  \n",
       "min        1.000000  \n",
       "25%       42.000000  \n",
       "50%      145.000000  \n",
       "75%      284.000000  \n",
       "max      977.000000  "
      ]
     },
     "execution_count": 7,
     "metadata": {},
     "output_type": "execute_result"
    }
   ],
   "source": [
    "df.describe()"
   ]
  },
  {
   "cell_type": "code",
   "execution_count": 8,
   "id": "4d3135b1-1ef4-45c7-ab69-b736a03c4bb3",
   "metadata": {
    "tags": []
   },
   "outputs": [
    {
     "data": {
      "text/html": [
       "<div>\n",
       "<style scoped>\n",
       "    .dataframe tbody tr th:only-of-type {\n",
       "        vertical-align: middle;\n",
       "    }\n",
       "\n",
       "    .dataframe tbody tr th {\n",
       "        vertical-align: top;\n",
       "    }\n",
       "\n",
       "    .dataframe thead th {\n",
       "        text-align: right;\n",
       "    }\n",
       "</style>\n",
       "<table border=\"1\" class=\"dataframe\">\n",
       "  <thead>\n",
       "    <tr style=\"text-align: right;\">\n",
       "      <th></th>\n",
       "      <th>datetime</th>\n",
       "      <th>season</th>\n",
       "      <th>holiday</th>\n",
       "      <th>workingday</th>\n",
       "      <th>weather</th>\n",
       "      <th>temp</th>\n",
       "      <th>atemp</th>\n",
       "      <th>humidity</th>\n",
       "      <th>windspeed</th>\n",
       "      <th>casual</th>\n",
       "      <th>registered</th>\n",
       "      <th>count</th>\n",
       "    </tr>\n",
       "  </thead>\n",
       "  <tbody>\n",
       "    <tr>\n",
       "      <th>0</th>\n",
       "      <td>2011-01-01 00:00:00</td>\n",
       "      <td>1</td>\n",
       "      <td>0</td>\n",
       "      <td>0</td>\n",
       "      <td>1</td>\n",
       "      <td>9.84</td>\n",
       "      <td>14.395</td>\n",
       "      <td>81</td>\n",
       "      <td>0.0</td>\n",
       "      <td>3</td>\n",
       "      <td>13</td>\n",
       "      <td>16</td>\n",
       "    </tr>\n",
       "    <tr>\n",
       "      <th>1</th>\n",
       "      <td>2011-01-01 01:00:00</td>\n",
       "      <td>1</td>\n",
       "      <td>0</td>\n",
       "      <td>0</td>\n",
       "      <td>1</td>\n",
       "      <td>9.02</td>\n",
       "      <td>13.635</td>\n",
       "      <td>80</td>\n",
       "      <td>0.0</td>\n",
       "      <td>8</td>\n",
       "      <td>32</td>\n",
       "      <td>40</td>\n",
       "    </tr>\n",
       "    <tr>\n",
       "      <th>2</th>\n",
       "      <td>2011-01-01 02:00:00</td>\n",
       "      <td>1</td>\n",
       "      <td>0</td>\n",
       "      <td>0</td>\n",
       "      <td>1</td>\n",
       "      <td>9.02</td>\n",
       "      <td>13.635</td>\n",
       "      <td>80</td>\n",
       "      <td>0.0</td>\n",
       "      <td>5</td>\n",
       "      <td>27</td>\n",
       "      <td>32</td>\n",
       "    </tr>\n",
       "    <tr>\n",
       "      <th>3</th>\n",
       "      <td>2011-01-01 03:00:00</td>\n",
       "      <td>1</td>\n",
       "      <td>0</td>\n",
       "      <td>0</td>\n",
       "      <td>1</td>\n",
       "      <td>9.84</td>\n",
       "      <td>14.395</td>\n",
       "      <td>75</td>\n",
       "      <td>0.0</td>\n",
       "      <td>3</td>\n",
       "      <td>10</td>\n",
       "      <td>13</td>\n",
       "    </tr>\n",
       "    <tr>\n",
       "      <th>4</th>\n",
       "      <td>2011-01-01 04:00:00</td>\n",
       "      <td>1</td>\n",
       "      <td>0</td>\n",
       "      <td>0</td>\n",
       "      <td>1</td>\n",
       "      <td>9.84</td>\n",
       "      <td>14.395</td>\n",
       "      <td>75</td>\n",
       "      <td>0.0</td>\n",
       "      <td>0</td>\n",
       "      <td>1</td>\n",
       "      <td>1</td>\n",
       "    </tr>\n",
       "  </tbody>\n",
       "</table>\n",
       "</div>"
      ],
      "text/plain": [
       "              datetime  season  holiday  workingday  weather  temp   atemp   \n",
       "0  2011-01-01 00:00:00       1        0           0        1  9.84  14.395  \\\n",
       "1  2011-01-01 01:00:00       1        0           0        1  9.02  13.635   \n",
       "2  2011-01-01 02:00:00       1        0           0        1  9.02  13.635   \n",
       "3  2011-01-01 03:00:00       1        0           0        1  9.84  14.395   \n",
       "4  2011-01-01 04:00:00       1        0           0        1  9.84  14.395   \n",
       "\n",
       "   humidity  windspeed  casual  registered  count  \n",
       "0        81        0.0       3          13     16  \n",
       "1        80        0.0       8          32     40  \n",
       "2        80        0.0       5          27     32  \n",
       "3        75        0.0       3          10     13  \n",
       "4        75        0.0       0           1      1  "
      ]
     },
     "execution_count": 8,
     "metadata": {},
     "output_type": "execute_result"
    }
   ],
   "source": [
    "df.head()"
   ]
  },
  {
   "cell_type": "markdown",
   "id": "f8558690-d017-4f62-90d7-95c6f45b0bdb",
   "metadata": {
    "tags": []
   },
   "source": [
    "**Data Fields**. \n",
    "- datetime - hourly date + timestamp  \n",
    "- season -  1 = spring, 2 = summer, 3 = fall, 4 = winter \n",
    "- holiday - whether the day is considered a holiday\n",
    "- workingday - whether the day is neither a weekend nor holiday\n",
    "- weather - 1: Clear, Few clouds, Partly cloudy, Partly cloudy\n",
    "-           2: Mist + Cloudy, Mist + Broken clouds, Mist + Few clouds, Mist\n",
    "-           3: Light Snow, Light Rain + Thunderstorm + Scattered clouds, Light Rain + Scattered clouds\n",
    "-           4: Heavy Rain + Ice Pallets + Thunderstorm + Mist, Snow + Fog \n",
    "- temp - temperature in Celsius\n",
    "- atemp - \"feels like\" temperature in Celsius\n",
    "- humidity - relative humidity\n",
    "- windspeed - wind speed\n",
    "- casual - number of non-registered user rentals initiated\n",
    "- registered - number of registered user rentals initiated\n",
    "- count - number of total rentals"
   ]
  },
  {
   "cell_type": "code",
   "execution_count": 9,
   "id": "ad88a21a-ff0a-4636-bc13-c53a693f6294",
   "metadata": {
    "tags": []
   },
   "outputs": [
    {
     "name": "stdout",
     "output_type": "stream",
     "text": [
      "<class 'pandas.core.frame.DataFrame'>\n",
      "RangeIndex: 10886 entries, 0 to 10885\n",
      "Data columns (total 12 columns):\n",
      " #   Column      Non-Null Count  Dtype  \n",
      "---  ------      --------------  -----  \n",
      " 0   datetime    10886 non-null  object \n",
      " 1   season      10886 non-null  int64  \n",
      " 2   holiday     10886 non-null  int64  \n",
      " 3   workingday  10886 non-null  int64  \n",
      " 4   weather     10886 non-null  int64  \n",
      " 5   temp        10886 non-null  float64\n",
      " 6   atemp       10886 non-null  float64\n",
      " 7   humidity    10886 non-null  int64  \n",
      " 8   windspeed   10886 non-null  float64\n",
      " 9   casual      10886 non-null  int64  \n",
      " 10  registered  10886 non-null  int64  \n",
      " 11  count       10886 non-null  int64  \n",
      "dtypes: float64(3), int64(8), object(1)\n",
      "memory usage: 1020.7+ KB\n"
     ]
    }
   ],
   "source": [
    "df.info()"
   ]
  },
  {
   "cell_type": "markdown",
   "id": "10a3b89f-5f30-433c-a5b8-e0b5431b0a27",
   "metadata": {},
   "source": [
    "### Null Value Check"
   ]
  },
  {
   "cell_type": "code",
   "execution_count": 10,
   "id": "97b111aa-0a6f-4f5f-b425-58daf5261067",
   "metadata": {
    "tags": []
   },
   "outputs": [
    {
     "data": {
      "text/plain": [
       "datetime      0\n",
       "season        0\n",
       "holiday       0\n",
       "workingday    0\n",
       "weather       0\n",
       "temp          0\n",
       "atemp         0\n",
       "humidity      0\n",
       "windspeed     0\n",
       "casual        0\n",
       "registered    0\n",
       "count         0\n",
       "dtype: int64"
      ]
     },
     "execution_count": 10,
     "metadata": {},
     "output_type": "execute_result"
    }
   ],
   "source": [
    "df.isnull().sum()"
   ]
  },
  {
   "cell_type": "code",
   "execution_count": 11,
   "id": "3a3a7278-41aa-4206-8434-72511b34ad39",
   "metadata": {
    "tags": []
   },
   "outputs": [
    {
     "data": {
      "text/plain": [
       "<Axes: >"
      ]
     },
     "execution_count": 11,
     "metadata": {},
     "output_type": "execute_result"
    },
    {
     "data": {
      "image/png": "[encoded data removed]",
      "text/plain": [
       "<Figure size 2500x1000 with 2 Axes>"
      ]
     },
     "metadata": {},
     "output_type": "display_data"
    }
   ],
   "source": [
    "msno.matrix(df)"
   ]
  },
  {
   "cell_type": "markdown",
   "id": "9cd33f7d-6d7d-4f94-a588-987c7daacaa2",
   "metadata": {},
   "source": [
    "## (2) datetime 컬럼을 datetime 자료형으로 변환하고 연, 월, 일, 시, 분, 초까지 6가지 컬럼 생성하기"
   ]
  },
  {
   "cell_type": "code",
   "execution_count": 12,
   "id": "e6515090-3cea-421a-839d-9c5c4a7e8c34",
   "metadata": {
    "tags": []
   },
   "outputs": [],
   "source": [
    "df['datetime'] = pd.to_datetime(df['datetime'])"
   ]
  },
  {
   "cell_type": "code",
   "execution_count": 13,
   "id": "6432acd0-1595-479d-8fbf-3c42269e18ac",
   "metadata": {
    "tags": []
   },
   "outputs": [],
   "source": [
    "#weekday 도 중요 피쳐라 추가로 축출\n",
    "datetime_col = ['year','month','day','weekday','hour','minute','second']\n",
    "\n",
    "for col in datetime_col:\n",
    "    df[col] = getattr(df['datetime'].dt, col)"
   ]
  },
  {
   "cell_type": "markdown",
   "id": "a346a2dd-d779-464d-b803-e77de0b4d30b",
   "metadata": {},
   "source": [
    "## (3) year, month, day, hour, minute, second 데이터 개수 시각화하기"
   ]
  },
  {
   "cell_type": "markdown",
   "id": "85aa63e0-fd27-4738-8a6c-fe928dc3928f",
   "metadata": {},
   "source": [
    "### Count_Plot"
   ]
  },
  {
   "cell_type": "code",
   "execution_count": 14,
   "id": "ff3f0530-9f30-4aec-98ce-802f8072af79",
   "metadata": {
    "tags": []
   },
   "outputs": [
    {
     "data": {
      "image/png": "[encoded data removed]",
      "text/plain": [
       "<Figure size 900x2100 with 7 Axes>"
      ]
     },
     "metadata": {},
     "output_type": "display_data"
    }
   ],
   "source": [
    "nrows, ncols = len(datetime_col), 1\n",
    "fig, axs = plt.subplots(nrows,ncols,figsize=(9,3*nrows))\n",
    "for i in range(len(datetime_col)):\n",
    "    sns.set_theme(style=\"whitegrid\")\n",
    "    sns.countplot(x=df[datetime_col[i]],data=df, ax=axs[i])\n",
    "    axs[i].set_title('Count Plot of {}'.format(datetime_col[i]))\n",
    "plt.tight_layout()\n",
    "plt.show()"
   ]
  },
  {
   "cell_type": "markdown",
   "id": "e2927f6c-55f6-4ae3-954a-09995c57737d",
   "metadata": {},
   "source": [
    "### Bar_Plot"
   ]
  },
  {
   "cell_type": "code",
   "execution_count": 15,
   "id": "c3500232-e518-4b60-872d-0568023f359a",
   "metadata": {
    "tags": []
   },
   "outputs": [
    {
     "data": {
      "image/png": "[encoded data removed]",
      "text/plain": [
       "<Figure size 900x2100 with 7 Axes>"
      ]
     },
     "metadata": {},
     "output_type": "display_data"
    }
   ],
   "source": [
    "#counter plot 으로는 데이터 구분이 힘들어 bar_plot 으로 다시 그림, counter 와 다른 양상을 지닌, casual 도 같이 그림\n",
    "fig, axs = plt.subplots(nrows,ncols,figsize=(9,3*nrows))\n",
    "for i in range(len(datetime_col)):\n",
    "    sns.barplot(data=df,x=datetime_col[i],y='count',ax=axs[i],alpha=0.5)\n",
    "    sns.barplot(data=df,x=datetime_col[i],y='casual',ax=axs[i],alpha=0.5,color='red')\n",
    "    axs[i].set_title('{} - BarPlot'.format(datetime_col[i]))\n",
    "    axs[i].set_ylabel('count/casual')\n",
    "plt.tight_layout()\n",
    "plt.show()"
   ]
  },
  {
   "cell_type": "code",
   "execution_count": null,
   "id": "8db13ff2-a84c-4926-b2a6-205a951c010a",
   "metadata": {},
   "outputs": [],
   "source": []
  },
  {
   "cell_type": "markdown",
   "id": "e306d636-27f7-427f-8b8d-939ac3873f2e",
   "metadata": {},
   "source": [
    "## (4) X, y 컬럼 선택 및 train/test 데이터 분리"
   ]
  },
  {
   "cell_type": "markdown",
   "id": "402a0ea2-8174-497d-b794-5ae9867df0a6",
   "metadata": {},
   "source": [
    "### Data Backfill - 결측치 채우기 "
   ]
  },
  {
   "cell_type": "code",
   "execution_count": 16,
   "id": "9994f190-3428-45ca-8f79-3764a1008d57",
   "metadata": {},
   "outputs": [
    {
     "data": {
      "text/plain": [
       "windspeed\n",
       "0.0000     1313\n",
       "8.9981     1120\n",
       "11.0014    1057\n",
       "12.9980    1042\n",
       "7.0015     1034\n",
       "15.0013     961\n",
       "6.0032      872\n",
       "16.9979     824\n",
       "19.0012     676\n",
       "19.9995     492\n",
       "22.0028     372\n",
       "23.9994     274\n",
       "26.0027     235\n",
       "27.9993     187\n",
       "30.0026     111\n",
       "31.0009      89\n",
       "32.9975      80\n",
       "35.0008      58\n",
       "39.0007      27\n",
       "36.9974      22\n",
       "43.0006      12\n",
       "40.9973      11\n",
       "43.9989       8\n",
       "46.0022       3\n",
       "56.9969       2\n",
       "47.9988       2\n",
       "51.9987       1\n",
       "50.0021       1\n",
       "Name: count, dtype: int64"
      ]
     },
     "execution_count": 16,
     "metadata": {},
     "output_type": "execute_result"
    }
   ],
   "source": [
    "df['windspeed'].value_counts()"
   ]
  },
  {
   "cell_type": "code",
   "execution_count": 17,
   "id": "ce5089ae-5ee3-4bcb-ab4e-3b6444235a3e",
   "metadata": {},
   "outputs": [
    {
     "data": {
      "text/plain": [
       "1313"
      ]
     },
     "execution_count": 17,
     "metadata": {},
     "output_type": "execute_result"
    }
   ],
   "source": [
    "df['windspeed'] = df['windspeed'].replace(0,np.nan)\n",
    "df['windspeed'].isnull().sum()"
   ]
  },
  {
   "cell_type": "code",
   "execution_count": 18,
   "id": "4cb6d0e5-ed15-4343-9f56-93352c1b600e",
   "metadata": {},
   "outputs": [
    {
     "data": {
      "text/plain": [
       "windspeed\n",
       "7.0015     1374\n",
       "8.9981     1332\n",
       "6.0032     1310\n",
       "11.0014    1176\n",
       "12.9980    1127\n",
       "15.0013     987\n",
       "16.9979     872\n",
       "19.0012     694\n",
       "19.9995     507\n",
       "22.0028     380\n",
       "23.9994     276\n",
       "26.0027     236\n",
       "27.9993     187\n",
       "30.0026     111\n",
       "31.0009      89\n",
       "32.9975      80\n",
       "35.0008      59\n",
       "39.0007      27\n",
       "36.9974      22\n",
       "43.0006      12\n",
       "40.9973      11\n",
       "43.9989       8\n",
       "46.0022       3\n",
       "56.9969       2\n",
       "47.9988       2\n",
       "51.9987       1\n",
       "50.0021       1\n",
       "Name: count, dtype: int64"
      ]
     },
     "execution_count": 18,
     "metadata": {},
     "output_type": "execute_result"
    }
   ],
   "source": [
    "df['windspeed'].fillna(method='bfill',inplace=True)\n",
    "df['windspeed'].isnull().sum()\n",
    "df['windspeed'].value_counts()"
   ]
  },
  {
   "cell_type": "code",
   "execution_count": null,
   "id": "a582f82c-b7df-40cc-87e1-cd5fe163a624",
   "metadata": {},
   "outputs": [],
   "source": []
  },
  {
   "cell_type": "markdown",
   "id": "c0b79409-c6aa-4f22-a292-f253c4442967",
   "metadata": {
    "tags": []
   },
   "source": [
    "### Outlier : IQR"
   ]
  },
  {
   "cell_type": "code",
   "execution_count": 19,
   "id": "9c2b46de-6b8e-4bda-9b5a-1ee5008c36cc",
   "metadata": {
    "tags": []
   },
   "outputs": [
    {
     "data": {
      "text/plain": [
       "<Axes: ylabel='count'>"
      ]
     },
     "execution_count": 19,
     "metadata": {},
     "output_type": "execute_result"
    },
    {
     "data": {
      "image/png": "[encoded data removed]",
      "text/plain": [
       "<Figure size 640x480 with 1 Axes>"
      ]
     },
     "metadata": {},
     "output_type": "display_data"
    }
   ],
   "source": [
    "sns.boxplot(data=df,y='count')"
   ]
  },
  {
   "cell_type": "code",
   "execution_count": 20,
   "id": "c16fdb8b-e3e9-47c1-a736-4a83dc1cb854",
   "metadata": {
    "tags": []
   },
   "outputs": [
    {
     "data": {
      "text/plain": [
       "<Axes: xlabel='hour', ylabel='count'>"
      ]
     },
     "execution_count": 20,
     "metadata": {},
     "output_type": "execute_result"
    },
    {
     "data": {
      "image/png": "[encoded data removed]",
      "text/plain": [
       "<Figure size 640x480 with 1 Axes>"
      ]
     },
     "metadata": {},
     "output_type": "display_data"
    }
   ],
   "source": [
    "sns.boxplot(data=df,y='count',x='hour')"
   ]
  },
  {
   "cell_type": "code",
   "execution_count": 21,
   "id": "ecd7e200-de40-4f6c-984f-0f336fadc7da",
   "metadata": {
    "tags": []
   },
   "outputs": [
    {
     "name": "stdout",
     "output_type": "stream",
     "text": [
      "42.0 284.0\n"
     ]
    }
   ],
   "source": [
    "Q1 = df['count'].quantile(0.25)\n",
    "Q3 = df['count'].quantile(0.75)\n",
    "\n",
    "print(Q1,Q3)\n",
    "\n",
    "IQR = Q3-Q1"
   ]
  },
  {
   "cell_type": "code",
   "execution_count": 22,
   "id": "ed609ef6-9ef7-43d0-bfe5-c4cc2ada7413",
   "metadata": {
    "tags": []
   },
   "outputs": [
    {
     "data": {
      "text/plain": [
       "242.0"
      ]
     },
     "execution_count": 22,
     "metadata": {},
     "output_type": "execute_result"
    }
   ],
   "source": [
    "IQR"
   ]
  },
  {
   "cell_type": "code",
   "execution_count": 23,
   "id": "76549649-24ce-4570-afd0-13afb584f0a6",
   "metadata": {
    "tags": []
   },
   "outputs": [],
   "source": [
    "filter = (df['count'] >= Q1 - 1.5 * IQR) & (df['count'] < Q3 + 1.5 *IQR )"
   ]
  },
  {
   "cell_type": "code",
   "execution_count": 24,
   "id": "13d045df-8cd3-46d0-b74d-ee1279115e03",
   "metadata": {
    "tags": []
   },
   "outputs": [
    {
     "data": {
      "text/plain": [
       "(10583, 19)"
      ]
     },
     "metadata": {},
     "output_type": "display_data"
    },
    {
     "data": {
      "text/plain": [
       "(10886, 19)"
      ]
     },
     "metadata": {},
     "output_type": "display_data"
    }
   ],
   "source": [
    "display(df.loc[filter].shape)\n",
    "display(df.shape)"
   ]
  },
  {
   "cell_type": "code",
   "execution_count": 25,
   "id": "bf674689-d500-4892-b40a-5469b7b33d56",
   "metadata": {
    "tags": []
   },
   "outputs": [],
   "source": [
    "df_clean = df.loc[filter]"
   ]
  },
  {
   "cell_type": "code",
   "execution_count": 26,
   "id": "203a9fb4-acc0-4bab-9826-d22627e7b765",
   "metadata": {
    "tags": []
   },
   "outputs": [
    {
     "data": {
      "text/html": [
       "<div>\n",
       "<style scoped>\n",
       "    .dataframe tbody tr th:only-of-type {\n",
       "        vertical-align: middle;\n",
       "    }\n",
       "\n",
       "    .dataframe tbody tr th {\n",
       "        vertical-align: top;\n",
       "    }\n",
       "\n",
       "    .dataframe thead th {\n",
       "        text-align: right;\n",
       "    }\n",
       "</style>\n",
       "<table border=\"1\" class=\"dataframe\">\n",
       "  <thead>\n",
       "    <tr style=\"text-align: right;\">\n",
       "      <th></th>\n",
       "      <th>datetime</th>\n",
       "      <th>season</th>\n",
       "      <th>holiday</th>\n",
       "      <th>workingday</th>\n",
       "      <th>weather</th>\n",
       "      <th>temp</th>\n",
       "      <th>atemp</th>\n",
       "      <th>humidity</th>\n",
       "      <th>windspeed</th>\n",
       "      <th>casual</th>\n",
       "      <th>registered</th>\n",
       "      <th>count</th>\n",
       "      <th>year</th>\n",
       "      <th>month</th>\n",
       "      <th>day</th>\n",
       "      <th>weekday</th>\n",
       "      <th>hour</th>\n",
       "      <th>minute</th>\n",
       "      <th>second</th>\n",
       "    </tr>\n",
       "  </thead>\n",
       "  <tbody>\n",
       "    <tr>\n",
       "      <th>6611</th>\n",
       "      <td>2012-03-12 18:00:00</td>\n",
       "      <td>1</td>\n",
       "      <td>0</td>\n",
       "      <td>1</td>\n",
       "      <td>2</td>\n",
       "      <td>24.60</td>\n",
       "      <td>31.060</td>\n",
       "      <td>43</td>\n",
       "      <td>12.9980</td>\n",
       "      <td>89</td>\n",
       "      <td>623</td>\n",
       "      <td>712</td>\n",
       "      <td>2012</td>\n",
       "      <td>3</td>\n",
       "      <td>12</td>\n",
       "      <td>0</td>\n",
       "      <td>18</td>\n",
       "      <td>0</td>\n",
       "      <td>0</td>\n",
       "    </tr>\n",
       "    <tr>\n",
       "      <th>6634</th>\n",
       "      <td>2012-03-13 17:00:00</td>\n",
       "      <td>1</td>\n",
       "      <td>0</td>\n",
       "      <td>1</td>\n",
       "      <td>1</td>\n",
       "      <td>28.70</td>\n",
       "      <td>31.820</td>\n",
       "      <td>37</td>\n",
       "      <td>7.0015</td>\n",
       "      <td>62</td>\n",
       "      <td>614</td>\n",
       "      <td>676</td>\n",
       "      <td>2012</td>\n",
       "      <td>3</td>\n",
       "      <td>13</td>\n",
       "      <td>1</td>\n",
       "      <td>17</td>\n",
       "      <td>0</td>\n",
       "      <td>0</td>\n",
       "    </tr>\n",
       "    <tr>\n",
       "      <th>6635</th>\n",
       "      <td>2012-03-13 18:00:00</td>\n",
       "      <td>1</td>\n",
       "      <td>0</td>\n",
       "      <td>1</td>\n",
       "      <td>1</td>\n",
       "      <td>28.70</td>\n",
       "      <td>31.820</td>\n",
       "      <td>34</td>\n",
       "      <td>19.9995</td>\n",
       "      <td>96</td>\n",
       "      <td>638</td>\n",
       "      <td>734</td>\n",
       "      <td>2012</td>\n",
       "      <td>3</td>\n",
       "      <td>13</td>\n",
       "      <td>1</td>\n",
       "      <td>18</td>\n",
       "      <td>0</td>\n",
       "      <td>0</td>\n",
       "    </tr>\n",
       "    <tr>\n",
       "      <th>6649</th>\n",
       "      <td>2012-03-14 08:00:00</td>\n",
       "      <td>1</td>\n",
       "      <td>0</td>\n",
       "      <td>1</td>\n",
       "      <td>1</td>\n",
       "      <td>18.04</td>\n",
       "      <td>21.970</td>\n",
       "      <td>82</td>\n",
       "      <td>7.0015</td>\n",
       "      <td>34</td>\n",
       "      <td>628</td>\n",
       "      <td>662</td>\n",
       "      <td>2012</td>\n",
       "      <td>3</td>\n",
       "      <td>14</td>\n",
       "      <td>2</td>\n",
       "      <td>8</td>\n",
       "      <td>0</td>\n",
       "      <td>0</td>\n",
       "    </tr>\n",
       "    <tr>\n",
       "      <th>6658</th>\n",
       "      <td>2012-03-14 17:00:00</td>\n",
       "      <td>1</td>\n",
       "      <td>0</td>\n",
       "      <td>1</td>\n",
       "      <td>1</td>\n",
       "      <td>28.70</td>\n",
       "      <td>31.820</td>\n",
       "      <td>28</td>\n",
       "      <td>6.0032</td>\n",
       "      <td>140</td>\n",
       "      <td>642</td>\n",
       "      <td>782</td>\n",
       "      <td>2012</td>\n",
       "      <td>3</td>\n",
       "      <td>14</td>\n",
       "      <td>2</td>\n",
       "      <td>17</td>\n",
       "      <td>0</td>\n",
       "      <td>0</td>\n",
       "    </tr>\n",
       "    <tr>\n",
       "      <th>...</th>\n",
       "      <td>...</td>\n",
       "      <td>...</td>\n",
       "      <td>...</td>\n",
       "      <td>...</td>\n",
       "      <td>...</td>\n",
       "      <td>...</td>\n",
       "      <td>...</td>\n",
       "      <td>...</td>\n",
       "      <td>...</td>\n",
       "      <td>...</td>\n",
       "      <td>...</td>\n",
       "      <td>...</td>\n",
       "      <td>...</td>\n",
       "      <td>...</td>\n",
       "      <td>...</td>\n",
       "      <td>...</td>\n",
       "      <td>...</td>\n",
       "      <td>...</td>\n",
       "      <td>...</td>\n",
       "    </tr>\n",
       "    <tr>\n",
       "      <th>10678</th>\n",
       "      <td>2012-12-11 08:00:00</td>\n",
       "      <td>4</td>\n",
       "      <td>0</td>\n",
       "      <td>1</td>\n",
       "      <td>2</td>\n",
       "      <td>13.94</td>\n",
       "      <td>15.150</td>\n",
       "      <td>61</td>\n",
       "      <td>19.9995</td>\n",
       "      <td>16</td>\n",
       "      <td>708</td>\n",
       "      <td>724</td>\n",
       "      <td>2012</td>\n",
       "      <td>12</td>\n",
       "      <td>11</td>\n",
       "      <td>1</td>\n",
       "      <td>8</td>\n",
       "      <td>0</td>\n",
       "      <td>0</td>\n",
       "    </tr>\n",
       "    <tr>\n",
       "      <th>10702</th>\n",
       "      <td>2012-12-12 08:00:00</td>\n",
       "      <td>4</td>\n",
       "      <td>0</td>\n",
       "      <td>1</td>\n",
       "      <td>2</td>\n",
       "      <td>10.66</td>\n",
       "      <td>12.880</td>\n",
       "      <td>65</td>\n",
       "      <td>11.0014</td>\n",
       "      <td>18</td>\n",
       "      <td>670</td>\n",
       "      <td>688</td>\n",
       "      <td>2012</td>\n",
       "      <td>12</td>\n",
       "      <td>12</td>\n",
       "      <td>2</td>\n",
       "      <td>8</td>\n",
       "      <td>0</td>\n",
       "      <td>0</td>\n",
       "    </tr>\n",
       "    <tr>\n",
       "      <th>10726</th>\n",
       "      <td>2012-12-13 08:00:00</td>\n",
       "      <td>4</td>\n",
       "      <td>0</td>\n",
       "      <td>1</td>\n",
       "      <td>1</td>\n",
       "      <td>9.84</td>\n",
       "      <td>11.365</td>\n",
       "      <td>60</td>\n",
       "      <td>12.9980</td>\n",
       "      <td>24</td>\n",
       "      <td>655</td>\n",
       "      <td>679</td>\n",
       "      <td>2012</td>\n",
       "      <td>12</td>\n",
       "      <td>13</td>\n",
       "      <td>3</td>\n",
       "      <td>8</td>\n",
       "      <td>0</td>\n",
       "      <td>0</td>\n",
       "    </tr>\n",
       "    <tr>\n",
       "      <th>10846</th>\n",
       "      <td>2012-12-18 08:00:00</td>\n",
       "      <td>4</td>\n",
       "      <td>0</td>\n",
       "      <td>1</td>\n",
       "      <td>1</td>\n",
       "      <td>15.58</td>\n",
       "      <td>19.695</td>\n",
       "      <td>94</td>\n",
       "      <td>6.0032</td>\n",
       "      <td>10</td>\n",
       "      <td>652</td>\n",
       "      <td>662</td>\n",
       "      <td>2012</td>\n",
       "      <td>12</td>\n",
       "      <td>18</td>\n",
       "      <td>1</td>\n",
       "      <td>8</td>\n",
       "      <td>0</td>\n",
       "      <td>0</td>\n",
       "    </tr>\n",
       "    <tr>\n",
       "      <th>10870</th>\n",
       "      <td>2012-12-19 08:00:00</td>\n",
       "      <td>4</td>\n",
       "      <td>0</td>\n",
       "      <td>1</td>\n",
       "      <td>1</td>\n",
       "      <td>9.84</td>\n",
       "      <td>12.880</td>\n",
       "      <td>87</td>\n",
       "      <td>7.0015</td>\n",
       "      <td>13</td>\n",
       "      <td>665</td>\n",
       "      <td>678</td>\n",
       "      <td>2012</td>\n",
       "      <td>12</td>\n",
       "      <td>19</td>\n",
       "      <td>2</td>\n",
       "      <td>8</td>\n",
       "      <td>0</td>\n",
       "      <td>0</td>\n",
       "    </tr>\n",
       "  </tbody>\n",
       "</table>\n",
       "<p>303 rows × 19 columns</p>\n",
       "</div>"
      ],
      "text/plain": [
       "                 datetime  season  holiday  workingday  weather   temp   \n",
       "6611  2012-03-12 18:00:00       1        0           1        2  24.60  \\\n",
       "6634  2012-03-13 17:00:00       1        0           1        1  28.70   \n",
       "6635  2012-03-13 18:00:00       1        0           1        1  28.70   \n",
       "6649  2012-03-14 08:00:00       1        0           1        1  18.04   \n",
       "6658  2012-03-14 17:00:00       1        0           1        1  28.70   \n",
       "...                   ...     ...      ...         ...      ...    ...   \n",
       "10678 2012-12-11 08:00:00       4        0           1        2  13.94   \n",
       "10702 2012-12-12 08:00:00       4        0           1        2  10.66   \n",
       "10726 2012-12-13 08:00:00       4        0           1        1   9.84   \n",
       "10846 2012-12-18 08:00:00       4        0           1        1  15.58   \n",
       "10870 2012-12-19 08:00:00       4        0           1        1   9.84   \n",
       "\n",
       "        atemp  humidity  windspeed  casual  registered  count  year  month   \n",
       "6611   31.060        43    12.9980      89         623    712  2012      3  \\\n",
       "6634   31.820        37     7.0015      62         614    676  2012      3   \n",
       "6635   31.820        34    19.9995      96         638    734  2012      3   \n",
       "6649   21.970        82     7.0015      34         628    662  2012      3   \n",
       "6658   31.820        28     6.0032     140         642    782  2012      3   \n",
       "...       ...       ...        ...     ...         ...    ...   ...    ...   \n",
       "10678  15.150        61    19.9995      16         708    724  2012     12   \n",
       "10702  12.880        65    11.0014      18         670    688  2012     12   \n",
       "10726  11.365        60    12.9980      24         655    679  2012     12   \n",
       "10846  19.695        94     6.0032      10         652    662  2012     12   \n",
       "10870  12.880        87     7.0015      13         665    678  2012     12   \n",
       "\n",
       "       day  weekday  hour  minute  second  \n",
       "6611    12        0    18       0       0  \n",
       "6634    13        1    17       0       0  \n",
       "6635    13        1    18       0       0  \n",
       "6649    14        2     8       0       0  \n",
       "6658    14        2    17       0       0  \n",
       "...    ...      ...   ...     ...     ...  \n",
       "10678   11        1     8       0       0  \n",
       "10702   12        2     8       0       0  \n",
       "10726   13        3     8       0       0  \n",
       "10846   18        1     8       0       0  \n",
       "10870   19        2     8       0       0  \n",
       "\n",
       "[303 rows x 19 columns]"
      ]
     },
     "execution_count": 26,
     "metadata": {},
     "output_type": "execute_result"
    }
   ],
   "source": [
    "df.loc[~filter]"
   ]
  },
  {
   "cell_type": "code",
   "execution_count": 27,
   "id": "69153143-7e03-407f-8f55-ff1717ccdab1",
   "metadata": {
    "tags": []
   },
   "outputs": [],
   "source": [
    "df = df_clean.copy()"
   ]
  },
  {
   "cell_type": "markdown",
   "id": "97b7f1fd-d860-4d1c-94ed-14845d8add41",
   "metadata": {},
   "source": [
    "### Correlation "
   ]
  },
  {
   "cell_type": "code",
   "execution_count": 28,
   "id": "f07d1ff4-e15b-4c40-9473-9bbd1d465dd6",
   "metadata": {
    "tags": []
   },
   "outputs": [],
   "source": [
    "clean_col = [ 'weather', 'temp', 'humidity', 'windspeed', \n",
    "              'year','season', 'month', 'weekday', 'holiday', 'workingday', 'hour',\n",
    "              'casual', 'registered', 'count']"
   ]
  },
  {
   "cell_type": "code",
   "execution_count": 29,
   "id": "e71209f9-dce6-45f8-ba88-4e86b3e9ea17",
   "metadata": {
    "tags": []
   },
   "outputs": [],
   "source": [
    "correlation = df[clean_col].corr()"
   ]
  },
  {
   "cell_type": "code",
   "execution_count": 30,
   "id": "23222bcc-bb6b-480e-9318-8368d49fc2bb",
   "metadata": {
    "tags": []
   },
   "outputs": [
    {
     "data": {
      "text/plain": [
       "<Axes: >"
      ]
     },
     "execution_count": 30,
     "metadata": {},
     "output_type": "execute_result"
    },
    {
     "data": {
      "image/png": "[encoded data removed]",
      "text/plain": [
       "<Figure size 2000x1000 with 2 Axes>"
      ]
     },
     "metadata": {},
     "output_type": "display_data"
    }
   ],
   "source": [
    "fig, ax = plt.subplots(figsize=(20,10))\n",
    "mask = np.array(correlation)\n",
    "mask[np.tril_indices_from(mask)] = False\n",
    "sns.heatmap(correlation,square=True,annot=np.round(correlation,2),mask=mask,cmap='coolwarm')"
   ]
  },
  {
   "cell_type": "code",
   "execution_count": 31,
   "id": "9f1e0660-bbdd-43ef-91bd-59f9ac98c42f",
   "metadata": {
    "tags": []
   },
   "outputs": [
    {
     "data": {
      "text/html": [
       "<div>\n",
       "<style scoped>\n",
       "    .dataframe tbody tr th:only-of-type {\n",
       "        vertical-align: middle;\n",
       "    }\n",
       "\n",
       "    .dataframe tbody tr th {\n",
       "        vertical-align: top;\n",
       "    }\n",
       "\n",
       "    .dataframe thead th {\n",
       "        text-align: right;\n",
       "    }\n",
       "</style>\n",
       "<table border=\"1\" class=\"dataframe\">\n",
       "  <thead>\n",
       "    <tr style=\"text-align: right;\">\n",
       "      <th></th>\n",
       "      <th>category</th>\n",
       "      <th>relevant_category</th>\n",
       "      <th>correaltion</th>\n",
       "      <th>rank</th>\n",
       "    </tr>\n",
       "  </thead>\n",
       "  <tbody>\n",
       "    <tr>\n",
       "      <th>76</th>\n",
       "      <td>season</td>\n",
       "      <td>month</td>\n",
       "      <td>0.971936</td>\n",
       "      <td>1</td>\n",
       "    </tr>\n",
       "    <tr>\n",
       "      <th>89</th>\n",
       "      <td>month</td>\n",
       "      <td>season</td>\n",
       "      <td>0.971936</td>\n",
       "      <td>1</td>\n",
       "    </tr>\n",
       "    <tr>\n",
       "      <th>181</th>\n",
       "      <td>registered</td>\n",
       "      <td>count</td>\n",
       "      <td>0.966296</td>\n",
       "      <td>1</td>\n",
       "    </tr>\n",
       "    <tr>\n",
       "      <th>194</th>\n",
       "      <td>count</td>\n",
       "      <td>registered</td>\n",
       "      <td>0.966296</td>\n",
       "      <td>1</td>\n",
       "    </tr>\n",
       "    <tr>\n",
       "      <th>193</th>\n",
       "      <td>count</td>\n",
       "      <td>casual</td>\n",
       "      <td>0.716661</td>\n",
       "      <td>2</td>\n",
       "    </tr>\n",
       "    <tr>\n",
       "      <th>...</th>\n",
       "      <td>...</td>\n",
       "      <td>...</td>\n",
       "      <td>...</td>\n",
       "      <td>...</td>\n",
       "    </tr>\n",
       "    <tr>\n",
       "      <th>156</th>\n",
       "      <td>casual</td>\n",
       "      <td>humidity</td>\n",
       "      <td>-0.335204</td>\n",
       "      <td>13</td>\n",
       "    </tr>\n",
       "    <tr>\n",
       "      <th>31</th>\n",
       "      <td>humidity</td>\n",
       "      <td>windspeed</td>\n",
       "      <td>-0.341241</td>\n",
       "      <td>13</td>\n",
       "    </tr>\n",
       "    <tr>\n",
       "      <th>44</th>\n",
       "      <td>windspeed</td>\n",
       "      <td>humidity</td>\n",
       "      <td>-0.341241</td>\n",
       "      <td>13</td>\n",
       "    </tr>\n",
       "    <tr>\n",
       "      <th>133</th>\n",
       "      <td>workingday</td>\n",
       "      <td>weekday</td>\n",
       "      <td>-0.704199</td>\n",
       "      <td>13</td>\n",
       "    </tr>\n",
       "    <tr>\n",
       "      <th>107</th>\n",
       "      <td>weekday</td>\n",
       "      <td>workingday</td>\n",
       "      <td>-0.704199</td>\n",
       "      <td>13</td>\n",
       "    </tr>\n",
       "  </tbody>\n",
       "</table>\n",
       "<p>182 rows × 4 columns</p>\n",
       "</div>"
      ],
      "text/plain": [
       "       category relevant_category  correaltion  rank\n",
       "76       season             month     0.971936     1\n",
       "89        month            season     0.971936     1\n",
       "181  registered             count     0.966296     1\n",
       "194       count        registered     0.966296     1\n",
       "193       count            casual     0.716661     2\n",
       "..          ...               ...          ...   ...\n",
       "156      casual          humidity    -0.335204    13\n",
       "31     humidity         windspeed    -0.341241    13\n",
       "44    windspeed          humidity    -0.341241    13\n",
       "133  workingday           weekday    -0.704199    13\n",
       "107     weekday        workingday    -0.704199    13\n",
       "\n",
       "[182 rows x 4 columns]"
      ]
     },
     "execution_count": 31,
     "metadata": {},
     "output_type": "execute_result"
    }
   ],
   "source": [
    "correlation.index.name = 'category'\n",
    "correlation.T.index.name = 'relevant_category'\n",
    "\n",
    "corr_df = pd.DataFrame(correlation.stack(),columns=['correaltion']).reset_index()\n",
    "\n",
    "corr_df = corr_df.loc[corr_df['category'] != corr_df['relevant_category']]\n",
    "\n",
    "corr_df['rank'] = corr_df.groupby('category')['correaltion'].rank('min',ascending=False).astype(int)\n",
    "\n",
    "corr_df.sort_values('correaltion',ascending=False)"
   ]
  },
  {
   "cell_type": "code",
   "execution_count": 32,
   "id": "231bb69e-0fb3-4547-be3f-68904a827ed0",
   "metadata": {
    "tags": []
   },
   "outputs": [
    {
     "data": {
      "text/html": [
       "<div>\n",
       "<style scoped>\n",
       "    .dataframe tbody tr th:only-of-type {\n",
       "        vertical-align: middle;\n",
       "    }\n",
       "\n",
       "    .dataframe tbody tr th {\n",
       "        vertical-align: top;\n",
       "    }\n",
       "\n",
       "    .dataframe thead th {\n",
       "        text-align: right;\n",
       "    }\n",
       "</style>\n",
       "<table border=\"1\" class=\"dataframe\">\n",
       "  <thead>\n",
       "    <tr style=\"text-align: right;\">\n",
       "      <th></th>\n",
       "      <th>category</th>\n",
       "      <th>relevant_category</th>\n",
       "      <th>correaltion</th>\n",
       "      <th>rank</th>\n",
       "    </tr>\n",
       "  </thead>\n",
       "  <tbody>\n",
       "    <tr>\n",
       "      <th>194</th>\n",
       "      <td>count</td>\n",
       "      <td>registered</td>\n",
       "      <td>0.966296</td>\n",
       "      <td>1</td>\n",
       "    </tr>\n",
       "    <tr>\n",
       "      <th>193</th>\n",
       "      <td>count</td>\n",
       "      <td>casual</td>\n",
       "      <td>0.716661</td>\n",
       "      <td>2</td>\n",
       "    </tr>\n",
       "    <tr>\n",
       "      <th>192</th>\n",
       "      <td>count</td>\n",
       "      <td>hour</td>\n",
       "      <td>0.426164</td>\n",
       "      <td>3</td>\n",
       "    </tr>\n",
       "    <tr>\n",
       "      <th>183</th>\n",
       "      <td>count</td>\n",
       "      <td>temp</td>\n",
       "      <td>0.387816</td>\n",
       "      <td>4</td>\n",
       "    </tr>\n",
       "    <tr>\n",
       "      <th>186</th>\n",
       "      <td>count</td>\n",
       "      <td>year</td>\n",
       "      <td>0.205818</td>\n",
       "      <td>5</td>\n",
       "    </tr>\n",
       "    <tr>\n",
       "      <th>188</th>\n",
       "      <td>count</td>\n",
       "      <td>month</td>\n",
       "      <td>0.167439</td>\n",
       "      <td>6</td>\n",
       "    </tr>\n",
       "    <tr>\n",
       "      <th>187</th>\n",
       "      <td>count</td>\n",
       "      <td>season</td>\n",
       "      <td>0.165037</td>\n",
       "      <td>7</td>\n",
       "    </tr>\n",
       "    <tr>\n",
       "      <th>185</th>\n",
       "      <td>count</td>\n",
       "      <td>windspeed</td>\n",
       "      <td>0.113736</td>\n",
       "      <td>8</td>\n",
       "    </tr>\n",
       "    <tr>\n",
       "      <th>189</th>\n",
       "      <td>count</td>\n",
       "      <td>weekday</td>\n",
       "      <td>0.025890</td>\n",
       "      <td>9</td>\n",
       "    </tr>\n",
       "    <tr>\n",
       "      <th>190</th>\n",
       "      <td>count</td>\n",
       "      <td>holiday</td>\n",
       "      <td>0.007779</td>\n",
       "      <td>10</td>\n",
       "    </tr>\n",
       "    <tr>\n",
       "      <th>191</th>\n",
       "      <td>count</td>\n",
       "      <td>workingday</td>\n",
       "      <td>-0.023823</td>\n",
       "      <td>11</td>\n",
       "    </tr>\n",
       "    <tr>\n",
       "      <th>182</th>\n",
       "      <td>count</td>\n",
       "      <td>weather</td>\n",
       "      <td>-0.127915</td>\n",
       "      <td>12</td>\n",
       "    </tr>\n",
       "    <tr>\n",
       "      <th>184</th>\n",
       "      <td>count</td>\n",
       "      <td>humidity</td>\n",
       "      <td>-0.323054</td>\n",
       "      <td>13</td>\n",
       "    </tr>\n",
       "  </tbody>\n",
       "</table>\n",
       "</div>"
      ],
      "text/plain": [
       "    category relevant_category  correaltion  rank\n",
       "194    count        registered     0.966296     1\n",
       "193    count            casual     0.716661     2\n",
       "192    count              hour     0.426164     3\n",
       "183    count              temp     0.387816     4\n",
       "186    count              year     0.205818     5\n",
       "188    count             month     0.167439     6\n",
       "187    count            season     0.165037     7\n",
       "185    count         windspeed     0.113736     8\n",
       "189    count           weekday     0.025890     9\n",
       "190    count           holiday     0.007779    10\n",
       "191    count        workingday    -0.023823    11\n",
       "182    count           weather    -0.127915    12\n",
       "184    count          humidity    -0.323054    13"
      ]
     },
     "execution_count": 32,
     "metadata": {},
     "output_type": "execute_result"
    }
   ],
   "source": [
    "corr_df[corr_df['category']=='count'].sort_values('rank')"
   ]
  },
  {
   "cell_type": "code",
   "execution_count": 33,
   "id": "4ca1d299-dd90-4e5a-967e-cb15e1f2869f",
   "metadata": {
    "tags": []
   },
   "outputs": [
    {
     "data": {
      "text/html": [
       "<div>\n",
       "<style scoped>\n",
       "    .dataframe tbody tr th:only-of-type {\n",
       "        vertical-align: middle;\n",
       "    }\n",
       "\n",
       "    .dataframe tbody tr th {\n",
       "        vertical-align: top;\n",
       "    }\n",
       "\n",
       "    .dataframe thead th {\n",
       "        text-align: right;\n",
       "    }\n",
       "</style>\n",
       "<table border=\"1\" class=\"dataframe\">\n",
       "  <thead>\n",
       "    <tr style=\"text-align: right;\">\n",
       "      <th></th>\n",
       "      <th>category</th>\n",
       "      <th>relevant_category</th>\n",
       "      <th>correaltion</th>\n",
       "      <th>rank</th>\n",
       "    </tr>\n",
       "  </thead>\n",
       "  <tbody>\n",
       "    <tr>\n",
       "      <th>167</th>\n",
       "      <td>casual</td>\n",
       "      <td>count</td>\n",
       "      <td>0.716661</td>\n",
       "      <td>1</td>\n",
       "    </tr>\n",
       "    <tr>\n",
       "      <th>166</th>\n",
       "      <td>casual</td>\n",
       "      <td>registered</td>\n",
       "      <td>0.512966</td>\n",
       "      <td>2</td>\n",
       "    </tr>\n",
       "    <tr>\n",
       "      <th>155</th>\n",
       "      <td>casual</td>\n",
       "      <td>temp</td>\n",
       "      <td>0.468881</td>\n",
       "      <td>3</td>\n",
       "    </tr>\n",
       "    <tr>\n",
       "      <th>164</th>\n",
       "      <td>casual</td>\n",
       "      <td>hour</td>\n",
       "      <td>0.302234</td>\n",
       "      <td>4</td>\n",
       "    </tr>\n",
       "    <tr>\n",
       "      <th>161</th>\n",
       "      <td>casual</td>\n",
       "      <td>weekday</td>\n",
       "      <td>0.251154</td>\n",
       "      <td>5</td>\n",
       "    </tr>\n",
       "    <tr>\n",
       "      <th>158</th>\n",
       "      <td>casual</td>\n",
       "      <td>year</td>\n",
       "      <td>0.113232</td>\n",
       "      <td>6</td>\n",
       "    </tr>\n",
       "    <tr>\n",
       "      <th>159</th>\n",
       "      <td>casual</td>\n",
       "      <td>season</td>\n",
       "      <td>0.102565</td>\n",
       "      <td>7</td>\n",
       "    </tr>\n",
       "    <tr>\n",
       "      <th>157</th>\n",
       "      <td>casual</td>\n",
       "      <td>windspeed</td>\n",
       "      <td>0.098913</td>\n",
       "      <td>8</td>\n",
       "    </tr>\n",
       "    <tr>\n",
       "      <th>160</th>\n",
       "      <td>casual</td>\n",
       "      <td>month</td>\n",
       "      <td>0.095561</td>\n",
       "      <td>9</td>\n",
       "    </tr>\n",
       "    <tr>\n",
       "      <th>162</th>\n",
       "      <td>casual</td>\n",
       "      <td>holiday</td>\n",
       "      <td>0.053855</td>\n",
       "      <td>10</td>\n",
       "    </tr>\n",
       "    <tr>\n",
       "      <th>154</th>\n",
       "      <td>casual</td>\n",
       "      <td>weather</td>\n",
       "      <td>-0.129509</td>\n",
       "      <td>11</td>\n",
       "    </tr>\n",
       "    <tr>\n",
       "      <th>163</th>\n",
       "      <td>casual</td>\n",
       "      <td>workingday</td>\n",
       "      <td>-0.325901</td>\n",
       "      <td>12</td>\n",
       "    </tr>\n",
       "    <tr>\n",
       "      <th>156</th>\n",
       "      <td>casual</td>\n",
       "      <td>humidity</td>\n",
       "      <td>-0.335204</td>\n",
       "      <td>13</td>\n",
       "    </tr>\n",
       "  </tbody>\n",
       "</table>\n",
       "</div>"
      ],
      "text/plain": [
       "    category relevant_category  correaltion  rank\n",
       "167   casual             count     0.716661     1\n",
       "166   casual        registered     0.512966     2\n",
       "155   casual              temp     0.468881     3\n",
       "164   casual              hour     0.302234     4\n",
       "161   casual           weekday     0.251154     5\n",
       "158   casual              year     0.113232     6\n",
       "159   casual            season     0.102565     7\n",
       "157   casual         windspeed     0.098913     8\n",
       "160   casual             month     0.095561     9\n",
       "162   casual           holiday     0.053855    10\n",
       "154   casual           weather    -0.129509    11\n",
       "163   casual        workingday    -0.325901    12\n",
       "156   casual          humidity    -0.335204    13"
      ]
     },
     "execution_count": 33,
     "metadata": {},
     "output_type": "execute_result"
    }
   ],
   "source": [
    "corr_df[corr_df['category']=='casual'].sort_values('rank')"
   ]
  },
  {
   "cell_type": "code",
   "execution_count": 34,
   "id": "7f66cbc0-ad1a-43ec-8b3e-ae0a00934e7f",
   "metadata": {
    "tags": []
   },
   "outputs": [
    {
     "data": {
      "text/html": [
       "<div>\n",
       "<style scoped>\n",
       "    .dataframe tbody tr th:only-of-type {\n",
       "        vertical-align: middle;\n",
       "    }\n",
       "\n",
       "    .dataframe tbody tr th {\n",
       "        vertical-align: top;\n",
       "    }\n",
       "\n",
       "    .dataframe thead th {\n",
       "        text-align: right;\n",
       "    }\n",
       "</style>\n",
       "<table border=\"1\" class=\"dataframe\">\n",
       "  <thead>\n",
       "    <tr style=\"text-align: right;\">\n",
       "      <th></th>\n",
       "      <th>category</th>\n",
       "      <th>relevant_category</th>\n",
       "      <th>correaltion</th>\n",
       "      <th>rank</th>\n",
       "    </tr>\n",
       "  </thead>\n",
       "  <tbody>\n",
       "    <tr>\n",
       "      <th>181</th>\n",
       "      <td>registered</td>\n",
       "      <td>count</td>\n",
       "      <td>0.966296</td>\n",
       "      <td>1</td>\n",
       "    </tr>\n",
       "    <tr>\n",
       "      <th>179</th>\n",
       "      <td>registered</td>\n",
       "      <td>casual</td>\n",
       "      <td>0.512966</td>\n",
       "      <td>2</td>\n",
       "    </tr>\n",
       "    <tr>\n",
       "      <th>178</th>\n",
       "      <td>registered</td>\n",
       "      <td>hour</td>\n",
       "      <td>0.412975</td>\n",
       "      <td>3</td>\n",
       "    </tr>\n",
       "    <tr>\n",
       "      <th>169</th>\n",
       "      <td>registered</td>\n",
       "      <td>temp</td>\n",
       "      <td>0.304261</td>\n",
       "      <td>4</td>\n",
       "    </tr>\n",
       "    <tr>\n",
       "      <th>172</th>\n",
       "      <td>registered</td>\n",
       "      <td>year</td>\n",
       "      <td>0.211531</td>\n",
       "      <td>5</td>\n",
       "    </tr>\n",
       "    <tr>\n",
       "      <th>174</th>\n",
       "      <td>registered</td>\n",
       "      <td>month</td>\n",
       "      <td>0.170815</td>\n",
       "      <td>6</td>\n",
       "    </tr>\n",
       "    <tr>\n",
       "      <th>173</th>\n",
       "      <td>registered</td>\n",
       "      <td>season</td>\n",
       "      <td>0.165274</td>\n",
       "      <td>7</td>\n",
       "    </tr>\n",
       "    <tr>\n",
       "      <th>171</th>\n",
       "      <td>registered</td>\n",
       "      <td>windspeed</td>\n",
       "      <td>0.103478</td>\n",
       "      <td>8</td>\n",
       "    </tr>\n",
       "    <tr>\n",
       "      <th>177</th>\n",
       "      <td>registered</td>\n",
       "      <td>workingday</td>\n",
       "      <td>0.090976</td>\n",
       "      <td>9</td>\n",
       "    </tr>\n",
       "    <tr>\n",
       "      <th>176</th>\n",
       "      <td>registered</td>\n",
       "      <td>holiday</td>\n",
       "      <td>-0.010304</td>\n",
       "      <td>10</td>\n",
       "    </tr>\n",
       "    <tr>\n",
       "      <th>175</th>\n",
       "      <td>registered</td>\n",
       "      <td>weekday</td>\n",
       "      <td>-0.060840</td>\n",
       "      <td>11</td>\n",
       "    </tr>\n",
       "    <tr>\n",
       "      <th>168</th>\n",
       "      <td>registered</td>\n",
       "      <td>weather</td>\n",
       "      <td>-0.109637</td>\n",
       "      <td>12</td>\n",
       "    </tr>\n",
       "    <tr>\n",
       "      <th>170</th>\n",
       "      <td>registered</td>\n",
       "      <td>humidity</td>\n",
       "      <td>-0.273894</td>\n",
       "      <td>13</td>\n",
       "    </tr>\n",
       "  </tbody>\n",
       "</table>\n",
       "</div>"
      ],
      "text/plain": [
       "       category relevant_category  correaltion  rank\n",
       "181  registered             count     0.966296     1\n",
       "179  registered            casual     0.512966     2\n",
       "178  registered              hour     0.412975     3\n",
       "169  registered              temp     0.304261     4\n",
       "172  registered              year     0.211531     5\n",
       "174  registered             month     0.170815     6\n",
       "173  registered            season     0.165274     7\n",
       "171  registered         windspeed     0.103478     8\n",
       "177  registered        workingday     0.090976     9\n",
       "176  registered           holiday    -0.010304    10\n",
       "175  registered           weekday    -0.060840    11\n",
       "168  registered           weather    -0.109637    12\n",
       "170  registered          humidity    -0.273894    13"
      ]
     },
     "execution_count": 34,
     "metadata": {},
     "output_type": "execute_result"
    }
   ],
   "source": [
    "corr_df[corr_df['category']=='registered'].sort_values('rank')"
   ]
  },
  {
   "cell_type": "code",
   "execution_count": null,
   "id": "7b6fd9d2-c9ce-4423-a4bf-f8a0f3fe31ed",
   "metadata": {},
   "outputs": [],
   "source": []
  },
  {
   "cell_type": "code",
   "execution_count": null,
   "id": "8fad502c-d3e0-4491-bf49-a8e1b2b4d9c8",
   "metadata": {},
   "outputs": [],
   "source": []
  },
  {
   "cell_type": "markdown",
   "id": "4127efc9-9954-4b40-a888-60e29275c359",
   "metadata": {},
   "source": [
    "### Min-Max Scaling : 수치형 자료 "
   ]
  },
  {
   "cell_type": "code",
   "execution_count": 35,
   "id": "2b40903d-f479-4598-88ed-e1cd10483f4d",
   "metadata": {
    "tags": []
   },
   "outputs": [],
   "source": [
    "score_cols = ['temp','humidity','windspeed']"
   ]
  },
  {
   "cell_type": "code",
   "execution_count": 36,
   "id": "e1ef05da-1b60-4df0-a972-faedad64eed9",
   "metadata": {
    "tags": []
   },
   "outputs": [
    {
     "data": {
      "text/html": [
       "<div>\n",
       "<style scoped>\n",
       "    .dataframe tbody tr th:only-of-type {\n",
       "        vertical-align: middle;\n",
       "    }\n",
       "\n",
       "    .dataframe tbody tr th {\n",
       "        vertical-align: top;\n",
       "    }\n",
       "\n",
       "    .dataframe thead th {\n",
       "        text-align: right;\n",
       "    }\n",
       "</style>\n",
       "<table border=\"1\" class=\"dataframe\">\n",
       "  <thead>\n",
       "    <tr style=\"text-align: right;\">\n",
       "      <th></th>\n",
       "      <th>temp</th>\n",
       "      <th>humidity</th>\n",
       "      <th>windspeed</th>\n",
       "    </tr>\n",
       "  </thead>\n",
       "  <tbody>\n",
       "    <tr>\n",
       "      <th>0</th>\n",
       "      <td>9.84</td>\n",
       "      <td>81</td>\n",
       "      <td>6.0032</td>\n",
       "    </tr>\n",
       "    <tr>\n",
       "      <th>1</th>\n",
       "      <td>9.02</td>\n",
       "      <td>80</td>\n",
       "      <td>6.0032</td>\n",
       "    </tr>\n",
       "    <tr>\n",
       "      <th>2</th>\n",
       "      <td>9.02</td>\n",
       "      <td>80</td>\n",
       "      <td>6.0032</td>\n",
       "    </tr>\n",
       "    <tr>\n",
       "      <th>3</th>\n",
       "      <td>9.84</td>\n",
       "      <td>75</td>\n",
       "      <td>6.0032</td>\n",
       "    </tr>\n",
       "    <tr>\n",
       "      <th>4</th>\n",
       "      <td>9.84</td>\n",
       "      <td>75</td>\n",
       "      <td>6.0032</td>\n",
       "    </tr>\n",
       "    <tr>\n",
       "      <th>...</th>\n",
       "      <td>...</td>\n",
       "      <td>...</td>\n",
       "      <td>...</td>\n",
       "    </tr>\n",
       "    <tr>\n",
       "      <th>10881</th>\n",
       "      <td>15.58</td>\n",
       "      <td>50</td>\n",
       "      <td>26.0027</td>\n",
       "    </tr>\n",
       "    <tr>\n",
       "      <th>10882</th>\n",
       "      <td>14.76</td>\n",
       "      <td>57</td>\n",
       "      <td>15.0013</td>\n",
       "    </tr>\n",
       "    <tr>\n",
       "      <th>10883</th>\n",
       "      <td>13.94</td>\n",
       "      <td>61</td>\n",
       "      <td>15.0013</td>\n",
       "    </tr>\n",
       "    <tr>\n",
       "      <th>10884</th>\n",
       "      <td>13.94</td>\n",
       "      <td>61</td>\n",
       "      <td>6.0032</td>\n",
       "    </tr>\n",
       "    <tr>\n",
       "      <th>10885</th>\n",
       "      <td>13.12</td>\n",
       "      <td>66</td>\n",
       "      <td>8.9981</td>\n",
       "    </tr>\n",
       "  </tbody>\n",
       "</table>\n",
       "<p>10583 rows × 3 columns</p>\n",
       "</div>"
      ],
      "text/plain": [
       "        temp  humidity  windspeed\n",
       "0       9.84        81     6.0032\n",
       "1       9.02        80     6.0032\n",
       "2       9.02        80     6.0032\n",
       "3       9.84        75     6.0032\n",
       "4       9.84        75     6.0032\n",
       "...      ...       ...        ...\n",
       "10881  15.58        50    26.0027\n",
       "10882  14.76        57    15.0013\n",
       "10883  13.94        61    15.0013\n",
       "10884  13.94        61     6.0032\n",
       "10885  13.12        66     8.9981\n",
       "\n",
       "[10583 rows x 3 columns]"
      ]
     },
     "execution_count": 36,
     "metadata": {},
     "output_type": "execute_result"
    }
   ],
   "source": [
    "df[score_cols]"
   ]
  },
  {
   "cell_type": "code",
   "execution_count": 37,
   "id": "3c2aace4-494c-46fc-b138-3d60ffa06420",
   "metadata": {
    "tags": []
   },
   "outputs": [],
   "source": [
    "def min_max_scaling(data):\n",
    "    return (data - data.min()) / (data.max() - data.min())"
   ]
  },
  {
   "cell_type": "code",
   "execution_count": 38,
   "id": "63207943-d15b-4600-a576-046d4b22c4b1",
   "metadata": {
    "tags": []
   },
   "outputs": [],
   "source": [
    "df[score_cols] = df[score_cols].apply(min_max_scaling)"
   ]
  },
  {
   "cell_type": "code",
   "execution_count": 39,
   "id": "d1204814-9a24-4f4d-b8a6-677c58a3f127",
   "metadata": {
    "tags": []
   },
   "outputs": [
    {
     "data": {
      "text/html": [
       "<div>\n",
       "<style scoped>\n",
       "    .dataframe tbody tr th:only-of-type {\n",
       "        vertical-align: middle;\n",
       "    }\n",
       "\n",
       "    .dataframe tbody tr th {\n",
       "        vertical-align: top;\n",
       "    }\n",
       "\n",
       "    .dataframe thead th {\n",
       "        text-align: right;\n",
       "    }\n",
       "</style>\n",
       "<table border=\"1\" class=\"dataframe\">\n",
       "  <thead>\n",
       "    <tr style=\"text-align: right;\">\n",
       "      <th></th>\n",
       "      <th>weather</th>\n",
       "      <th>temp</th>\n",
       "      <th>humidity</th>\n",
       "      <th>windspeed</th>\n",
       "      <th>year</th>\n",
       "      <th>season</th>\n",
       "      <th>month</th>\n",
       "      <th>weekday</th>\n",
       "      <th>holiday</th>\n",
       "      <th>workingday</th>\n",
       "      <th>hour</th>\n",
       "      <th>casual</th>\n",
       "      <th>registered</th>\n",
       "      <th>count</th>\n",
       "    </tr>\n",
       "  </thead>\n",
       "  <tbody>\n",
       "    <tr>\n",
       "      <th>0</th>\n",
       "      <td>1</td>\n",
       "      <td>0.224490</td>\n",
       "      <td>0.81</td>\n",
       "      <td>0.000000</td>\n",
       "      <td>2011</td>\n",
       "      <td>1</td>\n",
       "      <td>1</td>\n",
       "      <td>5</td>\n",
       "      <td>0</td>\n",
       "      <td>0</td>\n",
       "      <td>0</td>\n",
       "      <td>3</td>\n",
       "      <td>13</td>\n",
       "      <td>16</td>\n",
       "    </tr>\n",
       "    <tr>\n",
       "      <th>1</th>\n",
       "      <td>1</td>\n",
       "      <td>0.204082</td>\n",
       "      <td>0.80</td>\n",
       "      <td>0.000000</td>\n",
       "      <td>2011</td>\n",
       "      <td>1</td>\n",
       "      <td>1</td>\n",
       "      <td>5</td>\n",
       "      <td>0</td>\n",
       "      <td>0</td>\n",
       "      <td>1</td>\n",
       "      <td>8</td>\n",
       "      <td>32</td>\n",
       "      <td>40</td>\n",
       "    </tr>\n",
       "    <tr>\n",
       "      <th>2</th>\n",
       "      <td>1</td>\n",
       "      <td>0.204082</td>\n",
       "      <td>0.80</td>\n",
       "      <td>0.000000</td>\n",
       "      <td>2011</td>\n",
       "      <td>1</td>\n",
       "      <td>1</td>\n",
       "      <td>5</td>\n",
       "      <td>0</td>\n",
       "      <td>0</td>\n",
       "      <td>2</td>\n",
       "      <td>5</td>\n",
       "      <td>27</td>\n",
       "      <td>32</td>\n",
       "    </tr>\n",
       "    <tr>\n",
       "      <th>3</th>\n",
       "      <td>1</td>\n",
       "      <td>0.224490</td>\n",
       "      <td>0.75</td>\n",
       "      <td>0.000000</td>\n",
       "      <td>2011</td>\n",
       "      <td>1</td>\n",
       "      <td>1</td>\n",
       "      <td>5</td>\n",
       "      <td>0</td>\n",
       "      <td>0</td>\n",
       "      <td>3</td>\n",
       "      <td>3</td>\n",
       "      <td>10</td>\n",
       "      <td>13</td>\n",
       "    </tr>\n",
       "    <tr>\n",
       "      <th>4</th>\n",
       "      <td>1</td>\n",
       "      <td>0.224490</td>\n",
       "      <td>0.75</td>\n",
       "      <td>0.000000</td>\n",
       "      <td>2011</td>\n",
       "      <td>1</td>\n",
       "      <td>1</td>\n",
       "      <td>5</td>\n",
       "      <td>0</td>\n",
       "      <td>0</td>\n",
       "      <td>4</td>\n",
       "      <td>0</td>\n",
       "      <td>1</td>\n",
       "      <td>1</td>\n",
       "    </tr>\n",
       "    <tr>\n",
       "      <th>...</th>\n",
       "      <td>...</td>\n",
       "      <td>...</td>\n",
       "      <td>...</td>\n",
       "      <td>...</td>\n",
       "      <td>...</td>\n",
       "      <td>...</td>\n",
       "      <td>...</td>\n",
       "      <td>...</td>\n",
       "      <td>...</td>\n",
       "      <td>...</td>\n",
       "      <td>...</td>\n",
       "      <td>...</td>\n",
       "      <td>...</td>\n",
       "      <td>...</td>\n",
       "    </tr>\n",
       "    <tr>\n",
       "      <th>10881</th>\n",
       "      <td>1</td>\n",
       "      <td>0.367347</td>\n",
       "      <td>0.50</td>\n",
       "      <td>0.392196</td>\n",
       "      <td>2012</td>\n",
       "      <td>4</td>\n",
       "      <td>12</td>\n",
       "      <td>2</td>\n",
       "      <td>0</td>\n",
       "      <td>1</td>\n",
       "      <td>19</td>\n",
       "      <td>7</td>\n",
       "      <td>329</td>\n",
       "      <td>336</td>\n",
       "    </tr>\n",
       "    <tr>\n",
       "      <th>10882</th>\n",
       "      <td>1</td>\n",
       "      <td>0.346939</td>\n",
       "      <td>0.57</td>\n",
       "      <td>0.176455</td>\n",
       "      <td>2012</td>\n",
       "      <td>4</td>\n",
       "      <td>12</td>\n",
       "      <td>2</td>\n",
       "      <td>0</td>\n",
       "      <td>1</td>\n",
       "      <td>20</td>\n",
       "      <td>10</td>\n",
       "      <td>231</td>\n",
       "      <td>241</td>\n",
       "    </tr>\n",
       "    <tr>\n",
       "      <th>10883</th>\n",
       "      <td>1</td>\n",
       "      <td>0.326531</td>\n",
       "      <td>0.61</td>\n",
       "      <td>0.176455</td>\n",
       "      <td>2012</td>\n",
       "      <td>4</td>\n",
       "      <td>12</td>\n",
       "      <td>2</td>\n",
       "      <td>0</td>\n",
       "      <td>1</td>\n",
       "      <td>21</td>\n",
       "      <td>4</td>\n",
       "      <td>164</td>\n",
       "      <td>168</td>\n",
       "    </tr>\n",
       "    <tr>\n",
       "      <th>10884</th>\n",
       "      <td>1</td>\n",
       "      <td>0.326531</td>\n",
       "      <td>0.61</td>\n",
       "      <td>0.000000</td>\n",
       "      <td>2012</td>\n",
       "      <td>4</td>\n",
       "      <td>12</td>\n",
       "      <td>2</td>\n",
       "      <td>0</td>\n",
       "      <td>1</td>\n",
       "      <td>22</td>\n",
       "      <td>12</td>\n",
       "      <td>117</td>\n",
       "      <td>129</td>\n",
       "    </tr>\n",
       "    <tr>\n",
       "      <th>10885</th>\n",
       "      <td>1</td>\n",
       "      <td>0.306122</td>\n",
       "      <td>0.66</td>\n",
       "      <td>0.058731</td>\n",
       "      <td>2012</td>\n",
       "      <td>4</td>\n",
       "      <td>12</td>\n",
       "      <td>2</td>\n",
       "      <td>0</td>\n",
       "      <td>1</td>\n",
       "      <td>23</td>\n",
       "      <td>4</td>\n",
       "      <td>84</td>\n",
       "      <td>88</td>\n",
       "    </tr>\n",
       "  </tbody>\n",
       "</table>\n",
       "<p>10583 rows × 14 columns</p>\n",
       "</div>"
      ],
      "text/plain": [
       "       weather      temp  humidity  windspeed  year  season  month  weekday   \n",
       "0            1  0.224490      0.81   0.000000  2011       1      1        5  \\\n",
       "1            1  0.204082      0.80   0.000000  2011       1      1        5   \n",
       "2            1  0.204082      0.80   0.000000  2011       1      1        5   \n",
       "3            1  0.224490      0.75   0.000000  2011       1      1        5   \n",
       "4            1  0.224490      0.75   0.000000  2011       1      1        5   \n",
       "...        ...       ...       ...        ...   ...     ...    ...      ...   \n",
       "10881        1  0.367347      0.50   0.392196  2012       4     12        2   \n",
       "10882        1  0.346939      0.57   0.176455  2012       4     12        2   \n",
       "10883        1  0.326531      0.61   0.176455  2012       4     12        2   \n",
       "10884        1  0.326531      0.61   0.000000  2012       4     12        2   \n",
       "10885        1  0.306122      0.66   0.058731  2012       4     12        2   \n",
       "\n",
       "       holiday  workingday  hour  casual  registered  count  \n",
       "0            0           0     0       3          13     16  \n",
       "1            0           0     1       8          32     40  \n",
       "2            0           0     2       5          27     32  \n",
       "3            0           0     3       3          10     13  \n",
       "4            0           0     4       0           1      1  \n",
       "...        ...         ...   ...     ...         ...    ...  \n",
       "10881        0           1    19       7         329    336  \n",
       "10882        0           1    20      10         231    241  \n",
       "10883        0           1    21       4         164    168  \n",
       "10884        0           1    22      12         117    129  \n",
       "10885        0           1    23       4          84     88  \n",
       "\n",
       "[10583 rows x 14 columns]"
      ]
     },
     "execution_count": 39,
     "metadata": {},
     "output_type": "execute_result"
    }
   ],
   "source": [
    "df[clean_col]"
   ]
  },
  {
   "cell_type": "markdown",
   "id": "b4983d18-f237-4067-8370-03bbe882205e",
   "metadata": {},
   "source": [
    "### One-Hot Encoding : 범주형 자료 "
   ]
  },
  {
   "cell_type": "code",
   "execution_count": 40,
   "id": "ffae568e-5e10-4dff-95cc-9f7f2d5ce241",
   "metadata": {
    "tags": []
   },
   "outputs": [],
   "source": [
    "category_col = ['weather', 'year', 'month', 'weekday', 'holiday', 'workingday', 'hour']"
   ]
  },
  {
   "cell_type": "code",
   "execution_count": 41,
   "id": "8032a404-7256-4029-96ac-cdddf5ccce8c",
   "metadata": {
    "tags": []
   },
   "outputs": [],
   "source": [
    "for col in category_col:\n",
    "    df[col] = df[col].astype('category')"
   ]
  },
  {
   "cell_type": "code",
   "execution_count": 42,
   "id": "451ccbc3-1e28-4877-92ed-46e538aac107",
   "metadata": {
    "tags": []
   },
   "outputs": [
    {
     "name": "stdout",
     "output_type": "stream",
     "text": [
      "<class 'pandas.core.frame.DataFrame'>\n",
      "Index: 10583 entries, 0 to 10885\n",
      "Data columns (total 19 columns):\n",
      " #   Column      Non-Null Count  Dtype         \n",
      "---  ------      --------------  -----         \n",
      " 0   datetime    10583 non-null  datetime64[ns]\n",
      " 1   season      10583 non-null  int64         \n",
      " 2   holiday     10583 non-null  category      \n",
      " 3   workingday  10583 non-null  category      \n",
      " 4   weather     10583 non-null  category      \n",
      " 5   temp        10583 non-null  float64       \n",
      " 6   atemp       10583 non-null  float64       \n",
      " 7   humidity    10583 non-null  float64       \n",
      " 8   windspeed   10583 non-null  float64       \n",
      " 9   casual      10583 non-null  int64         \n",
      " 10  registered  10583 non-null  int64         \n",
      " 11  count       10583 non-null  int64         \n",
      " 12  year        10583 non-null  category      \n",
      " 13  month       10583 non-null  category      \n",
      " 14  day         10583 non-null  int32         \n",
      " 15  weekday     10583 non-null  category      \n",
      " 16  hour        10583 non-null  category      \n",
      " 17  minute      10583 non-null  int32         \n",
      " 18  second      10583 non-null  int32         \n",
      "dtypes: category(7), datetime64[ns](1), float64(4), int32(3), int64(4)\n",
      "memory usage: 1.0 MB\n"
     ]
    }
   ],
   "source": [
    "df.info()"
   ]
  },
  {
   "cell_type": "code",
   "execution_count": 43,
   "id": "1debdba5-e79d-4ffc-8294-15687815846a",
   "metadata": {
    "tags": []
   },
   "outputs": [],
   "source": [
    "weather_df = pd.get_dummies(df['weather'],prefix='weather')"
   ]
  },
  {
   "cell_type": "code",
   "execution_count": 44,
   "id": "42eaffa1-e0e1-4245-92e7-63f485660c2c",
   "metadata": {
    "tags": []
   },
   "outputs": [],
   "source": [
    "df=pd.concat([df,weather_df],axis=1)"
   ]
  },
  {
   "cell_type": "code",
   "execution_count": 45,
   "id": "7c2928bf-8af1-41e6-b9b9-92568d95c275",
   "metadata": {
    "tags": []
   },
   "outputs": [],
   "source": [
    "season_df = pd.get_dummies(df['season'],prefix='season')"
   ]
  },
  {
   "cell_type": "code",
   "execution_count": 46,
   "id": "b7664e29-b5cf-4df3-92c0-548ff569e908",
   "metadata": {
    "tags": []
   },
   "outputs": [],
   "source": [
    "df=pd.concat([df,season_df],axis=1)"
   ]
  },
  {
   "cell_type": "code",
   "execution_count": null,
   "id": "b103e916-c98c-4c1c-b16a-9224ada603af",
   "metadata": {
    "tags": []
   },
   "outputs": [],
   "source": []
  },
  {
   "cell_type": "code",
   "execution_count": 47,
   "id": "7574e7e5-26f5-4ead-b2d2-e00726546d95",
   "metadata": {
    "tags": []
   },
   "outputs": [],
   "source": [
    "df['year'] = df.loc[:,'year'] == 2011"
   ]
  },
  {
   "cell_type": "markdown",
   "id": "d3ab41e9-3760-4a41-b61e-56c58f7eea29",
   "metadata": {},
   "source": [
    "### Feature Selection "
   ]
  },
  {
   "cell_type": "code",
   "execution_count": 48,
   "id": "7743553d-9809-43fe-a022-bb821b03e067",
   "metadata": {
    "tags": []
   },
   "outputs": [
    {
     "data": {
      "text/plain": [
       "Index(['datetime', 'season', 'holiday', 'workingday', 'weather', 'temp',\n",
       "       'atemp', 'humidity', 'windspeed', 'casual', 'registered', 'count',\n",
       "       'year', 'month', 'day', 'weekday', 'hour', 'minute', 'second',\n",
       "       'weather_1', 'weather_2', 'weather_3', 'weather_4', 'season_1',\n",
       "       'season_2', 'season_3', 'season_4'],\n",
       "      dtype='object')"
      ]
     },
     "execution_count": 48,
     "metadata": {},
     "output_type": "execute_result"
    }
   ],
   "source": [
    "df.columns"
   ]
  },
  {
   "cell_type": "markdown",
   "id": "7c2824d4-42d0-4a3f-a605-43391b7dae3f",
   "metadata": {},
   "source": [
    "#### 1차 Feature Selection : count, registered, casual 모두에게 영향을 미치지 않는 col : day, second 등"
   ]
  },
  {
   "cell_type": "code",
   "execution_count": 49,
   "id": "06fa55e3-9d8b-4768-91c7-39a78bb2fd93",
   "metadata": {
    "tags": []
   },
   "outputs": [],
   "source": [
    "clean_col = [ 'holiday', 'workingday', 'temp',\n",
    "       'humidity', 'windspeed', 'count',\n",
    "       'year', 'month', 'weekday', 'hour',\n",
    "       'weather_1', 'weather_2', 'weather_3', 'weather_4', 'season_1',\n",
    "       'season_2', 'season_3', 'season_4']"
   ]
  },
  {
   "cell_type": "code",
   "execution_count": 50,
   "id": "3f8ebac1-41b3-4854-8424-761671cc7a3b",
   "metadata": {
    "tags": []
   },
   "outputs": [
    {
     "data": {
      "text/html": [
       "<div>\n",
       "<style scoped>\n",
       "    .dataframe tbody tr th:only-of-type {\n",
       "        vertical-align: middle;\n",
       "    }\n",
       "\n",
       "    .dataframe tbody tr th {\n",
       "        vertical-align: top;\n",
       "    }\n",
       "\n",
       "    .dataframe thead th {\n",
       "        text-align: right;\n",
       "    }\n",
       "</style>\n",
       "<table border=\"1\" class=\"dataframe\">\n",
       "  <thead>\n",
       "    <tr style=\"text-align: right;\">\n",
       "      <th></th>\n",
       "      <th>holiday</th>\n",
       "      <th>workingday</th>\n",
       "      <th>temp</th>\n",
       "      <th>humidity</th>\n",
       "      <th>windspeed</th>\n",
       "      <th>count</th>\n",
       "      <th>year</th>\n",
       "      <th>month</th>\n",
       "      <th>weekday</th>\n",
       "      <th>hour</th>\n",
       "      <th>weather_1</th>\n",
       "      <th>weather_2</th>\n",
       "      <th>weather_3</th>\n",
       "      <th>weather_4</th>\n",
       "      <th>season_1</th>\n",
       "      <th>season_2</th>\n",
       "      <th>season_3</th>\n",
       "      <th>season_4</th>\n",
       "    </tr>\n",
       "  </thead>\n",
       "  <tbody>\n",
       "    <tr>\n",
       "      <th>0</th>\n",
       "      <td>0</td>\n",
       "      <td>0</td>\n",
       "      <td>0.224490</td>\n",
       "      <td>0.81</td>\n",
       "      <td>0.000000</td>\n",
       "      <td>16</td>\n",
       "      <td>True</td>\n",
       "      <td>1</td>\n",
       "      <td>5</td>\n",
       "      <td>0</td>\n",
       "      <td>True</td>\n",
       "      <td>False</td>\n",
       "      <td>False</td>\n",
       "      <td>False</td>\n",
       "      <td>True</td>\n",
       "      <td>False</td>\n",
       "      <td>False</td>\n",
       "      <td>False</td>\n",
       "    </tr>\n",
       "    <tr>\n",
       "      <th>1</th>\n",
       "      <td>0</td>\n",
       "      <td>0</td>\n",
       "      <td>0.204082</td>\n",
       "      <td>0.80</td>\n",
       "      <td>0.000000</td>\n",
       "      <td>40</td>\n",
       "      <td>True</td>\n",
       "      <td>1</td>\n",
       "      <td>5</td>\n",
       "      <td>1</td>\n",
       "      <td>True</td>\n",
       "      <td>False</td>\n",
       "      <td>False</td>\n",
       "      <td>False</td>\n",
       "      <td>True</td>\n",
       "      <td>False</td>\n",
       "      <td>False</td>\n",
       "      <td>False</td>\n",
       "    </tr>\n",
       "    <tr>\n",
       "      <th>2</th>\n",
       "      <td>0</td>\n",
       "      <td>0</td>\n",
       "      <td>0.204082</td>\n",
       "      <td>0.80</td>\n",
       "      <td>0.000000</td>\n",
       "      <td>32</td>\n",
       "      <td>True</td>\n",
       "      <td>1</td>\n",
       "      <td>5</td>\n",
       "      <td>2</td>\n",
       "      <td>True</td>\n",
       "      <td>False</td>\n",
       "      <td>False</td>\n",
       "      <td>False</td>\n",
       "      <td>True</td>\n",
       "      <td>False</td>\n",
       "      <td>False</td>\n",
       "      <td>False</td>\n",
       "    </tr>\n",
       "    <tr>\n",
       "      <th>3</th>\n",
       "      <td>0</td>\n",
       "      <td>0</td>\n",
       "      <td>0.224490</td>\n",
       "      <td>0.75</td>\n",
       "      <td>0.000000</td>\n",
       "      <td>13</td>\n",
       "      <td>True</td>\n",
       "      <td>1</td>\n",
       "      <td>5</td>\n",
       "      <td>3</td>\n",
       "      <td>True</td>\n",
       "      <td>False</td>\n",
       "      <td>False</td>\n",
       "      <td>False</td>\n",
       "      <td>True</td>\n",
       "      <td>False</td>\n",
       "      <td>False</td>\n",
       "      <td>False</td>\n",
       "    </tr>\n",
       "    <tr>\n",
       "      <th>4</th>\n",
       "      <td>0</td>\n",
       "      <td>0</td>\n",
       "      <td>0.224490</td>\n",
       "      <td>0.75</td>\n",
       "      <td>0.000000</td>\n",
       "      <td>1</td>\n",
       "      <td>True</td>\n",
       "      <td>1</td>\n",
       "      <td>5</td>\n",
       "      <td>4</td>\n",
       "      <td>True</td>\n",
       "      <td>False</td>\n",
       "      <td>False</td>\n",
       "      <td>False</td>\n",
       "      <td>True</td>\n",
       "      <td>False</td>\n",
       "      <td>False</td>\n",
       "      <td>False</td>\n",
       "    </tr>\n",
       "    <tr>\n",
       "      <th>...</th>\n",
       "      <td>...</td>\n",
       "      <td>...</td>\n",
       "      <td>...</td>\n",
       "      <td>...</td>\n",
       "      <td>...</td>\n",
       "      <td>...</td>\n",
       "      <td>...</td>\n",
       "      <td>...</td>\n",
       "      <td>...</td>\n",
       "      <td>...</td>\n",
       "      <td>...</td>\n",
       "      <td>...</td>\n",
       "      <td>...</td>\n",
       "      <td>...</td>\n",
       "      <td>...</td>\n",
       "      <td>...</td>\n",
       "      <td>...</td>\n",
       "      <td>...</td>\n",
       "    </tr>\n",
       "    <tr>\n",
       "      <th>10881</th>\n",
       "      <td>0</td>\n",
       "      <td>1</td>\n",
       "      <td>0.367347</td>\n",
       "      <td>0.50</td>\n",
       "      <td>0.392196</td>\n",
       "      <td>336</td>\n",
       "      <td>False</td>\n",
       "      <td>12</td>\n",
       "      <td>2</td>\n",
       "      <td>19</td>\n",
       "      <td>True</td>\n",
       "      <td>False</td>\n",
       "      <td>False</td>\n",
       "      <td>False</td>\n",
       "      <td>False</td>\n",
       "      <td>False</td>\n",
       "      <td>False</td>\n",
       "      <td>True</td>\n",
       "    </tr>\n",
       "    <tr>\n",
       "      <th>10882</th>\n",
       "      <td>0</td>\n",
       "      <td>1</td>\n",
       "      <td>0.346939</td>\n",
       "      <td>0.57</td>\n",
       "      <td>0.176455</td>\n",
       "      <td>241</td>\n",
       "      <td>False</td>\n",
       "      <td>12</td>\n",
       "      <td>2</td>\n",
       "      <td>20</td>\n",
       "      <td>True</td>\n",
       "      <td>False</td>\n",
       "      <td>False</td>\n",
       "      <td>False</td>\n",
       "      <td>False</td>\n",
       "      <td>False</td>\n",
       "      <td>False</td>\n",
       "      <td>True</td>\n",
       "    </tr>\n",
       "    <tr>\n",
       "      <th>10883</th>\n",
       "      <td>0</td>\n",
       "      <td>1</td>\n",
       "      <td>0.326531</td>\n",
       "      <td>0.61</td>\n",
       "      <td>0.176455</td>\n",
       "      <td>168</td>\n",
       "      <td>False</td>\n",
       "      <td>12</td>\n",
       "      <td>2</td>\n",
       "      <td>21</td>\n",
       "      <td>True</td>\n",
       "      <td>False</td>\n",
       "      <td>False</td>\n",
       "      <td>False</td>\n",
       "      <td>False</td>\n",
       "      <td>False</td>\n",
       "      <td>False</td>\n",
       "      <td>True</td>\n",
       "    </tr>\n",
       "    <tr>\n",
       "      <th>10884</th>\n",
       "      <td>0</td>\n",
       "      <td>1</td>\n",
       "      <td>0.326531</td>\n",
       "      <td>0.61</td>\n",
       "      <td>0.000000</td>\n",
       "      <td>129</td>\n",
       "      <td>False</td>\n",
       "      <td>12</td>\n",
       "      <td>2</td>\n",
       "      <td>22</td>\n",
       "      <td>True</td>\n",
       "      <td>False</td>\n",
       "      <td>False</td>\n",
       "      <td>False</td>\n",
       "      <td>False</td>\n",
       "      <td>False</td>\n",
       "      <td>False</td>\n",
       "      <td>True</td>\n",
       "    </tr>\n",
       "    <tr>\n",
       "      <th>10885</th>\n",
       "      <td>0</td>\n",
       "      <td>1</td>\n",
       "      <td>0.306122</td>\n",
       "      <td>0.66</td>\n",
       "      <td>0.058731</td>\n",
       "      <td>88</td>\n",
       "      <td>False</td>\n",
       "      <td>12</td>\n",
       "      <td>2</td>\n",
       "      <td>23</td>\n",
       "      <td>True</td>\n",
       "      <td>False</td>\n",
       "      <td>False</td>\n",
       "      <td>False</td>\n",
       "      <td>False</td>\n",
       "      <td>False</td>\n",
       "      <td>False</td>\n",
       "      <td>True</td>\n",
       "    </tr>\n",
       "  </tbody>\n",
       "</table>\n",
       "<p>10583 rows × 18 columns</p>\n",
       "</div>"
      ],
      "text/plain": [
       "      holiday workingday      temp  humidity  windspeed  count   year month   \n",
       "0           0          0  0.224490      0.81   0.000000     16   True     1  \\\n",
       "1           0          0  0.204082      0.80   0.000000     40   True     1   \n",
       "2           0          0  0.204082      0.80   0.000000     32   True     1   \n",
       "3           0          0  0.224490      0.75   0.000000     13   True     1   \n",
       "4           0          0  0.224490      0.75   0.000000      1   True     1   \n",
       "...       ...        ...       ...       ...        ...    ...    ...   ...   \n",
       "10881       0          1  0.367347      0.50   0.392196    336  False    12   \n",
       "10882       0          1  0.346939      0.57   0.176455    241  False    12   \n",
       "10883       0          1  0.326531      0.61   0.176455    168  False    12   \n",
       "10884       0          1  0.326531      0.61   0.000000    129  False    12   \n",
       "10885       0          1  0.306122      0.66   0.058731     88  False    12   \n",
       "\n",
       "      weekday hour  weather_1  weather_2  weather_3  weather_4  season_1   \n",
       "0           5    0       True      False      False      False      True  \\\n",
       "1           5    1       True      False      False      False      True   \n",
       "2           5    2       True      False      False      False      True   \n",
       "3           5    3       True      False      False      False      True   \n",
       "4           5    4       True      False      False      False      True   \n",
       "...       ...  ...        ...        ...        ...        ...       ...   \n",
       "10881       2   19       True      False      False      False     False   \n",
       "10882       2   20       True      False      False      False     False   \n",
       "10883       2   21       True      False      False      False     False   \n",
       "10884       2   22       True      False      False      False     False   \n",
       "10885       2   23       True      False      False      False     False   \n",
       "\n",
       "       season_2  season_3  season_4  \n",
       "0         False     False     False  \n",
       "1         False     False     False  \n",
       "2         False     False     False  \n",
       "3         False     False     False  \n",
       "4         False     False     False  \n",
       "...         ...       ...       ...  \n",
       "10881     False     False      True  \n",
       "10882     False     False      True  \n",
       "10883     False     False      True  \n",
       "10884     False     False      True  \n",
       "10885     False     False      True  \n",
       "\n",
       "[10583 rows x 18 columns]"
      ]
     },
     "execution_count": 50,
     "metadata": {},
     "output_type": "execute_result"
    }
   ],
   "source": [
    "df[clean_col]"
   ]
  },
  {
   "cell_type": "markdown",
   "id": "fbb32a7a-0f64-4ba9-9657-9e71e02ea582",
   "metadata": {
    "tags": []
   },
   "source": [
    "## (5) LinearRegression 모델 학습 : Count Predict -> Casual + Registered Predic Model 로 전환"
   ]
  },
  {
   "cell_type": "markdown",
   "id": "3a9dcf41-eba9-43aa-81c0-9c87697aabdb",
   "metadata": {},
   "source": [
    "#### Train-Test Set "
   ]
  },
  {
   "cell_type": "code",
   "execution_count": 51,
   "id": "37ff8160-e1de-4380-abd8-204884646a42",
   "metadata": {
    "tags": []
   },
   "outputs": [],
   "source": [
    "X = df[clean_col].drop(['count'],axis=1)"
   ]
  },
  {
   "cell_type": "code",
   "execution_count": 52,
   "id": "f03c338b-b99c-4731-86ba-7b8fd83e80a5",
   "metadata": {
    "tags": []
   },
   "outputs": [],
   "source": [
    "y = df[['casual','registered']]"
   ]
  },
  {
   "cell_type": "code",
   "execution_count": 53,
   "id": "15de3b7a-8bb1-47c5-9d7b-ce97b12360fa",
   "metadata": {
    "tags": []
   },
   "outputs": [],
   "source": [
    "X_train, X_test, y_train, y_test = train_test_split(X,y,test_size=0.2,random_state=36)"
   ]
  },
  {
   "cell_type": "code",
   "execution_count": 54,
   "id": "63d13382-ba78-4b30-bcf4-10b35697dba7",
   "metadata": {
    "tags": []
   },
   "outputs": [
    {
     "data": {
      "text/html": [
       "<div>\n",
       "<style scoped>\n",
       "    .dataframe tbody tr th:only-of-type {\n",
       "        vertical-align: middle;\n",
       "    }\n",
       "\n",
       "    .dataframe tbody tr th {\n",
       "        vertical-align: top;\n",
       "    }\n",
       "\n",
       "    .dataframe thead th {\n",
       "        text-align: right;\n",
       "    }\n",
       "</style>\n",
       "<table border=\"1\" class=\"dataframe\">\n",
       "  <thead>\n",
       "    <tr style=\"text-align: right;\">\n",
       "      <th></th>\n",
       "      <th>casual</th>\n",
       "      <th>registered</th>\n",
       "    </tr>\n",
       "  </thead>\n",
       "  <tbody>\n",
       "    <tr>\n",
       "      <th>7397</th>\n",
       "      <td>59</td>\n",
       "      <td>180</td>\n",
       "    </tr>\n",
       "    <tr>\n",
       "      <th>10457</th>\n",
       "      <td>4</td>\n",
       "      <td>21</td>\n",
       "    </tr>\n",
       "    <tr>\n",
       "      <th>2943</th>\n",
       "      <td>22</td>\n",
       "      <td>119</td>\n",
       "    </tr>\n",
       "    <tr>\n",
       "      <th>10833</th>\n",
       "      <td>7</td>\n",
       "      <td>333</td>\n",
       "    </tr>\n",
       "    <tr>\n",
       "      <th>7825</th>\n",
       "      <td>55</td>\n",
       "      <td>148</td>\n",
       "    </tr>\n",
       "    <tr>\n",
       "      <th>...</th>\n",
       "      <td>...</td>\n",
       "      <td>...</td>\n",
       "    </tr>\n",
       "    <tr>\n",
       "      <th>9716</th>\n",
       "      <td>0</td>\n",
       "      <td>19</td>\n",
       "    </tr>\n",
       "    <tr>\n",
       "      <th>7380</th>\n",
       "      <td>55</td>\n",
       "      <td>148</td>\n",
       "    </tr>\n",
       "    <tr>\n",
       "      <th>2984</th>\n",
       "      <td>18</td>\n",
       "      <td>103</td>\n",
       "    </tr>\n",
       "    <tr>\n",
       "      <th>9326</th>\n",
       "      <td>18</td>\n",
       "      <td>91</td>\n",
       "    </tr>\n",
       "    <tr>\n",
       "      <th>610</th>\n",
       "      <td>3</td>\n",
       "      <td>61</td>\n",
       "    </tr>\n",
       "  </tbody>\n",
       "</table>\n",
       "<p>8466 rows × 2 columns</p>\n",
       "</div>"
      ],
      "text/plain": [
       "       casual  registered\n",
       "7397       59         180\n",
       "10457       4          21\n",
       "2943       22         119\n",
       "10833       7         333\n",
       "7825       55         148\n",
       "...       ...         ...\n",
       "9716        0          19\n",
       "7380       55         148\n",
       "2984       18         103\n",
       "9326       18          91\n",
       "610         3          61\n",
       "\n",
       "[8466 rows x 2 columns]"
      ]
     },
     "execution_count": 54,
     "metadata": {},
     "output_type": "execute_result"
    }
   ],
   "source": [
    "y_train"
   ]
  },
  {
   "cell_type": "code",
   "execution_count": 55,
   "id": "fa0771f4-5f72-4363-a38f-7740c2a95693",
   "metadata": {
    "tags": []
   },
   "outputs": [
    {
     "data": {
      "text/plain": [
       "1805       9\n",
       "9689       3\n",
       "435        0\n",
       "9858       2\n",
       "624        0\n",
       "        ... \n",
       "8651      51\n",
       "2220      35\n",
       "9782      10\n",
       "9481      30\n",
       "10063    119\n",
       "Name: casual, Length: 2117, dtype: int64"
      ]
     },
     "execution_count": 55,
     "metadata": {},
     "output_type": "execute_result"
    }
   ],
   "source": [
    "y_test['casual']"
   ]
  },
  {
   "cell_type": "code",
   "execution_count": 56,
   "id": "88eac654-c05b-4117-b996-8586f17701e6",
   "metadata": {
    "tags": []
   },
   "outputs": [
    {
     "data": {
      "text/plain": [
       "1805       7\n",
       "9689      12\n",
       "435        3\n",
       "9858       2\n",
       "624        7\n",
       "        ... \n",
       "8651     376\n",
       "2220      95\n",
       "9782     176\n",
       "9481     130\n",
       "10063    316\n",
       "Name: registered, Length: 2117, dtype: int64"
      ]
     },
     "execution_count": 56,
     "metadata": {},
     "output_type": "execute_result"
    }
   ],
   "source": [
    "y_test['registered']"
   ]
  },
  {
   "cell_type": "markdown",
   "id": "eff85196-7166-47ec-91c2-85200eef5d39",
   "metadata": {
    "tags": []
   },
   "source": [
    "### Casual Predict"
   ]
  },
  {
   "cell_type": "markdown",
   "id": "b2f3b481-4fbf-43fa-83e2-5bf044f99057",
   "metadata": {},
   "source": [
    "#### PCA"
   ]
  },
  {
   "cell_type": "code",
   "execution_count": 57,
   "id": "ee881f43-4a32-4bb7-a300-59207e58a70b",
   "metadata": {
    "tags": []
   },
   "outputs": [
    {
     "data": {
      "text/plain": [
       "'from sklearn.decomposition import PCA\\n\\n#Train data에 PCA 알고리즘 적용\\ntrain_X_ = StandardScaler().fit_transform(X_train) # 불러온 데이터에 대한 정규화 -> 각 column의 range of value가 전부 다르기 때문에 정규화를 진행해 주어야 합니다.\\ntrain_df = pd.DataFrame(train_X_)\\npca = PCA(n_components=2) # 주성분의 수를 2개, 즉 기저가 되는 방향벡터를 2개로 하는 PCA 알고리즘 수행\\npc = pca.fit_transform(train_df)\\n\\ntest_X_ = StandardScaler().fit_transform(X_test) # normalization\\ntest_df = pd.DataFrame(test_X_)\\npca_test = PCA(n_components=2)\\npc_test = pca_test.fit_transform(test_df)'"
      ]
     },
     "execution_count": 57,
     "metadata": {},
     "output_type": "execute_result"
    }
   ],
   "source": [
    "'''from sklearn.decomposition import PCA\n",
    "\n",
    "#Train data에 PCA 알고리즘 적용\n",
    "train_X_ = StandardScaler().fit_transform(X_train) # 불러온 데이터에 대한 정규화 -> 각 column의 range of value가 전부 다르기 때문에 정규화를 진행해 주어야 합니다.\n",
    "train_df = pd.DataFrame(train_X_)\n",
    "pca = PCA(n_components=2) # 주성분의 수를 2개, 즉 기저가 되는 방향벡터를 2개로 하는 PCA 알고리즘 수행\n",
    "pc = pca.fit_transform(train_df)\n",
    "\n",
    "test_X_ = StandardScaler().fit_transform(X_test) # normalization\n",
    "test_df = pd.DataFrame(test_X_)\n",
    "pca_test = PCA(n_components=2)\n",
    "pc_test = pca_test.fit_transform(test_df)'''"
   ]
  },
  {
   "cell_type": "markdown",
   "id": "2f3d4820-14e9-4494-8beb-3f01f197a0e0",
   "metadata": {},
   "source": [
    "#### LinearRegression 모델 학습 - Casual"
   ]
  },
  {
   "cell_type": "code",
   "execution_count": 58,
   "id": "bd3767f3-b145-4711-9861-d40319578144",
   "metadata": {
    "tags": []
   },
   "outputs": [],
   "source": [
    "model = LinearRegression()"
   ]
  },
  {
   "cell_type": "code",
   "execution_count": 59,
   "id": "881f333b-c9a4-4350-9db3-7a42e8b6e6f8",
   "metadata": {
    "tags": []
   },
   "outputs": [
    {
     "data": {
      "text/html": [
       "<style>#sk-container-id-1 {color: black;background-color: white;}#sk-container-id-1 pre{padding: 0;}#sk-container-id-1 div.sk-toggleable {background-color: white;}#sk-container-id-1 label.sk-toggleable__label {cursor: pointer;display: block;width: 100%;margin-bottom: 0;padding: 0.3em;box-sizing: border-box;text-align: center;}#sk-container-id-1 label.sk-toggleable__label-arrow:before {content: \"▸\";float: left;margin-right: 0.25em;color: #696969;}#sk-container-id-1 label.sk-toggleable__label-arrow:hover:before {color: black;}#sk-container-id-1 div.sk-estimator:hover label.sk-toggleable__label-arrow:before {color: black;}#sk-container-id-1 div.sk-toggleable__content {max-height: 0;max-width: 0;overflow: hidden;text-align: left;background-color: #f0f8ff;}#sk-container-id-1 div.sk-toggleable__content pre {margin: 0.2em;color: black;border-radius: 0.25em;background-color: #f0f8ff;}#sk-container-id-1 input.sk-toggleable__control:checked~div.sk-toggleable__content {max-height: 200px;max-width: 100%;overflow: auto;}#sk-container-id-1 input.sk-toggleable__control:checked~label.sk-toggleable__label-arrow:before {content: \"▾\";}#sk-container-id-1 div.sk-estimator input.sk-toggleable__control:checked~label.sk-toggleable__label {background-color: #d4ebff;}#sk-container-id-1 div.sk-label input.sk-toggleable__control:checked~label.sk-toggleable__label {background-color: #d4ebff;}#sk-container-id-1 input.sk-hidden--visually {border: 0;clip: rect(1px 1px 1px 1px);clip: rect(1px, 1px, 1px, 1px);height: 1px;margin: -1px;overflow: hidden;padding: 0;position: absolute;width: 1px;}#sk-container-id-1 div.sk-estimator {font-family: monospace;background-color: #f0f8ff;border: 1px dotted black;border-radius: 0.25em;box-sizing: border-box;margin-bottom: 0.5em;}#sk-container-id-1 div.sk-estimator:hover {background-color: #d4ebff;}#sk-container-id-1 div.sk-parallel-item::after {content: \"\";width: 100%;border-bottom: 1px solid gray;flex-grow: 1;}#sk-container-id-1 div.sk-label:hover label.sk-toggleable__label {background-color: #d4ebff;}#sk-container-id-1 div.sk-serial::before {content: \"\";position: absolute;border-left: 1px solid gray;box-sizing: border-box;top: 0;bottom: 0;left: 50%;z-index: 0;}#sk-container-id-1 div.sk-serial {display: flex;flex-direction: column;align-items: center;background-color: white;padding-right: 0.2em;padding-left: 0.2em;position: relative;}#sk-container-id-1 div.sk-item {position: relative;z-index: 1;}#sk-container-id-1 div.sk-parallel {display: flex;align-items: stretch;justify-content: center;background-color: white;position: relative;}#sk-container-id-1 div.sk-item::before, #sk-container-id-1 div.sk-parallel-item::before {content: \"\";position: absolute;border-left: 1px solid gray;box-sizing: border-box;top: 0;bottom: 0;left: 50%;z-index: -1;}#sk-container-id-1 div.sk-parallel-item {display: flex;flex-direction: column;z-index: 1;position: relative;background-color: white;}#sk-container-id-1 div.sk-parallel-item:first-child::after {align-self: flex-end;width: 50%;}#sk-container-id-1 div.sk-parallel-item:last-child::after {align-self: flex-start;width: 50%;}#sk-container-id-1 div.sk-parallel-item:only-child::after {width: 0;}#sk-container-id-1 div.sk-dashed-wrapped {border: 1px dashed gray;margin: 0 0.4em 0.5em 0.4em;box-sizing: border-box;padding-bottom: 0.4em;background-color: white;}#sk-container-id-1 div.sk-label label {font-family: monospace;font-weight: bold;display: inline-block;line-height: 1.2em;}#sk-container-id-1 div.sk-label-container {text-align: center;}#sk-container-id-1 div.sk-container {/* jupyter's `normalize.less` sets `[hidden] { display: none; }` but bootstrap.min.css set `[hidden] { display: none !important; }` so we also need the `!important` here to be able to override the default hidden behavior on the sphinx rendered scikit-learn.org. See: https://github.com/scikit-learn/scikit-learn/issues/21755 */display: inline-block !important;position: relative;}#sk-container-id-1 div.sk-text-repr-fallback {display: none;}</style><div id=\"sk-container-id-1\" class=\"sk-top-container\"><div class=\"sk-text-repr-fallback\"><pre>LinearRegression()</pre><b>In a Jupyter environment, please rerun this cell to show the HTML representation or trust the notebook. <br />On GitHub, the HTML representation is unable to render, please try loading this page with nbviewer.org.</b></div><div class=\"sk-container\" hidden><div class=\"sk-item\"><div class=\"sk-estimator sk-toggleable\"><input class=\"sk-toggleable__control sk-hidden--visually\" id=\"sk-estimator-id-1\" type=\"checkbox\" checked><label for=\"sk-estimator-id-1\" class=\"sk-toggleable__label sk-toggleable__label-arrow\">LinearRegression</label><div class=\"sk-toggleable__content\"><pre>LinearRegression()</pre></div></div></div></div></div>"
      ],
      "text/plain": [
       "LinearRegression()"
      ]
     },
     "execution_count": 59,
     "metadata": {},
     "output_type": "execute_result"
    }
   ],
   "source": [
    "model.fit(X_train,y_train['casual'])"
   ]
  },
  {
   "cell_type": "code",
   "execution_count": 60,
   "id": "801010b3-c844-449a-824e-57e57a7d7257",
   "metadata": {
    "tags": []
   },
   "outputs": [],
   "source": [
    "y_pred_casual = model.predict(X_test)"
   ]
  },
  {
   "cell_type": "code",
   "execution_count": 61,
   "id": "6a5f8841-29b0-4fdc-b26b-08476e17fbbc",
   "metadata": {
    "tags": []
   },
   "outputs": [
    {
     "name": "stdout",
     "output_type": "stream",
     "text": [
      "Coefficients:  [-8.70272068e+00 -3.32224727e+01  1.18576661e+02 -6.82787241e+01\n",
      " -4.17480937e-02 -7.15550709e+00 -3.26904568e-01  6.05045552e-01\n",
      "  1.07392824e+00 -1.27726395e+00  2.15022364e+00 -8.72959685e-01\n",
      "  1.42108547e-14 -2.88261034e+00  2.50941008e+00 -7.47635414e+00\n",
      "  7.84955440e+00]\n",
      "Intercept:  34.371064735054276\n"
     ]
    }
   ],
   "source": [
    "print(\"Coefficients: \", model.coef_)\n",
    "print(\"Intercept: \", model.intercept_)"
   ]
  },
  {
   "cell_type": "markdown",
   "id": "2a8aa472-78c1-435b-a34c-996fa857d02d",
   "metadata": {},
   "source": [
    "### Registered Predict"
   ]
  },
  {
   "cell_type": "markdown",
   "id": "ef9b851b-262d-4696-b46b-9c0f972c5a67",
   "metadata": {},
   "source": [
    "#### PCA -rollback"
   ]
  },
  {
   "cell_type": "code",
   "execution_count": 62,
   "id": "d4b1126b-9fe9-4e1f-8667-136ea94ef704",
   "metadata": {
    "tags": []
   },
   "outputs": [
    {
     "data": {
      "text/plain": [
       "'#Train data에 PCA 알고리즘 적용\\ntrain_X_ = StandardScaler().fit_transform(X_train) # 불러온 데이터에 대한 정규화 -> 각 column의 range of value가 전부 다르기 때문에 정규화를 진행해 주어야 합니다.\\ntrain_df = pd.DataFrame(train_X_)\\npca = PCA(n_components=2) # 주성분의 수를 2개, 즉 기저가 되는 방향벡터를 2개로 하는 PCA 알고리즘 수행\\npc = pca.fit_transform(train_df)\\n\\ntest_X_ = StandardScaler().fit_transform(X_test) # normalization\\ntest_df = pd.DataFrame(test_X_)\\npca_test = PCA(n_components=2)\\npc_test = pca_test.fit_transform(test_df)'"
      ]
     },
     "execution_count": 62,
     "metadata": {},
     "output_type": "execute_result"
    }
   ],
   "source": [
    "'''#Train data에 PCA 알고리즘 적용\n",
    "train_X_ = StandardScaler().fit_transform(X_train) # 불러온 데이터에 대한 정규화 -> 각 column의 range of value가 전부 다르기 때문에 정규화를 진행해 주어야 합니다.\n",
    "train_df = pd.DataFrame(train_X_)\n",
    "pca = PCA(n_components=2) # 주성분의 수를 2개, 즉 기저가 되는 방향벡터를 2개로 하는 PCA 알고리즘 수행\n",
    "pc = pca.fit_transform(train_df)\n",
    "\n",
    "test_X_ = StandardScaler().fit_transform(X_test) # normalization\n",
    "test_df = pd.DataFrame(test_X_)\n",
    "pca_test = PCA(n_components=2)\n",
    "pc_test = pca_test.fit_transform(test_df)'''"
   ]
  },
  {
   "cell_type": "code",
   "execution_count": null,
   "id": "ba21cc45-8962-4eb7-8698-67a14400c396",
   "metadata": {},
   "outputs": [],
   "source": []
  },
  {
   "cell_type": "markdown",
   "id": "506dc245-4fc5-46d9-8886-901f956551e3",
   "metadata": {},
   "source": [
    "#### LinearRegression 모델 학습 - Registered"
   ]
  },
  {
   "cell_type": "code",
   "execution_count": 63,
   "id": "4a9c21b6-e950-4dc0-9318-9af297a4dc28",
   "metadata": {
    "tags": []
   },
   "outputs": [],
   "source": [
    "model = LinearRegression()"
   ]
  },
  {
   "cell_type": "code",
   "execution_count": 64,
   "id": "fd23732b-30c6-4db0-9044-b51c3df60c93",
   "metadata": {
    "tags": []
   },
   "outputs": [
    {
     "data": {
      "text/html": [
       "<style>#sk-container-id-2 {color: black;background-color: white;}#sk-container-id-2 pre{padding: 0;}#sk-container-id-2 div.sk-toggleable {background-color: white;}#sk-container-id-2 label.sk-toggleable__label {cursor: pointer;display: block;width: 100%;margin-bottom: 0;padding: 0.3em;box-sizing: border-box;text-align: center;}#sk-container-id-2 label.sk-toggleable__label-arrow:before {content: \"▸\";float: left;margin-right: 0.25em;color: #696969;}#sk-container-id-2 label.sk-toggleable__label-arrow:hover:before {color: black;}#sk-container-id-2 div.sk-estimator:hover label.sk-toggleable__label-arrow:before {color: black;}#sk-container-id-2 div.sk-toggleable__content {max-height: 0;max-width: 0;overflow: hidden;text-align: left;background-color: #f0f8ff;}#sk-container-id-2 div.sk-toggleable__content pre {margin: 0.2em;color: black;border-radius: 0.25em;background-color: #f0f8ff;}#sk-container-id-2 input.sk-toggleable__control:checked~div.sk-toggleable__content {max-height: 200px;max-width: 100%;overflow: auto;}#sk-container-id-2 input.sk-toggleable__control:checked~label.sk-toggleable__label-arrow:before {content: \"▾\";}#sk-container-id-2 div.sk-estimator input.sk-toggleable__control:checked~label.sk-toggleable__label {background-color: #d4ebff;}#sk-container-id-2 div.sk-label input.sk-toggleable__control:checked~label.sk-toggleable__label {background-color: #d4ebff;}#sk-container-id-2 input.sk-hidden--visually {border: 0;clip: rect(1px 1px 1px 1px);clip: rect(1px, 1px, 1px, 1px);height: 1px;margin: -1px;overflow: hidden;padding: 0;position: absolute;width: 1px;}#sk-container-id-2 div.sk-estimator {font-family: monospace;background-color: #f0f8ff;border: 1px dotted black;border-radius: 0.25em;box-sizing: border-box;margin-bottom: 0.5em;}#sk-container-id-2 div.sk-estimator:hover {background-color: #d4ebff;}#sk-container-id-2 div.sk-parallel-item::after {content: \"\";width: 100%;border-bottom: 1px solid gray;flex-grow: 1;}#sk-container-id-2 div.sk-label:hover label.sk-toggleable__label {background-color: #d4ebff;}#sk-container-id-2 div.sk-serial::before {content: \"\";position: absolute;border-left: 1px solid gray;box-sizing: border-box;top: 0;bottom: 0;left: 50%;z-index: 0;}#sk-container-id-2 div.sk-serial {display: flex;flex-direction: column;align-items: center;background-color: white;padding-right: 0.2em;padding-left: 0.2em;position: relative;}#sk-container-id-2 div.sk-item {position: relative;z-index: 1;}#sk-container-id-2 div.sk-parallel {display: flex;align-items: stretch;justify-content: center;background-color: white;position: relative;}#sk-container-id-2 div.sk-item::before, #sk-container-id-2 div.sk-parallel-item::before {content: \"\";position: absolute;border-left: 1px solid gray;box-sizing: border-box;top: 0;bottom: 0;left: 50%;z-index: -1;}#sk-container-id-2 div.sk-parallel-item {display: flex;flex-direction: column;z-index: 1;position: relative;background-color: white;}#sk-container-id-2 div.sk-parallel-item:first-child::after {align-self: flex-end;width: 50%;}#sk-container-id-2 div.sk-parallel-item:last-child::after {align-self: flex-start;width: 50%;}#sk-container-id-2 div.sk-parallel-item:only-child::after {width: 0;}#sk-container-id-2 div.sk-dashed-wrapped {border: 1px dashed gray;margin: 0 0.4em 0.5em 0.4em;box-sizing: border-box;padding-bottom: 0.4em;background-color: white;}#sk-container-id-2 div.sk-label label {font-family: monospace;font-weight: bold;display: inline-block;line-height: 1.2em;}#sk-container-id-2 div.sk-label-container {text-align: center;}#sk-container-id-2 div.sk-container {/* jupyter's `normalize.less` sets `[hidden] { display: none; }` but bootstrap.min.css set `[hidden] { display: none !important; }` so we also need the `!important` here to be able to override the default hidden behavior on the sphinx rendered scikit-learn.org. See: https://github.com/scikit-learn/scikit-learn/issues/21755 */display: inline-block !important;position: relative;}#sk-container-id-2 div.sk-text-repr-fallback {display: none;}</style><div id=\"sk-container-id-2\" class=\"sk-top-container\"><div class=\"sk-text-repr-fallback\"><pre>LinearRegression()</pre><b>In a Jupyter environment, please rerun this cell to show the HTML representation or trust the notebook. <br />On GitHub, the HTML representation is unable to render, please try loading this page with nbviewer.org.</b></div><div class=\"sk-container\" hidden><div class=\"sk-item\"><div class=\"sk-estimator sk-toggleable\"><input class=\"sk-toggleable__control sk-hidden--visually\" id=\"sk-estimator-id-2\" type=\"checkbox\" checked><label for=\"sk-estimator-id-2\" class=\"sk-toggleable__label sk-toggleable__label-arrow\">LinearRegression</label><div class=\"sk-toggleable__content\"><pre>LinearRegression()</pre></div></div></div></div></div>"
      ],
      "text/plain": [
       "LinearRegression()"
      ]
     },
     "execution_count": 64,
     "metadata": {},
     "output_type": "execute_result"
    }
   ],
   "source": [
    "model.fit(X_train,y_train['registered'])"
   ]
  },
  {
   "cell_type": "code",
   "execution_count": 65,
   "id": "402c856c-db62-4bb4-88a6-825b1d128415",
   "metadata": {
    "tags": []
   },
   "outputs": [],
   "source": [
    "y_pred_registered = model.predict(X_test)"
   ]
  },
  {
   "cell_type": "code",
   "execution_count": 66,
   "id": "90bfd59a-29ed-4675-9d26-7bdc47d87ddb",
   "metadata": {
    "tags": []
   },
   "outputs": [
    {
     "name": "stdout",
     "output_type": "stream",
     "text": [
      "Coefficients:  [   8.47285594   27.78310848  174.05054795 -106.34604919   24.38354865\n",
      "  -51.6845711     7.32852375    1.21113558    6.05095044    8.33131488\n",
      "   12.2239652   -20.55528008    0.           12.02825513    8.18223887\n",
      "  -23.98751411    3.77702011]\n",
      "Intercept:  0.4952053154358964\n"
     ]
    }
   ],
   "source": [
    "print(\"Coefficients: \", model.coef_)\n",
    "print(\"Intercept: \", model.intercept_)"
   ]
  },
  {
   "cell_type": "markdown",
   "id": "9b094df4-e9d7-4dc4-8686-1c2fab727160",
   "metadata": {},
   "source": [
    "### Count = Casual + Predict"
   ]
  },
  {
   "cell_type": "code",
   "execution_count": 67,
   "id": "b1d20f6d-8546-458d-9181-e6f3b6c3235a",
   "metadata": {
    "tags": []
   },
   "outputs": [],
   "source": [
    "y_pred_count = y_pred_casual + y_pred_registered #count 예측 값 합"
   ]
  },
  {
   "cell_type": "code",
   "execution_count": 68,
   "id": "44ecda4e-1dcb-45ea-9a10-15e848f4c26b",
   "metadata": {},
   "outputs": [],
   "source": [
    "y_test_count = y_test['casual'] + y_test['registered'] "
   ]
  },
  {
   "cell_type": "code",
   "execution_count": 69,
   "id": "58437bbf-a5cf-4d51-8733-6c8f12b0d30e",
   "metadata": {
    "tags": []
   },
   "outputs": [
    {
     "data": {
      "text/html": [
       "<div>\n",
       "<style scoped>\n",
       "    .dataframe tbody tr th:only-of-type {\n",
       "        vertical-align: middle;\n",
       "    }\n",
       "\n",
       "    .dataframe tbody tr th {\n",
       "        vertical-align: top;\n",
       "    }\n",
       "\n",
       "    .dataframe thead th {\n",
       "        text-align: right;\n",
       "    }\n",
       "</style>\n",
       "<table border=\"1\" class=\"dataframe\">\n",
       "  <thead>\n",
       "    <tr style=\"text-align: right;\">\n",
       "      <th></th>\n",
       "      <th>casual</th>\n",
       "      <th>registered</th>\n",
       "    </tr>\n",
       "  </thead>\n",
       "  <tbody>\n",
       "    <tr>\n",
       "      <th>1805</th>\n",
       "      <td>9</td>\n",
       "      <td>7</td>\n",
       "    </tr>\n",
       "    <tr>\n",
       "      <th>9689</th>\n",
       "      <td>3</td>\n",
       "      <td>12</td>\n",
       "    </tr>\n",
       "    <tr>\n",
       "      <th>435</th>\n",
       "      <td>0</td>\n",
       "      <td>3</td>\n",
       "    </tr>\n",
       "    <tr>\n",
       "      <th>9858</th>\n",
       "      <td>2</td>\n",
       "      <td>2</td>\n",
       "    </tr>\n",
       "    <tr>\n",
       "      <th>624</th>\n",
       "      <td>0</td>\n",
       "      <td>7</td>\n",
       "    </tr>\n",
       "    <tr>\n",
       "      <th>...</th>\n",
       "      <td>...</td>\n",
       "      <td>...</td>\n",
       "    </tr>\n",
       "    <tr>\n",
       "      <th>8651</th>\n",
       "      <td>51</td>\n",
       "      <td>376</td>\n",
       "    </tr>\n",
       "    <tr>\n",
       "      <th>2220</th>\n",
       "      <td>35</td>\n",
       "      <td>95</td>\n",
       "    </tr>\n",
       "    <tr>\n",
       "      <th>9782</th>\n",
       "      <td>10</td>\n",
       "      <td>176</td>\n",
       "    </tr>\n",
       "    <tr>\n",
       "      <th>9481</th>\n",
       "      <td>30</td>\n",
       "      <td>130</td>\n",
       "    </tr>\n",
       "    <tr>\n",
       "      <th>10063</th>\n",
       "      <td>119</td>\n",
       "      <td>316</td>\n",
       "    </tr>\n",
       "  </tbody>\n",
       "</table>\n",
       "<p>2117 rows × 2 columns</p>\n",
       "</div>"
      ],
      "text/plain": [
       "       casual  registered\n",
       "1805        9           7\n",
       "9689        3          12\n",
       "435         0           3\n",
       "9858        2           2\n",
       "624         0           7\n",
       "...       ...         ...\n",
       "8651       51         376\n",
       "2220       35          95\n",
       "9782       10         176\n",
       "9481       30         130\n",
       "10063     119         316\n",
       "\n",
       "[2117 rows x 2 columns]"
      ]
     },
     "execution_count": 69,
     "metadata": {},
     "output_type": "execute_result"
    }
   ],
   "source": [
    "y_test"
   ]
  },
  {
   "cell_type": "code",
   "execution_count": 70,
   "id": "8f9fce08-aadc-4060-895e-619190517af2",
   "metadata": {
    "tags": []
   },
   "outputs": [
    {
     "data": {
      "text/plain": [
       "1805      16\n",
       "9689      15\n",
       "435        3\n",
       "9858       4\n",
       "624        7\n",
       "        ... \n",
       "8651     427\n",
       "2220     130\n",
       "9782     186\n",
       "9481     160\n",
       "10063    435\n",
       "Length: 2117, dtype: int64"
      ]
     },
     "execution_count": 70,
     "metadata": {},
     "output_type": "execute_result"
    }
   ],
   "source": [
    "y_test_count"
   ]
  },
  {
   "cell_type": "code",
   "execution_count": null,
   "id": "50c8f164-b24b-4f2d-8681-c1091d8986d9",
   "metadata": {},
   "outputs": [],
   "source": []
  },
  {
   "cell_type": "markdown",
   "id": "ff67b804-5bf1-43a4-8f99-f5ccbbe2b20c",
   "metadata": {},
   "source": [
    "## (6) 학습된 모델로 X_test에 대한 예측값 출력 및 손실함수값 계산"
   ]
  },
  {
   "cell_type": "code",
   "execution_count": 72,
   "id": "45b9a10f-e7e5-42a4-88af-6f104045fcca",
   "metadata": {
    "tags": []
   },
   "outputs": [
    {
     "name": "stdout",
     "output_type": "stream",
     "text": [
      "MSE:  14700.008114871935\n",
      "RMSE:  121.24358999498462\n"
     ]
    }
   ],
   "source": [
    "print(\"MSE: \", mean_squared_error(y_test_count, y_pred_count))\n",
    "print(\"RMSE: \",np.sqrt(mean_squared_error(y_test_count, y_pred_count)))"
   ]
  },
  {
   "cell_type": "markdown",
   "id": "b79d15db-153d-4590-84fe-ab60b87c26de",
   "metadata": {},
   "source": [
    "# 현재 RMSE : 121"
   ]
  },
  {
   "cell_type": "markdown",
   "id": "9fd2deb5-37bb-42f0-abb0-ab445fe23fc6",
   "metadata": {
    "tags": []
   },
   "source": [
    "1차 시도 (baseline) :\n",
    "    - MSE:  20476\n",
    "    - RMSE:  143"
   ]
  },
  {
   "cell_type": "markdown",
   "id": "13adbbb4-c1c7-40b9-a1ce-d7bdecb17384",
   "metadata": {},
   "source": [
    "2차 시도 (min-max Scaling) : 143->122\n",
    "    - MSE:  14972\n",
    "    - RMSE: 122"
   ]
  },
  {
   "cell_type": "code",
   "execution_count": null,
   "id": "2882d65b-2847-4b4b-ae5e-c7a22b9ca198",
   "metadata": {},
   "outputs": [],
   "source": [
    "3차 시도 (astype-Category) : 큰 변화 없음\n",
    "    - MSE:  14972\n",
    "    - RMSE: 122"
   ]
  },
  {
   "cell_type": "markdown",
   "id": "e527c213-b48d-43c4-bc77-cbbe239c2f0c",
   "metadata": {
    "tags": []
   },
   "source": [
    "4차 시도 (Casual + Registered) : 122->115 감소\n",
    "    - MSE:  13225\n",
    "    - RMSE: 115"
   ]
  },
  {
   "cell_type": "markdown",
   "id": "e7a92307-9788-4903-8054-29c70f08b9f1",
   "metadata": {
    "tags": []
   },
   "source": [
    "4차 시도 (Casual + Registered) : 122->115 감소\n",
    "    - MSE:  13225\n",
    "    - RMSE: 115"
   ]
  },
  {
   "cell_type": "code",
   "execution_count": null,
   "id": "c02cae52-fd3b-47af-bab5-b7330c89a539",
   "metadata": {},
   "outputs": [],
   "source": [
    "5차 시도 (One-hot Encoding) : 살짝 내려갔음 \n",
    "    - MSE:  13080\n",
    "    - RMSE:  114"
   ]
  },
  {
   "cell_type": "code",
   "execution_count": null,
   "id": "9eb9d603-0f7f-4641-acb3-46fa75ee28f1",
   "metadata": {},
   "outputs": [],
   "source": [
    "6차 시도 (PCA 적용) : 오히려 증가  : Rollback\n",
    "    - MSE:  16260\n",
    "    - RMSE:  127"
   ]
  },
  {
   "cell_type": "markdown",
   "id": "3ee63038-6d66-423d-8bed-715c65dc3bff",
   "metadata": {},
   "source": [
    "## (7) x축은 temp 또는 humidity로, y축은 count로 예측 결과 시각화하기"
   ]
  },
  {
   "cell_type": "code",
   "execution_count": 73,
   "id": "de794c6a-818d-45fc-9561-4a3a3c0674ff",
   "metadata": {
    "tags": []
   },
   "outputs": [
    {
     "ename": "NameError",
     "evalue": "name 'y_pred' is not defined",
     "output_type": "error",
     "traceback": [
      "\u001b[0;31m---------------------------------------------------------------------------\u001b[0m",
      "\u001b[0;31mNameError\u001b[0m                                 Traceback (most recent call last)",
      "Cell \u001b[0;32mIn[73], line 1\u001b[0m\n\u001b[0;32m----> 1\u001b[0m sns\u001b[38;5;241m.\u001b[39mscatterplot(x\u001b[38;5;241m=\u001b[39mX_test[\u001b[38;5;124m'\u001b[39m\u001b[38;5;124mtemp\u001b[39m\u001b[38;5;124m'\u001b[39m],y\u001b[38;5;241m=\u001b[39m\u001b[43my_pred\u001b[49m)\n",
      "\u001b[0;31mNameError\u001b[0m: name 'y_pred' is not defined"
     ]
    }
   ],
   "source": [
    "sns.scatterplot(x=X_test['temp'],y=y_pred_count)"
   ]
  },
  {
   "cell_type": "code",
   "execution_count": null,
   "id": "f8e98c33-03e5-46e9-817f-7c87d6e42dad",
   "metadata": {
    "tags": []
   },
   "outputs": [],
   "source": [
    "sns.scatterplot(x=X_test['humidity'],y=y_pred)"
   ]
  },
  {
   "cell_type": "code",
   "execution_count": null,
   "id": "5d76fe7b-c930-4e3a-b5d3-ba287687bfe4",
   "metadata": {},
   "outputs": [],
   "source": []
  }
 ],
 "metadata": {
  "kernelspec": {
   "display_name": "Python 3 (ipykernel)",
   "language": "python",
   "name": "python3"
  },
  "language_info": {
   "codemirror_mode": {
    "name": "ipython",
    "version": 3
   },
   "file_extension": ".py",
   "mimetype": "text/x-python",
   "name": "python",
   "nbconvert_exporter": "python",
   "pygments_lexer": "ipython3",
   "version": "3.10.10"
  }
 },
 "nbformat": 4,
 "nbformat_minor": 5
}
