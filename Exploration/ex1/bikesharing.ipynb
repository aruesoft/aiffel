{
 "cells": [
  {
   "cell_type": "markdown",
   "id": "eec4f344-4c64-4d23-ac5c-a924242288f9",
   "metadata": {},
   "source": [
    "# 프로젝트 2 : 날씨 좋은 월요일 오후 세 시, 자전거 타는 사람은 몇 명?"
   ]
  },
  {
   "cell_type": "code",
   "execution_count": null,
   "id": "51f93d2a-604a-4253-953e-86cf9797becb",
   "metadata": {
    "tags": []
   },
   "outputs": [],
   "source": [
    "# Ignore  the warnings\n",
    "import warnings\n",
    "warnings.filterwarnings('always')\n",
    "warnings.filterwarnings('ignore')"
   ]
  },
  {
   "cell_type": "code",
   "execution_count": null,
   "id": "c6d5d397-41ea-4b9a-ba42-1e87616f48a3",
   "metadata": {
    "tags": []
   },
   "outputs": [],
   "source": [
    "# data visualisation and manipulation\n",
    "import numpy as np\n",
    "import pandas as pd\n",
    "import matplotlib.pyplot as plt\n",
    "import seaborn as sns\n",
    "import missingno as msno\n",
    "import datetime as dt"
   ]
  },
  {
   "cell_type": "code",
   "execution_count": null,
   "id": "314e1f1e-7f2d-4514-981a-b2548aa48810",
   "metadata": {
    "tags": []
   },
   "outputs": [],
   "source": [
    "from sklearn.linear_model import LinearRegression,Ridge,Lasso,RidgeCV\n",
    "from sklearn.model_selection import train_test_split\n",
    "from sklearn.preprocessing import MinMaxScaler,StandardScaler\n",
    "\n",
    "#evaluation metrics\n",
    "from sklearn.metrics import mean_squared_log_error,mean_squared_error # for regression\n"
   ]
  },
  {
   "cell_type": "markdown",
   "id": "487216ba-8afd-4dee-9225-095be808f778",
   "metadata": {},
   "source": [
    "## (1) 데이터 가져오기"
   ]
  },
  {
   "cell_type": "code",
   "execution_count": null,
   "id": "e4e9e809-14c3-4efc-898f-7459a4a3dbfa",
   "metadata": {
    "tags": []
   },
   "outputs": [],
   "source": [
    "## Local로 작업"
   ]
  },
  {
   "cell_type": "code",
   "execution_count": null,
   "id": "81f15964-a376-4d27-9216-ae5e635b80ac",
   "metadata": {
    "tags": []
   },
   "outputs": [],
   "source": [
    "train_df = pd.read_csv('./data/bike_train.csv')\n",
    "test_df = pd.read_csv('./data/bike_test.csv')\n",
    "df = train_df.copy()"
   ]
  },
  {
   "cell_type": "code",
   "execution_count": null,
   "id": "447f0d95-1b36-495a-92cd-7a4651edb077",
   "metadata": {
    "tags": []
   },
   "outputs": [],
   "source": [
    "df.shape"
   ]
  },
  {
   "cell_type": "code",
   "execution_count": null,
   "id": "32de6fd0-c319-497d-81db-1e1c29292491",
   "metadata": {
    "tags": []
   },
   "outputs": [],
   "source": [
    "df.describe()"
   ]
  },
  {
   "cell_type": "code",
   "execution_count": null,
   "id": "4d3135b1-1ef4-45c7-ab69-b736a03c4bb3",
   "metadata": {
    "tags": []
   },
   "outputs": [],
   "source": [
    "df.head()"
   ]
  },
  {
   "cell_type": "markdown",
   "id": "f8558690-d017-4f62-90d7-95c6f45b0bdb",
   "metadata": {
    "tags": []
   },
   "source": [
    "**Data Fields**. \n",
    "- datetime - hourly date + timestamp  \n",
    "- season -  1 = spring, 2 = summer, 3 = fall, 4 = winter \n",
    "- holiday - whether the day is considered a holiday\n",
    "- workingday - whether the day is neither a weekend nor holiday\n",
    "- weather - 1: Clear, Few clouds, Partly cloudy, Partly cloudy\n",
    "-           2: Mist + Cloudy, Mist + Broken clouds, Mist + Few clouds, Mist\n",
    "-           3: Light Snow, Light Rain + Thunderstorm + Scattered clouds, Light Rain + Scattered clouds\n",
    "-           4: Heavy Rain + Ice Pallets + Thunderstorm + Mist, Snow + Fog \n",
    "- temp - temperature in Celsius\n",
    "- atemp - \"feels like\" temperature in Celsius\n",
    "- humidity - relative humidity\n",
    "- windspeed - wind speed\n",
    "- casual - number of non-registered user rentals initiated\n",
    "- registered - number of registered user rentals initiated\n",
    "- count - number of total rentals"
   ]
  },
  {
   "cell_type": "code",
   "execution_count": null,
   "id": "ad88a21a-ff0a-4636-bc13-c53a693f6294",
   "metadata": {
    "tags": []
   },
   "outputs": [],
   "source": [
    "df.info()"
   ]
  },
  {
   "cell_type": "markdown",
   "id": "10a3b89f-5f30-433c-a5b8-e0b5431b0a27",
   "metadata": {},
   "source": [
    "### Null Value Check"
   ]
  },
  {
   "cell_type": "code",
   "execution_count": null,
   "id": "97b111aa-0a6f-4f5f-b425-58daf5261067",
   "metadata": {
    "tags": []
   },
   "outputs": [],
   "source": [
    "df.isnull().sum()"
   ]
  },
  {
   "cell_type": "code",
   "execution_count": null,
   "id": "3a3a7278-41aa-4206-8434-72511b34ad39",
   "metadata": {
    "tags": []
   },
   "outputs": [],
   "source": [
    "msno.matrix(df)"
   ]
  },
  {
   "cell_type": "markdown",
   "id": "9cd33f7d-6d7d-4f94-a588-987c7daacaa2",
   "metadata": {},
   "source": [
    "## (2) datetime 컬럼을 datetime 자료형으로 변환하고 연, 월, 일, 시, 분, 초까지 6가지 컬럼 생성하기"
   ]
  },
  {
   "cell_type": "code",
   "execution_count": null,
   "id": "e6515090-3cea-421a-839d-9c5c4a7e8c34",
   "metadata": {
    "tags": []
   },
   "outputs": [],
   "source": [
    "df['datetime'] = pd.to_datetime(df['datetime'])"
   ]
  },
  {
   "cell_type": "code",
   "execution_count": null,
   "id": "6432acd0-1595-479d-8fbf-3c42269e18ac",
   "metadata": {
    "tags": []
   },
   "outputs": [],
   "source": [
    "#weekday 도 중요 피쳐라 추가로 축출\n",
    "datetime_col = ['year','month','day','weekday','hour','minute','second']\n",
    "\n",
    "for col in datetime_col:\n",
    "    df[col] = getattr(df['datetime'].dt, col)"
   ]
  },
  {
   "cell_type": "markdown",
   "id": "a346a2dd-d779-464d-b803-e77de0b4d30b",
   "metadata": {},
   "source": [
    "## (3) year, month, day, hour, minute, second 데이터 개수 시각화하기"
   ]
  },
  {
   "cell_type": "markdown",
   "id": "85aa63e0-fd27-4738-8a6c-fe928dc3928f",
   "metadata": {},
   "source": [
    "### Count_Plot"
   ]
  },
  {
   "cell_type": "code",
   "execution_count": null,
   "id": "ff3f0530-9f30-4aec-98ce-802f8072af79",
   "metadata": {
    "tags": []
   },
   "outputs": [],
   "source": [
    "nrows, ncols = len(datetime_col), 1\n",
    "fig, axs = plt.subplots(nrows,ncols,figsize=(9,3*nrows))\n",
    "for i in range(len(datetime_col)):\n",
    "    sns.set_theme(style=\"whitegrid\")\n",
    "    sns.countplot(x=df[datetime_col[i]],data=df, ax=axs[i])\n",
    "    axs[i].set_title('Count Plot of {}'.format(datetime_col[i]))\n",
    "plt.tight_layout()\n",
    "plt.show()"
   ]
  },
  {
   "cell_type": "markdown",
   "id": "e2927f6c-55f6-4ae3-954a-09995c57737d",
   "metadata": {},
   "source": [
    "### Bar_Plot"
   ]
  },
  {
   "cell_type": "code",
   "execution_count": null,
   "id": "c3500232-e518-4b60-872d-0568023f359a",
   "metadata": {
    "tags": []
   },
   "outputs": [],
   "source": [
    "#counter plot 으로는 데이터 구분이 힘들어 bar_plot 으로 다시 그림, counter 와 다른 양상을 지닌, casual 도 같이 그림\n",
    "fig, axs = plt.subplots(nrows,ncols,figsize=(9,3*nrows))\n",
    "for i in range(len(datetime_col)):\n",
    "    sns.barplot(data=df,x=datetime_col[i],y='count',ax=axs[i],alpha=0.5)\n",
    "    sns.barplot(data=df,x=datetime_col[i],y='casual',ax=axs[i],alpha=0.5,color='red')\n",
    "    axs[i].set_title('{} - BarPlot'.format(datetime_col[i]))\n",
    "    axs[i].set_ylabel('count/casual')\n",
    "plt.tight_layout()\n",
    "plt.show()"
   ]
  },
  {
   "cell_type": "code",
   "execution_count": null,
   "id": "8db13ff2-a84c-4926-b2a6-205a951c010a",
   "metadata": {},
   "outputs": [],
   "source": []
  },
  {
   "cell_type": "markdown",
   "id": "e306d636-27f7-427f-8b8d-939ac3873f2e",
   "metadata": {},
   "source": [
    "## (4) X, y 컬럼 선택 및 train/test 데이터 분리"
   ]
  },
  {
   "cell_type": "markdown",
   "id": "402a0ea2-8174-497d-b794-5ae9867df0a6",
   "metadata": {},
   "source": [
    "### Data Backfill - 결측치 채우기 "
   ]
  },
  {
   "cell_type": "code",
   "execution_count": null,
   "id": "9994f190-3428-45ca-8f79-3764a1008d57",
   "metadata": {},
   "outputs": [],
   "source": [
    "df['windspeed'].value_counts()"
   ]
  },
  {
   "cell_type": "code",
   "execution_count": null,
   "id": "ce5089ae-5ee3-4bcb-ab4e-3b6444235a3e",
   "metadata": {},
   "outputs": [],
   "source": [
    "df['windspeed'] = df['windspeed'].replace(0,np.nan)\n",
    "df['windspeed'].isnull().sum()"
   ]
  },
  {
   "cell_type": "code",
   "execution_count": null,
   "id": "4cb6d0e5-ed15-4343-9f56-93352c1b600e",
   "metadata": {},
   "outputs": [],
   "source": [
    "df['windspeed'].fillna(method='bfill',inplace=True)\n",
    "df['windspeed'].isnull().sum()\n",
    "df['windspeed'].value_counts()"
   ]
  },
  {
   "cell_type": "code",
   "execution_count": null,
   "id": "a582f82c-b7df-40cc-87e1-cd5fe163a624",
   "metadata": {},
   "outputs": [],
   "source": []
  },
  {
   "cell_type": "markdown",
   "id": "c0b79409-c6aa-4f22-a292-f253c4442967",
   "metadata": {
    "tags": []
   },
   "source": [
    "### Outlier : IQR - Count 만 적용"
   ]
  },
  {
   "cell_type": "code",
   "execution_count": null,
   "id": "9c2b46de-6b8e-4bda-9b5a-1ee5008c36cc",
   "metadata": {
    "tags": []
   },
   "outputs": [],
   "source": [
    "sns.boxplot(data=df,y='count')"
   ]
  },
  {
   "cell_type": "code",
   "execution_count": null,
   "id": "c16fdb8b-e3e9-47c1-a736-4a83dc1cb854",
   "metadata": {
    "tags": []
   },
   "outputs": [],
   "source": [
    "sns.boxplot(data=df,y='count',x='hour')"
   ]
  },
  {
   "cell_type": "code",
   "execution_count": null,
   "id": "ecd7e200-de40-4f6c-984f-0f336fadc7da",
   "metadata": {
    "tags": []
   },
   "outputs": [],
   "source": [
    "Q1 = df['count'].quantile(0.25)\n",
    "Q3 = df['count'].quantile(0.75)\n",
    "\n",
    "print(Q1,Q3)\n",
    "\n",
    "IQR = Q3-Q1"
   ]
  },
  {
   "cell_type": "code",
   "execution_count": null,
   "id": "644a948b-34c1-47e5-8b0d-c0f96049a381",
   "metadata": {
    "tags": []
   },
   "outputs": [],
   "source": [
    "filter = (df['count'] >= Q1 - 1.5 * IQR) & (df['count'] < Q3 + 1.5 *IQR )\n",
    "\n",
    "display(df.loc[filter].shape)\n",
    "display(df.shape)\n",
    "\n",
    "df_clean = df.loc[filter]"
   ]
  },
  {
   "cell_type": "code",
   "execution_count": null,
   "id": "69153143-7e03-407f-8f55-ff1717ccdab1",
   "metadata": {
    "tags": []
   },
   "outputs": [],
   "source": [
    "df = df_clean.copy()"
   ]
  },
  {
   "cell_type": "markdown",
   "id": "97b7f1fd-d860-4d1c-94ed-14845d8add41",
   "metadata": {},
   "source": [
    "### Correlation "
   ]
  },
  {
   "cell_type": "code",
   "execution_count": null,
   "id": "26ba8332-f36b-47a5-bd9d-74e47f501ceb",
   "metadata": {
    "tags": []
   },
   "outputs": [],
   "source": [
    "clean_col = [ 'weather', 'temp', 'humidity', 'windspeed', \n",
    "              'year','season', 'month', 'weekday', 'holiday', 'workingday', 'hour',\n",
    "              'casual', 'registered', 'count']\n",
    "\n",
    "correlation = df[clean_col].corr()\n",
    "\n",
    "fig, ax = plt.subplots(figsize=(20,10))\n",
    "mask = np.array(correlation)\n",
    "mask[np.tril_indices_from(mask)] = False\n",
    "sns.heatmap(correlation,square=True,annot=np.round(correlation,2),mask=mask,cmap='coolwarm')"
   ]
  },
  {
   "cell_type": "code",
   "execution_count": null,
   "id": "9f1e0660-bbdd-43ef-91bd-59f9ac98c42f",
   "metadata": {
    "tags": []
   },
   "outputs": [],
   "source": [
    "correlation.index.name = 'category'\n",
    "correlation.T.index.name = 'relevant_category'\n",
    "\n",
    "corr_df = pd.DataFrame(correlation.stack(),columns=['correaltion']).reset_index()\n",
    "corr_df = corr_df.loc[corr_df['category'] != corr_df['relevant_category']]\n",
    "corr_df['rank'] = corr_df.groupby('category')['correaltion'].rank('min',ascending=False).astype(int)\n",
    "corr_df.sort_values('correaltion',ascending=False)"
   ]
  },
  {
   "cell_type": "markdown",
   "id": "d3c7cd6c-43c8-4fbd-b689-940a3196f849",
   "metadata": {
    "tags": []
   },
   "source": [
    "#### [count - features] correlation rank"
   ]
  },
  {
   "cell_type": "code",
   "execution_count": null,
   "id": "231bb69e-0fb3-4547-be3f-68904a827ed0",
   "metadata": {
    "tags": []
   },
   "outputs": [],
   "source": [
    "corr_df[corr_df['category']=='count'].sort_values('rank')"
   ]
  },
  {
   "cell_type": "markdown",
   "id": "f34aec92-b0f1-40e5-9910-af1c617205e6",
   "metadata": {
    "tags": []
   },
   "source": [
    "#### [casual - features] correlation rank"
   ]
  },
  {
   "cell_type": "code",
   "execution_count": null,
   "id": "4ca1d299-dd90-4e5a-967e-cb15e1f2869f",
   "metadata": {
    "tags": []
   },
   "outputs": [],
   "source": [
    "corr_df[corr_df['category']=='casual'].sort_values('rank')"
   ]
  },
  {
   "cell_type": "markdown",
   "id": "0cd7cb8d-ebf1-4f0c-b1df-f4d1b18b6076",
   "metadata": {
    "tags": []
   },
   "source": [
    "#### [registered - features] correlation rank"
   ]
  },
  {
   "cell_type": "code",
   "execution_count": null,
   "id": "7f66cbc0-ad1a-43ec-8b3e-ae0a00934e7f",
   "metadata": {
    "tags": []
   },
   "outputs": [],
   "source": [
    "corr_df[corr_df['category']=='registered'].sort_values('rank')"
   ]
  },
  {
   "cell_type": "code",
   "execution_count": null,
   "id": "7b6fd9d2-c9ce-4423-a4bf-f8a0f3fe31ed",
   "metadata": {},
   "outputs": [],
   "source": [
    "# month, season ,windspeed 는 count, casual, registered 모두에게 corr point 가 낮다."
   ]
  },
  {
   "cell_type": "markdown",
   "id": "4127efc9-9954-4b40-a888-60e29275c359",
   "metadata": {},
   "source": [
    "### Min-Max Scaling : 수치형 자료 "
   ]
  },
  {
   "cell_type": "code",
   "execution_count": null,
   "id": "72665b27-466b-4b8b-9eee-9d94d10548a6",
   "metadata": {
    "tags": []
   },
   "outputs": [],
   "source": [
    "score_cols = ['temp','humidity','windspeed']\n",
    "\n",
    "def min_max_scaling(data):\n",
    "    return (data - data.min()) / (data.max() - data.min())\n",
    "\n",
    "df[score_cols] = df[score_cols].apply(min_max_scaling)"
   ]
  },
  {
   "cell_type": "markdown",
   "id": "b4983d18-f237-4067-8370-03bbe882205e",
   "metadata": {},
   "source": [
    "### One-Hot Encoding : 범주형 자료 "
   ]
  },
  {
   "cell_type": "code",
   "execution_count": null,
   "id": "4d1b1081-52c9-4d57-adf4-fe4f0edbd741",
   "metadata": {
    "tags": []
   },
   "outputs": [],
   "source": [
    "category_col = ['weather', 'month', 'weekday', 'holiday', 'workingday', 'hour']\n",
    "\n",
    "for col in category_col:\n",
    "    df[col] = df[col].astype('category')\n",
    "\n",
    "weather_df = pd.get_dummies(df['weather'],prefix='weather')\n",
    "weather_df = weather_df.astype(int)\n",
    "df=pd.concat([df,weather_df],axis=1)\n",
    "\n",
    "season_df = pd.get_dummies(df['season'],prefix='season')\n",
    "season_df = season_df.astype(int)\n",
    "df=pd.concat([df,season_df],axis=1)"
   ]
  },
  {
   "cell_type": "code",
   "execution_count": null,
   "id": "971772e2-478d-4df5-88e1-c44779e19c1b",
   "metadata": {
    "tags": []
   },
   "outputs": [],
   "source": [
    "# year -> 2011 : 0 , 2012 : 1\n",
    "df.loc[ df['year'] == 2011 ,'year'] = 0\n",
    "df.loc[ df['year'] == 2012 ,'year'] = 1"
   ]
  },
  {
   "cell_type": "markdown",
   "id": "d3ab41e9-3760-4a41-b61e-56c58f7eea29",
   "metadata": {},
   "source": [
    "### Feature Selection "
   ]
  },
  {
   "cell_type": "markdown",
   "id": "7c2824d4-42d0-4a3f-a605-43391b7dae3f",
   "metadata": {},
   "source": [
    "#### 1차 Feature Selection : count, registered, casual 모두에게 영향을 미치지 않는 column 축출"
   ]
  },
  {
   "cell_type": "code",
   "execution_count": null,
   "id": "df38f327-4ca2-4594-949b-8fc4a6d87540",
   "metadata": {
    "tags": []
   },
   "outputs": [],
   "source": [
    "clean_col = [ 'holiday', 'workingday', 'temp',\n",
    "              'humidity', 'windspeed', 'count',\n",
    "              'year', 'weekday', 'hour','month',\n",
    "              'weather_1', 'weather_2', 'weather_3', 'weather_4',\n",
    "              'season_1','season_2', 'season_3', 'season_4'\n",
    "            ]\n",
    "\n",
    "df[clean_col]"
   ]
  },
  {
   "cell_type": "code",
   "execution_count": null,
   "id": "7995102f-d630-48b9-ba68-5b074c5e2a80",
   "metadata": {},
   "outputs": [],
   "source": []
  },
  {
   "cell_type": "markdown",
   "id": "fbb32a7a-0f64-4ba9-9657-9e71e02ea582",
   "metadata": {
    "tags": []
   },
   "source": [
    "## (5) LinearRegression 모델 학습 : Count Predict -> Casual + Registered Predict Model 로 전환"
   ]
  },
  {
   "cell_type": "markdown",
   "id": "3a9dcf41-eba9-43aa-81c0-9c87697aabdb",
   "metadata": {},
   "source": [
    "#### Train-Test Set "
   ]
  },
  {
   "cell_type": "code",
   "execution_count": null,
   "id": "0208ab44-c474-41f0-96ea-21dcd8079e1e",
   "metadata": {
    "tags": []
   },
   "outputs": [],
   "source": [
    "X = df[clean_col].drop(['count'],axis=1)\n",
    "y = df[['casual','registered']]\n",
    "\n",
    "X_train, X_test, y_train, y_test = train_test_split(X,y,test_size=0.2,random_state=36)"
   ]
  },
  {
   "cell_type": "markdown",
   "id": "eff85196-7166-47ec-91c2-85200eef5d39",
   "metadata": {
    "tags": []
   },
   "source": [
    "### Casual Predict"
   ]
  },
  {
   "cell_type": "markdown",
   "id": "2f3d4820-14e9-4494-8beb-3f01f197a0e0",
   "metadata": {},
   "source": [
    "#### LinearRegression 모델 학습 - Casual"
   ]
  },
  {
   "cell_type": "code",
   "execution_count": null,
   "id": "f8096e58-08f5-48f0-b2af-cc677df66817",
   "metadata": {
    "tags": []
   },
   "outputs": [],
   "source": [
    "model = LinearRegression()\n",
    "model.fit(X_train,y_train['casual'])"
   ]
  },
  {
   "cell_type": "code",
   "execution_count": null,
   "id": "801010b3-c844-449a-824e-57e57a7d7257",
   "metadata": {
    "tags": []
   },
   "outputs": [],
   "source": [
    "y_pred_casual = model.predict(X_test)"
   ]
  },
  {
   "cell_type": "code",
   "execution_count": null,
   "id": "6a5f8841-29b0-4fdc-b26b-08476e17fbbc",
   "metadata": {
    "tags": []
   },
   "outputs": [],
   "source": [
    "print(\"Coefficients: \", model.coef_)\n",
    "print(\"Intercept: \", model.intercept_)"
   ]
  },
  {
   "cell_type": "markdown",
   "id": "2a8aa472-78c1-435b-a34c-996fa857d02d",
   "metadata": {},
   "source": [
    "### Registered Predict"
   ]
  },
  {
   "cell_type": "markdown",
   "id": "506dc245-4fc5-46d9-8886-901f956551e3",
   "metadata": {},
   "source": [
    "#### LinearRegression 모델 학습 - Registered"
   ]
  },
  {
   "cell_type": "code",
   "execution_count": null,
   "id": "4a9c21b6-e950-4dc0-9318-9af297a4dc28",
   "metadata": {
    "tags": []
   },
   "outputs": [],
   "source": [
    "model = LinearRegression()"
   ]
  },
  {
   "cell_type": "code",
   "execution_count": null,
   "id": "fd23732b-30c6-4db0-9044-b51c3df60c93",
   "metadata": {
    "tags": []
   },
   "outputs": [],
   "source": [
    "model.fit(X_train,y_train['registered'])"
   ]
  },
  {
   "cell_type": "code",
   "execution_count": null,
   "id": "402c856c-db62-4bb4-88a6-825b1d128415",
   "metadata": {
    "tags": []
   },
   "outputs": [],
   "source": [
    "y_pred_registered = model.predict(X_test)"
   ]
  },
  {
   "cell_type": "code",
   "execution_count": null,
   "id": "90bfd59a-29ed-4675-9d26-7bdc47d87ddb",
   "metadata": {
    "tags": []
   },
   "outputs": [],
   "source": [
    "print(\"Coefficients: \", model.coef_)\n",
    "print(\"Intercept: \", model.intercept_)"
   ]
  },
  {
   "cell_type": "markdown",
   "id": "9b094df4-e9d7-4dc4-8686-1c2fab727160",
   "metadata": {},
   "source": [
    "### Count = Casual + Predict"
   ]
  },
  {
   "cell_type": "code",
   "execution_count": null,
   "id": "689d8e57-505b-46a6-92a1-0100521e1bcc",
   "metadata": {},
   "outputs": [],
   "source": [
    "y_pred_count = y_pred_casual + y_pred_registered       #count(예측) = casual + registered\n",
    "y_test_count = y_test['casual'] + y_test['registered'] #count(test) = casual + registered"
   ]
  },
  {
   "cell_type": "code",
   "execution_count": null,
   "id": "78f3058d-7d34-4284-9697-27417795082b",
   "metadata": {},
   "outputs": [],
   "source": []
  },
  {
   "cell_type": "markdown",
   "id": "ff67b804-5bf1-43a4-8f99-f5ccbbe2b20c",
   "metadata": {},
   "source": [
    "## (6) 학습된 모델로 X_test에 대한 예측값 출력 및 손실함수값 계산"
   ]
  },
  {
   "cell_type": "code",
   "execution_count": null,
   "id": "45b9a10f-e7e5-42a4-88af-6f104045fcca",
   "metadata": {
    "tags": []
   },
   "outputs": [],
   "source": [
    "print(\"MSE: \", mean_squared_error(y_test_count, y_pred_count))\n",
    "print(\"RMSE: \",np.sqrt(mean_squared_error(y_test_count, y_pred_count)))"
   ]
  },
  {
   "cell_type": "markdown",
   "id": "b79d15db-153d-4590-84fe-ab60b87c26de",
   "metadata": {},
   "source": [
    "# 현재 RMSE : 121"
   ]
  },
  {
   "cell_type": "markdown",
   "id": "9fd2deb5-37bb-42f0-abb0-ab445fe23fc6",
   "metadata": {
    "tags": []
   },
   "source": [
    "1차 시도 (baseline) :\n",
    "    - MSE:  20476\n",
    "    - RMSE:  143"
   ]
  },
  {
   "cell_type": "markdown",
   "id": "13adbbb4-c1c7-40b9-a1ce-d7bdecb17384",
   "metadata": {},
   "source": [
    "2차 시도 (min-max Scaling) : 143->122\n",
    "    - MSE:  14972\n",
    "    - RMSE: 122"
   ]
  },
  {
   "cell_type": "markdown",
   "id": "5a1a4baf-3437-4dd3-9230-6b44006596f0",
   "metadata": {},
   "source": [
    "3차 시도 (astype-Category) : 큰 변화 없음\n",
    "    - MSE:  14972\n",
    "    - RMSE: 122"
   ]
  },
  {
   "cell_type": "markdown",
   "id": "e527c213-b48d-43c4-bc77-cbbe239c2f0c",
   "metadata": {
    "tags": []
   },
   "source": [
    "4차 시도 (Casual + Registered) : 122->115 감소\n",
    "    - MSE:  13225\n",
    "    - RMSE: 115"
   ]
  },
  {
   "cell_type": "markdown",
   "id": "e7a92307-9788-4903-8054-29c70f08b9f1",
   "metadata": {
    "tags": []
   },
   "source": [
    "4차 시도 (Casual + Registered) : 122->115 감소\n",
    "    - MSE:  13225\n",
    "    - RMSE: 115"
   ]
  },
  {
   "cell_type": "code",
   "execution_count": null,
   "id": "c02cae52-fd3b-47af-bab5-b7330c89a539",
   "metadata": {},
   "outputs": [],
   "source": [
    "5차 시도 (One-hot Encoding) : 살짝 내려갔음 \n",
    "    - MSE:  13080\n",
    "    - RMSE:  114"
   ]
  },
  {
   "cell_type": "code",
   "execution_count": null,
   "id": "9eb9d603-0f7f-4641-acb3-46fa75ee28f1",
   "metadata": {},
   "outputs": [],
   "source": [
    "6차 시도 (feature_selection(windspeed,season,month)) : RMSE 오히려 증가, MSE 감소\n",
    "    - MSE:  15260\n",
    "    - RMSE:  123"
   ]
  },
  {
   "cell_type": "code",
   "execution_count": null,
   "id": "44717712-4043-4c57-879f-7c6ef01c5c82",
   "metadata": {},
   "outputs": [],
   "source": [
    "7차 시도 (feature 내 True/False 값 -> 1,0 변환 ) : RMSE 증가\n",
    "    - MSE:  17260\n",
    "    - RMSE:  130"
   ]
  },
  {
   "cell_type": "code",
   "execution_count": null,
   "id": "60bb48b8-2cc7-4fc2-9637-ac02bcd8aa73",
   "metadata": {},
   "outputs": [],
   "source": [
    "8차 시도 (Year 값 -> 1,0 변환 ) : RMSE 감소\n",
    "    - MSE:  14700\n",
    "    - RMSE:  121"
   ]
  },
  {
   "cell_type": "markdown",
   "id": "3ee63038-6d66-423d-8bed-715c65dc3bff",
   "metadata": {},
   "source": [
    "## (7) x축은 temp 또는 humidity로, y축은 count로 예측 결과 시각화하기"
   ]
  },
  {
   "cell_type": "code",
   "execution_count": null,
   "id": "de794c6a-818d-45fc-9561-4a3a3c0674ff",
   "metadata": {
    "tags": []
   },
   "outputs": [],
   "source": [
    "sns.scatterplot(x=X_test['temp'],y=y_pred_count)"
   ]
  },
  {
   "cell_type": "code",
   "execution_count": null,
   "id": "f8e98c33-03e5-46e9-817f-7c87d6e42dad",
   "metadata": {
    "tags": []
   },
   "outputs": [],
   "source": [
    "sns.scatterplot(x=X_test['humidity'],y=y_pred_count)"
   ]
  },
  {
   "cell_type": "code",
   "execution_count": null,
   "id": "5d76fe7b-c930-4e3a-b5d3-ba287687bfe4",
   "metadata": {},
   "outputs": [],
   "source": []
  }
 ],
 "metadata": {
  "kernelspec": {
   "display_name": "Python 3 (ipykernel)",
   "language": "python",
   "name": "python3"
  },
  "language_info": {
   "codemirror_mode": {
    "name": "ipython",
    "version": 3
   },
   "file_extension": ".py",
   "mimetype": "text/x-python",
   "name": "python",
   "nbconvert_exporter": "python",
   "pygments_lexer": "ipython3",
   "version": "3.10.10"
  }
 },
 "nbformat": 4,
 "nbformat_minor": 5
}
