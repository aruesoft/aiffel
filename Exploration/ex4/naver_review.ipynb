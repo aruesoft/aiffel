{
 "cells": [
  {
   "cell_type": "markdown",
   "id": "69069557-1b01-4418-bc06-eb113af5e1b1",
   "metadata": {},
   "source": [
    "## 네이버 리뷰 감상 분석"
   ]
  },
  {
   "cell_type": "markdown",
   "id": "829ed23b-9c32-49df-af6f-7a23cc6f7515",
   "metadata": {},
   "source": [
    "## Library & Data Set Load"
   ]
  },
  {
   "cell_type": "code",
   "execution_count": 1,
   "id": "46501724-b136-4535-abc6-541e75bc1def",
   "metadata": {
    "execution": {
     "iopub.execute_input": "2023-05-23T23:21:44.511213Z",
     "iopub.status.busy": "2023-05-23T23:21:44.510524Z",
     "iopub.status.idle": "2023-05-23T23:21:47.352748Z",
     "shell.execute_reply": "2023-05-23T23:21:47.352419Z",
     "shell.execute_reply.started": "2023-05-23T23:21:44.511164Z"
    },
    "tags": []
   },
   "outputs": [],
   "source": [
    "# 기본 라이브러리\n",
    "import pandas as pd\n",
    "import numpy as np\n",
    "import random\n",
    "import matplotlib.pyplot as plt\n",
    "import seaborn as sns\n",
    "from collections import Counter\n",
    "\n",
    "# Word 관련 \n",
    "import konlpy\n",
    "import gensim\n",
    "from konlpy.tag import Mecab\n",
    "from gensim.models.keyedvectors import Word2VecKeyedVectors\n",
    "\n",
    "\n",
    "# 텐서플로\n",
    "import tensorflow as tf\n",
    "from tensorflow.keras.callbacks import EarlyStopping\n",
    "from tensorflow.keras.initializers import Constant\n"
   ]
  },
  {
   "cell_type": "code",
   "execution_count": 2,
   "id": "c7395593-aaee-4b17-8af7-23ae7f54b51f",
   "metadata": {
    "execution": {
     "iopub.execute_input": "2023-05-23T23:21:47.353690Z",
     "iopub.status.busy": "2023-05-23T23:21:47.353486Z",
     "iopub.status.idle": "2023-05-23T23:21:47.601018Z",
     "shell.execute_reply": "2023-05-23T23:21:47.600750Z",
     "shell.execute_reply.started": "2023-05-23T23:21:47.353680Z"
    },
    "tags": []
   },
   "outputs": [
    {
     "data": {
      "text/plain": [
       "(150000, 3)"
      ]
     },
     "metadata": {},
     "output_type": "display_data"
    },
    {
     "data": {
      "text/html": [
       "<div>\n",
       "<style scoped>\n",
       "    .dataframe tbody tr th:only-of-type {\n",
       "        vertical-align: middle;\n",
       "    }\n",
       "\n",
       "    .dataframe tbody tr th {\n",
       "        vertical-align: top;\n",
       "    }\n",
       "\n",
       "    .dataframe thead th {\n",
       "        text-align: right;\n",
       "    }\n",
       "</style>\n",
       "<table border=\"1\" class=\"dataframe\">\n",
       "  <thead>\n",
       "    <tr style=\"text-align: right;\">\n",
       "      <th></th>\n",
       "      <th>id</th>\n",
       "      <th>document</th>\n",
       "      <th>label</th>\n",
       "    </tr>\n",
       "  </thead>\n",
       "  <tbody>\n",
       "    <tr>\n",
       "      <th>0</th>\n",
       "      <td>9976970</td>\n",
       "      <td>아 더빙.. 진짜 짜증나네요 목소리</td>\n",
       "      <td>0</td>\n",
       "    </tr>\n",
       "    <tr>\n",
       "      <th>1</th>\n",
       "      <td>3819312</td>\n",
       "      <td>흠...포스터보고 초딩영화줄....오버연기조차 가볍지 않구나</td>\n",
       "      <td>1</td>\n",
       "    </tr>\n",
       "    <tr>\n",
       "      <th>2</th>\n",
       "      <td>10265843</td>\n",
       "      <td>너무재밓었다그래서보는것을추천한다</td>\n",
       "      <td>0</td>\n",
       "    </tr>\n",
       "    <tr>\n",
       "      <th>3</th>\n",
       "      <td>9045019</td>\n",
       "      <td>교도소 이야기구먼 ..솔직히 재미는 없다..평점 조정</td>\n",
       "      <td>0</td>\n",
       "    </tr>\n",
       "    <tr>\n",
       "      <th>4</th>\n",
       "      <td>6483659</td>\n",
       "      <td>사이몬페그의 익살스런 연기가 돋보였던 영화!스파이더맨에서 늙어보이기만 했던 커스틴 ...</td>\n",
       "      <td>1</td>\n",
       "    </tr>\n",
       "  </tbody>\n",
       "</table>\n",
       "</div>"
      ],
      "text/plain": [
       "         id                                           document  label\n",
       "0   9976970                                아 더빙.. 진짜 짜증나네요 목소리      0\n",
       "1   3819312                  흠...포스터보고 초딩영화줄....오버연기조차 가볍지 않구나      1\n",
       "2  10265843                                  너무재밓었다그래서보는것을추천한다      0\n",
       "3   9045019                      교도소 이야기구먼 ..솔직히 재미는 없다..평점 조정      0\n",
       "4   6483659  사이몬페그의 익살스런 연기가 돋보였던 영화!스파이더맨에서 늙어보이기만 했던 커스틴 ...      1"
      ]
     },
     "metadata": {},
     "output_type": "display_data"
    }
   ],
   "source": [
    "train_data = pd.read_table('./data/ratings_train.txt')\n",
    "test_data = pd.read_table('./data/ratings_test.txt')\n",
    "\n",
    "display(train_data.shape)\n",
    "display(train_data.head())"
   ]
  },
  {
   "cell_type": "markdown",
   "id": "3c4a7f7e-cee2-44fd-8964-c70ea359101a",
   "metadata": {},
   "source": [
    "## Data Loader"
   ]
  },
  {
   "cell_type": "code",
   "execution_count": 3,
   "id": "e2e21ffe-41b2-4d4a-b506-02ca0a9d5c5f",
   "metadata": {
    "execution": {
     "iopub.execute_input": "2023-05-23T23:21:47.601547Z",
     "iopub.status.busy": "2023-05-23T23:21:47.601452Z",
     "iopub.status.idle": "2023-05-23T23:21:47.604823Z",
     "shell.execute_reply": "2023-05-23T23:21:47.604531Z",
     "shell.execute_reply.started": "2023-05-23T23:21:47.601538Z"
    },
    "tags": []
   },
   "outputs": [],
   "source": [
    "tokenizer = Mecab()"
   ]
  },
  {
   "cell_type": "code",
   "execution_count": 4,
   "id": "6f25e15a-09a3-43ac-b77e-c5d504c668fd",
   "metadata": {
    "execution": {
     "iopub.execute_input": "2023-05-23T23:21:47.606066Z",
     "iopub.status.busy": "2023-05-23T23:21:47.605944Z",
     "iopub.status.idle": "2023-05-23T23:21:47.607635Z",
     "shell.execute_reply": "2023-05-23T23:21:47.607378Z",
     "shell.execute_reply.started": "2023-05-23T23:21:47.606056Z"
    },
    "tags": []
   },
   "outputs": [],
   "source": [
    "#stopwords = ['의','가','이','은','들','는','좀','잘','걍','과','도','를','으로','자','에','와','한','하다']\n",
    "num_words = 10000"
   ]
  },
  {
   "cell_type": "code",
   "execution_count": 5,
   "id": "83366bda-1429-46ab-9fc6-923bd47b83d3",
   "metadata": {
    "execution": {
     "iopub.execute_input": "2023-05-23T23:21:47.608113Z",
     "iopub.status.busy": "2023-05-23T23:21:47.608031Z",
     "iopub.status.idle": "2023-05-23T23:21:54.685748Z",
     "shell.execute_reply": "2023-05-23T23:21:54.685354Z",
     "shell.execute_reply.started": "2023-05-23T23:21:47.608105Z"
    },
    "tags": []
   },
   "outputs": [],
   "source": [
    "def load_data(train_data, test_data, num_words=10000):\n",
    "    train_data.drop_duplicates(subset=['document'], inplace=True)\n",
    "    train_data = train_data.dropna(how = 'any') \n",
    "    test_data.drop_duplicates(subset=['document'], inplace=True) # 중복 제거 \n",
    "    test_data = test_data.dropna(how = 'any')  # 결측치 제거\n",
    "    \n",
    "    X_train = []\n",
    "    for sentence in train_data['document']:\n",
    "        temp_X = tokenizer.morphs(sentence) # 토큰화\n",
    "#       temp_X = [word for word in temp_X if not word in stopwords] # 불용어 제거\n",
    "        X_train.append(temp_X)\n",
    "\n",
    "    X_test = []\n",
    "    for sentence in test_data['document']:\n",
    "        temp_X = tokenizer.morphs(sentence) # 토큰화\n",
    "#       temp_X = [word for word in temp_X if not word in stopwords] # 불용어 제거\n",
    "        X_test.append(temp_X)\n",
    "    \n",
    "    words = np.concatenate(X_train).tolist()\n",
    "    counter = Counter(words)\n",
    "    counter = counter.most_common(num_words-4)\n",
    "    \n",
    "    special_words = ['<PAD>', '<BOS>', '<UNK>', '<UNUSED>']\n",
    "    vocab = special_words + [key for key, _ in counter]\n",
    "    word_to_index = {word:index for index, word in enumerate(vocab)}\n",
    "        \n",
    "    def wordlist_to_indexlist(wordlist):\n",
    "        return [word_to_index[word] if word in word_to_index else word_to_index['<UNK>'] for word in wordlist]\n",
    "        \n",
    "    X_train = list(map(wordlist_to_indexlist, X_train))\n",
    "    X_test = list(map(wordlist_to_indexlist, X_test))\n",
    "        \n",
    "    return X_train, np.array(list(train_data['label'])), X_test, np.array(list(test_data['label'])), word_to_index\n",
    "    \n",
    "X_train, y_train, X_test, y_test, word_to_index = load_data(train_data, test_data, num_words)"
   ]
  },
  {
   "cell_type": "code",
   "execution_count": 6,
   "id": "ce81f065-9210-419a-a570-d07ba402e8de",
   "metadata": {
    "execution": {
     "iopub.execute_input": "2023-05-23T23:21:54.686313Z",
     "iopub.status.busy": "2023-05-23T23:21:54.686220Z",
     "iopub.status.idle": "2023-05-23T23:21:54.688651Z",
     "shell.execute_reply": "2023-05-23T23:21:54.688282Z",
     "shell.execute_reply.started": "2023-05-23T23:21:54.686305Z"
    },
    "tags": []
   },
   "outputs": [
    {
     "name": "stdout",
     "output_type": "stream",
     "text": [
      "146182 146182 49157 49157\n"
     ]
    }
   ],
   "source": [
    "print(len(X_train),len(y_train) ,len(X_test) , len(y_test))"
   ]
  },
  {
   "cell_type": "code",
   "execution_count": 7,
   "id": "0af4ea5d-a60e-41e1-850b-34728a15b9ae",
   "metadata": {
    "execution": {
     "iopub.execute_input": "2023-05-23T23:21:54.689083Z",
     "iopub.status.busy": "2023-05-23T23:21:54.688998Z",
     "iopub.status.idle": "2023-05-23T23:21:54.691267Z",
     "shell.execute_reply": "2023-05-23T23:21:54.691011Z",
     "shell.execute_reply.started": "2023-05-23T23:21:54.689075Z"
    },
    "tags": []
   },
   "outputs": [],
   "source": [
    "index_to_word = {index:word for word, index in word_to_index.items()}"
   ]
  },
  {
   "cell_type": "code",
   "execution_count": 8,
   "id": "797dd205-b936-4301-b078-4262b64aac35",
   "metadata": {
    "execution": {
     "iopub.execute_input": "2023-05-23T23:21:54.691815Z",
     "iopub.status.busy": "2023-05-23T23:21:54.691686Z",
     "iopub.status.idle": "2023-05-23T23:21:54.694447Z",
     "shell.execute_reply": "2023-05-23T23:21:54.694222Z",
     "shell.execute_reply.started": "2023-05-23T23:21:54.691805Z"
    },
    "tags": []
   },
   "outputs": [],
   "source": [
    "# 문장 1개를 활용할 딕셔너리와 함께 주면, 단어 인덱스 리스트 벡터로 변환해 주는 함수입니다. \n",
    "# 단, 모든 문장은 <BOS>로 시작하는 것으로 합니다. \n",
    "def get_encoded_sentence(sentence, word_to_index):\n",
    "    return [word_to_index['<BOS>']]+[word_to_index[word] if word in word_to_index else word_to_index['<UNK>'] for word in sentence.split()]\n",
    "\n",
    "# 여러 개의 문장 리스트를 한꺼번에 단어 인덱스 리스트 벡터로 encode해 주는 함수입니다. \n",
    "def get_encoded_sentences(sentences, word_to_index):\n",
    "    return [get_encoded_sentence(sentence, word_to_index) for sentence in sentences]\n",
    "\n",
    "# 숫자 벡터로 encode된 문장을 원래대로 decode하는 함수입니다. \n",
    "def get_decoded_sentence(encoded_sentence, index_to_word):\n",
    "    return ' '.join(index_to_word[index] if index in index_to_word else '<UNK>' for index in encoded_sentence[1:])  #[1:]를 통해 <BOS>를 제외\n",
    "\n",
    "# 여러 개의 숫자 벡터로 encode된 문장을 한꺼번에 원래대로 decode하는 함수입니다. \n",
    "def get_decoded_sentences(encoded_sentences, index_to_word):\n",
    "    return [get_decoded_sentence(encoded_sentence, index_to_word) for encoded_sentence in encoded_sentences]"
   ]
  },
  {
   "cell_type": "code",
   "execution_count": 9,
   "id": "6ff3cbfc-8301-43ec-a8d0-68ca97838e7a",
   "metadata": {
    "execution": {
     "iopub.execute_input": "2023-05-23T23:21:54.695028Z",
     "iopub.status.busy": "2023-05-23T23:21:54.694770Z",
     "iopub.status.idle": "2023-05-23T23:21:54.697682Z",
     "shell.execute_reply": "2023-05-23T23:21:54.697314Z",
     "shell.execute_reply.started": "2023-05-23T23:21:54.695010Z"
    },
    "tags": []
   },
   "outputs": [
    {
     "name": "stdout",
     "output_type": "stream",
     "text": [
      "[8555, 8, 4, 19, 1234, 13, 117, 26, 6, 149, 1666, 28]\n",
      "다 . .. 모 가 잼 있 는 건 쥐 ?\n",
      "Label: 0\n",
      "[6436, 74, 134, 12, 6995, 963, 1009, 2121, 2, 1041, 2, 2]\n",
      "와 하나 의 버디 무비 소녀 버전 <UNK> 온 <UNK> <UNK>\n",
      "Label: 1\n",
      "[2300, 4318, 14, 212, 14, 166, 183, 21, 9968, 4318, 12, 2806, 16, 1465, 24, 437, 9, 21, 1296, 697, 10, 8]\n",
      "디자인 은 괜찮 은 편 인데 , 메카 디자인 의 장점 을 살리 지 못하 고 , 여전히 엉성 하 다\n",
      "Label: 0\n",
      "[3780, 8, 142, 4, 19, 83]\n",
      "다 이건 . .. ㅋㅋㅋ\n",
      "Label: 0\n",
      "[453, 77, 5, 173, 13, 406, 59, 198, 15, 310, 930, 5, 323, 27, 8, 4, 563, 170, 401, 10, 9, 173, 76, 1116, 6]\n",
      "왜 이 이야기 가 시작 되 는지 에 대한 설명 이 전혀 없 다 . 개연 성 부족 하 고 이야기 할 거리 는\n",
      "Label: 1\n",
      "[2805, 332, 112, 69, 107, 86, 59, 6, 166, 4, 409, 30, 101, 6142, 74, 2560, 3290, 25, 18, 7, 52, 317, 104, 58, 26, 153, 48, 4]\n",
      "시리즈 중 최고 라 생각 되 는 편 . 특히 나 알 파치노 와 로버트 드니로 를 한 영화 에서 모두 볼 수 있 다는 점 .\n",
      "Label: 0\n",
      "[1866, 91, 22, 32, 101, 32, 18, 103, 21, 4217, 335, 1794, 1947, 7]\n",
      "사람 들 만 알 만 한 내용 , 고로 표현 력 제로 영화\n",
      "Label: 0\n",
      "[168, 37, 2, 9, 66, 102, 31, 44, 23, 218]\n",
      "안 <UNK> 고 잘 만들 었 네요 ! ㅎㅎ\n",
      "Label: 0\n",
      "[80, 52, 651, 308, 420, 34, 1194, 315, 511, 41, 130, 17, 9, 90, 14, 7, 61, 61]\n",
      "에서 약간 실망 하지만 너무 귀여운 캐릭터 구성 으로 다시 보 고 싶 은 영화 ㅋㅋ ㅋㅋ\n",
      "Label: 1\n",
      "[250, 2711]\n",
      "짬뽕\n",
      "Label: 1\n"
     ]
    }
   ],
   "source": [
    "for i in range(10):\n",
    "    j = random.randint(0,len(X_train))\n",
    "    print(X_train[j])\n",
    "    print(get_decoded_sentence(X_train[j],index_to_word))\n",
    "    print(\"Label:\", y_train[i])\n",
    "## 램덤하게 샘플 분석 결과 특수 문자는 의미가 있음"
   ]
  },
  {
   "cell_type": "markdown",
   "id": "17d683f9-66e4-45dd-9792-62f66c43f4de",
   "metadata": {},
   "source": [
    "## 모델 구성을 위한 데이터 분석 및 가공"
   ]
  },
  {
   "cell_type": "markdown",
   "id": "be540e85-c784-4600-a586-120424a5bf97",
   "metadata": {
    "execution": {
     "iopub.execute_input": "2023-05-23T06:34:58.400609Z",
     "iopub.status.busy": "2023-05-23T06:34:58.400060Z",
     "iopub.status.idle": "2023-05-23T06:34:58.410633Z",
     "shell.execute_reply": "2023-05-23T06:34:58.408764Z",
     "shell.execute_reply.started": "2023-05-23T06:34:58.400578Z"
    }
   },
   "source": [
    "- 데이터셋 내 문장 길이 분포\n",
    "- 적절한 최대 문장 길이 지정\n",
    "- keras.preprocessing.sequence.pad_sequences 을 활용한 패딩 추가"
   ]
  },
  {
   "cell_type": "markdown",
   "id": "37d8f7f3-45eb-4c09-b9fb-326b7eae76e7",
   "metadata": {},
   "source": [
    "### 데이터셋 내 문장 길이 분포(1)"
   ]
  },
  {
   "cell_type": "code",
   "execution_count": 10,
   "id": "44613896-cbc4-453d-92ce-66c4b6c4cede",
   "metadata": {
    "execution": {
     "iopub.execute_input": "2023-05-23T23:21:54.700009Z",
     "iopub.status.busy": "2023-05-23T23:21:54.699865Z",
     "iopub.status.idle": "2023-05-23T23:21:54.717697Z",
     "shell.execute_reply": "2023-05-23T23:21:54.717306Z",
     "shell.execute_reply.started": "2023-05-23T23:21:54.699994Z"
    }
   },
   "outputs": [
    {
     "name": "stdout",
     "output_type": "stream",
     "text": [
      "문장길이 평균 :  18.722948310373248\n",
      "문장길이 최대 :  116\n",
      "문장길이 표준편차 :  15.329465639810111\n",
      "pad_sequences maxlen :  49\n",
      "전체 문장의 0.9346725436292804%가 maxlen 설정값 이내에 포함됩니다. \n"
     ]
    }
   ],
   "source": [
    "total_data_text = list(X_train) + list(X_test)\n",
    "# 텍스트데이터 문장길이의 리스트를 생성한 후\n",
    "num_tokens = [len(tokens) for tokens in total_data_text]\n",
    "num_tokens = np.array(num_tokens)\n",
    "# 문장길이의 평균값, 최대값, 표준편차를 계산해 본다. \n",
    "print('문장길이 평균 : ', np.mean(num_tokens))\n",
    "print('문장길이 최대 : ', np.max(num_tokens))\n",
    "print('문장길이 표준편차 : ', np.std(num_tokens))\n",
    "\n",
    "# 예를들어, 최대 길이를 (평균 + 2*표준편차)로 한다면,  \n",
    "max_tokens = np.mean(num_tokens) + 2 * np.std(num_tokens)\n",
    "maxlen = int(max_tokens)\n",
    "print('pad_sequences maxlen : ', maxlen)\n",
    "print(f'전체 문장의 {np.sum(num_tokens < max_tokens) / len(num_tokens)}%가 maxlen 설정값 이내에 포함됩니다. ')"
   ]
  },
  {
   "cell_type": "markdown",
   "id": "9594d8b8-fca0-441e-b4c5-7fc43bd1d0f3",
   "metadata": {},
   "source": [
    "### 데이터셋 내 문장 길이 분포(2)\n",
    " - X_train, X_test Length -> Dataframe \n",
    " - Describe & Countplot  "
   ]
  },
  {
   "cell_type": "code",
   "execution_count": 11,
   "id": "92387c02-09e0-4c48-9e59-a991a2624878",
   "metadata": {
    "execution": {
     "iopub.execute_input": "2023-05-23T23:21:54.718454Z",
     "iopub.status.busy": "2023-05-23T23:21:54.718295Z",
     "iopub.status.idle": "2023-05-23T23:21:54.833003Z",
     "shell.execute_reply": "2023-05-23T23:21:54.832469Z",
     "shell.execute_reply.started": "2023-05-23T23:21:54.718443Z"
    },
    "tags": []
   },
   "outputs": [],
   "source": [
    "# 리스트 길이 리스트로 만들어주는 함수 이용(X_train+X_test)\n",
    "def get_list_length(data):\n",
    "    l_len = []\n",
    "    for i,l in enumerate(data):\n",
    "        l_len.append([i,len(l)])\n",
    "    return l_len\n",
    "\n",
    "list_len = []\n",
    "for l_list in [X_train,X_test]:\n",
    "    list_len += get_list_length(l_list)"
   ]
  },
  {
   "cell_type": "code",
   "execution_count": 12,
   "id": "f5868150-54d6-4ade-9f0c-08f377fe09b1",
   "metadata": {
    "execution": {
     "iopub.execute_input": "2023-05-23T23:21:54.833757Z",
     "iopub.status.busy": "2023-05-23T23:21:54.833671Z",
     "iopub.status.idle": "2023-05-23T23:21:54.889891Z",
     "shell.execute_reply": "2023-05-23T23:21:54.889452Z",
     "shell.execute_reply.started": "2023-05-23T23:21:54.833749Z"
    },
    "tags": []
   },
   "outputs": [
    {
     "data": {
      "text/html": [
       "<div>\n",
       "<style scoped>\n",
       "    .dataframe tbody tr th:only-of-type {\n",
       "        vertical-align: middle;\n",
       "    }\n",
       "\n",
       "    .dataframe tbody tr th {\n",
       "        vertical-align: top;\n",
       "    }\n",
       "\n",
       "    .dataframe thead th {\n",
       "        text-align: right;\n",
       "    }\n",
       "</style>\n",
       "<table border=\"1\" class=\"dataframe\">\n",
       "  <thead>\n",
       "    <tr style=\"text-align: right;\">\n",
       "      <th></th>\n",
       "      <th>count</th>\n",
       "      <th>mean</th>\n",
       "      <th>std</th>\n",
       "      <th>min</th>\n",
       "      <th>0%</th>\n",
       "      <th>25%</th>\n",
       "      <th>50%</th>\n",
       "      <th>75%</th>\n",
       "      <th>90%</th>\n",
       "      <th>95%</th>\n",
       "      <th>99%</th>\n",
       "      <th>99.9%</th>\n",
       "      <th>max</th>\n",
       "    </tr>\n",
       "  </thead>\n",
       "  <tbody>\n",
       "    <tr>\n",
       "      <th>Idx</th>\n",
       "      <td>195339.0</td>\n",
       "      <td>60882.344115</td>\n",
       "      <td>42737.903271</td>\n",
       "      <td>0.0</td>\n",
       "      <td>0.0</td>\n",
       "      <td>24417.0</td>\n",
       "      <td>48834.0</td>\n",
       "      <td>97346.5</td>\n",
       "      <td>126647.2</td>\n",
       "      <td>136414.1</td>\n",
       "      <td>144227.62</td>\n",
       "      <td>145985.662</td>\n",
       "      <td>146181.0</td>\n",
       "    </tr>\n",
       "    <tr>\n",
       "      <th>Length</th>\n",
       "      <td>195339.0</td>\n",
       "      <td>18.722948</td>\n",
       "      <td>15.329505</td>\n",
       "      <td>1.0</td>\n",
       "      <td>1.0</td>\n",
       "      <td>9.0</td>\n",
       "      <td>14.0</td>\n",
       "      <td>22.0</td>\n",
       "      <td>39.0</td>\n",
       "      <td>56.0</td>\n",
       "      <td>72.00</td>\n",
       "      <td>83.000</td>\n",
       "      <td>116.0</td>\n",
       "    </tr>\n",
       "  </tbody>\n",
       "</table>\n",
       "</div>"
      ],
      "text/plain": [
       "           count          mean           std  min   0%      25%      50%   \n",
       "Idx     195339.0  60882.344115  42737.903271  0.0  0.0  24417.0  48834.0  \\\n",
       "Length  195339.0     18.722948     15.329505  1.0  1.0      9.0     14.0   \n",
       "\n",
       "            75%       90%       95%        99%       99.9%       max  \n",
       "Idx     97346.5  126647.2  136414.1  144227.62  145985.662  146181.0  \n",
       "Length     22.0      39.0      56.0      72.00      83.000     116.0  "
      ]
     },
     "execution_count": 12,
     "metadata": {},
     "output_type": "execute_result"
    }
   ],
   "source": [
    "df_len = pd.DataFrame(list_len,columns=['Idx','Length'])\n",
    "df_len.describe(percentiles=[0,1/4,1/2,3/4,9/10,95/100,99/100,999/1000]).T"
   ]
  },
  {
   "cell_type": "code",
   "execution_count": 13,
   "id": "591b4825-e789-4966-9119-484b0e92d7e7",
   "metadata": {
    "execution": {
     "iopub.execute_input": "2023-05-23T23:21:54.890508Z",
     "iopub.status.busy": "2023-05-23T23:21:54.890427Z",
     "iopub.status.idle": "2023-05-23T23:21:55.160409Z",
     "shell.execute_reply": "2023-05-23T23:21:55.159813Z",
     "shell.execute_reply.started": "2023-05-23T23:21:54.890501Z"
    },
    "tags": []
   },
   "outputs": [
    {
     "data": {
      "image/png": "[encoded data removed]",
      "text/plain": [
       "<Figure size 1800x600 with 1 Axes>"
      ]
     },
     "metadata": {},
     "output_type": "display_data"
    }
   ],
   "source": [
    "fig,ax = plt.subplots(figsize=(18,6))\n",
    "sns.countplot(data=df_len, x='Length',ax=ax)\n",
    "plt.xlim([0,75])\n",
    "plt.tight_layout()\n",
    "plt.show()"
   ]
  },
  {
   "cell_type": "markdown",
   "id": "559f9a77-040c-4754-aec1-d37e7e4e3615",
   "metadata": {},
   "source": [
    "- 95%    : 56\n",
    "- 99%    : 72\n",
    "- 99.99% : 83"
   ]
  },
  {
   "cell_type": "markdown",
   "id": "1c987a1a-22ff-48b8-ab19-75763cd8ade6",
   "metadata": {
    "execution": {
     "iopub.execute_input": "2023-05-23T07:30:13.524079Z",
     "iopub.status.busy": "2023-05-23T07:30:13.523594Z",
     "iopub.status.idle": "2023-05-23T07:30:13.534249Z",
     "shell.execute_reply": "2023-05-23T07:30:13.530127Z",
     "shell.execute_reply.started": "2023-05-23T07:30:13.524050Z"
    }
   },
   "source": [
    "### 적절한 최대 문장 길이 지정\n"
   ]
  },
  {
   "cell_type": "code",
   "execution_count": 14,
   "id": "756c9cdb-e358-4e9a-8b0b-f89269e05564",
   "metadata": {
    "execution": {
     "iopub.execute_input": "2023-05-23T23:21:55.161107Z",
     "iopub.status.busy": "2023-05-23T23:21:55.161010Z",
     "iopub.status.idle": "2023-05-23T23:21:55.162911Z",
     "shell.execute_reply": "2023-05-23T23:21:55.162646Z",
     "shell.execute_reply.started": "2023-05-23T23:21:55.161099Z"
    }
   },
   "outputs": [],
   "source": [
    "maxlen = 72 # 위 분포로 봤을 때 72로 설정하면 99% 커버 \n",
    "vocab_size = len(word_to_index) #현, 10000개\n",
    "word_vector_dim = 16"
   ]
  },
  {
   "cell_type": "markdown",
   "id": "262dea9e-25d9-4050-90af-60681157f2db",
   "metadata": {},
   "source": [
    "### keras.preprocessing.sequence.pad_sequences 을 활용한 패딩 추가"
   ]
  },
  {
   "cell_type": "code",
   "execution_count": 15,
   "id": "a2a93f4c-43fd-48d9-a375-bc72770d1614",
   "metadata": {
    "execution": {
     "iopub.execute_input": "2023-05-23T23:21:55.163488Z",
     "iopub.status.busy": "2023-05-23T23:21:55.163400Z",
     "iopub.status.idle": "2023-05-23T23:21:55.401156Z",
     "shell.execute_reply": "2023-05-23T23:21:55.400825Z",
     "shell.execute_reply.started": "2023-05-23T23:21:55.163480Z"
    },
    "tags": []
   },
   "outputs": [],
   "source": [
    "X_train = tf.keras.preprocessing.sequence.pad_sequences(X_train,\n",
    "                                                       value=word_to_index['<PAD>'],\n",
    "                                                       padding='pre',\n",
    "                                                       maxlen=maxlen)\n",
    "\n",
    "X_test = tf.keras.preprocessing.sequence.pad_sequences(X_test,\n",
    "                                                       value=word_to_index['<PAD>'],\n",
    "                                                       padding='pre',\n",
    "                                                       maxlen=maxlen)"
   ]
  },
  {
   "cell_type": "markdown",
   "id": "36e632dd-14dc-46e0-b235-7f84e1d8d2cf",
   "metadata": {
    "tags": []
   },
   "source": [
    "## 모델 구성 및 Validation Set. 구성"
   ]
  },
  {
   "cell_type": "markdown",
   "id": "7a2a608a-5131-4034-b75a-77d86bd755b0",
   "metadata": {},
   "source": [
    "### 사전 데이터 변수 확인"
   ]
  },
  {
   "cell_type": "code",
   "execution_count": 16,
   "id": "d428516c-406f-4ac5-bea5-ff32ac2a2eeb",
   "metadata": {
    "execution": {
     "iopub.execute_input": "2023-05-23T23:21:55.401700Z",
     "iopub.status.busy": "2023-05-23T23:21:55.401598Z",
     "iopub.status.idle": "2023-05-23T23:21:55.403868Z",
     "shell.execute_reply": "2023-05-23T23:21:55.403611Z",
     "shell.execute_reply.started": "2023-05-23T23:21:55.401691Z"
    },
    "tags": []
   },
   "outputs": [
    {
     "name": "stdout",
     "output_type": "stream",
     "text": [
      "61\n",
      "10000\n",
      "16\n"
     ]
    }
   ],
   "source": [
    "print(maxlen)       # 문장 최대 길이 : 75, 99% 커버 \n",
    "print(vocab_size)    # 단어집 사이즈  : 10000개 테스트 \n",
    "print(word_vector_dim) # 차원 :16"
   ]
  },
  {
   "cell_type": "markdown",
   "id": "c3b2b3cb-f4ec-41dc-99dd-59e2b29f8ece",
   "metadata": {},
   "source": [
    "### 모델용 데이터 분리 "
   ]
  },
  {
   "cell_type": "markdown",
   "id": "9fafe8fd-909b-43fb-822f-9e3efbcda2a9",
   "metadata": {},
   "source": [
    "분리 값 : partial_val\n",
    "len(X_train) * 0.2"
   ]
  },
  {
   "cell_type": "code",
   "execution_count": 17,
   "id": "6c81a265-104d-4c2d-8708-a25fb0bf4696",
   "metadata": {
    "execution": {
     "iopub.execute_input": "2023-05-23T23:21:55.404517Z",
     "iopub.status.busy": "2023-05-23T23:21:55.404386Z",
     "iopub.status.idle": "2023-05-23T23:21:55.406247Z",
     "shell.execute_reply": "2023-05-23T23:21:55.405938Z",
     "shell.execute_reply.started": "2023-05-23T23:21:55.404509Z"
    },
    "tags": []
   },
   "outputs": [],
   "source": [
    "partial_val = int(len(X_train) * 0.2)"
   ]
  },
  {
   "cell_type": "code",
   "execution_count": 18,
   "id": "7991f79d-6083-4ed6-884b-4de93863bf2e",
   "metadata": {
    "execution": {
     "iopub.execute_input": "2023-05-23T23:21:55.407016Z",
     "iopub.status.busy": "2023-05-23T23:21:55.406887Z",
     "iopub.status.idle": "2023-05-23T23:21:55.409500Z",
     "shell.execute_reply": "2023-05-23T23:21:55.409106Z",
     "shell.execute_reply.started": "2023-05-23T23:21:55.407007Z"
    },
    "tags": []
   },
   "outputs": [
    {
     "name": "stdout",
     "output_type": "stream",
     "text": [
      "(116946, 61)\n",
      "(116946,)\n"
     ]
    }
   ],
   "source": [
    "x_val = X_train[:partial_val] \n",
    "y_val = y_train[:partial_val]\n",
    "\n",
    "# validation set을 제외한 나머지 80%\n",
    "partial_x_train = X_train[partial_val:]\n",
    "partial_y_train = y_train[partial_val:]\n",
    "\n",
    "print(partial_x_train.shape)\n",
    "print(partial_y_train.shape)"
   ]
  },
  {
   "cell_type": "markdown",
   "id": "78648798-bae0-4bdd-aa0f-53eabd923996",
   "metadata": {},
   "source": [
    "### LSTM"
   ]
  },
  {
   "cell_type": "code",
   "execution_count": 19,
   "id": "eb1bd866-acd0-4801-a849-b3a2d48e3a6f",
   "metadata": {
    "execution": {
     "iopub.execute_input": "2023-05-23T23:21:55.410471Z",
     "iopub.status.busy": "2023-05-23T23:21:55.410177Z",
     "iopub.status.idle": "2023-05-23T23:21:55.647543Z",
     "shell.execute_reply": "2023-05-23T23:21:55.647269Z",
     "shell.execute_reply.started": "2023-05-23T23:21:55.410443Z"
    },
    "tags": []
   },
   "outputs": [
    {
     "name": "stdout",
     "output_type": "stream",
     "text": [
      "Metal device set to: Apple M1 Pro\n",
      "Model: \"sequential\"\n",
      "_________________________________________________________________\n",
      " Layer (type)                Output Shape              Param #   \n",
      "=================================================================\n",
      " embedding (Embedding)       (None, None, 16)          160000    \n",
      "                                                                 \n",
      " lstm (LSTM)                 (None, 64)                20736     \n",
      "                                                                 \n",
      " dense (Dense)               (None, 8)                 520       \n",
      "                                                                 \n",
      " dense_1 (Dense)             (None, 1)                 9         \n",
      "                                                                 \n",
      "=================================================================\n",
      "Total params: 181,265\n",
      "Trainable params: 181,265\n",
      "Non-trainable params: 0\n",
      "_________________________________________________________________\n"
     ]
    }
   ],
   "source": [
    "lstm_model = tf.keras.Sequential()\n",
    "lstm_model.add(tf.keras.layers.Embedding(vocab_size, word_vector_dim, input_shape=(None,)))\n",
    "lstm_model.add(tf.keras.layers.LSTM(64))                        # 8 - 과적합 현상 발생 -> 16 -> 64 로 조정\n",
    "lstm_model.add(tf.keras.layers.Dense(8, activation='relu'))\n",
    "lstm_model.add(tf.keras.layers.Dense(1, activation='sigmoid'))  # 최종 출력은 긍정/부정을 나타내는 1dim\n",
    "\n",
    "lstm_model.summary()"
   ]
  },
  {
   "cell_type": "code",
   "execution_count": 20,
   "id": "8eb87d0e-599b-4129-9856-e0e83adf2ff5",
   "metadata": {
    "execution": {
     "iopub.execute_input": "2023-05-23T23:21:55.648223Z",
     "iopub.status.busy": "2023-05-23T23:21:55.648133Z",
     "iopub.status.idle": "2023-05-23T23:26:41.299400Z",
     "shell.execute_reply": "2023-05-23T23:26:41.299114Z",
     "shell.execute_reply.started": "2023-05-23T23:21:55.648215Z"
    },
    "tags": []
   },
   "outputs": [
    {
     "name": "stdout",
     "output_type": "stream",
     "text": [
      "Epoch 1/50\n"
     ]
    },
    {
     "name": "stderr",
     "output_type": "stream",
     "text": [
      "2023-05-24 08:21:55.688145: W tensorflow/tsl/platform/profile_utils/cpu_utils.cc:128] Failed to get CPU frequency: 0 Hz\n"
     ]
    },
    {
     "name": "stdout",
     "output_type": "stream",
     "text": [
      "229/229 [==============================] - 37s 159ms/step - loss: 0.4825 - accuracy: 0.7697 - val_loss: 0.3534 - val_accuracy: 0.8476\n",
      "Epoch 2/50\n",
      "229/229 [==============================] - 36s 158ms/step - loss: 0.3380 - accuracy: 0.8565 - val_loss: 0.3472 - val_accuracy: 0.8505\n",
      "Epoch 3/50\n",
      "229/229 [==============================] - 34s 150ms/step - loss: 0.3186 - accuracy: 0.8670 - val_loss: 0.3446 - val_accuracy: 0.8520\n",
      "Epoch 4/50\n",
      "229/229 [==============================] - 35s 153ms/step - loss: 0.3059 - accuracy: 0.8735 - val_loss: 0.3454 - val_accuracy: 0.8510\n",
      "Epoch 5/50\n",
      "229/229 [==============================] - 36s 156ms/step - loss: 0.2975 - accuracy: 0.8775 - val_loss: 0.3510 - val_accuracy: 0.8523\n",
      "Epoch 6/50\n",
      "229/229 [==============================] - 36s 158ms/step - loss: 0.2847 - accuracy: 0.8833 - val_loss: 0.3592 - val_accuracy: 0.8508\n",
      "Epoch 7/50\n",
      "229/229 [==============================] - 35s 154ms/step - loss: 0.2700 - accuracy: 0.8904 - val_loss: 0.3468 - val_accuracy: 0.8554\n",
      "Epoch 8/50\n",
      "229/229 [==============================] - 36s 156ms/step - loss: 0.2559 - accuracy: 0.8966 - val_loss: 0.3454 - val_accuracy: 0.8560\n",
      "Epoch 8: early stopping\n"
     ]
    }
   ],
   "source": [
    "early_stop = EarlyStopping(monitor='accuracy', mode='min', verbose=1, patience=7) # Patience : Loss Graph 값의 증가 패턴을 보고 과적합 방지 위해 \n",
    "                                                                                  # 10-> 7로 조정. 타 모델도 30% -\n",
    "lstm_model.compile(optimizer='adam',\n",
    "              loss='binary_crossentropy',\n",
    "              metrics=['accuracy'])\n",
    "              \n",
    "epochs=50\n",
    "\n",
    "history = lstm_model.fit(partial_x_train,\n",
    "                    partial_y_train,\n",
    "                    epochs=epochs,\n",
    "                    batch_size=512,\n",
    "                    validation_data=(x_val, y_val),\n",
    "                    verbose=1,\n",
    "                    callbacks=[early_stop])"
   ]
  },
  {
   "cell_type": "code",
   "execution_count": 21,
   "id": "72675ba4-7a61-4c01-86ca-15a91afddf52",
   "metadata": {
    "execution": {
     "iopub.execute_input": "2023-05-23T23:26:41.299993Z",
     "iopub.status.busy": "2023-05-23T23:26:41.299907Z",
     "iopub.status.idle": "2023-05-23T23:26:54.208660Z",
     "shell.execute_reply": "2023-05-23T23:26:54.208345Z",
     "shell.execute_reply.started": "2023-05-23T23:26:41.299985Z"
    },
    "tags": []
   },
   "outputs": [
    {
     "name": "stdout",
     "output_type": "stream",
     "text": [
      "1537/1537 - 13s - loss: 0.3545 - accuracy: 0.8496 - 13s/epoch - 8ms/step\n",
      "[0.35449010133743286, 0.8496450185775757]\n"
     ]
    }
   ],
   "source": [
    "lstm_results = lstm_model.evaluate(X_test,  y_test, verbose=2)\n",
    "lstm_history_dict = history.history\n",
    "print(lstm_results)"
   ]
  },
  {
   "cell_type": "code",
   "execution_count": 54,
   "id": "f96cba33-245e-49fb-9147-bb408ff39904",
   "metadata": {
    "execution": {
     "iopub.execute_input": "2023-05-23T23:47:58.505249Z",
     "iopub.status.busy": "2023-05-23T23:47:58.505110Z",
     "iopub.status.idle": "2023-05-23T23:47:58.507011Z",
     "shell.execute_reply": "2023-05-23T23:47:58.506666Z",
     "shell.execute_reply.started": "2023-05-23T23:47:58.505236Z"
    }
   },
   "outputs": [],
   "source": [
    "# loss: 0.3545 - accuracy: 0.8496  - 불용어 제거, Patient 조정 효과"
   ]
  },
  {
   "cell_type": "markdown",
   "id": "d10f4a57-b878-46c4-b80a-dca2e51eef64",
   "metadata": {
    "tags": []
   },
   "source": [
    "### 1-D Convolution Neural Network(1-D CNN)"
   ]
  },
  {
   "cell_type": "code",
   "execution_count": 22,
   "id": "e469176b-bafa-4e3e-a1e3-6b2d6ef2a674",
   "metadata": {
    "execution": {
     "iopub.execute_input": "2023-05-23T23:26:54.209264Z",
     "iopub.status.busy": "2023-05-23T23:26:54.209149Z",
     "iopub.status.idle": "2023-05-23T23:26:54.258940Z",
     "shell.execute_reply": "2023-05-23T23:26:54.258668Z",
     "shell.execute_reply.started": "2023-05-23T23:26:54.209253Z"
    },
    "tags": []
   },
   "outputs": [
    {
     "name": "stdout",
     "output_type": "stream",
     "text": [
      "Model: \"sequential_1\"\n",
      "_________________________________________________________________\n",
      " Layer (type)                Output Shape              Param #   \n",
      "=================================================================\n",
      " embedding_1 (Embedding)     (None, None, 16)          160000    \n",
      "                                                                 \n",
      " conv1d (Conv1D)             (None, None, 16)          1808      \n",
      "                                                                 \n",
      " max_pooling1d (MaxPooling1D  (None, None, 16)         0         \n",
      " )                                                               \n",
      "                                                                 \n",
      " conv1d_1 (Conv1D)           (None, None, 16)          1808      \n",
      "                                                                 \n",
      " global_max_pooling1d (Globa  (None, 16)               0         \n",
      " lMaxPooling1D)                                                  \n",
      "                                                                 \n",
      " dense_2 (Dense)             (None, 8)                 136       \n",
      "                                                                 \n",
      " dense_3 (Dense)             (None, 1)                 9         \n",
      "                                                                 \n",
      "=================================================================\n",
      "Total params: 163,761\n",
      "Trainable params: 163,761\n",
      "Non-trainable params: 0\n",
      "_________________________________________________________________\n"
     ]
    }
   ],
   "source": [
    "dcnn_model = tf.keras.Sequential()\n",
    "dcnn_model.add(tf.keras.layers.Embedding(vocab_size, word_vector_dim, input_shape=(None,)))\n",
    "dcnn_model.add(tf.keras.layers.Conv1D(16, 7, activation='relu'))\n",
    "dcnn_model.add(tf.keras.layers.MaxPooling1D(5))\n",
    "dcnn_model.add(tf.keras.layers.Conv1D(16, 7, activation='relu'))\n",
    "dcnn_model.add(tf.keras.layers.GlobalMaxPooling1D())\n",
    "dcnn_model.add(tf.keras.layers.Dense(8, activation='relu'))\n",
    "dcnn_model.add(tf.keras.layers.Dense(1, activation='sigmoid'))  # 최종 출력은 긍정/부정을 나타내는 1dim 입니다.\n",
    "\n",
    "dcnn_model.summary()"
   ]
  },
  {
   "cell_type": "code",
   "execution_count": 23,
   "id": "8ae48abc-9b4b-4e0c-82f0-3dcf0b29e5c7",
   "metadata": {
    "execution": {
     "iopub.execute_input": "2023-05-23T23:26:54.263068Z",
     "iopub.status.busy": "2023-05-23T23:26:54.262897Z",
     "iopub.status.idle": "2023-05-23T23:29:08.580221Z",
     "shell.execute_reply": "2023-05-23T23:29:08.579910Z",
     "shell.execute_reply.started": "2023-05-23T23:26:54.263058Z"
    },
    "tags": []
   },
   "outputs": [
    {
     "name": "stdout",
     "output_type": "stream",
     "text": [
      "Epoch 1/50\n",
      "229/229 [==============================] - 30s 131ms/step - loss: 0.4975 - accuracy: 0.7538 - val_loss: 0.3501 - val_accuracy: 0.8461\n",
      "Epoch 2/50\n",
      "229/229 [==============================] - 27s 119ms/step - loss: 0.3217 - accuracy: 0.8636 - val_loss: 0.3307 - val_accuracy: 0.8574\n",
      "Epoch 3/50\n",
      "229/229 [==============================] - 27s 118ms/step - loss: 0.2846 - accuracy: 0.8822 - val_loss: 0.3300 - val_accuracy: 0.8587\n",
      "Epoch 4/50\n",
      "229/229 [==============================] - 25s 109ms/step - loss: 0.2541 - accuracy: 0.8973 - val_loss: 0.3382 - val_accuracy: 0.8572\n",
      "Epoch 5/50\n",
      "229/229 [==============================] - 25s 109ms/step - loss: 0.2239 - accuracy: 0.9123 - val_loss: 0.3514 - val_accuracy: 0.8554\n",
      "Epoch 5: early stopping\n"
     ]
    }
   ],
   "source": [
    "early_stop = EarlyStopping(monitor='accuracy', mode='min', verbose=1, patience=4)    # 10-> 5-> 4 로 조정\n",
    "\n",
    "dcnn_model.compile(optimizer='adam',\n",
    "              loss='binary_crossentropy',\n",
    "              metrics=['accuracy'])\n",
    "              \n",
    "epochs=50  \n",
    "\n",
    "history = dcnn_model.fit(partial_x_train,\n",
    "                    partial_y_train,\n",
    "                    epochs=epochs,\n",
    "                    batch_size=512,\n",
    "                    validation_data=(x_val, y_val),\n",
    "                    verbose=1,\n",
    "                    callbacks=[early_stop])"
   ]
  },
  {
   "cell_type": "code",
   "execution_count": 24,
   "id": "3f8f811a-c384-413c-89e0-462d127d3bff",
   "metadata": {
    "execution": {
     "iopub.execute_input": "2023-05-23T23:29:08.580877Z",
     "iopub.status.busy": "2023-05-23T23:29:08.580780Z",
     "iopub.status.idle": "2023-05-23T23:29:12.972858Z",
     "shell.execute_reply": "2023-05-23T23:29:12.972567Z",
     "shell.execute_reply.started": "2023-05-23T23:29:08.580869Z"
    },
    "tags": []
   },
   "outputs": [
    {
     "name": "stdout",
     "output_type": "stream",
     "text": [
      "1537/1537 - 4s - loss: 0.3647 - accuracy: 0.8489 - 4s/epoch - 3ms/step\n",
      "[0.364749550819397, 0.8488516211509705]\n"
     ]
    }
   ],
   "source": [
    "dcnn_results = dcnn_model.evaluate(X_test,  y_test, verbose=2)\n",
    "dcnn_history_dict = history.history\n",
    "\n",
    "print(dcnn_results)"
   ]
  },
  {
   "cell_type": "code",
   "execution_count": null,
   "id": "d15906be-f315-48af-bceb-9f7238b01f57",
   "metadata": {},
   "outputs": [],
   "source": [
    "# loss: 0.3647 - accuracy: 0.8489"
   ]
  },
  {
   "cell_type": "markdown",
   "id": "c743c6ba-f540-4bf6-8b7d-044143d9e41f",
   "metadata": {},
   "source": [
    "### GlobalMaxPooling1D()"
   ]
  },
  {
   "cell_type": "code",
   "execution_count": 25,
   "id": "dfbb680e-9a21-433f-8845-15fbeae4c0c4",
   "metadata": {
    "execution": {
     "iopub.execute_input": "2023-05-23T23:29:12.973415Z",
     "iopub.status.busy": "2023-05-23T23:29:12.973326Z",
     "iopub.status.idle": "2023-05-23T23:29:12.997153Z",
     "shell.execute_reply": "2023-05-23T23:29:12.996759Z",
     "shell.execute_reply.started": "2023-05-23T23:29:12.973406Z"
    }
   },
   "outputs": [
    {
     "name": "stdout",
     "output_type": "stream",
     "text": [
      "Model: \"sequential_2\"\n",
      "_________________________________________________________________\n",
      " Layer (type)                Output Shape              Param #   \n",
      "=================================================================\n",
      " embedding_2 (Embedding)     (None, None, 16)          160000    \n",
      "                                                                 \n",
      " global_max_pooling1d_1 (Glo  (None, 16)               0         \n",
      " balMaxPooling1D)                                                \n",
      "                                                                 \n",
      " dense_4 (Dense)             (None, 8)                 136       \n",
      "                                                                 \n",
      " dense_5 (Dense)             (None, 1)                 9         \n",
      "                                                                 \n",
      "=================================================================\n",
      "Total params: 160,145\n",
      "Trainable params: 160,145\n",
      "Non-trainable params: 0\n",
      "_________________________________________________________________\n"
     ]
    }
   ],
   "source": [
    "gmp_model = tf.keras.Sequential()\n",
    "gmp_model.add(tf.keras.layers.Embedding(vocab_size, word_vector_dim, input_shape=(None,)))\n",
    "gmp_model.add(tf.keras.layers.GlobalMaxPooling1D())\n",
    "gmp_model.add(tf.keras.layers.Dense(8, activation='relu'))\n",
    "gmp_model.add(tf.keras.layers.Dense(1, activation='sigmoid'))  # 최종 출력은 긍정/부정을 나타내는 1dim 입니다.\n",
    "\n",
    "gmp_model.summary()"
   ]
  },
  {
   "cell_type": "code",
   "execution_count": 26,
   "id": "6b3b32e5-5213-4f74-a626-12903c397b56",
   "metadata": {
    "execution": {
     "iopub.execute_input": "2023-05-23T23:29:12.998115Z",
     "iopub.status.busy": "2023-05-23T23:29:12.997943Z",
     "iopub.status.idle": "2023-05-23T23:29:39.600454Z",
     "shell.execute_reply": "2023-05-23T23:29:39.600147Z",
     "shell.execute_reply.started": "2023-05-23T23:29:12.998101Z"
    },
    "tags": []
   },
   "outputs": [
    {
     "name": "stdout",
     "output_type": "stream",
     "text": [
      "Epoch 1/50\n",
      "229/229 [==============================] - 9s 40ms/step - loss: 0.5993 - accuracy: 0.7566 - val_loss: 0.4425 - val_accuracy: 0.8203\n",
      "Epoch 2/50\n",
      "229/229 [==============================] - 3s 15ms/step - loss: 0.3829 - accuracy: 0.8382 - val_loss: 0.3614 - val_accuracy: 0.8400\n",
      "Epoch 3/50\n",
      "229/229 [==============================] - 3s 11ms/step - loss: 0.3270 - accuracy: 0.8623 - val_loss: 0.3487 - val_accuracy: 0.8462\n",
      "Epoch 4/50\n",
      "229/229 [==============================] - 2s 10ms/step - loss: 0.2976 - accuracy: 0.8767 - val_loss: 0.3479 - val_accuracy: 0.8476\n",
      "Epoch 5/50\n",
      "229/229 [==============================] - 2s 10ms/step - loss: 0.2759 - accuracy: 0.8875 - val_loss: 0.3513 - val_accuracy: 0.8481\n",
      "Epoch 6/50\n",
      "229/229 [==============================] - 2s 9ms/step - loss: 0.2578 - accuracy: 0.8964 - val_loss: 0.3578 - val_accuracy: 0.8480\n",
      "Epoch 7/50\n",
      "229/229 [==============================] - 2s 9ms/step - loss: 0.2425 - accuracy: 0.9041 - val_loss: 0.3656 - val_accuracy: 0.8478\n",
      "Epoch 8/50\n",
      "229/229 [==============================] - 2s 9ms/step - loss: 0.2288 - accuracy: 0.9102 - val_loss: 0.3757 - val_accuracy: 0.8464\n",
      "Epoch 8: early stopping\n"
     ]
    }
   ],
   "source": [
    "early_stop = EarlyStopping(monitor='accuracy', mode='min', verbose=1, patience=7)\n",
    "\n",
    "gmp_model.compile(optimizer='adam',\n",
    "              loss='binary_crossentropy',\n",
    "              metrics=['accuracy'])\n",
    "              \n",
    "epochs=50  # 몇 epoch를 훈련하면 좋을지 결과를 보면서 바꾸어 봅시다. \n",
    "\n",
    "history = gmp_model.fit(partial_x_train,\n",
    "                    partial_y_train,\n",
    "                    epochs=epochs,\n",
    "                    batch_size=512,\n",
    "                    validation_data=(x_val, y_val),\n",
    "                    verbose=1,\n",
    "                    callbacks=[early_stop])"
   ]
  },
  {
   "cell_type": "code",
   "execution_count": 27,
   "id": "752ff8a2-a1bf-4cf9-920e-ecd44e2593e4",
   "metadata": {
    "execution": {
     "iopub.execute_input": "2023-05-23T23:29:39.601120Z",
     "iopub.status.busy": "2023-05-23T23:29:39.601031Z",
     "iopub.status.idle": "2023-05-23T23:29:43.873251Z",
     "shell.execute_reply": "2023-05-23T23:29:43.872981Z",
     "shell.execute_reply.started": "2023-05-23T23:29:39.601111Z"
    },
    "tags": []
   },
   "outputs": [
    {
     "name": "stdout",
     "output_type": "stream",
     "text": [
      "1537/1537 - 4s - loss: 0.3868 - accuracy: 0.8406 - 4s/epoch - 3ms/step\n",
      "[0.38680386543273926, 0.8406330943107605]\n"
     ]
    }
   ],
   "source": [
    "gmp_results = gmp_model.evaluate(X_test,  y_test, verbose=2)\n",
    "gmp_history_dict = history.history\n",
    "\n",
    "print(gmp_results)"
   ]
  },
  {
   "cell_type": "code",
   "execution_count": null,
   "id": "d3276f96-7620-4564-bd27-b891a62cada3",
   "metadata": {
    "tags": []
   },
   "outputs": [],
   "source": [
    "# loss: 0.3868 - accuracy: 0.8406"
   ]
  },
  {
   "cell_type": "markdown",
   "id": "ff8c1f85-d044-4ac9-af65-634eb3e62089",
   "metadata": {},
   "source": [
    "### 각 모델별 Loss & Accuracy 분석"
   ]
  },
  {
   "cell_type": "code",
   "execution_count": 28,
   "id": "9bd0d76d-f4e1-45e9-b17a-9f4d1d8cee4e",
   "metadata": {
    "execution": {
     "iopub.execute_input": "2023-05-23T23:29:43.873879Z",
     "iopub.status.busy": "2023-05-23T23:29:43.873781Z",
     "iopub.status.idle": "2023-05-23T23:29:43.876003Z",
     "shell.execute_reply": "2023-05-23T23:29:43.875725Z",
     "shell.execute_reply.started": "2023-05-23T23:29:43.873869Z"
    },
    "tags": []
   },
   "outputs": [],
   "source": [
    "model_dic = {'lstm_model':lstm_model,'dcnn_model':dcnn_model,'gmp_model':gmp_model}\n",
    "model_list = list(model_dic.values())\n",
    "model_name_list = list(model_dic.keys())\n",
    "history_list = [lstm_history_dict,dcnn_history_dict ,gmp_history_dict]"
   ]
  },
  {
   "cell_type": "code",
   "execution_count": 29,
   "id": "9e981b5c-6504-4baf-b50e-189681368589",
   "metadata": {
    "execution": {
     "iopub.execute_input": "2023-05-23T23:29:43.876447Z",
     "iopub.status.busy": "2023-05-23T23:29:43.876362Z",
     "iopub.status.idle": "2023-05-23T23:29:44.338518Z",
     "shell.execute_reply": "2023-05-23T23:29:44.338217Z",
     "shell.execute_reply.started": "2023-05-23T23:29:43.876439Z"
    },
    "tags": []
   },
   "outputs": [
    {
     "data": {
      "image/png": "[encoded data removed]",
      "text/plain": [
       "<Figure size 800x300 with 2 Axes>"
      ]
     },
     "metadata": {},
     "output_type": "display_data"
    },
    {
     "data": {
      "image/png": "[encoded data removed]",
      "text/plain": [
       "<Figure size 800x300 with 2 Axes>"
      ]
     },
     "metadata": {},
     "output_type": "display_data"
    },
    {
     "data": {
      "image/png": "[encoded data removed]",
      "text/plain": [
       "<Figure size 800x300 with 2 Axes>"
      ]
     },
     "metadata": {},
     "output_type": "display_data"
    }
   ],
   "source": [
    "for i, history_dict in enumerate(history_list):\n",
    "    acc = history_dict['accuracy']\n",
    "    val_acc = history_dict['val_accuracy']\n",
    "    loss = history_dict['loss']\n",
    "    val_loss = history_dict['val_loss']\n",
    "    epochs = range(1, len(acc) + 1)\n",
    "\n",
    "    fig, axs = plt.subplots(1, 2, figsize=(8, 3))\n",
    "\n",
    "    plt.subplot(1, 2, 1)\n",
    "    sns.lineplot(x=epochs, y=val_acc, c='r', label='Validation Accuracy')\n",
    "    sns.lineplot(x=epochs, y=acc, c='b', label='Training Accuracy')\n",
    "    plt.title('{} - Accuracy'.format(model_name_list[i]))\n",
    "    plt.xlabel('Epochs')\n",
    "    plt.ylabel('Accuracy')\n",
    "    plt.legend()\n",
    "\n",
    "    plt.subplot(1, 2, 2)\n",
    "    sns.lineplot(x=epochs, y=val_loss, c='r', label='Validation Loss')\n",
    "    sns.lineplot(x=epochs, y=loss, c='b', label='Training Loss')\n",
    "    plt.title('{} - Loss'.format(model_name_list[i]))\n",
    "    plt.xlabel('Epochs')\n",
    "    plt.ylabel('Loss')\n",
    "    plt.legend()\n",
    "\n",
    "    plt.tight_layout()\n",
    "    plt.show()"
   ]
  },
  {
   "cell_type": "markdown",
   "id": "6b7f8c7e-f8c1-42ea-8a0a-9e701960fa0e",
   "metadata": {},
   "source": [
    "## 학습된 Embedding 레이어 분석\n"
   ]
  },
  {
   "cell_type": "code",
   "execution_count": 30,
   "id": "c74e70fc-9968-4e60-b4f0-324b5b8e923c",
   "metadata": {
    "execution": {
     "iopub.execute_input": "2023-05-23T23:29:44.339074Z",
     "iopub.status.busy": "2023-05-23T23:29:44.338981Z",
     "iopub.status.idle": "2023-05-23T23:29:44.341090Z",
     "shell.execute_reply": "2023-05-23T23:29:44.340824Z",
     "shell.execute_reply.started": "2023-05-23T23:29:44.339065Z"
    }
   },
   "outputs": [],
   "source": [
    "word2vec_file_path = './data/word2vec.txt'"
   ]
  },
  {
   "cell_type": "code",
   "execution_count": 31,
   "id": "75578bd9-0b6b-4a28-aa0f-6f2acd949152",
   "metadata": {
    "execution": {
     "iopub.execute_input": "2023-05-23T23:29:44.341539Z",
     "iopub.status.busy": "2023-05-23T23:29:44.341461Z",
     "iopub.status.idle": "2023-05-23T23:29:44.343645Z",
     "shell.execute_reply": "2023-05-23T23:29:44.343364Z",
     "shell.execute_reply.started": "2023-05-23T23:29:44.341531Z"
    }
   },
   "outputs": [],
   "source": [
    "model_dic = {'lstm_model':lstm_model,'dcnn_model':dcnn_model,'gmp_model':gmp_model}\n",
    "model_list = list(model_dic.values())\n",
    "model_name_list = list(model_dic.keys())"
   ]
  },
  {
   "cell_type": "code",
   "execution_count": 32,
   "id": "63dcbb72-2e8b-4baa-aeaa-cf671f117739",
   "metadata": {
    "execution": {
     "iopub.execute_input": "2023-05-23T23:29:44.344258Z",
     "iopub.status.busy": "2023-05-23T23:29:44.344176Z",
     "iopub.status.idle": "2023-05-23T23:29:44.749800Z",
     "shell.execute_reply": "2023-05-23T23:29:44.749482Z",
     "shell.execute_reply.started": "2023-05-23T23:29:44.344250Z"
    },
    "tags": []
   },
   "outputs": [
    {
     "name": "stdout",
     "output_type": "stream",
     "text": [
      "lstm_model 모델 \n",
      "...............................\n",
      "슬픈 의 유사 단어 및 유사도\n"
     ]
    },
    {
     "data": {
      "text/plain": [
       "[('정석', 0.9663476347923279),\n",
       " ('후련', 0.9658774733543396),\n",
       " ('편안', 0.9628761410713196),\n",
       " ('ost', 0.9610080122947693),\n",
       " ('짱', 0.9602212309837341),\n",
       " ('다름', 0.9593629240989685),\n",
       " ('짐캐리', 0.9572098255157471),\n",
       " ('악인', 0.9569932222366333),\n",
       " ('맷데이먼', 0.9533761739730835),\n",
       " ('색다른', 0.9523739814758301)]"
      ]
     },
     "metadata": {},
     "output_type": "display_data"
    },
    {
     "name": "stdout",
     "output_type": "stream",
     "text": [
      "봉준호 의 유사 단어 및 유사도\n"
     ]
    },
    {
     "data": {
      "text/plain": [
       "[('날아가', 0.9422581195831299),\n",
       " ('지났', 0.9354712963104248),\n",
       " ('챙기', 0.9307171106338501),\n",
       " ('능가', 0.9303329586982727),\n",
       " ('사소', 0.9293579459190369),\n",
       " ('픈', 0.9276475310325623),\n",
       " ('얽힌', 0.9252480268478394),\n",
       " ('보듬', 0.9215182662010193),\n",
       " ('귀여', 0.9207029342651367),\n",
       " ('문자', 0.9187232851982117)]"
      ]
     },
     "metadata": {},
     "output_type": "display_data"
    },
    {
     "name": "stdout",
     "output_type": "stream",
     "text": [
      "-------------------------------\n",
      "dcnn_model 모델 \n",
      "...............................\n",
      "슬픈 의 유사 단어 및 유사도\n"
     ]
    },
    {
     "data": {
      "text/plain": [
       "[('똥파리', 0.9249952435493469),\n",
       " ('만족', 0.9151822924613953),\n",
       " ('굳', 0.9132021069526672),\n",
       " ('리암니슨', 0.9126224517822266),\n",
       " ('~!!!', 0.9065041542053223),\n",
       " ('놀랍', 0.9035006761550903),\n",
       " ('♥', 0.8993571996688843),\n",
       " ('올림', 0.8985438346862793),\n",
       " ('끌리', 0.8977653980255127),\n",
       " ('♡♡♡', 0.8976473808288574)]"
      ]
     },
     "metadata": {},
     "output_type": "display_data"
    },
    {
     "name": "stdout",
     "output_type": "stream",
     "text": [
      "봉준호 의 유사 단어 및 유사도\n"
     ]
    },
    {
     "data": {
      "text/plain": [
       "[('상쾌', 0.908328652381897),\n",
       " ('일생', 0.8846622705459595),\n",
       " ('드디어', 0.8680011034011841),\n",
       " ('잴', 0.8550568222999573),\n",
       " ('양념', 0.8543450832366943),\n",
       " ('오즈', 0.8525142073631287),\n",
       " ('막힌다', 0.8490297198295593),\n",
       " ('반대편', 0.8483763933181763),\n",
       " ('픽사', 0.8441802859306335),\n",
       " ('만족', 0.8427196741104126)]"
      ]
     },
     "metadata": {},
     "output_type": "display_data"
    },
    {
     "name": "stdout",
     "output_type": "stream",
     "text": [
      "-------------------------------\n",
      "gmp_model 모델 \n",
      "...............................\n",
      "슬픈 의 유사 단어 및 유사도\n"
     ]
    },
    {
     "data": {
      "text/plain": [
       "[('직장인', 0.9139824509620667),\n",
       " ('륵', 0.9123013019561768),\n",
       " ('봣던', 0.9114247560501099),\n",
       " ('양자경', 0.8939527869224548),\n",
       " ('오랜만', 0.8877859115600586),\n",
       " ('특유', 0.877410888671875),\n",
       " ('유년', 0.8735656142234802),\n",
       " ('ㅠㅠ진짜', 0.8540172576904297),\n",
       " ('우디', 0.8419033288955688),\n",
       " ('입감', 0.8376177549362183)]"
      ]
     },
     "metadata": {},
     "output_type": "display_data"
    },
    {
     "name": "stdout",
     "output_type": "stream",
     "text": [
      "봉준호 의 유사 단어 및 유사도\n"
     ]
    },
    {
     "data": {
      "text/plain": [
       "[('의상', 0.9091278910636902),\n",
       " ('콜린스', 0.8805391788482666),\n",
       " ('.^^', 0.8764849901199341),\n",
       " ('사운드', 0.8760369420051575),\n",
       " ('린다', 0.8750749826431274),\n",
       " ('움직이', 0.8711040616035461),\n",
       " ('귀여움', 0.8680326342582703),\n",
       " ('기타', 0.8647342920303345),\n",
       " ('낭만', 0.8612778782844543),\n",
       " ('헌신', 0.858860433101654)]"
      ]
     },
     "metadata": {},
     "output_type": "display_data"
    },
    {
     "name": "stdout",
     "output_type": "stream",
     "text": [
      "-------------------------------\n"
     ]
    }
   ],
   "source": [
    "for i,model in enumerate(model_list):\n",
    "    print('{} 모델 '.format(model_name_list[i]))\n",
    "    print('...............................')\n",
    "    # 임베딩 레이어 차원 확인\n",
    "    embedding_layer = model.layers[0]\n",
    "    weights = embedding_layer.get_weights()[0]\n",
    "    #print(weights.shape)    # shape: (vocab_size, embedding_dim)\n",
    "    \n",
    "    word2vec_file_path = './data/word2vec_{}.txt'.format(model_name_list[i])\n",
    "\n",
    "    f = open(word2vec_file_path, 'w')\n",
    "    f.write('{} {}\\n'.format(vocab_size-4, word_vector_dim))  # 몇개의 벡터를 얼마 사이즈로 기재할지 타이틀을 씁니다.\n",
    "\n",
    "    # 단어 개수(특수문자 4개는 제외)만큼의 워드 벡터를 파일에 기록\n",
    "    vectors = model.get_weights()[0]\n",
    "    for i in range(4,vocab_size):\n",
    "        f.write('{} {}\\n'.format(index_to_word[i], ' '.join(map(str, list(vectors[i, :])))))\n",
    "    f.close()\n",
    "    \n",
    "    word_vectors = Word2VecKeyedVectors.load_word2vec_format(word2vec_file_path, binary=False)\n",
    "\n",
    "    # 유사한 단어와 그 유사도 확인\n",
    "    print('슬픈 의 유사 단어 및 유사도')\n",
    "    display(word_vectors.similar_by_word(\"슬픈\"))\n",
    "    print('봉준호 의 유사 단어 및 유사도')\n",
    "    display(word_vectors.similar_by_word(\"봉준호\"))\n",
    "    print('-------------------------------')"
   ]
  },
  {
   "cell_type": "code",
   "execution_count": null,
   "id": "1134fc0b-a6e3-49df-8928-59dc77171042",
   "metadata": {},
   "outputs": [],
   "source": []
  },
  {
   "cell_type": "markdown",
   "id": "c0f60e13-120b-45c5-aec8-dd81e393fb1d",
   "metadata": {},
   "source": [
    "## 한국어 Word2Vec 임베딩 활용하여 성능 개선\n"
   ]
  },
  {
   "cell_type": "markdown",
   "id": "f56481d1-7c47-46e8-bc5f-bc88b0b58bb0",
   "metadata": {},
   "source": [
    " - 한국어 Word2Vec은 /data 폴더 안에 있는 word2vec_ko.model을 활용하세요.\n",
    " - 한국어 Word2Vec을 활용할 때는 load_word2vec_format() 형태가 아닌 load() 형태로 모델을 불러와주세요.  \n",
    " - 또한 모델을 활용할 때에는 아래 예시와 같이 .wv를 붙여서 활용합니다. 좀더 자세한 활용법에 대해선 다음 링크들을 참조해주세요.  \n",
    " - [참고 링크1](https://radimrehurek.com/gensim/auto_examples/tutorials/run_word2vec.html#storing-and-loading-models), [참고 링크2](https://radimrehurek.com/gensim/models/keyedvectors.html)"
   ]
  },
  {
   "cell_type": "code",
   "execution_count": 33,
   "id": "514c5354-b2fc-44bb-b78e-f870c54788e4",
   "metadata": {
    "execution": {
     "iopub.execute_input": "2023-05-23T23:29:44.750272Z",
     "iopub.status.busy": "2023-05-23T23:29:44.750189Z",
     "iopub.status.idle": "2023-05-23T23:29:47.221651Z",
     "shell.execute_reply": "2023-05-23T23:29:47.221322Z",
     "shell.execute_reply.started": "2023-05-23T23:29:44.750265Z"
    },
    "tags": []
   },
   "outputs": [],
   "source": [
    "word2vec_file_path = './data/word2vec_ko.model'\n",
    "word_vectors = Word2VecKeyedVectors.load(word2vec_file_path)"
   ]
  },
  {
   "cell_type": "code",
   "execution_count": 34,
   "id": "6be6386d-2bea-487b-84d0-d0cc67064915",
   "metadata": {
    "execution": {
     "iopub.execute_input": "2023-05-23T23:29:47.222288Z",
     "iopub.status.busy": "2023-05-23T23:29:47.222187Z",
     "iopub.status.idle": "2023-05-23T23:29:47.253242Z",
     "shell.execute_reply": "2023-05-23T23:29:47.252959Z",
     "shell.execute_reply.started": "2023-05-23T23:29:47.222279Z"
    }
   },
   "outputs": [
    {
     "data": {
      "text/plain": [
       "(100,)"
      ]
     },
     "metadata": {},
     "output_type": "display_data"
    },
    {
     "data": {
      "text/plain": [
       "[('박찬욱', 0.8963603973388672),\n",
       " ('김지운', 0.8581143021583557),\n",
       " ('홍상수', 0.8443043231964111),\n",
       " ('임권택', 0.8383004665374756),\n",
       " ('김기덕', 0.8300402164459229),\n",
       " ('김청기', 0.8147063255310059),\n",
       " ('장형윤', 0.8085545897483826),\n",
       " ('이창동', 0.8033796548843384),\n",
       " ('김기영', 0.7905051708221436),\n",
       " ('윤제균', 0.7873630523681641)]"
      ]
     },
     "execution_count": 34,
     "metadata": {},
     "output_type": "execute_result"
    }
   ],
   "source": [
    "display(word_vectors.wv['이순재'].shape)\n",
    "word_vectors.wv.most_similar(\"봉준호\")"
   ]
  },
  {
   "cell_type": "code",
   "execution_count": 35,
   "id": "273fbd98-f264-483e-a28b-5fd2f5d7abb0",
   "metadata": {
    "execution": {
     "iopub.execute_input": "2023-05-23T23:29:47.253842Z",
     "iopub.status.busy": "2023-05-23T23:29:47.253755Z",
     "iopub.status.idle": "2023-05-23T23:29:47.259651Z",
     "shell.execute_reply": "2023-05-23T23:29:47.259312Z",
     "shell.execute_reply.started": "2023-05-23T23:29:47.253834Z"
    }
   },
   "outputs": [],
   "source": [
    "word_vector_dim =100\n",
    "embedding_matrix = np.random.rand(vocab_size,word_vector_dim)"
   ]
  },
  {
   "cell_type": "code",
   "execution_count": 36,
   "id": "bcef00de-2a6d-44ab-bc53-0c2592bc5373",
   "metadata": {
    "execution": {
     "iopub.execute_input": "2023-05-23T23:29:47.260289Z",
     "iopub.status.busy": "2023-05-23T23:29:47.260185Z",
     "iopub.status.idle": "2023-05-23T23:29:47.280062Z",
     "shell.execute_reply": "2023-05-23T23:29:47.279745Z",
     "shell.execute_reply.started": "2023-05-23T23:29:47.260280Z"
    },
    "tags": []
   },
   "outputs": [],
   "source": [
    "for i in range(4,vocab_size):\n",
    "    if index_to_word[i] in word_vectors.wv:\n",
    "        embedding_matrix[i] = word_vectors.wv[index_to_word[i]]"
   ]
  },
  {
   "cell_type": "code",
   "execution_count": 37,
   "id": "282bfb60-3ccc-4232-8c85-8160a2c489a9",
   "metadata": {
    "execution": {
     "iopub.execute_input": "2023-05-23T23:29:47.280674Z",
     "iopub.status.busy": "2023-05-23T23:29:47.280575Z",
     "iopub.status.idle": "2023-05-23T23:29:47.282656Z",
     "shell.execute_reply": "2023-05-23T23:29:47.282261Z",
     "shell.execute_reply.started": "2023-05-23T23:29:47.280665Z"
    },
    "tags": []
   },
   "outputs": [],
   "source": [
    "from tensorflow.keras.initializers import Constant"
   ]
  },
  {
   "cell_type": "markdown",
   "id": "da65032f-a2a1-41aa-b22b-74607bc40358",
   "metadata": {},
   "source": [
    "### LSTM"
   ]
  },
  {
   "cell_type": "code",
   "execution_count": 57,
   "id": "bf9d55df-2142-4a06-bcf8-77ee7ed8f72a",
   "metadata": {
    "execution": {
     "iopub.execute_input": "2023-05-23T23:49:58.471198Z",
     "iopub.status.busy": "2023-05-23T23:49:58.470788Z",
     "iopub.status.idle": "2023-05-23T23:49:58.599501Z",
     "shell.execute_reply": "2023-05-23T23:49:58.599170Z",
     "shell.execute_reply.started": "2023-05-23T23:49:58.471172Z"
    },
    "tags": []
   },
   "outputs": [
    {
     "name": "stdout",
     "output_type": "stream",
     "text": [
      "Model: \"sequential_5\"\n",
      "_________________________________________________________________\n",
      " Layer (type)                Output Shape              Param #   \n",
      "=================================================================\n",
      " embedding_5 (Embedding)     (None, 61, 100)           1000000   \n",
      "                                                                 \n",
      " lstm_3 (LSTM)               (None, 64)                42240     \n",
      "                                                                 \n",
      " dense_10 (Dense)            (None, 8)                 520       \n",
      "                                                                 \n",
      " dense_11 (Dense)            (None, 1)                 9         \n",
      "                                                                 \n",
      "=================================================================\n",
      "Total params: 1,042,769\n",
      "Trainable params: 1,042,769\n",
      "Non-trainable params: 0\n",
      "_________________________________________________________________\n"
     ]
    }
   ],
   "source": [
    "lstm_model = tf.keras.Sequential()\n",
    "lstm_model.add(tf.keras.layers.Embedding(vocab_size, word_vector_dim, embeddings_initializer=Constant(embedding_matrix),\n",
    "                                         input_length=maxlen,trainable=True ))\n",
    "lstm_model.add(tf.keras.layers.LSTM(64))\n",
    "lstm_model.add(tf.keras.layers.Dense(8, activation='relu'))\n",
    "lstm_model.add(tf.keras.layers.Dense(1, activation='sigmoid'))  # 최종 출력은 긍정/부정을 나타내는 1dim 입니다.\n",
    "\n",
    "lstm_model.summary()"
   ]
  },
  {
   "cell_type": "code",
   "execution_count": 58,
   "id": "3a6a3cd9-f9c6-41f3-8c10-b1b8e46ef391",
   "metadata": {
    "execution": {
     "iopub.execute_input": "2023-05-23T23:49:59.749605Z",
     "iopub.status.busy": "2023-05-23T23:49:59.749158Z",
     "iopub.status.idle": "2023-05-23T23:56:11.951344Z",
     "shell.execute_reply": "2023-05-23T23:56:11.951022Z",
     "shell.execute_reply.started": "2023-05-23T23:49:59.749579Z"
    },
    "tags": []
   },
   "outputs": [
    {
     "name": "stdout",
     "output_type": "stream",
     "text": [
      "Epoch 1/50\n",
      "229/229 [==============================] - 52s 221ms/step - loss: 0.4033 - accuracy: 0.8171 - val_loss: 0.3383 - val_accuracy: 0.8545\n",
      "Epoch 2/50\n",
      "229/229 [==============================] - 49s 213ms/step - loss: 0.3235 - accuracy: 0.8603 - val_loss: 0.3253 - val_accuracy: 0.8559\n",
      "Epoch 3/50\n",
      "229/229 [==============================] - 49s 213ms/step - loss: 0.2968 - accuracy: 0.8737 - val_loss: 0.3182 - val_accuracy: 0.8605\n",
      "Epoch 4/50\n",
      "229/229 [==============================] - 47s 207ms/step - loss: 0.2735 - accuracy: 0.8850 - val_loss: 0.3187 - val_accuracy: 0.8648\n",
      "Epoch 5/50\n",
      "229/229 [==============================] - 47s 206ms/step - loss: 0.2540 - accuracy: 0.8940 - val_loss: 0.3142 - val_accuracy: 0.8654\n",
      "Epoch 6/50\n",
      "229/229 [==============================] - 46s 200ms/step - loss: 0.2348 - accuracy: 0.9036 - val_loss: 0.3129 - val_accuracy: 0.8670\n",
      "Epoch 7/50\n",
      "229/229 [==============================] - 43s 188ms/step - loss: 0.2173 - accuracy: 0.9117 - val_loss: 0.3362 - val_accuracy: 0.8631\n",
      "Epoch 8/50\n",
      "229/229 [==============================] - 40s 174ms/step - loss: 0.2002 - accuracy: 0.9203 - val_loss: 0.3495 - val_accuracy: 0.8648\n",
      "Epoch 8: early stopping\n"
     ]
    }
   ],
   "source": [
    "early_stop = EarlyStopping(monitor='accuracy', mode='min', verbose=1, patience=7)\n",
    "\n",
    "lstm_model.compile(optimizer='adam',\n",
    "              loss='binary_crossentropy',\n",
    "              metrics=['accuracy'])\n",
    "              \n",
    "epochs=50  \n",
    "\n",
    "history = lstm_model.fit(partial_x_train,\n",
    "                    partial_y_train,\n",
    "                    epochs=epochs,\n",
    "                    batch_size=512,\n",
    "                    validation_data=(x_val, y_val),\n",
    "                    verbose=1,\n",
    "                    callbacks=[early_stop])"
   ]
  },
  {
   "cell_type": "code",
   "execution_count": 59,
   "id": "e96a4327-2fd1-4cfa-a429-e2e6db106500",
   "metadata": {
    "execution": {
     "iopub.execute_input": "2023-05-23T23:56:11.952308Z",
     "iopub.status.busy": "2023-05-23T23:56:11.952187Z",
     "iopub.status.idle": "2023-05-23T23:56:25.404354Z",
     "shell.execute_reply": "2023-05-23T23:56:25.403992Z",
     "shell.execute_reply.started": "2023-05-23T23:56:11.952299Z"
    },
    "tags": []
   },
   "outputs": [
    {
     "name": "stdout",
     "output_type": "stream",
     "text": [
      "1537/1537 - 13s - loss: 0.3568 - accuracy: 0.8600 - 13s/epoch - 9ms/step\n",
      "[0.3568038046360016, 0.8599792718887329]\n"
     ]
    }
   ],
   "source": [
    "lstm_results = lstm_model.evaluate(X_test,  y_test, verbose=2)\n",
    "lstm_history_dict = history.history\n",
    "\n",
    "print(lstm_results)"
   ]
  },
  {
   "cell_type": "code",
   "execution_count": 60,
   "id": "d11a85ca-4c54-4b9f-98e3-cfbd4ac14922",
   "metadata": {
    "execution": {
     "iopub.execute_input": "2023-05-23T23:56:25.404979Z",
     "iopub.status.busy": "2023-05-23T23:56:25.404873Z",
     "iopub.status.idle": "2023-05-23T23:56:25.406797Z",
     "shell.execute_reply": "2023-05-23T23:56:25.406504Z",
     "shell.execute_reply.started": "2023-05-23T23:56:25.404970Z"
    },
    "tags": []
   },
   "outputs": [],
   "source": [
    "# loss: 0.4034 - accuracy: 0.8508 불용어 제거\n",
    "# loss: 0.3568 - accuracy: 0.8600 patience 10->7"
   ]
  },
  {
   "cell_type": "code",
   "execution_count": 61,
   "id": "f1e2bfe1-1ca4-4573-88c8-5499825aa400",
   "metadata": {
    "execution": {
     "iopub.execute_input": "2023-05-23T23:56:25.407861Z",
     "iopub.status.busy": "2023-05-23T23:56:25.407771Z",
     "iopub.status.idle": "2023-05-23T23:56:25.409936Z",
     "shell.execute_reply": "2023-05-23T23:56:25.409600Z",
     "shell.execute_reply.started": "2023-05-23T23:56:25.407854Z"
    },
    "tags": []
   },
   "outputs": [],
   "source": [
    "model_dic = {'lstm_model':lstm_model \n",
    "             #,'dcnn_model':dcnn_model,'gmp_model':gmp_model\n",
    "            }\n",
    "model_list = list(model_dic.values())\n",
    "model_name_list = list(model_dic.keys())\n",
    "history_list = [lstm_history_dict,\n",
    "                #dcnn_history_dict ,gmp_history_dict\n",
    "               ]"
   ]
  },
  {
   "cell_type": "code",
   "execution_count": 62,
   "id": "931da6c0-8ffc-4e04-b0d1-d54a91e5e9de",
   "metadata": {
    "execution": {
     "iopub.execute_input": "2023-05-23T23:56:25.410535Z",
     "iopub.status.busy": "2023-05-23T23:56:25.410434Z",
     "iopub.status.idle": "2023-05-23T23:56:25.565166Z",
     "shell.execute_reply": "2023-05-23T23:56:25.564728Z",
     "shell.execute_reply.started": "2023-05-23T23:56:25.410526Z"
    },
    "tags": []
   },
   "outputs": [
    {
     "data": {
      "image/png": "[encoded data removed]",
      "text/plain": [
       "<Figure size 800x300 with 2 Axes>"
      ]
     },
     "metadata": {},
     "output_type": "display_data"
    }
   ],
   "source": [
    "for i, history_dict in enumerate(history_list):\n",
    "    acc = history_dict['accuracy']\n",
    "    val_acc = history_dict['val_accuracy']\n",
    "    loss = history_dict['loss']\n",
    "    val_loss = history_dict['val_loss']\n",
    "    epochs = range(1, len(acc) + 1)\n",
    "\n",
    "    fig, axs = plt.subplots(1, 2, figsize=(8, 3))\n",
    "\n",
    "    plt.subplot(1, 2, 1)\n",
    "    sns.lineplot(x=epochs, y=val_acc, c='r', label='Validation Accuracy')\n",
    "    sns.lineplot(x=epochs, y=acc, c='b', label='Training Accuracy')\n",
    "    plt.title('{} - Accuracy'.format(model_name_list[i]))\n",
    "    plt.xlabel('Epochs')\n",
    "    plt.ylabel('Accuracy')\n",
    "    plt.legend()\n",
    "\n",
    "    plt.subplot(1, 2, 2)\n",
    "    sns.lineplot(x=epochs, y=val_loss, c='r', label='Validation Loss')\n",
    "    sns.lineplot(x=epochs, y=loss, c='b', label='Training Loss')\n",
    "    plt.title('{} - Loss'.format(model_name_list[i]))\n",
    "    plt.xlabel('Epochs')\n",
    "    plt.ylabel('Loss')\n",
    "    plt.legend()\n",
    "\n",
    "    plt.tight_layout()\n",
    "    plt.show()"
   ]
  },
  {
   "cell_type": "markdown",
   "id": "0f09b17e-bd22-4aa3-a90e-55ea6fffed3e",
   "metadata": {
    "execution": {
     "iopub.execute_input": "2023-05-23T19:55:47.914185Z",
     "iopub.status.busy": "2023-05-23T19:55:47.913608Z",
     "iopub.status.idle": "2023-05-23T19:55:47.939451Z",
     "shell.execute_reply": "2023-05-23T19:55:47.935676Z",
     "shell.execute_reply.started": "2023-05-23T19:55:47.914147Z"
    }
   },
   "source": [
    "## FastText 를 활용하여 성능 개선"
   ]
  },
  {
   "cell_type": "code",
   "execution_count": 63,
   "id": "386b56c0-a230-4052-9383-7a6a7d2443eb",
   "metadata": {
    "execution": {
     "iopub.execute_input": "2023-05-23T23:58:51.324732Z",
     "iopub.status.busy": "2023-05-23T23:58:51.324034Z",
     "iopub.status.idle": "2023-05-23T23:58:51.331357Z",
     "shell.execute_reply": "2023-05-23T23:58:51.330363Z",
     "shell.execute_reply.started": "2023-05-23T23:58:51.324683Z"
    },
    "tags": []
   },
   "outputs": [],
   "source": [
    "import fasttext"
   ]
  },
  {
   "cell_type": "code",
   "execution_count": 64,
   "id": "e9b80b1c-98a7-41de-8be0-b7948b3b6f03",
   "metadata": {
    "execution": {
     "iopub.execute_input": "2023-05-23T23:58:51.522325Z",
     "iopub.status.busy": "2023-05-23T23:58:51.521773Z",
     "iopub.status.idle": "2023-05-23T23:59:08.901610Z",
     "shell.execute_reply": "2023-05-23T23:59:08.901274Z",
     "shell.execute_reply.started": "2023-05-23T23:58:51.522289Z"
    },
    "tags": []
   },
   "outputs": [],
   "source": [
    "#fasttext 훈련용  Data Set Decoding\n",
    "X_train_d = get_decoded_sentences(X_train, index_to_word)\n",
    "X_test_d = get_decoded_sentences(X_test,index_to_word)\n",
    "\n",
    "data_set = X_test_d + X_train_d "
   ]
  },
  {
   "cell_type": "code",
   "execution_count": 65,
   "id": "80b3c367-87eb-4af3-bc1e-0d5b5498241f",
   "metadata": {
    "execution": {
     "iopub.execute_input": "2023-05-23T23:59:08.902499Z",
     "iopub.status.busy": "2023-05-23T23:59:08.902399Z",
     "iopub.status.idle": "2023-05-23T23:59:21.569554Z",
     "shell.execute_reply": "2023-05-23T23:59:21.569085Z",
     "shell.execute_reply.started": "2023-05-23T23:59:08.902490Z"
    },
    "tags": []
   },
   "outputs": [
    {
     "name": "stderr",
     "output_type": "stream",
     "text": [
      "Read 11M words\n",
      "Number of words:  9999\n",
      "Number of labels: 0\n",
      "Progress: 100.0% words/sec/thread:  575831 lr:  0.000000 avg.loss:  2.243726 ETA:   0h 0m 0s 2.243726 ETA:   0h 0m 0s\n"
     ]
    }
   ],
   "source": [
    "with open('data.txt', 'w', encoding='utf-8') as file:\n",
    "    for sentence in data_set:\n",
    "        file.write(sentence + '\\n')\n",
    "\n",
    "ft_model = fasttext.train_unsupervised('data.txt')"
   ]
  },
  {
   "cell_type": "code",
   "execution_count": 66,
   "id": "29aa245c-56a3-4ab1-8c99-2a5f59740bfb",
   "metadata": {
    "execution": {
     "iopub.execute_input": "2023-05-23T23:59:21.570202Z",
     "iopub.status.busy": "2023-05-23T23:59:21.570112Z",
     "iopub.status.idle": "2023-05-23T23:59:21.607640Z",
     "shell.execute_reply": "2023-05-23T23:59:21.607262Z",
     "shell.execute_reply.started": "2023-05-23T23:59:21.570194Z"
    },
    "tags": []
   },
   "outputs": [],
   "source": [
    "# 학습된 FastText 모델로부터 임베딩 얻기\n",
    "word_to_vec_map = {word: ft_model[word] for word in ft_model.words}"
   ]
  },
  {
   "cell_type": "code",
   "execution_count": 67,
   "id": "9f4b99db-6a3e-4a46-87d1-7aaa0b32dca0",
   "metadata": {
    "execution": {
     "iopub.execute_input": "2023-05-23T23:59:21.608899Z",
     "iopub.status.busy": "2023-05-23T23:59:21.608787Z",
     "iopub.status.idle": "2023-05-23T23:59:21.611324Z",
     "shell.execute_reply": "2023-05-23T23:59:21.611043Z",
     "shell.execute_reply.started": "2023-05-23T23:59:21.608891Z"
    },
    "tags": []
   },
   "outputs": [],
   "source": [
    "vocab_size = len(word_to_index) \n",
    "embedding_dim = ft_model.get_dimension()  \n",
    "\n",
    "embedding_matrix = np.zeros((vocab_size, embedding_dim))"
   ]
  },
  {
   "cell_type": "code",
   "execution_count": 68,
   "id": "1e7050bc-7866-4f0c-8d9f-046f68840dda",
   "metadata": {
    "execution": {
     "iopub.execute_input": "2023-05-23T23:59:21.611835Z",
     "iopub.status.busy": "2023-05-23T23:59:21.611750Z",
     "iopub.status.idle": "2023-05-23T23:59:21.619938Z",
     "shell.execute_reply": "2023-05-23T23:59:21.619532Z",
     "shell.execute_reply.started": "2023-05-23T23:59:21.611826Z"
    },
    "tags": []
   },
   "outputs": [],
   "source": [
    "# FastText 모델로부터 얻은 임베딩으로 임베딩 행렬 채우기\n",
    "for word, i in word_to_vec_map.items():\n",
    "    if word in word_to_index:\n",
    "        idx = word_to_index[word]\n",
    "        embedding_vector = word_to_vec_map[word]\n",
    "        embedding_matrix[idx] = embedding_vector"
   ]
  },
  {
   "cell_type": "markdown",
   "id": "274762e9-0e47-4129-98c4-4ce42cac804f",
   "metadata": {
    "execution": {
     "iopub.execute_input": "2023-05-23T23:19:18.274328Z",
     "iopub.status.busy": "2023-05-23T23:19:18.274209Z",
     "iopub.status.idle": "2023-05-23T23:19:18.276088Z",
     "shell.execute_reply": "2023-05-23T23:19:18.275803Z",
     "shell.execute_reply.started": "2023-05-23T23:19:18.274319Z"
    },
    "tags": []
   },
   "source": [
    "### LSTM"
   ]
  },
  {
   "cell_type": "code",
   "execution_count": 69,
   "id": "89e297f9-0ff5-4084-a87c-552b60940459",
   "metadata": {
    "execution": {
     "iopub.execute_input": "2023-05-23T23:59:21.620581Z",
     "iopub.status.busy": "2023-05-23T23:59:21.620479Z",
     "iopub.status.idle": "2023-05-23T23:59:21.723551Z",
     "shell.execute_reply": "2023-05-23T23:59:21.723092Z",
     "shell.execute_reply.started": "2023-05-23T23:59:21.620572Z"
    },
    "tags": []
   },
   "outputs": [
    {
     "name": "stdout",
     "output_type": "stream",
     "text": [
      "Model: \"sequential_6\"\n",
      "_________________________________________________________________\n",
      " Layer (type)                Output Shape              Param #   \n",
      "=================================================================\n",
      " embedding_6 (Embedding)     (None, 61, 100)           1000000   \n",
      "                                                                 \n",
      " lstm_4 (LSTM)               (None, 64)                42240     \n",
      "                                                                 \n",
      " dense_12 (Dense)            (None, 8)                 520       \n",
      "                                                                 \n",
      " dense_13 (Dense)            (None, 1)                 9         \n",
      "                                                                 \n",
      "=================================================================\n",
      "Total params: 1,042,769\n",
      "Trainable params: 1,042,769\n",
      "Non-trainable params: 0\n",
      "_________________________________________________________________\n"
     ]
    }
   ],
   "source": [
    "lstm_model = tf.keras.Sequential()\n",
    "lstm_model.add(tf.keras.layers.Embedding(vocab_size, word_vector_dim, embeddings_initializer=Constant(embedding_matrix),\n",
    "                                         input_length=maxlen,trainable=True ))\n",
    "lstm_model.add(tf.keras.layers.LSTM(64))\n",
    "lstm_model.add(tf.keras.layers.Dense(8, activation='relu'))\n",
    "lstm_model.add(tf.keras.layers.Dense(1, activation='sigmoid'))  # 최종 출력은 긍정/부정을 나타내는 1dim 입니다.\n",
    "\n",
    "lstm_model.summary()"
   ]
  },
  {
   "cell_type": "code",
   "execution_count": 70,
   "id": "6f5a23b0-e12b-476e-b696-30474f71dbc1",
   "metadata": {
    "execution": {
     "iopub.execute_input": "2023-05-23T23:59:21.724180Z",
     "iopub.status.busy": "2023-05-23T23:59:21.724100Z",
     "iopub.status.idle": "2023-05-24T00:05:55.672236Z",
     "shell.execute_reply": "2023-05-24T00:05:55.671778Z",
     "shell.execute_reply.started": "2023-05-23T23:59:21.724173Z"
    },
    "tags": []
   },
   "outputs": [
    {
     "name": "stdout",
     "output_type": "stream",
     "text": [
      "Epoch 1/50\n",
      "229/229 [==============================] - 51s 216ms/step - loss: 0.3988 - accuracy: 0.8223 - val_loss: 0.3582 - val_accuracy: 0.8427\n",
      "Epoch 2/50\n",
      "229/229 [==============================] - 48s 211ms/step - loss: 0.3211 - accuracy: 0.8610 - val_loss: 0.3197 - val_accuracy: 0.8616\n",
      "Epoch 3/50\n",
      "229/229 [==============================] - 49s 215ms/step - loss: 0.2945 - accuracy: 0.8736 - val_loss: 0.3148 - val_accuracy: 0.8643\n",
      "Epoch 4/50\n",
      "229/229 [==============================] - 49s 213ms/step - loss: 0.2737 - accuracy: 0.8843 - val_loss: 0.3112 - val_accuracy: 0.8669\n",
      "Epoch 5/50\n",
      "229/229 [==============================] - 49s 214ms/step - loss: 0.2530 - accuracy: 0.8933 - val_loss: 0.3331 - val_accuracy: 0.8572\n",
      "Epoch 6/50\n",
      "229/229 [==============================] - 50s 218ms/step - loss: 0.2325 - accuracy: 0.9029 - val_loss: 0.3251 - val_accuracy: 0.8655\n",
      "Epoch 7/50\n",
      "229/229 [==============================] - 49s 215ms/step - loss: 0.2141 - accuracy: 0.9123 - val_loss: 0.3460 - val_accuracy: 0.8659\n",
      "Epoch 8/50\n",
      "229/229 [==============================] - 48s 211ms/step - loss: 0.1962 - accuracy: 0.9202 - val_loss: 0.3452 - val_accuracy: 0.8644\n",
      "Epoch 8: early stopping\n"
     ]
    }
   ],
   "source": [
    "early_stop = EarlyStopping(monitor='accuracy', mode='min', verbose=1, patience=7) #10-> 7\n",
    "\n",
    "lstm_model.compile(optimizer='adam',\n",
    "              loss='binary_crossentropy',\n",
    "              metrics=['accuracy'])\n",
    "              \n",
    "epochs=50  # 몇 epoch를 훈련하면 좋을지 결과를 보면서 바꾸어 봅시다. \n",
    "\n",
    "history = lstm_model.fit(partial_x_train,\n",
    "                    partial_y_train,\n",
    "                    epochs=epochs,\n",
    "                    batch_size=512,\n",
    "                    validation_data=(x_val, y_val),\n",
    "                    verbose=1,\n",
    "                    callbacks=[early_stop])"
   ]
  },
  {
   "cell_type": "code",
   "execution_count": 71,
   "id": "030f93d7-03bb-4f05-bf90-788ae875e4b4",
   "metadata": {
    "execution": {
     "iopub.execute_input": "2023-05-24T00:05:55.672951Z",
     "iopub.status.busy": "2023-05-24T00:05:55.672866Z",
     "iopub.status.idle": "2023-05-24T00:06:09.068645Z",
     "shell.execute_reply": "2023-05-24T00:06:09.068337Z",
     "shell.execute_reply.started": "2023-05-24T00:05:55.672943Z"
    },
    "tags": []
   },
   "outputs": [
    {
     "name": "stdout",
     "output_type": "stream",
     "text": [
      "1537/1537 - 13s - loss: 0.3505 - accuracy: 0.8598 - 13s/epoch - 9ms/step\n",
      "[0.3504685163497925, 0.8597554564476013]\n"
     ]
    }
   ],
   "source": [
    "lstm_results = lstm_model.evaluate(X_test,  y_test, verbose=2)\n",
    "lstm_history_dict = history.history\n",
    "\n",
    "print(lstm_results)"
   ]
  },
  {
   "cell_type": "code",
   "execution_count": 72,
   "id": "25db55c8-440d-47d7-a2e9-1bcbfff76cee",
   "metadata": {
    "execution": {
     "iopub.execute_input": "2023-05-24T00:06:09.069477Z",
     "iopub.status.busy": "2023-05-24T00:06:09.069176Z",
     "iopub.status.idle": "2023-05-24T00:06:09.071179Z",
     "shell.execute_reply": "2023-05-24T00:06:09.070903Z",
     "shell.execute_reply.started": "2023-05-24T00:06:09.069467Z"
    }
   },
   "outputs": [],
   "source": [
    "# loss: 0.3909 - accuracy: 0.8595"
   ]
  },
  {
   "cell_type": "code",
   "execution_count": 73,
   "id": "6e92aaa7-99e0-48f8-9c45-e1e94f6c81a4",
   "metadata": {
    "execution": {
     "iopub.execute_input": "2023-05-24T00:06:09.072768Z",
     "iopub.status.busy": "2023-05-24T00:06:09.072649Z",
     "iopub.status.idle": "2023-05-24T00:06:09.074786Z",
     "shell.execute_reply": "2023-05-24T00:06:09.074524Z",
     "shell.execute_reply.started": "2023-05-24T00:06:09.072756Z"
    },
    "tags": []
   },
   "outputs": [],
   "source": [
    "model_dic = {'lstm_model':lstm_model \n",
    "             #,'dcnn_model':dcnn_model,'gmp_model':gmp_model\n",
    "            }\n",
    "model_list = list(model_dic.values())\n",
    "model_name_list = list(model_dic.keys())\n",
    "history_list = [lstm_history_dict,\n",
    "                #dcnn_history_dict ,gmp_history_dict\n",
    "               ]"
   ]
  },
  {
   "cell_type": "code",
   "execution_count": 74,
   "id": "8440b799-350d-468d-83ef-17bcf3c907ac",
   "metadata": {
    "execution": {
     "iopub.execute_input": "2023-05-24T00:06:09.075376Z",
     "iopub.status.busy": "2023-05-24T00:06:09.075281Z",
     "iopub.status.idle": "2023-05-24T00:06:09.228119Z",
     "shell.execute_reply": "2023-05-24T00:06:09.227590Z",
     "shell.execute_reply.started": "2023-05-24T00:06:09.075368Z"
    },
    "tags": []
   },
   "outputs": [
    {
     "data": {
      "image/png": "[encoded data removed]",
      "text/plain": [
       "<Figure size 800x300 with 2 Axes>"
      ]
     },
     "metadata": {},
     "output_type": "display_data"
    }
   ],
   "source": [
    "for i, history_dict in enumerate(history_list):\n",
    "    acc = history_dict['accuracy']\n",
    "    val_acc = history_dict['val_accuracy']\n",
    "    loss = history_dict['loss']\n",
    "    val_loss = history_dict['val_loss']\n",
    "    epochs = range(1, len(acc) + 1)\n",
    "\n",
    "    fig, axs = plt.subplots(1, 2, figsize=(8, 3))\n",
    "\n",
    "    plt.subplot(1, 2, 1)\n",
    "    sns.lineplot(x=epochs, y=val_acc, c='r', label='Validation Accuracy')\n",
    "    sns.lineplot(x=epochs, y=acc, c='b', label='Training Accuracy')\n",
    "    plt.title('{} - Accuracy'.format(model_name_list[i]))\n",
    "    plt.xlabel('Epochs')\n",
    "    plt.ylabel('Accuracy')\n",
    "    plt.legend()\n",
    "\n",
    "    plt.subplot(1, 2, 2)\n",
    "    sns.lineplot(x=epochs, y=val_loss, c='r', label='Validation Loss')\n",
    "    sns.lineplot(x=epochs, y=loss, c='b', label='Training Loss')\n",
    "    plt.title('{} - Loss'.format(model_name_list[i]))\n",
    "    plt.xlabel('Epochs')\n",
    "    plt.ylabel('Loss')\n",
    "    plt.legend()\n",
    "\n",
    "    plt.tight_layout()\n",
    "    plt.show()"
   ]
  },
  {
   "cell_type": "code",
   "execution_count": null,
   "id": "a52dff4f-5394-4fa1-992d-c21d0e388af6",
   "metadata": {},
   "outputs": [],
   "source": []
  },
  {
   "cell_type": "markdown",
   "id": "6f0d0956-f745-46a3-a1ba-0133e5b3dc92",
   "metadata": {},
   "source": [
    "## Report( Final Best Score :  8600)"
   ]
  },
  {
   "cell_type": "markdown",
   "id": "898b7034-6d46-4a1b-9f6a-59be73791446",
   "metadata": {},
   "source": [
    "#### 8600 (Word2Vec - LSTM)\n",
    "#### 8598 (FastText - LSTM)\n",
    " 1. Early Stop Option \n",
    "    - 과적합이 일어나기 쉬운 모델이라, 각 모델에 Loss 가 떨어지기 전 Early Stop Option 이 결과값에 중요했다.\n",
    " 2. Stop_Words 제거 등\n",
    "    - 전처리 과정(Stop_Words) 보다는 모델에 맡겨두는 것이 성능이 더 좋았다\n",
    " 3. 사전 임베딩 레이어 전이 학습은 중요했다. \n",
    "    - Word2Vec , FastText 적용은 기존 모델보다 성능이 좋았다. \n",
    "---\n",
    " 1. Try Option \n",
    "    - Word_Count 조정 :10000 -> 20000 (Total Word_Count - 5만 대)\n",
    "    - 초기 Word Dim 조정 : 16 -> ?\n",
    " 2. 가장 많이 쓰이는 단어 선정 보다, 의미 있는 단어 선정이 더 중요하지 않을까? (ex - TF-IDF)"
   ]
  },
  {
   "cell_type": "code",
   "execution_count": null,
   "id": "b5a9e457-9505-4cb3-8477-98b9b1fbb941",
   "metadata": {},
   "outputs": [],
   "source": []
  }
 ],
 "metadata": {
  "kernelspec": {
   "display_name": "Python 3.10 (tensorflow)",
   "language": "python",
   "name": "tensorflow"
  },
  "language_info": {
   "codemirror_mode": {
    "name": "ipython",
    "version": 3
   },
   "file_extension": ".py",
   "mimetype": "text/x-python",
   "name": "python",
   "nbconvert_exporter": "python",
   "pygments_lexer": "ipython3",
   "version": "3.10.11"
  },
  "toc-autonumbering": true,
  "toc-showmarkdowntxt": true
 },
 "nbformat": 4,
 "nbformat_minor": 5
}
