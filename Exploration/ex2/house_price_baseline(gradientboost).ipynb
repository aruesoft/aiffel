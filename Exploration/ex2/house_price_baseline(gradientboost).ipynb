{
 "cells": [
  {
   "cell_type": "code",
   "execution_count": null,
   "id": "6808ec8d-b8a3-437b-ae42-f2e236695d8a",
   "metadata": {},
   "outputs": [],
   "source": []
  },
  {
   "cell_type": "markdown",
   "id": "3f476067-20bf-4377-9ab1-1dc47af25106",
   "metadata": {
    "jp-MarkdownHeadingCollapsed": true,
    "tags": []
   },
   "source": [
    "# Kaggle Competiton\n",
    "- https://www.kaggle.com/competitions/2019-2nd-ml-month-with-kakr/overview\n",
    "- Note : [Link](https://www.notion.so/parkjaeyoung/Kaggle-4147f4c9dd0b43e284d697c1cb6d7875?pvs=4https://www.notion.so/parkjaeyoung/Kaggle-4147f4c9dd0b43e284d697c1cb6d7875?pvs=4)"
   ]
  },
  {
   "cell_type": "markdown",
   "id": "40f27a65-bd2f-442e-b37f-218cd1321ab5",
   "metadata": {},
   "source": [
    "# Library 및 Data Load"
   ]
  },
  {
   "cell_type": "code",
   "execution_count": 8,
   "id": "3ea9f3ae-142a-43bd-9764-5034a8e70496",
   "metadata": {
    "_uuid": "38bfbd5ada16035c96bb21265c51de80361f17b4",
    "execution": {
     "iopub.execute_input": "2023-05-22T14:46:33.854559Z",
     "iopub.status.busy": "2023-05-22T14:46:33.853571Z",
     "iopub.status.idle": "2023-05-22T14:46:33.868401Z",
     "shell.execute_reply": "2023-05-22T14:46:33.867128Z",
     "shell.execute_reply.started": "2023-05-22T14:46:33.854509Z"
    },
    "tags": []
   },
   "outputs": [],
   "source": [
    "import warnings\n",
    "warnings.filterwarnings(\"ignore\")\n",
    "\n",
    "import pandas as pd\n",
    "import numpy as np\n",
    "\n",
    "import missingno as msno\n",
    "import matplotlib.pyplot as plt\n",
    "import seaborn as sns\n",
    "from scipy import stats\n",
    "\n",
    "from sklearn.ensemble import GradientBoostingRegressor\n",
    "from sklearn.ensemble import RandomForestRegressor\n",
    "from sklearn.ensemble import GradientBoostingRegressor\n",
    "\n",
    "from sklearn.model_selection import KFold, cross_val_score\n",
    "from sklearn.model_selection import cross_val_predict\n",
    "from sklearn.model_selection import GridSearchCV\n",
    "\n",
    "from sklearn.preprocessing import LabelEncoder\n",
    "from sklearn.preprocessing import RobustScaler\n",
    "\n",
    "import xgboost as xgb\n",
    "from xgboost import XGBRegressor\n",
    "\n",
    "import lightgbm as lgb\n",
    "from lightgbm import LGBMRegressor\n",
    "\n",
    "\n",
    "from sklearn.metrics import mean_squared_error\n",
    "from sklearn.pipeline import make_pipeline\n"
   ]
  },
  {
   "cell_type": "code",
   "execution_count": 9,
   "id": "6ce16e43-e562-4559-bf9b-70bdaddcb194",
   "metadata": {
    "execution": {
     "iopub.execute_input": "2023-05-22T14:46:34.436942Z",
     "iopub.status.busy": "2023-05-22T14:46:34.436026Z",
     "iopub.status.idle": "2023-05-22T14:46:34.445170Z",
     "shell.execute_reply": "2023-05-22T14:46:34.444383Z",
     "shell.execute_reply.started": "2023-05-22T14:46:34.436896Z"
    },
    "tags": []
   },
   "outputs": [],
   "source": [
    "pd.options.display.max_rows = 100\n",
    "pd.set_option(\"display.max_rows\", 100)"
   ]
  },
  {
   "cell_type": "markdown",
   "id": "f2589f4e-9bb9-4ac6-8a7e-360f815289dd",
   "metadata": {},
   "source": [
    "# Data Load"
   ]
  },
  {
   "cell_type": "code",
   "execution_count": 31,
   "id": "a6c910ab-371f-4e54-b856-7d94364d1139",
   "metadata": {
    "execution": {
     "iopub.execute_input": "2023-05-22T15:34:23.804239Z",
     "iopub.status.busy": "2023-05-22T15:34:23.802980Z",
     "iopub.status.idle": "2023-05-22T15:34:23.820239Z",
     "shell.execute_reply": "2023-05-22T15:34:23.819493Z",
     "shell.execute_reply.started": "2023-05-22T15:34:23.804181Z"
    }
   },
   "outputs": [],
   "source": [
    "sub = pd.read_csv('sub.csv',index_col=0)\n",
    "x = pd.read_csv('x.csv',index_col=0)\n",
    "y = pd.read_csv('y.csv',index_col=0)   # Log Scaled\n",
    "test_id = pd.read_csv('test_id.csv',index_col=0)\n",
    "\n",
    "y = y['price_logscaled'].to_list()\n",
    "test_id = test_id['id'].to_list()"
   ]
  },
  {
   "cell_type": "code",
   "execution_count": 11,
   "id": "2966461b-137b-4c06-9c46-5f983554a696",
   "metadata": {
    "execution": {
     "iopub.execute_input": "2023-05-22T14:46:36.555343Z",
     "iopub.status.busy": "2023-05-22T14:46:36.554355Z",
     "iopub.status.idle": "2023-05-22T14:46:36.565563Z",
     "shell.execute_reply": "2023-05-22T14:46:36.564439Z",
     "shell.execute_reply.started": "2023-05-22T14:46:36.555292Z"
    },
    "tags": []
   },
   "outputs": [
    {
     "name": "stdout",
     "output_type": "stream",
     "text": [
      "(15035, 16)\n",
      "15035\n",
      "(6468, 16)\n"
     ]
    }
   ],
   "source": [
    "print(x.shape)\n",
    "print(len(y))\n",
    "print(sub.shape)"
   ]
  },
  {
   "cell_type": "markdown",
   "id": "fc35a3cb-9172-4c53-8962-bd811a466d14",
   "metadata": {},
   "source": [
    "# Grid Search"
   ]
  },
  {
   "cell_type": "markdown",
   "id": "ca16985e-dbdd-4889-88b5-f08b118613ab",
   "metadata": {},
   "source": [
    "1. 1차  \n",
    "    - Best Parameters: {'learning_rate': 0.05, 'max_depth': 5, 'n_estimators': 800, 'subsample': 0.8}\n",
    "    - Best Score: 0.0265022900709913"
   ]
  },
  {
   "cell_type": "code",
   "execution_count": 12,
   "id": "a6c9ddb7-c86f-4d05-9d78-8a714b46977d",
   "metadata": {
    "execution": {
     "iopub.execute_input": "2023-05-22T14:46:38.464111Z",
     "iopub.status.busy": "2023-05-22T14:46:38.463127Z",
     "iopub.status.idle": "2023-05-22T14:46:38.478129Z",
     "shell.execute_reply": "2023-05-22T14:46:38.477212Z",
     "shell.execute_reply.started": "2023-05-22T14:46:38.464059Z"
    },
    "tags": []
   },
   "outputs": [],
   "source": [
    "# 그리드 서치 파라미터 설정\n",
    "param_grid = {\n",
    "    'n_estimators': [100, 300, 500, 800],\n",
    "    'learning_rate': [0.01, 0.05, 0.1],\n",
    "    'max_depth': [3, 5, 7],\n",
    "    'subsample': [0.6, 0.7, 0.8, 0.9]\n",
    "}"
   ]
  },
  {
   "cell_type": "code",
   "execution_count": 13,
   "id": "c29476d7-933f-4b1e-8f27-2f73fe72930d",
   "metadata": {
    "execution": {
     "iopub.execute_input": "2023-05-22T14:46:39.840605Z",
     "iopub.status.busy": "2023-05-22T14:46:39.839566Z",
     "iopub.status.idle": "2023-05-22T14:46:39.849618Z",
     "shell.execute_reply": "2023-05-22T14:46:39.848167Z",
     "shell.execute_reply.started": "2023-05-22T14:46:39.840547Z"
    },
    "tags": []
   },
   "outputs": [],
   "source": [
    "# Gradient Boosting Regressor 모델 정의\n",
    "gradientboost_model = GradientBoostingRegressor()\n",
    "\n"
   ]
  },
  {
   "cell_type": "code",
   "execution_count": 15,
   "id": "3599bde6-620f-4942-b290-b8143409205f",
   "metadata": {
    "execution": {
     "iopub.execute_input": "2023-05-22T14:47:57.808230Z",
     "iopub.status.busy": "2023-05-22T14:47:57.807315Z",
     "iopub.status.idle": "2023-05-22T14:47:57.815509Z",
     "shell.execute_reply": "2023-05-22T14:47:57.814460Z",
     "shell.execute_reply.started": "2023-05-22T14:47:57.808178Z"
    },
    "tags": []
   },
   "outputs": [],
   "source": [
    "# 그리드 서치 수행\n",
    "grid_search = GridSearchCV(estimator=model, param_grid=param_grid, scoring='neg_mean_squared_error', cv=5, n_jobs=-1)"
   ]
  },
  {
   "cell_type": "code",
   "execution_count": 16,
   "id": "422b3576-7e8d-467e-a7b9-334aa6cf2edd",
   "metadata": {
    "execution": {
     "iopub.execute_input": "2023-05-22T14:47:59.146168Z",
     "iopub.status.busy": "2023-05-22T14:47:59.145291Z",
     "iopub.status.idle": "2023-05-22T15:00:47.860175Z",
     "shell.execute_reply": "2023-05-22T15:00:47.859858Z",
     "shell.execute_reply.started": "2023-05-22T14:47:59.146118Z"
    }
   },
   "outputs": [
    {
     "data": {
      "text/html": [
       "<style>#sk-container-id-1 {color: black;background-color: white;}#sk-container-id-1 pre{padding: 0;}#sk-container-id-1 div.sk-toggleable {background-color: white;}#sk-container-id-1 label.sk-toggleable__label {cursor: pointer;display: block;width: 100%;margin-bottom: 0;padding: 0.3em;box-sizing: border-box;text-align: center;}#sk-container-id-1 label.sk-toggleable__label-arrow:before {content: \"▸\";float: left;margin-right: 0.25em;color: #696969;}#sk-container-id-1 label.sk-toggleable__label-arrow:hover:before {color: black;}#sk-container-id-1 div.sk-estimator:hover label.sk-toggleable__label-arrow:before {color: black;}#sk-container-id-1 div.sk-toggleable__content {max-height: 0;max-width: 0;overflow: hidden;text-align: left;background-color: #f0f8ff;}#sk-container-id-1 div.sk-toggleable__content pre {margin: 0.2em;color: black;border-radius: 0.25em;background-color: #f0f8ff;}#sk-container-id-1 input.sk-toggleable__control:checked~div.sk-toggleable__content {max-height: 200px;max-width: 100%;overflow: auto;}#sk-container-id-1 input.sk-toggleable__control:checked~label.sk-toggleable__label-arrow:before {content: \"▾\";}#sk-container-id-1 div.sk-estimator input.sk-toggleable__control:checked~label.sk-toggleable__label {background-color: #d4ebff;}#sk-container-id-1 div.sk-label input.sk-toggleable__control:checked~label.sk-toggleable__label {background-color: #d4ebff;}#sk-container-id-1 input.sk-hidden--visually {border: 0;clip: rect(1px 1px 1px 1px);clip: rect(1px, 1px, 1px, 1px);height: 1px;margin: -1px;overflow: hidden;padding: 0;position: absolute;width: 1px;}#sk-container-id-1 div.sk-estimator {font-family: monospace;background-color: #f0f8ff;border: 1px dotted black;border-radius: 0.25em;box-sizing: border-box;margin-bottom: 0.5em;}#sk-container-id-1 div.sk-estimator:hover {background-color: #d4ebff;}#sk-container-id-1 div.sk-parallel-item::after {content: \"\";width: 100%;border-bottom: 1px solid gray;flex-grow: 1;}#sk-container-id-1 div.sk-label:hover label.sk-toggleable__label {background-color: #d4ebff;}#sk-container-id-1 div.sk-serial::before {content: \"\";position: absolute;border-left: 1px solid gray;box-sizing: border-box;top: 0;bottom: 0;left: 50%;z-index: 0;}#sk-container-id-1 div.sk-serial {display: flex;flex-direction: column;align-items: center;background-color: white;padding-right: 0.2em;padding-left: 0.2em;position: relative;}#sk-container-id-1 div.sk-item {position: relative;z-index: 1;}#sk-container-id-1 div.sk-parallel {display: flex;align-items: stretch;justify-content: center;background-color: white;position: relative;}#sk-container-id-1 div.sk-item::before, #sk-container-id-1 div.sk-parallel-item::before {content: \"\";position: absolute;border-left: 1px solid gray;box-sizing: border-box;top: 0;bottom: 0;left: 50%;z-index: -1;}#sk-container-id-1 div.sk-parallel-item {display: flex;flex-direction: column;z-index: 1;position: relative;background-color: white;}#sk-container-id-1 div.sk-parallel-item:first-child::after {align-self: flex-end;width: 50%;}#sk-container-id-1 div.sk-parallel-item:last-child::after {align-self: flex-start;width: 50%;}#sk-container-id-1 div.sk-parallel-item:only-child::after {width: 0;}#sk-container-id-1 div.sk-dashed-wrapped {border: 1px dashed gray;margin: 0 0.4em 0.5em 0.4em;box-sizing: border-box;padding-bottom: 0.4em;background-color: white;}#sk-container-id-1 div.sk-label label {font-family: monospace;font-weight: bold;display: inline-block;line-height: 1.2em;}#sk-container-id-1 div.sk-label-container {text-align: center;}#sk-container-id-1 div.sk-container {/* jupyter's `normalize.less` sets `[hidden] { display: none; }` but bootstrap.min.css set `[hidden] { display: none !important; }` so we also need the `!important` here to be able to override the default hidden behavior on the sphinx rendered scikit-learn.org. See: https://github.com/scikit-learn/scikit-learn/issues/21755 */display: inline-block !important;position: relative;}#sk-container-id-1 div.sk-text-repr-fallback {display: none;}</style><div id=\"sk-container-id-1\" class=\"sk-top-container\"><div class=\"sk-text-repr-fallback\"><pre>GridSearchCV(cv=5, estimator=GradientBoostingRegressor(), n_jobs=-1,\n",
       "             param_grid={&#x27;learning_rate&#x27;: [0.01, 0.05, 0.1],\n",
       "                         &#x27;max_depth&#x27;: [3, 5, 7],\n",
       "                         &#x27;n_estimators&#x27;: [100, 300, 500, 800],\n",
       "                         &#x27;subsample&#x27;: [0.6, 0.7, 0.8, 0.9]},\n",
       "             scoring=&#x27;neg_mean_squared_error&#x27;)</pre><b>In a Jupyter environment, please rerun this cell to show the HTML representation or trust the notebook. <br />On GitHub, the HTML representation is unable to render, please try loading this page with nbviewer.org.</b></div><div class=\"sk-container\" hidden><div class=\"sk-item sk-dashed-wrapped\"><div class=\"sk-label-container\"><div class=\"sk-label sk-toggleable\"><input class=\"sk-toggleable__control sk-hidden--visually\" id=\"sk-estimator-id-1\" type=\"checkbox\" ><label for=\"sk-estimator-id-1\" class=\"sk-toggleable__label sk-toggleable__label-arrow\">GridSearchCV</label><div class=\"sk-toggleable__content\"><pre>GridSearchCV(cv=5, estimator=GradientBoostingRegressor(), n_jobs=-1,\n",
       "             param_grid={&#x27;learning_rate&#x27;: [0.01, 0.05, 0.1],\n",
       "                         &#x27;max_depth&#x27;: [3, 5, 7],\n",
       "                         &#x27;n_estimators&#x27;: [100, 300, 500, 800],\n",
       "                         &#x27;subsample&#x27;: [0.6, 0.7, 0.8, 0.9]},\n",
       "             scoring=&#x27;neg_mean_squared_error&#x27;)</pre></div></div></div><div class=\"sk-parallel\"><div class=\"sk-parallel-item\"><div class=\"sk-item\"><div class=\"sk-label-container\"><div class=\"sk-label sk-toggleable\"><input class=\"sk-toggleable__control sk-hidden--visually\" id=\"sk-estimator-id-2\" type=\"checkbox\" ><label for=\"sk-estimator-id-2\" class=\"sk-toggleable__label sk-toggleable__label-arrow\">estimator: GradientBoostingRegressor</label><div class=\"sk-toggleable__content\"><pre>GradientBoostingRegressor()</pre></div></div></div><div class=\"sk-serial\"><div class=\"sk-item\"><div class=\"sk-estimator sk-toggleable\"><input class=\"sk-toggleable__control sk-hidden--visually\" id=\"sk-estimator-id-3\" type=\"checkbox\" ><label for=\"sk-estimator-id-3\" class=\"sk-toggleable__label sk-toggleable__label-arrow\">GradientBoostingRegressor</label><div class=\"sk-toggleable__content\"><pre>GradientBoostingRegressor()</pre></div></div></div></div></div></div></div></div></div></div>"
      ],
      "text/plain": [
       "GridSearchCV(cv=5, estimator=GradientBoostingRegressor(), n_jobs=-1,\n",
       "             param_grid={'learning_rate': [0.01, 0.05, 0.1],\n",
       "                         'max_depth': [3, 5, 7],\n",
       "                         'n_estimators': [100, 300, 500, 800],\n",
       "                         'subsample': [0.6, 0.7, 0.8, 0.9]},\n",
       "             scoring='neg_mean_squared_error')"
      ]
     },
     "execution_count": 16,
     "metadata": {},
     "output_type": "execute_result"
    }
   ],
   "source": [
    "grid_search.fit(x, y)"
   ]
  },
  {
   "cell_type": "code",
   "execution_count": 18,
   "id": "beeb830c-f52a-4747-9cba-b87c2203a7f4",
   "metadata": {
    "execution": {
     "iopub.execute_input": "2023-05-22T15:02:01.697429Z",
     "iopub.status.busy": "2023-05-22T15:02:01.696728Z",
     "iopub.status.idle": "2023-05-22T15:02:01.705502Z",
     "shell.execute_reply": "2023-05-22T15:02:01.704530Z",
     "shell.execute_reply.started": "2023-05-22T15:02:01.697381Z"
    },
    "tags": []
   },
   "outputs": [
    {
     "name": "stdout",
     "output_type": "stream",
     "text": [
      "Best Parameters: {'learning_rate': 0.05, 'max_depth': 5, 'n_estimators': 800, 'subsample': 0.8}\n",
      "Best Score: 0.0265022900709913\n"
     ]
    }
   ],
   "source": [
    "# 최적 파라미터와 최적 점수 출력\n",
    "print(\"Best Parameters:\", grid_search.best_params_)\n",
    "print(\"Best Score:\", -grid_search.best_score_)"
   ]
  },
  {
   "cell_type": "markdown",
   "id": "d80ef44a-b906-4e4b-af92-2711521e4b29",
   "metadata": {},
   "source": [
    "# Modeling"
   ]
  },
  {
   "cell_type": "code",
   "execution_count": 19,
   "id": "ac72d99b-6be7-4a46-869d-1321e5b3e800",
   "metadata": {
    "execution": {
     "iopub.execute_input": "2023-05-22T15:05:05.098115Z",
     "iopub.status.busy": "2023-05-22T15:05:05.097143Z",
     "iopub.status.idle": "2023-05-22T15:05:05.106278Z",
     "shell.execute_reply": "2023-05-22T15:05:05.104965Z",
     "shell.execute_reply.started": "2023-05-22T15:05:05.098059Z"
    }
   },
   "outputs": [],
   "source": [
    "best_gbr_parameter = {\n",
    "                    'learning_rate': 0.05,\n",
    "                    'max_depth': 5,\n",
    "                    'n_estimators': 800,\n",
    "                    'subsample': 0.8\n",
    "}"
   ]
  },
  {
   "cell_type": "code",
   "execution_count": 23,
   "id": "11ef457b-d864-435d-a858-1b8391828714",
   "metadata": {
    "execution": {
     "iopub.execute_input": "2023-05-22T15:22:56.686067Z",
     "iopub.status.busy": "2023-05-22T15:22:56.685002Z",
     "iopub.status.idle": "2023-05-22T15:23:17.718463Z",
     "shell.execute_reply": "2023-05-22T15:23:17.718142Z",
     "shell.execute_reply.started": "2023-05-22T15:22:56.686003Z"
    },
    "tags": []
   },
   "outputs": [
    {
     "data": {
      "text/html": [
       "<style>#sk-container-id-2 {color: black;background-color: white;}#sk-container-id-2 pre{padding: 0;}#sk-container-id-2 div.sk-toggleable {background-color: white;}#sk-container-id-2 label.sk-toggleable__label {cursor: pointer;display: block;width: 100%;margin-bottom: 0;padding: 0.3em;box-sizing: border-box;text-align: center;}#sk-container-id-2 label.sk-toggleable__label-arrow:before {content: \"▸\";float: left;margin-right: 0.25em;color: #696969;}#sk-container-id-2 label.sk-toggleable__label-arrow:hover:before {color: black;}#sk-container-id-2 div.sk-estimator:hover label.sk-toggleable__label-arrow:before {color: black;}#sk-container-id-2 div.sk-toggleable__content {max-height: 0;max-width: 0;overflow: hidden;text-align: left;background-color: #f0f8ff;}#sk-container-id-2 div.sk-toggleable__content pre {margin: 0.2em;color: black;border-radius: 0.25em;background-color: #f0f8ff;}#sk-container-id-2 input.sk-toggleable__control:checked~div.sk-toggleable__content {max-height: 200px;max-width: 100%;overflow: auto;}#sk-container-id-2 input.sk-toggleable__control:checked~label.sk-toggleable__label-arrow:before {content: \"▾\";}#sk-container-id-2 div.sk-estimator input.sk-toggleable__control:checked~label.sk-toggleable__label {background-color: #d4ebff;}#sk-container-id-2 div.sk-label input.sk-toggleable__control:checked~label.sk-toggleable__label {background-color: #d4ebff;}#sk-container-id-2 input.sk-hidden--visually {border: 0;clip: rect(1px 1px 1px 1px);clip: rect(1px, 1px, 1px, 1px);height: 1px;margin: -1px;overflow: hidden;padding: 0;position: absolute;width: 1px;}#sk-container-id-2 div.sk-estimator {font-family: monospace;background-color: #f0f8ff;border: 1px dotted black;border-radius: 0.25em;box-sizing: border-box;margin-bottom: 0.5em;}#sk-container-id-2 div.sk-estimator:hover {background-color: #d4ebff;}#sk-container-id-2 div.sk-parallel-item::after {content: \"\";width: 100%;border-bottom: 1px solid gray;flex-grow: 1;}#sk-container-id-2 div.sk-label:hover label.sk-toggleable__label {background-color: #d4ebff;}#sk-container-id-2 div.sk-serial::before {content: \"\";position: absolute;border-left: 1px solid gray;box-sizing: border-box;top: 0;bottom: 0;left: 50%;z-index: 0;}#sk-container-id-2 div.sk-serial {display: flex;flex-direction: column;align-items: center;background-color: white;padding-right: 0.2em;padding-left: 0.2em;position: relative;}#sk-container-id-2 div.sk-item {position: relative;z-index: 1;}#sk-container-id-2 div.sk-parallel {display: flex;align-items: stretch;justify-content: center;background-color: white;position: relative;}#sk-container-id-2 div.sk-item::before, #sk-container-id-2 div.sk-parallel-item::before {content: \"\";position: absolute;border-left: 1px solid gray;box-sizing: border-box;top: 0;bottom: 0;left: 50%;z-index: -1;}#sk-container-id-2 div.sk-parallel-item {display: flex;flex-direction: column;z-index: 1;position: relative;background-color: white;}#sk-container-id-2 div.sk-parallel-item:first-child::after {align-self: flex-end;width: 50%;}#sk-container-id-2 div.sk-parallel-item:last-child::after {align-self: flex-start;width: 50%;}#sk-container-id-2 div.sk-parallel-item:only-child::after {width: 0;}#sk-container-id-2 div.sk-dashed-wrapped {border: 1px dashed gray;margin: 0 0.4em 0.5em 0.4em;box-sizing: border-box;padding-bottom: 0.4em;background-color: white;}#sk-container-id-2 div.sk-label label {font-family: monospace;font-weight: bold;display: inline-block;line-height: 1.2em;}#sk-container-id-2 div.sk-label-container {text-align: center;}#sk-container-id-2 div.sk-container {/* jupyter's `normalize.less` sets `[hidden] { display: none; }` but bootstrap.min.css set `[hidden] { display: none !important; }` so we also need the `!important` here to be able to override the default hidden behavior on the sphinx rendered scikit-learn.org. See: https://github.com/scikit-learn/scikit-learn/issues/21755 */display: inline-block !important;position: relative;}#sk-container-id-2 div.sk-text-repr-fallback {display: none;}</style><div id=\"sk-container-id-2\" class=\"sk-top-container\"><div class=\"sk-text-repr-fallback\"><pre>GradientBoostingRegressor(learning_rate=0.05, max_depth=5, n_estimators=800,\n",
       "                          random_state=36, subsample=0.8)</pre><b>In a Jupyter environment, please rerun this cell to show the HTML representation or trust the notebook. <br />On GitHub, the HTML representation is unable to render, please try loading this page with nbviewer.org.</b></div><div class=\"sk-container\" hidden><div class=\"sk-item\"><div class=\"sk-estimator sk-toggleable\"><input class=\"sk-toggleable__control sk-hidden--visually\" id=\"sk-estimator-id-4\" type=\"checkbox\" checked><label for=\"sk-estimator-id-4\" class=\"sk-toggleable__label sk-toggleable__label-arrow\">GradientBoostingRegressor</label><div class=\"sk-toggleable__content\"><pre>GradientBoostingRegressor(learning_rate=0.05, max_depth=5, n_estimators=800,\n",
       "                          random_state=36, subsample=0.8)</pre></div></div></div></div></div>"
      ],
      "text/plain": [
       "GradientBoostingRegressor(learning_rate=0.05, max_depth=5, n_estimators=800,\n",
       "                          random_state=36, subsample=0.8)"
      ]
     },
     "execution_count": 23,
     "metadata": {},
     "output_type": "execute_result"
    }
   ],
   "source": [
    "gbr_model = GradientBoostingRegressor(random_state=36 , **best_gbr_parameter)\n",
    "gbr_model.fit(x,y)"
   ]
  },
  {
   "cell_type": "code",
   "execution_count": 25,
   "id": "25b545a7-6c90-4177-bff1-b4c0c60bd6d6",
   "metadata": {
    "execution": {
     "iopub.execute_input": "2023-05-22T15:26:21.428711Z",
     "iopub.status.busy": "2023-05-22T15:26:21.427632Z",
     "iopub.status.idle": "2023-05-22T15:26:21.434830Z",
     "shell.execute_reply": "2023-05-22T15:26:21.433386Z",
     "shell.execute_reply.started": "2023-05-22T15:26:21.428653Z"
    },
    "tags": []
   },
   "outputs": [],
   "source": [
    "#scores = cross_val_score(gbr_model, x, y, cv=5, scoring='neg_mean_squared_error')\n",
    "#scoring='neg_mean_squared_error')\n",
    "\n",
    "#RMSE 계산\n",
    "#rmse_scores = np.sqrt(-scores)\n",
    "\n",
    "#결과 출력\n",
    "#print(\"MSE Scores:\", scores)\n",
    "#print(\"RMSE Scores:\", rmse_scores)\n",
    "#print(\"Mean RMSE:\", np.mean(rmse_scores))"
   ]
  },
  {
   "cell_type": "markdown",
   "id": "8c7f0cee-17c0-41ef-90ac-e1a46de64e89",
   "metadata": {},
   "source": [
    "# Predict"
   ]
  },
  {
   "cell_type": "code",
   "execution_count": 26,
   "id": "e6edb11f-bbf3-4fb5-b585-a5bcb7ba5252",
   "metadata": {
    "execution": {
     "iopub.execute_input": "2023-05-22T15:27:00.636145Z",
     "iopub.status.busy": "2023-05-22T15:27:00.635434Z",
     "iopub.status.idle": "2023-05-22T15:27:00.738074Z",
     "shell.execute_reply": "2023-05-22T15:27:00.737706Z",
     "shell.execute_reply.started": "2023-05-22T15:27:00.636097Z"
    }
   },
   "outputs": [],
   "source": [
    "y_pred = gbr_model.predict(sub)"
   ]
  },
  {
   "cell_type": "code",
   "execution_count": 27,
   "id": "498ca656-ff91-4f99-a768-f8e28aaa952e",
   "metadata": {
    "execution": {
     "iopub.execute_input": "2023-05-22T15:27:16.341236Z",
     "iopub.status.busy": "2023-05-22T15:27:16.340243Z",
     "iopub.status.idle": "2023-05-22T15:27:16.348092Z",
     "shell.execute_reply": "2023-05-22T15:27:16.347111Z",
     "shell.execute_reply.started": "2023-05-22T15:27:16.341183Z"
    }
   },
   "outputs": [],
   "source": [
    "y_pred = np.expm1(y_pred)"
   ]
  },
  {
   "cell_type": "code",
   "execution_count": 28,
   "id": "5426c938-e0c0-4798-a78f-12057901b778",
   "metadata": {
    "execution": {
     "iopub.execute_input": "2023-05-22T15:27:19.871905Z",
     "iopub.status.busy": "2023-05-22T15:27:19.870827Z",
     "iopub.status.idle": "2023-05-22T15:27:19.880238Z",
     "shell.execute_reply": "2023-05-22T15:27:19.879627Z",
     "shell.execute_reply.started": "2023-05-22T15:27:19.871844Z"
    }
   },
   "outputs": [
    {
     "data": {
      "text/plain": [
       "array([ 502562.92477534,  477381.13641238, 1321846.32551518, ...,\n",
       "        480823.26227539,  334410.97097947,  461107.7416517 ])"
      ]
     },
     "execution_count": 28,
     "metadata": {},
     "output_type": "execute_result"
    }
   ],
   "source": [
    "y_pred"
   ]
  },
  {
   "cell_type": "markdown",
   "id": "6b8cb58e-f908-41f7-8802-3013efc3b750",
   "metadata": {},
   "source": [
    "# Make Submission"
   ]
  },
  {
   "cell_type": "code",
   "execution_count": 38,
   "id": "e106fd8b-669c-4272-8984-4ca2a4f07709",
   "metadata": {
    "execution": {
     "iopub.execute_input": "2023-05-22T15:36:38.712965Z",
     "iopub.status.busy": "2023-05-22T15:36:38.712244Z",
     "iopub.status.idle": "2023-05-22T15:36:38.737722Z",
     "shell.execute_reply": "2023-05-22T15:36:38.737373Z",
     "shell.execute_reply.started": "2023-05-22T15:36:38.712916Z"
    },
    "tags": []
   },
   "outputs": [],
   "source": [
    "sub_final = pd.DataFrame(data={'id':test_id,'price':y_pred})\n",
    "sub_final.to_csv('submission.csv', index=False)"
   ]
  },
  {
   "cell_type": "code",
   "execution_count": null,
   "id": "40bbaad0-c937-4a92-b811-4ce718284ac5",
   "metadata": {},
   "outputs": [],
   "source": []
  }
 ],
 "metadata": {
  "kernelspec": {
   "display_name": "Python 3.10 (tensorflow)",
   "language": "python",
   "name": "tensorflow"
  },
  "language_info": {
   "codemirror_mode": {
    "name": "ipython",
    "version": 3
   },
   "file_extension": ".py",
   "mimetype": "text/x-python",
   "name": "python",
   "nbconvert_exporter": "python",
   "pygments_lexer": "ipython3",
   "version": "3.10.11"
  }
 },
 "nbformat": 4,
 "nbformat_minor": 5
}
