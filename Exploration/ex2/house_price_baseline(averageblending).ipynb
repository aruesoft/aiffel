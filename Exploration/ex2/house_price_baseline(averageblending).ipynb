{
 "cells": [
  {
   "cell_type": "markdown",
   "metadata": {},
   "source": [
    "# Kaggle Competiton\n",
    "- https://www.kaggle.com/competitions/2019-2nd-ml-month-with-kakr/overview\n",
    "- Note : [Link](https://www.notion.so/parkjaeyoung/Kaggle-4147f4c9dd0b43e284d697c1cb6d7875?pvs=4https://www.notion.so/parkjaeyoung/Kaggle-4147f4c9dd0b43e284d697c1cb6d7875?pvs=4)"
   ]
  },
  {
   "cell_type": "markdown",
   "metadata": {},
   "source": [
    "# Library 및 Data Load"
   ]
  },
  {
   "cell_type": "code",
   "execution_count": 2,
   "metadata": {
    "_uuid": "38bfbd5ada16035c96bb21265c51de80361f17b4",
    "execution": {
     "iopub.execute_input": "2023-05-22T15:50:14.856213Z",
     "iopub.status.busy": "2023-05-22T15:50:14.855509Z",
     "iopub.status.idle": "2023-05-22T15:50:14.869325Z",
     "shell.execute_reply": "2023-05-22T15:50:14.868599Z",
     "shell.execute_reply.started": "2023-05-22T15:50:14.856164Z"
    },
    "tags": []
   },
   "outputs": [],
   "source": [
    "import warnings\n",
    "warnings.filterwarnings(\"ignore\")\n",
    "\n",
    "import pandas as pd\n",
    "import numpy as np\n",
    "\n",
    "import missingno as msno\n",
    "import matplotlib.pyplot as plt\n",
    "import seaborn as sns\n",
    "from scipy import stats\n",
    "\n",
    "from sklearn.ensemble import GradientBoostingRegressor\n",
    "from sklearn.ensemble import RandomForestRegressor\n",
    "from sklearn.ensemble import GradientBoostingRegressor\n",
    "\n",
    "from sklearn.model_selection import KFold, cross_val_score\n",
    "from sklearn.model_selection import cross_val_predict\n",
    "from sklearn.model_selection import GridSearchCV\n",
    "\n",
    "from sklearn.preprocessing import LabelEncoder\n",
    "from sklearn.preprocessing import RobustScaler\n",
    "\n",
    "import xgboost as xgb\n",
    "from xgboost import XGBRegressor\n",
    "\n",
    "import lightgbm as lgb\n",
    "from lightgbm import LGBMRegressor\n",
    "\n",
    "\n",
    "from sklearn.metrics import mean_squared_error\n",
    "from sklearn.pipeline import make_pipeline\n"
   ]
  },
  {
   "cell_type": "code",
   "execution_count": 3,
   "metadata": {
    "execution": {
     "iopub.execute_input": "2023-05-22T15:50:16.216644Z",
     "iopub.status.busy": "2023-05-22T15:50:16.215559Z",
     "iopub.status.idle": "2023-05-22T15:50:16.226102Z",
     "shell.execute_reply": "2023-05-22T15:50:16.225064Z",
     "shell.execute_reply.started": "2023-05-22T15:50:16.216588Z"
    },
    "tags": []
   },
   "outputs": [],
   "source": [
    "pd.options.display.max_rows = 100\n",
    "pd.set_option(\"display.max_rows\", 100)"
   ]
  },
  {
   "cell_type": "markdown",
   "metadata": {},
   "source": [
    "-----------"
   ]
  },
  {
   "cell_type": "markdown",
   "metadata": {},
   "source": [
    "# Data Load "
   ]
  },
  {
   "cell_type": "code",
   "execution_count": 4,
   "metadata": {
    "execution": {
     "iopub.execute_input": "2023-05-22T15:51:50.495561Z",
     "iopub.status.busy": "2023-05-22T15:51:50.494760Z",
     "iopub.status.idle": "2023-05-22T15:51:50.534233Z",
     "shell.execute_reply": "2023-05-22T15:51:50.533928Z",
     "shell.execute_reply.started": "2023-05-22T15:51:50.495509Z"
    }
   },
   "outputs": [],
   "source": [
    "sub = pd.read_csv('sub.csv',index_col=0)\n",
    "x = pd.read_csv('x.csv',index_col=0)\n",
    "y = pd.read_csv('y.csv',index_col=0)   # Log Scaled\n",
    "test_id = pd.read_csv('test_id.csv',index_col=0)\n",
    "\n",
    "y = y['price_logscaled'].to_list()\n",
    "test_id = test_id['id'].to_list()"
   ]
  },
  {
   "cell_type": "code",
   "execution_count": 5,
   "metadata": {
    "execution": {
     "iopub.execute_input": "2023-05-22T15:51:56.220443Z",
     "iopub.status.busy": "2023-05-22T15:51:56.219042Z",
     "iopub.status.idle": "2023-05-22T15:51:56.228519Z",
     "shell.execute_reply": "2023-05-22T15:51:56.227359Z",
     "shell.execute_reply.started": "2023-05-22T15:51:56.220387Z"
    }
   },
   "outputs": [
    {
     "name": "stdout",
     "output_type": "stream",
     "text": [
      "(15035, 16)\n",
      "15035\n",
      "(6468, 16)\n"
     ]
    }
   ],
   "source": [
    "print(x.shape)\n",
    "print(len(y))\n",
    "print(sub.shape)"
   ]
  },
  {
   "cell_type": "code",
   "execution_count": null,
   "metadata": {},
   "outputs": [],
   "source": []
  },
  {
   "cell_type": "markdown",
   "metadata": {},
   "source": [
    "## Modeling"
   ]
  },
  {
   "cell_type": "code",
   "execution_count": 6,
   "metadata": {
    "execution": {
     "iopub.execute_input": "2023-05-22T16:04:42.146585Z",
     "iopub.status.busy": "2023-05-22T16:04:42.145546Z",
     "iopub.status.idle": "2023-05-22T16:04:42.158746Z",
     "shell.execute_reply": "2023-05-22T16:04:42.157953Z",
     "shell.execute_reply.started": "2023-05-22T16:04:42.146528Z"
    },
    "tags": []
   },
   "outputs": [],
   "source": [
    "best_xgb_parameter =  {'colsample_bytree': 0.6, 'learning_rate': 0.05, 'max_depth': 7, 'n_estimators': 500, 'reg_alpha': 0.5, 'reg_lambda': 0.5, 'subsample': 0.8} \n",
    "best_gbm_parameter =  {'colsample_bytree': 0.6, 'max_depth': 10, 'min_split_gain': 0, 'n_estimators': 300, 'num_leaves': 50, 'reg_alpha': 1, 'reg_lambda': 1.3, 'subsample': 0.9, 'subsample_freq': 20}\n",
    "best_gbr_parameter =  {'learning_rate': 0.05, 'max_depth': 5, 'n_estimators': 800, 'subsample': 0.8 }\n",
    "\n",
    "\n",
    "gbm_model = lgb.LGBMRegressor(random_state=36, n_jobs=-1, **best_gbm_parameter)\n",
    "xgb_model = xgb.XGBRegressor(random_state=36, n_jobs=-1, **best_xgb_parameter)\n",
    "gbr_model = GradientBoostingRegressor(random_state=36, **best_gbr_parameter)\n",
    "\n",
    "models = [{'model':xgb_model, 'name':'XGBoost'},\n",
    "          {'model':gbm_model, 'name':'LightGBM'},\n",
    "          {'model':gbr_model, 'name':'GradientBoosting'}]"
   ]
  },
  {
   "cell_type": "code",
   "execution_count": 7,
   "metadata": {
    "execution": {
     "iopub.execute_input": "2023-05-22T16:04:57.348434Z",
     "iopub.status.busy": "2023-05-22T16:04:57.347189Z",
     "iopub.status.idle": "2023-05-22T16:04:57.356112Z",
     "shell.execute_reply": "2023-05-22T16:04:57.354924Z",
     "shell.execute_reply.started": "2023-05-22T16:04:57.348379Z"
    },
    "tags": []
   },
   "outputs": [],
   "source": [
    "def get_cv_score(models):\n",
    "    kfold = KFold(n_splits=5).get_n_splits(x.values)\n",
    "    for m in models:\n",
    "        CV_score = np.mean(cross_val_score(m['model'], X=x.values, y=y, cv=kfold))\n",
    "        print(f\"Model: {m['name']}, CV score:{CV_score:.4f}\")"
   ]
  },
  {
   "cell_type": "code",
   "execution_count": 8,
   "metadata": {
    "execution": {
     "iopub.execute_input": "2023-05-22T16:04:59.442672Z",
     "iopub.status.busy": "2023-05-22T16:04:59.441561Z",
     "iopub.status.idle": "2023-05-22T16:06:44.906226Z",
     "shell.execute_reply": "2023-05-22T16:06:44.905916Z",
     "shell.execute_reply.started": "2023-05-22T16:04:59.442609Z"
    },
    "tags": []
   },
   "outputs": [
    {
     "name": "stdout",
     "output_type": "stream",
     "text": [
      "Model: XGBoost, CV score:0.9080\n",
      "Model: LightGBM, CV score:0.9064\n",
      "Model: GradientBoosting, CV score:0.9046\n"
     ]
    }
   ],
   "source": [
    "get_cv_score(models)"
   ]
  },
  {
   "cell_type": "code",
   "execution_count": null,
   "metadata": {},
   "outputs": [],
   "source": []
  },
  {
   "cell_type": "markdown",
   "metadata": {},
   "source": [
    "### Average Blending"
   ]
  },
  {
   "cell_type": "code",
   "execution_count": 9,
   "metadata": {
    "execution": {
     "iopub.execute_input": "2023-05-22T16:06:55.371320Z",
     "iopub.status.busy": "2023-05-22T16:06:55.370257Z",
     "iopub.status.idle": "2023-05-22T16:06:55.380112Z",
     "shell.execute_reply": "2023-05-22T16:06:55.378912Z",
     "shell.execute_reply.started": "2023-05-22T16:06:55.371262Z"
    },
    "tags": []
   },
   "outputs": [],
   "source": [
    "def AveragingBlending(models, x, y, sub_x):\n",
    "    for m in models : \n",
    "        m['model'].fit(x.values, y)\n",
    "    \n",
    "    predictions = np.column_stack([\n",
    "        m['model'].predict(sub_x.values) for m in models\n",
    "    ])\n",
    "    return np.mean(predictions, axis=1)"
   ]
  },
  {
   "cell_type": "code",
   "execution_count": 10,
   "metadata": {
    "execution": {
     "iopub.execute_input": "2023-05-22T16:06:57.842990Z",
     "iopub.status.busy": "2023-05-22T16:06:57.841959Z",
     "iopub.status.idle": "2023-05-22T16:07:23.345692Z",
     "shell.execute_reply": "2023-05-22T16:07:23.345339Z",
     "shell.execute_reply.started": "2023-05-22T16:06:57.842925Z"
    },
    "tags": []
   },
   "outputs": [],
   "source": [
    "y_pred = AveragingBlending(models, x, y, sub)"
   ]
  },
  {
   "cell_type": "code",
   "execution_count": 11,
   "metadata": {
    "execution": {
     "iopub.execute_input": "2023-05-22T16:07:27.286608Z",
     "iopub.status.busy": "2023-05-22T16:07:27.285714Z",
     "iopub.status.idle": "2023-05-22T16:07:27.295452Z",
     "shell.execute_reply": "2023-05-22T16:07:27.294103Z",
     "shell.execute_reply.started": "2023-05-22T16:07:27.286563Z"
    },
    "tags": []
   },
   "outputs": [],
   "source": [
    "y_pred = np.expm1(y_pred)"
   ]
  },
  {
   "cell_type": "markdown",
   "metadata": {
    "_uuid": "a26c1d6aa9b779077f84ec60b7f29385fc2e058b"
   },
   "source": [
    "### Make Submission"
   ]
  },
  {
   "cell_type": "markdown",
   "metadata": {
    "_uuid": "1004d9b01d1c3068d9e8a81f263315435478e591"
   },
   "source": [
    "회귀 모델의 경우에는 cross_val_score 함수가 R<sup>2</sup>를 반환합니다.<br>\n",
    "R<sup>2</sup> 값이 1에 가까울수록 모델이 데이터를 잘 표현함을 나타냅니다. 3개 트리 모델이 상당히 훈련 데이터에 대해 괜찮은 성능을 보여주고 있습니다.<br> 훈련 데이터셋으로 3개 모델을 학습시키고, Average Blending을 통해 제출 결과를 만들겠습니다."
   ]
  },
  {
   "cell_type": "code",
   "execution_count": 12,
   "metadata": {
    "_uuid": "9c9d0901bcf5e4754b40a6922292c04951b81bae",
    "execution": {
     "iopub.execute_input": "2023-05-22T16:07:32.762229Z",
     "iopub.status.busy": "2023-05-22T16:07:32.761113Z",
     "iopub.status.idle": "2023-05-22T16:07:32.773013Z",
     "shell.execute_reply": "2023-05-22T16:07:32.772219Z",
     "shell.execute_reply.started": "2023-05-22T16:07:32.762165Z"
    },
    "tags": []
   },
   "outputs": [],
   "source": [
    "sub_final = pd.DataFrame(data={'id':test_id,'price':y_pred})"
   ]
  },
  {
   "cell_type": "code",
   "execution_count": 13,
   "metadata": {
    "_uuid": "2047d6ee5f5da05e5463d51d1fbbe82a94732a48",
    "execution": {
     "iopub.execute_input": "2023-05-22T16:07:36.160611Z",
     "iopub.status.busy": "2023-05-22T16:07:36.159497Z",
     "iopub.status.idle": "2023-05-22T16:07:36.182291Z",
     "shell.execute_reply": "2023-05-22T16:07:36.181919Z",
     "shell.execute_reply.started": "2023-05-22T16:07:36.160554Z"
    },
    "tags": []
   },
   "outputs": [],
   "source": [
    "sub_final.to_csv('submission.csv', index=False)"
   ]
  },
  {
   "cell_type": "markdown",
   "metadata": {
    "execution": {
     "iopub.execute_input": "2023-05-21T22:18:56.269642Z",
     "iopub.status.busy": "2023-05-21T22:18:56.268933Z",
     "iopub.status.idle": "2023-05-21T22:18:56.276460Z",
     "shell.execute_reply": "2023-05-21T22:18:56.275366Z",
     "shell.execute_reply.started": "2023-05-21T22:18:56.269594Z"
    }
   },
   "source": [
    "# Score"
   ]
  },
  {
   "cell_type": "markdown",
   "metadata": {},
   "source": [
    " - Score: 107517.21249\n",
    " - Private score: 112048.55987"
   ]
  },
  {
   "cell_type": "code",
   "execution_count": null,
   "metadata": {},
   "outputs": [],
   "source": []
  }
 ],
 "metadata": {
  "kernelspec": {
   "display_name": "Python 3.10 (tensorflow)",
   "language": "python",
   "name": "tensorflow"
  },
  "language_info": {
   "codemirror_mode": {
    "name": "ipython",
    "version": 3
   },
   "file_extension": ".py",
   "mimetype": "text/x-python",
   "name": "python",
   "nbconvert_exporter": "python",
   "pygments_lexer": "ipython3",
   "version": "3.10.11"
  },
  "toc-autonumbering": true
 },
 "nbformat": 4,
 "nbformat_minor": 4
}
