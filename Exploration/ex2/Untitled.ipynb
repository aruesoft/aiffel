{
 "cells": [
  {
   "cell_type": "code",
   "execution_count": null,
   "id": "6808ec8d-b8a3-437b-ae42-f2e236695d8a",
   "metadata": {},
   "outputs": [],
   "source": []
  },
  {
   "cell_type": "markdown",
   "id": "3f476067-20bf-4377-9ab1-1dc47af25106",
   "metadata": {
    "jp-MarkdownHeadingCollapsed": true,
    "tags": []
   },
   "source": [
    "# Kaggle Competiton\n",
    "- https://www.kaggle.com/competitions/2019-2nd-ml-month-with-kakr/overview\n",
    "- Note : [Link](https://www.notion.so/parkjaeyoung/Kaggle-4147f4c9dd0b43e284d697c1cb6d7875?pvs=4https://www.notion.so/parkjaeyoung/Kaggle-4147f4c9dd0b43e284d697c1cb6d7875?pvs=4)"
   ]
  },
  {
   "cell_type": "markdown",
   "id": "40f27a65-bd2f-442e-b37f-218cd1321ab5",
   "metadata": {},
   "source": [
    "# Library 및 Data Load"
   ]
  },
  {
   "cell_type": "code",
   "execution_count": 1,
   "id": "3ea9f3ae-142a-43bd-9764-5034a8e70496",
   "metadata": {
    "_uuid": "38bfbd5ada16035c96bb21265c51de80361f17b4",
    "execution": {
     "iopub.execute_input": "2023-05-22T11:48:59.770388Z",
     "iopub.status.busy": "2023-05-22T11:48:59.769312Z",
     "iopub.status.idle": "2023-05-22T11:49:00.469306Z",
     "shell.execute_reply": "2023-05-22T11:49:00.468964Z",
     "shell.execute_reply.started": "2023-05-22T11:48:59.770326Z"
    },
    "tags": []
   },
   "outputs": [],
   "source": [
    "import warnings\n",
    "warnings.filterwarnings(\"ignore\")\n",
    "\n",
    "import pandas as pd\n",
    "import numpy as np\n",
    "\n",
    "import missingno as msno\n",
    "import matplotlib.pyplot as plt\n",
    "import seaborn as sns\n",
    "from scipy import stats\n",
    "\n",
    "from sklearn.ensemble import GradientBoostingRegressor\n",
    "from sklearn.ensemble import RandomForestRegressor\n",
    "from sklearn.ensemble import GradientBoostingRegressor\n",
    "\n",
    "from sklearn.model_selection import KFold, cross_val_score\n",
    "from sklearn.model_selection import cross_val_predict\n",
    "from sklearn.model_selection import GridSearchCV\n",
    "\n",
    "from sklearn.preprocessing import LabelEncoder\n",
    "from sklearn.preprocessing import RobustScaler\n",
    "\n",
    "import xgboost as xgb\n",
    "from xgboost import XGBRegressor\n",
    "\n",
    "import lightgbm as lgb\n",
    "from lightgbm import LGBMRegressor\n",
    "\n",
    "\n",
    "from sklearn.metrics import mean_squared_error\n",
    "from sklearn.pipeline import make_pipeline\n"
   ]
  },
  {
   "cell_type": "code",
   "execution_count": 2,
   "id": "6ce16e43-e562-4559-bf9b-70bdaddcb194",
   "metadata": {
    "execution": {
     "iopub.execute_input": "2023-05-22T11:49:01.707895Z",
     "iopub.status.busy": "2023-05-22T11:49:01.706464Z",
     "iopub.status.idle": "2023-05-22T11:49:01.716363Z",
     "shell.execute_reply": "2023-05-22T11:49:01.714904Z",
     "shell.execute_reply.started": "2023-05-22T11:49:01.707836Z"
    },
    "tags": []
   },
   "outputs": [],
   "source": [
    "pd.options.display.max_rows = 100\n",
    "pd.set_option(\"display.max_rows\", 100)"
   ]
  },
  {
   "cell_type": "markdown",
   "id": "f2589f4e-9bb9-4ac6-8a7e-360f815289dd",
   "metadata": {},
   "source": [
    "# Data Load"
   ]
  },
  {
   "cell_type": "code",
   "execution_count": 27,
   "id": "4349baa7-c0a7-426c-8cdc-2105e5e211e8",
   "metadata": {
    "execution": {
     "iopub.execute_input": "2023-05-22T12:00:51.268659Z",
     "iopub.status.busy": "2023-05-22T12:00:51.267556Z",
     "iopub.status.idle": "2023-05-22T12:00:51.276292Z",
     "shell.execute_reply": "2023-05-22T12:00:51.275065Z",
     "shell.execute_reply.started": "2023-05-22T12:00:51.268596Z"
    },
    "tags": []
   },
   "outputs": [],
   "source": [
    "sub = pd.read_csv('sub.csv',index_col=0)\n",
    "x = pd.read_csv('x.csv',index_col=0)\n",
    "y = pd.read_csv('y.csv',index_col=0)   # Log Scaled\n",
    "\n",
    "y = y['price_logscaled'].to_list()"
   ]
  },
  {
   "cell_type": "code",
   "execution_count": 32,
   "id": "2966461b-137b-4c06-9c46-5f983554a696",
   "metadata": {
    "execution": {
     "iopub.execute_input": "2023-05-22T12:02:13.349181Z",
     "iopub.status.busy": "2023-05-22T12:02:13.348420Z",
     "iopub.status.idle": "2023-05-22T12:02:13.358003Z",
     "shell.execute_reply": "2023-05-22T12:02:13.357316Z",
     "shell.execute_reply.started": "2023-05-22T12:02:13.349148Z"
    },
    "tags": []
   },
   "outputs": [
    {
     "name": "stdout",
     "output_type": "stream",
     "text": [
      "(15035, 16)\n",
      "15035\n",
      "(6468, 16)\n"
     ]
    }
   ],
   "source": [
    "print(x.shape)\n",
    "print(len(y))\n",
    "print(sub.shape)"
   ]
  },
  {
   "cell_type": "markdown",
   "id": "fc35a3cb-9172-4c53-8962-bd811a466d14",
   "metadata": {},
   "source": [
    "# Grid Search"
   ]
  },
  {
   "cell_type": "code",
   "execution_count": 40,
   "id": "a6c9ddb7-c86f-4d05-9d78-8a714b46977d",
   "metadata": {
    "execution": {
     "iopub.execute_input": "2023-05-22T12:48:38.277979Z",
     "iopub.status.busy": "2023-05-22T12:48:38.276877Z",
     "iopub.status.idle": "2023-05-22T12:48:38.287335Z",
     "shell.execute_reply": "2023-05-22T12:48:38.286094Z",
     "shell.execute_reply.started": "2023-05-22T12:48:38.277919Z"
    },
    "tags": []
   },
   "outputs": [],
   "source": [
    "# 그리드 서치 파라미터 설정\n",
    "param_grid = {\n",
    "    'n_estimators': [100, 300, 500, 800],\n",
    "    'learning_rate': [0.01, 0.05, 0.1],\n",
    "    'max_depth': [3, 5, 7],\n",
    "    'subsample': [0.6, 0.7, 0.8, 0.9]\n",
    "}"
   ]
  },
  {
   "cell_type": "code",
   "execution_count": 41,
   "id": "c29476d7-933f-4b1e-8f27-2f73fe72930d",
   "metadata": {
    "execution": {
     "iopub.execute_input": "2023-05-22T12:48:39.908267Z",
     "iopub.status.busy": "2023-05-22T12:48:39.907166Z",
     "iopub.status.idle": "2023-05-22T12:48:39.918632Z",
     "shell.execute_reply": "2023-05-22T12:48:39.917333Z",
     "shell.execute_reply.started": "2023-05-22T12:48:39.908206Z"
    },
    "tags": []
   },
   "outputs": [],
   "source": [
    "# Gradient Boosting Regressor 모델 정의\n",
    "model = GradientBoostingRegressor()"
   ]
  },
  {
   "cell_type": "code",
   "execution_count": null,
   "id": "3599bde6-620f-4942-b290-b8143409205f",
   "metadata": {
    "execution": {
     "iopub.execute_input": "2023-05-22T12:48:41.332577Z",
     "iopub.status.busy": "2023-05-22T12:48:41.331425Z"
    },
    "tags": []
   },
   "outputs": [],
   "source": [
    "# 그리드 서치 수행\n",
    "grid_search = GridSearchCV(estimator=model, param_grid=param_grid, scoring='neg_mean_squared_error', cv=5)\n",
    "grid_search.fit(x, y)"
   ]
  },
  {
   "cell_type": "code",
   "execution_count": null,
   "id": "422b3576-7e8d-467e-a7b9-334aa6cf2edd",
   "metadata": {},
   "outputs": [],
   "source": []
  }
 ],
 "metadata": {
  "kernelspec": {
   "display_name": "Python 3.10 (tensorflow)",
   "language": "python",
   "name": "tensorflow"
  },
  "language_info": {
   "codemirror_mode": {
    "name": "ipython",
    "version": 3
   },
   "file_extension": ".py",
   "mimetype": "text/x-python",
   "name": "python",
   "nbconvert_exporter": "python",
   "pygments_lexer": "ipython3",
   "version": "3.10.11"
  }
 },
 "nbformat": 4,
 "nbformat_minor": 5
}
