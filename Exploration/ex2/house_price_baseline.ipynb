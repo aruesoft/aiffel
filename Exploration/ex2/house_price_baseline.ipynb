{
 "cells": [
  {
   "cell_type": "markdown",
   "metadata": {},
   "source": [
    "# Kaggle Competiton\n",
    "- https://www.kaggle.com/competitions/2019-2nd-ml-month-with-kakr/overview\n",
    "- Note : [Link](https://www.notion.so/parkjaeyoung/Kaggle-4147f4c9dd0b43e284d697c1cb6d7875?pvs=4https://www.notion.so/parkjaeyoung/Kaggle-4147f4c9dd0b43e284d697c1cb6d7875?pvs=4)"
   ]
  },
  {
   "cell_type": "markdown",
   "metadata": {},
   "source": [
    "# Library 및 Data Load"
   ]
  },
  {
   "cell_type": "code",
   "execution_count": 1,
   "metadata": {
    "_uuid": "38bfbd5ada16035c96bb21265c51de80361f17b4",
    "execution": {
     "iopub.execute_input": "2023-05-19T23:26:39.153695Z",
     "iopub.status.busy": "2023-05-19T23:26:39.153594Z",
     "iopub.status.idle": "2023-05-19T23:26:39.811115Z",
     "shell.execute_reply": "2023-05-19T23:26:39.810765Z",
     "shell.execute_reply.started": "2023-05-19T23:26:39.153685Z"
    },
    "tags": []
   },
   "outputs": [],
   "source": [
    "import warnings\n",
    "warnings.filterwarnings(\"ignore\")\n",
    "\n",
    "import pandas as pd\n",
    "import numpy as np\n",
    "\n",
    "import missingno as msno\n",
    "import matplotlib.pyplot as plt\n",
    "import seaborn as sns\n",
    "from scipy import stats\n",
    "\n",
    "from sklearn.ensemble import GradientBoostingRegressor\n",
    "from sklearn.model_selection import KFold, cross_val_score\n",
    "from sklearn.model_selection import cross_val_predict\n",
    "from sklearn.model_selection import GridSearchCV\n",
    "\n",
    "from sklearn.preprocessing import LabelEncoder\n",
    "from sklearn.preprocessing import RobustScaler\n",
    "\n",
    "import xgboost as xgb\n",
    "from xgboost import XGBRegressor\n",
    "\n",
    "import lightgbm as lgb\n",
    "from lightgbm import LGBMRegressor\n",
    "\n",
    "from sklearn.metrics import mean_squared_error\n",
    "from sklearn.pipeline import make_pipeline\n",
    "from sklearn.linear_model import RidgeCV"
   ]
  },
  {
   "cell_type": "code",
   "execution_count": 86,
   "metadata": {
    "_uuid": "df5891d33b4d5f08c0011b712f8796417564ec17",
    "execution": {
     "iopub.execute_input": "2023-05-20T00:36:52.222437Z",
     "iopub.status.busy": "2023-05-20T00:36:52.221737Z",
     "iopub.status.idle": "2023-05-20T00:36:52.258389Z",
     "shell.execute_reply": "2023-05-20T00:36:52.258044Z",
     "shell.execute_reply.started": "2023-05-20T00:36:52.222386Z"
    },
    "tags": []
   },
   "outputs": [
    {
     "name": "stdout",
     "output_type": "stream",
     "text": [
      "train data dim : (15035, 21)\n",
      "sub data dim : (6468, 20)\n"
     ]
    }
   ],
   "source": [
    "df_train = pd.read_csv('./data/train.csv')\n",
    "df_test = pd.read_csv('./data/test.csv')\n",
    "\n",
    "print('train data dim : {}'.format(df_train.shape))\n",
    "print('sub data dim : {}'.format(df_test.shape))"
   ]
  },
  {
   "cell_type": "code",
   "execution_count": 3,
   "metadata": {
    "execution": {
     "iopub.execute_input": "2023-05-19T23:26:39.832898Z",
     "iopub.status.busy": "2023-05-19T23:26:39.832806Z",
     "iopub.status.idle": "2023-05-19T23:26:39.847690Z",
     "shell.execute_reply": "2023-05-19T23:26:39.847298Z",
     "shell.execute_reply.started": "2023-05-19T23:26:39.832889Z"
    }
   },
   "outputs": [
    {
     "data": {
      "text/html": [
       "<div>\n",
       "<style scoped>\n",
       "    .dataframe tbody tr th:only-of-type {\n",
       "        vertical-align: middle;\n",
       "    }\n",
       "\n",
       "    .dataframe tbody tr th {\n",
       "        vertical-align: top;\n",
       "    }\n",
       "\n",
       "    .dataframe thead th {\n",
       "        text-align: right;\n",
       "    }\n",
       "</style>\n",
       "<table border=\"1\" class=\"dataframe\">\n",
       "  <thead>\n",
       "    <tr style=\"text-align: right;\">\n",
       "      <th></th>\n",
       "      <th>id</th>\n",
       "      <th>date</th>\n",
       "      <th>price</th>\n",
       "      <th>bedrooms</th>\n",
       "      <th>bathrooms</th>\n",
       "      <th>sqft_living</th>\n",
       "      <th>sqft_lot</th>\n",
       "      <th>floors</th>\n",
       "      <th>waterfront</th>\n",
       "      <th>view</th>\n",
       "      <th>...</th>\n",
       "      <th>grade</th>\n",
       "      <th>sqft_above</th>\n",
       "      <th>sqft_basement</th>\n",
       "      <th>yr_built</th>\n",
       "      <th>yr_renovated</th>\n",
       "      <th>zipcode</th>\n",
       "      <th>lat</th>\n",
       "      <th>long</th>\n",
       "      <th>sqft_living15</th>\n",
       "      <th>sqft_lot15</th>\n",
       "    </tr>\n",
       "  </thead>\n",
       "  <tbody>\n",
       "    <tr>\n",
       "      <th>0</th>\n",
       "      <td>0</td>\n",
       "      <td>20141013T000000</td>\n",
       "      <td>221900.0</td>\n",
       "      <td>3</td>\n",
       "      <td>1.00</td>\n",
       "      <td>1180</td>\n",
       "      <td>5650</td>\n",
       "      <td>1.0</td>\n",
       "      <td>0</td>\n",
       "      <td>0</td>\n",
       "      <td>...</td>\n",
       "      <td>7</td>\n",
       "      <td>1180</td>\n",
       "      <td>0</td>\n",
       "      <td>1955</td>\n",
       "      <td>0</td>\n",
       "      <td>98178</td>\n",
       "      <td>47.5112</td>\n",
       "      <td>-122.257</td>\n",
       "      <td>1340</td>\n",
       "      <td>5650</td>\n",
       "    </tr>\n",
       "    <tr>\n",
       "      <th>1</th>\n",
       "      <td>1</td>\n",
       "      <td>20150225T000000</td>\n",
       "      <td>180000.0</td>\n",
       "      <td>2</td>\n",
       "      <td>1.00</td>\n",
       "      <td>770</td>\n",
       "      <td>10000</td>\n",
       "      <td>1.0</td>\n",
       "      <td>0</td>\n",
       "      <td>0</td>\n",
       "      <td>...</td>\n",
       "      <td>6</td>\n",
       "      <td>770</td>\n",
       "      <td>0</td>\n",
       "      <td>1933</td>\n",
       "      <td>0</td>\n",
       "      <td>98028</td>\n",
       "      <td>47.7379</td>\n",
       "      <td>-122.233</td>\n",
       "      <td>2720</td>\n",
       "      <td>8062</td>\n",
       "    </tr>\n",
       "    <tr>\n",
       "      <th>2</th>\n",
       "      <td>2</td>\n",
       "      <td>20150218T000000</td>\n",
       "      <td>510000.0</td>\n",
       "      <td>3</td>\n",
       "      <td>2.00</td>\n",
       "      <td>1680</td>\n",
       "      <td>8080</td>\n",
       "      <td>1.0</td>\n",
       "      <td>0</td>\n",
       "      <td>0</td>\n",
       "      <td>...</td>\n",
       "      <td>8</td>\n",
       "      <td>1680</td>\n",
       "      <td>0</td>\n",
       "      <td>1987</td>\n",
       "      <td>0</td>\n",
       "      <td>98074</td>\n",
       "      <td>47.6168</td>\n",
       "      <td>-122.045</td>\n",
       "      <td>1800</td>\n",
       "      <td>7503</td>\n",
       "    </tr>\n",
       "    <tr>\n",
       "      <th>3</th>\n",
       "      <td>3</td>\n",
       "      <td>20140627T000000</td>\n",
       "      <td>257500.0</td>\n",
       "      <td>3</td>\n",
       "      <td>2.25</td>\n",
       "      <td>1715</td>\n",
       "      <td>6819</td>\n",
       "      <td>2.0</td>\n",
       "      <td>0</td>\n",
       "      <td>0</td>\n",
       "      <td>...</td>\n",
       "      <td>7</td>\n",
       "      <td>1715</td>\n",
       "      <td>0</td>\n",
       "      <td>1995</td>\n",
       "      <td>0</td>\n",
       "      <td>98003</td>\n",
       "      <td>47.3097</td>\n",
       "      <td>-122.327</td>\n",
       "      <td>2238</td>\n",
       "      <td>6819</td>\n",
       "    </tr>\n",
       "    <tr>\n",
       "      <th>4</th>\n",
       "      <td>4</td>\n",
       "      <td>20150115T000000</td>\n",
       "      <td>291850.0</td>\n",
       "      <td>3</td>\n",
       "      <td>1.50</td>\n",
       "      <td>1060</td>\n",
       "      <td>9711</td>\n",
       "      <td>1.0</td>\n",
       "      <td>0</td>\n",
       "      <td>0</td>\n",
       "      <td>...</td>\n",
       "      <td>7</td>\n",
       "      <td>1060</td>\n",
       "      <td>0</td>\n",
       "      <td>1963</td>\n",
       "      <td>0</td>\n",
       "      <td>98198</td>\n",
       "      <td>47.4095</td>\n",
       "      <td>-122.315</td>\n",
       "      <td>1650</td>\n",
       "      <td>9711</td>\n",
       "    </tr>\n",
       "  </tbody>\n",
       "</table>\n",
       "<p>5 rows × 21 columns</p>\n",
       "</div>"
      ],
      "text/plain": [
       "   id             date     price  bedrooms  bathrooms  sqft_living  sqft_lot   \n",
       "0   0  20141013T000000  221900.0         3       1.00         1180      5650  \\\n",
       "1   1  20150225T000000  180000.0         2       1.00          770     10000   \n",
       "2   2  20150218T000000  510000.0         3       2.00         1680      8080   \n",
       "3   3  20140627T000000  257500.0         3       2.25         1715      6819   \n",
       "4   4  20150115T000000  291850.0         3       1.50         1060      9711   \n",
       "\n",
       "   floors  waterfront  view  ...  grade  sqft_above  sqft_basement  yr_built   \n",
       "0     1.0           0     0  ...      7        1180              0      1955  \\\n",
       "1     1.0           0     0  ...      6         770              0      1933   \n",
       "2     1.0           0     0  ...      8        1680              0      1987   \n",
       "3     2.0           0     0  ...      7        1715              0      1995   \n",
       "4     1.0           0     0  ...      7        1060              0      1963   \n",
       "\n",
       "   yr_renovated  zipcode      lat     long  sqft_living15  sqft_lot15  \n",
       "0             0    98178  47.5112 -122.257           1340        5650  \n",
       "1             0    98028  47.7379 -122.233           2720        8062  \n",
       "2             0    98074  47.6168 -122.045           1800        7503  \n",
       "3             0    98003  47.3097 -122.327           2238        6819  \n",
       "4             0    98198  47.4095 -122.315           1650        9711  \n",
       "\n",
       "[5 rows x 21 columns]"
      ]
     },
     "metadata": {},
     "output_type": "display_data"
    },
    {
     "data": {
      "text/html": [
       "<div>\n",
       "<style scoped>\n",
       "    .dataframe tbody tr th:only-of-type {\n",
       "        vertical-align: middle;\n",
       "    }\n",
       "\n",
       "    .dataframe tbody tr th {\n",
       "        vertical-align: top;\n",
       "    }\n",
       "\n",
       "    .dataframe thead th {\n",
       "        text-align: right;\n",
       "    }\n",
       "</style>\n",
       "<table border=\"1\" class=\"dataframe\">\n",
       "  <thead>\n",
       "    <tr style=\"text-align: right;\">\n",
       "      <th></th>\n",
       "      <th>id</th>\n",
       "      <th>date</th>\n",
       "      <th>bedrooms</th>\n",
       "      <th>bathrooms</th>\n",
       "      <th>sqft_living</th>\n",
       "      <th>sqft_lot</th>\n",
       "      <th>floors</th>\n",
       "      <th>waterfront</th>\n",
       "      <th>view</th>\n",
       "      <th>condition</th>\n",
       "      <th>grade</th>\n",
       "      <th>sqft_above</th>\n",
       "      <th>sqft_basement</th>\n",
       "      <th>yr_built</th>\n",
       "      <th>yr_renovated</th>\n",
       "      <th>zipcode</th>\n",
       "      <th>lat</th>\n",
       "      <th>long</th>\n",
       "      <th>sqft_living15</th>\n",
       "      <th>sqft_lot15</th>\n",
       "    </tr>\n",
       "  </thead>\n",
       "  <tbody>\n",
       "    <tr>\n",
       "      <th>0</th>\n",
       "      <td>15035</td>\n",
       "      <td>20141209T000000</td>\n",
       "      <td>3</td>\n",
       "      <td>2.25</td>\n",
       "      <td>2570</td>\n",
       "      <td>7242</td>\n",
       "      <td>2.0</td>\n",
       "      <td>0</td>\n",
       "      <td>0</td>\n",
       "      <td>3</td>\n",
       "      <td>7</td>\n",
       "      <td>2170</td>\n",
       "      <td>400</td>\n",
       "      <td>1951</td>\n",
       "      <td>1991</td>\n",
       "      <td>98125</td>\n",
       "      <td>47.7210</td>\n",
       "      <td>-122.319</td>\n",
       "      <td>1690</td>\n",
       "      <td>7639</td>\n",
       "    </tr>\n",
       "    <tr>\n",
       "      <th>1</th>\n",
       "      <td>15036</td>\n",
       "      <td>20141209T000000</td>\n",
       "      <td>4</td>\n",
       "      <td>3.00</td>\n",
       "      <td>1960</td>\n",
       "      <td>5000</td>\n",
       "      <td>1.0</td>\n",
       "      <td>0</td>\n",
       "      <td>0</td>\n",
       "      <td>5</td>\n",
       "      <td>7</td>\n",
       "      <td>1050</td>\n",
       "      <td>910</td>\n",
       "      <td>1965</td>\n",
       "      <td>0</td>\n",
       "      <td>98136</td>\n",
       "      <td>47.5208</td>\n",
       "      <td>-122.393</td>\n",
       "      <td>1360</td>\n",
       "      <td>5000</td>\n",
       "    </tr>\n",
       "    <tr>\n",
       "      <th>2</th>\n",
       "      <td>15037</td>\n",
       "      <td>20140512T000000</td>\n",
       "      <td>4</td>\n",
       "      <td>4.50</td>\n",
       "      <td>5420</td>\n",
       "      <td>101930</td>\n",
       "      <td>1.0</td>\n",
       "      <td>0</td>\n",
       "      <td>0</td>\n",
       "      <td>3</td>\n",
       "      <td>11</td>\n",
       "      <td>3890</td>\n",
       "      <td>1530</td>\n",
       "      <td>2001</td>\n",
       "      <td>0</td>\n",
       "      <td>98053</td>\n",
       "      <td>47.6561</td>\n",
       "      <td>-122.005</td>\n",
       "      <td>4760</td>\n",
       "      <td>101930</td>\n",
       "    </tr>\n",
       "    <tr>\n",
       "      <th>3</th>\n",
       "      <td>15038</td>\n",
       "      <td>20150415T000000</td>\n",
       "      <td>3</td>\n",
       "      <td>1.00</td>\n",
       "      <td>1780</td>\n",
       "      <td>7470</td>\n",
       "      <td>1.0</td>\n",
       "      <td>0</td>\n",
       "      <td>0</td>\n",
       "      <td>3</td>\n",
       "      <td>7</td>\n",
       "      <td>1050</td>\n",
       "      <td>730</td>\n",
       "      <td>1960</td>\n",
       "      <td>0</td>\n",
       "      <td>98146</td>\n",
       "      <td>47.5123</td>\n",
       "      <td>-122.337</td>\n",
       "      <td>1780</td>\n",
       "      <td>8113</td>\n",
       "    </tr>\n",
       "    <tr>\n",
       "      <th>4</th>\n",
       "      <td>15039</td>\n",
       "      <td>20150312T000000</td>\n",
       "      <td>3</td>\n",
       "      <td>2.50</td>\n",
       "      <td>1890</td>\n",
       "      <td>6560</td>\n",
       "      <td>2.0</td>\n",
       "      <td>0</td>\n",
       "      <td>0</td>\n",
       "      <td>3</td>\n",
       "      <td>7</td>\n",
       "      <td>1890</td>\n",
       "      <td>0</td>\n",
       "      <td>2003</td>\n",
       "      <td>0</td>\n",
       "      <td>98038</td>\n",
       "      <td>47.3684</td>\n",
       "      <td>-122.031</td>\n",
       "      <td>2390</td>\n",
       "      <td>7570</td>\n",
       "    </tr>\n",
       "  </tbody>\n",
       "</table>\n",
       "</div>"
      ],
      "text/plain": [
       "      id             date  bedrooms  bathrooms  sqft_living  sqft_lot  floors   \n",
       "0  15035  20141209T000000         3       2.25         2570      7242     2.0  \\\n",
       "1  15036  20141209T000000         4       3.00         1960      5000     1.0   \n",
       "2  15037  20140512T000000         4       4.50         5420    101930     1.0   \n",
       "3  15038  20150415T000000         3       1.00         1780      7470     1.0   \n",
       "4  15039  20150312T000000         3       2.50         1890      6560     2.0   \n",
       "\n",
       "   waterfront  view  condition  grade  sqft_above  sqft_basement  yr_built   \n",
       "0           0     0          3      7        2170            400      1951  \\\n",
       "1           0     0          5      7        1050            910      1965   \n",
       "2           0     0          3     11        3890           1530      2001   \n",
       "3           0     0          3      7        1050            730      1960   \n",
       "4           0     0          3      7        1890              0      2003   \n",
       "\n",
       "   yr_renovated  zipcode      lat     long  sqft_living15  sqft_lot15  \n",
       "0          1991    98125  47.7210 -122.319           1690        7639  \n",
       "1             0    98136  47.5208 -122.393           1360        5000  \n",
       "2             0    98053  47.6561 -122.005           4760      101930  \n",
       "3             0    98146  47.5123 -122.337           1780        8113  \n",
       "4             0    98038  47.3684 -122.031           2390        7570  "
      ]
     },
     "metadata": {},
     "output_type": "display_data"
    }
   ],
   "source": [
    "display(df_train.head())\n",
    "display(df_test.head())"
   ]
  },
  {
   "cell_type": "code",
   "execution_count": 4,
   "metadata": {
    "execution": {
     "iopub.execute_input": "2023-05-19T23:26:48.933084Z",
     "iopub.status.busy": "2023-05-19T23:26:48.931918Z",
     "iopub.status.idle": "2023-05-19T23:26:48.943202Z",
     "shell.execute_reply": "2023-05-19T23:26:48.942299Z",
     "shell.execute_reply.started": "2023-05-19T23:26:48.933025Z"
    }
   },
   "outputs": [
    {
     "data": {
      "text/plain": [
       "\"\\ntarget = df_train['price']\\ndel df_train['price']\\n\\ntrain_len = len(df_train)\\ntest_id = df[id][train_len:]\\n\""
      ]
     },
     "execution_count": 4,
     "metadata": {},
     "output_type": "execute_result"
    }
   ],
   "source": [
    "'''\n",
    "target = df_train['price']\n",
    "del df_train['price']\n",
    "\n",
    "train_len = len(df_train)\n",
    "test_id = df[id][train_len:]\n",
    "'''"
   ]
  },
  {
   "cell_type": "markdown",
   "metadata": {},
   "source": [
    "-------"
   ]
  },
  {
   "cell_type": "markdown",
   "metadata": {
    "_uuid": "7f0d3320a32138c92ed7b0629a57bd5a719603b0"
   },
   "source": [
    "#  EDA\n",
    "pandas의 read_csv 함수를 사용해 데이터를 읽어오고, 각 변수들이 나타내는 의미를 살펴보겠습니다.\n",
    "1. ID : 집을 구분하는 번호\n",
    "2. date : 집을 구매한 날짜\n",
    "3. price : 타겟 변수인 집의 가격\n",
    "4. bedrooms : 침실의 수\n",
    "5. bathrooms : 침실당 화장실 개수\n",
    "6. sqft_living : 주거 공간의 평방 피트\n",
    "7. sqft_lot : 부지의 평방 피트\n",
    "8. floors : 집의 층 수\n",
    "9. waterfront : 집의 전방에 강이 흐르는지 유무 (a.k.a. 리버뷰)\n",
    "10. view : 집이 얼마나 좋아 보이는지의 정도\n",
    "11. condition : 집의 전반적인 상태\n",
    "12. grade : King County grading 시스템 기준으로 매긴 집의 등급\n",
    "13. sqft_above : 지하실을 제외한 평방 피트\n",
    "14. sqft_basement : 지하실의 평방 피트\n",
    "15. yr_built : 집을 지은 년도\n",
    "16. yr_renovated : 집을 재건축한 년도\n",
    "17. zipcode : 우편번호\n",
    "18. lat : 위도\n",
    "19. long : 경도\n",
    "20. sqft_living15 : 2015년 기준 주거 공간의 평방 피트(집을 재건축했다면, 변화가 있을 수 있음)\n",
    "21. sqft_lot15 : 2015년 기준 부지의 평방 피트(집을 재건축했다면, 변화가 있을 수 있음)"
   ]
  },
  {
   "cell_type": "markdown",
   "metadata": {
    "jp-MarkdownHeadingCollapsed": true,
    "tags": []
   },
   "source": [
    "## 결측치 확인"
   ]
  },
  {
   "cell_type": "code",
   "execution_count": 5,
   "metadata": {
    "execution": {
     "iopub.execute_input": "2023-05-19T23:29:52.468107Z",
     "iopub.status.busy": "2023-05-19T23:29:52.467427Z",
     "iopub.status.idle": "2023-05-19T23:29:53.016593Z",
     "shell.execute_reply": "2023-05-19T23:29:53.016244Z",
     "shell.execute_reply.started": "2023-05-19T23:29:52.468059Z"
    }
   },
   "outputs": [
    {
     "data": {
      "text/plain": [
       "id               0\n",
       "date             0\n",
       "price            0\n",
       "bedrooms         0\n",
       "bathrooms        0\n",
       "sqft_living      0\n",
       "sqft_lot         0\n",
       "floors           0\n",
       "waterfront       0\n",
       "view             0\n",
       "condition        0\n",
       "grade            0\n",
       "sqft_above       0\n",
       "sqft_basement    0\n",
       "yr_built         0\n",
       "yr_renovated     0\n",
       "zipcode          0\n",
       "lat              0\n",
       "long             0\n",
       "sqft_living15    0\n",
       "sqft_lot15       0\n",
       "dtype: int64"
      ]
     },
     "metadata": {},
     "output_type": "display_data"
    },
    {
     "data": {
      "text/plain": [
       "id               0\n",
       "date             0\n",
       "bedrooms         0\n",
       "bathrooms        0\n",
       "sqft_living      0\n",
       "sqft_lot         0\n",
       "floors           0\n",
       "waterfront       0\n",
       "view             0\n",
       "condition        0\n",
       "grade            0\n",
       "sqft_above       0\n",
       "sqft_basement    0\n",
       "yr_built         0\n",
       "yr_renovated     0\n",
       "zipcode          0\n",
       "lat              0\n",
       "long             0\n",
       "sqft_living15    0\n",
       "sqft_lot15       0\n",
       "dtype: int64"
      ]
     },
     "metadata": {},
     "output_type": "display_data"
    },
    {
     "data": {
      "image/png": "[encoded data removed]",
      "text/plain": [
       "<Figure size 2500x1000 with 2 Axes>"
      ]
     },
     "metadata": {},
     "output_type": "display_data"
    },
    {
     "data": {
      "image/png": "[encoded data removed]",
      "text/plain": [
       "<Figure size 2500x1000 with 2 Axes>"
      ]
     },
     "metadata": {},
     "output_type": "display_data"
    }
   ],
   "source": [
    "for df in [df_train,df_test]:\n",
    "    display(df.isnull().sum())\n",
    "    msno.matrix(df)"
   ]
  },
  {
   "cell_type": "code",
   "execution_count": null,
   "metadata": {},
   "outputs": [],
   "source": []
  },
  {
   "cell_type": "markdown",
   "metadata": {},
   "source": [
    "-----------"
   ]
  },
  {
   "cell_type": "markdown",
   "metadata": {
    "tags": []
   },
   "source": [
    "## EDA 1 - Correlation\n",
    " - 어떤 데이터가 Price 와 상관 관계가 높을까?"
   ]
  },
  {
   "cell_type": "code",
   "execution_count": 73,
   "metadata": {
    "execution": {
     "iopub.execute_input": "2023-05-20T00:31:44.401214Z",
     "iopub.status.busy": "2023-05-20T00:31:44.400450Z",
     "iopub.status.idle": "2023-05-20T00:31:44.408419Z",
     "shell.execute_reply": "2023-05-20T00:31:44.407365Z",
     "shell.execute_reply.started": "2023-05-20T00:31:44.401164Z"
    },
    "tags": []
   },
   "outputs": [],
   "source": [
    "df = df_train.copy()"
   ]
  },
  {
   "cell_type": "code",
   "execution_count": 74,
   "metadata": {
    "execution": {
     "iopub.execute_input": "2023-05-20T00:31:44.784839Z",
     "iopub.status.busy": "2023-05-20T00:31:44.783907Z",
     "iopub.status.idle": "2023-05-20T00:31:44.793808Z",
     "shell.execute_reply": "2023-05-20T00:31:44.792735Z",
     "shell.execute_reply.started": "2023-05-20T00:31:44.784782Z"
    },
    "tags": []
   },
   "outputs": [],
   "source": [
    "## To_Library\n",
    "def date_to_y(x):\n",
    "    str_ym = x[:6]\n",
    "    y = str_ym[:4]\n",
    "    return int(y)\n",
    "\n",
    "def date_to_m(x):\n",
    "    str_ym = x[:6]\n",
    "    m = str_ym[4:]\n",
    "    return int(m)"
   ]
  },
  {
   "cell_type": "code",
   "execution_count": 75,
   "metadata": {
    "execution": {
     "iopub.execute_input": "2023-05-20T00:31:45.283386Z",
     "iopub.status.busy": "2023-05-20T00:31:45.282482Z",
     "iopub.status.idle": "2023-05-20T00:31:45.309124Z",
     "shell.execute_reply": "2023-05-20T00:31:45.308602Z",
     "shell.execute_reply.started": "2023-05-20T00:31:45.283330Z"
    },
    "tags": []
   },
   "outputs": [],
   "source": [
    "df['year'] = df['date'].apply(date_to_y)\n",
    "df['month'] = df['date'].apply(date_to_m)"
   ]
  },
  {
   "cell_type": "code",
   "execution_count": 76,
   "metadata": {
    "execution": {
     "iopub.execute_input": "2023-05-20T00:31:47.418768Z",
     "iopub.status.busy": "2023-05-20T00:31:47.417854Z",
     "iopub.status.idle": "2023-05-20T00:31:47.432696Z",
     "shell.execute_reply": "2023-05-20T00:31:47.431757Z",
     "shell.execute_reply.started": "2023-05-20T00:31:47.418712Z"
    },
    "tags": []
   },
   "outputs": [],
   "source": [
    "df.drop('date',axis=1,inplace=True)\n",
    "df.drop('id',axis=1,inplace=True)"
   ]
  },
  {
   "cell_type": "code",
   "execution_count": 78,
   "metadata": {
    "execution": {
     "iopub.execute_input": "2023-05-20T00:31:55.456573Z",
     "iopub.status.busy": "2023-05-20T00:31:55.455890Z",
     "iopub.status.idle": "2023-05-20T00:31:55.472851Z",
     "shell.execute_reply": "2023-05-20T00:31:55.472083Z",
     "shell.execute_reply.started": "2023-05-20T00:31:55.456523Z"
    },
    "tags": []
   },
   "outputs": [
    {
     "name": "stdout",
     "output_type": "stream",
     "text": [
      "<class 'pandas.core.frame.DataFrame'>\n",
      "RangeIndex: 15035 entries, 0 to 15034\n",
      "Data columns (total 21 columns):\n",
      " #   Column         Non-Null Count  Dtype  \n",
      "---  ------         --------------  -----  \n",
      " 0   price          15035 non-null  float64\n",
      " 1   bedrooms       15035 non-null  int64  \n",
      " 2   bathrooms      15035 non-null  float64\n",
      " 3   sqft_living    15035 non-null  int64  \n",
      " 4   sqft_lot       15035 non-null  int64  \n",
      " 5   floors         15035 non-null  float64\n",
      " 6   waterfront     15035 non-null  int64  \n",
      " 7   view           15035 non-null  int64  \n",
      " 8   condition      15035 non-null  int64  \n",
      " 9   grade          15035 non-null  int64  \n",
      " 10  sqft_above     15035 non-null  int64  \n",
      " 11  sqft_basement  15035 non-null  int64  \n",
      " 12  yr_built       15035 non-null  int64  \n",
      " 13  yr_renovated   15035 non-null  int64  \n",
      " 14  zipcode        15035 non-null  int64  \n",
      " 15  lat            15035 non-null  float64\n",
      " 16  long           15035 non-null  float64\n",
      " 17  sqft_living15  15035 non-null  int64  \n",
      " 18  sqft_lot15     15035 non-null  int64  \n",
      " 19  year           15035 non-null  int64  \n",
      " 20  month          15035 non-null  int64  \n",
      "dtypes: float64(5), int64(16)\n",
      "memory usage: 2.4 MB\n"
     ]
    }
   ],
   "source": [
    "df.info()"
   ]
  },
  {
   "cell_type": "code",
   "execution_count": 79,
   "metadata": {
    "execution": {
     "iopub.execute_input": "2023-05-20T00:32:05.765821Z",
     "iopub.status.busy": "2023-05-20T00:32:05.764933Z",
     "iopub.status.idle": "2023-05-20T00:32:05.817396Z",
     "shell.execute_reply": "2023-05-20T00:32:05.817016Z",
     "shell.execute_reply.started": "2023-05-20T00:32:05.765767Z"
    },
    "tags": []
   },
   "outputs": [],
   "source": [
    "# continuous + sequential variables --> spearman\n",
    "# 정규화 과정 뒤 pearson 재 탐색 필요\n",
    "correlation = abs(df.corr(method='spearman')) "
   ]
  },
  {
   "cell_type": "code",
   "execution_count": 80,
   "metadata": {
    "execution": {
     "iopub.execute_input": "2023-05-20T00:32:06.186108Z",
     "iopub.status.busy": "2023-05-20T00:32:06.185225Z",
     "iopub.status.idle": "2023-05-20T00:32:06.538433Z",
     "shell.execute_reply": "2023-05-20T00:32:06.537320Z",
     "shell.execute_reply.started": "2023-05-20T00:32:06.186051Z"
    },
    "tags": []
   },
   "outputs": [
    {
     "data": {
      "text/plain": [
       "<Axes: >"
      ]
     },
     "execution_count": 80,
     "metadata": {},
     "output_type": "execute_result"
    },
    {
     "data": {
      "image/png": "[encoded data removed]",
      "text/plain": [
       "<Figure size 2000x1000 with 2 Axes>"
      ]
     },
     "metadata": {},
     "output_type": "display_data"
    }
   ],
   "source": [
    "fig, ax = plt.subplots(figsize=(20,10))\n",
    "mask = np.array(correlation)\n",
    "mask[np.tril_indices_from(mask)] = False\n",
    "sns.heatmap(correlation,square=True,annot=np.round(correlation,2),mask=mask,cmap='coolwarm')"
   ]
  },
  {
   "cell_type": "code",
   "execution_count": 81,
   "metadata": {
    "execution": {
     "iopub.execute_input": "2023-05-20T00:32:09.223229Z",
     "iopub.status.busy": "2023-05-20T00:32:09.222531Z",
     "iopub.status.idle": "2023-05-20T00:32:09.246116Z",
     "shell.execute_reply": "2023-05-20T00:32:09.245606Z",
     "shell.execute_reply.started": "2023-05-20T00:32:09.223180Z"
    },
    "tags": []
   },
   "outputs": [
    {
     "data": {
      "text/html": [
       "<div>\n",
       "<style scoped>\n",
       "    .dataframe tbody tr th:only-of-type {\n",
       "        vertical-align: middle;\n",
       "    }\n",
       "\n",
       "    .dataframe tbody tr th {\n",
       "        vertical-align: top;\n",
       "    }\n",
       "\n",
       "    .dataframe thead th {\n",
       "        text-align: right;\n",
       "    }\n",
       "</style>\n",
       "<table border=\"1\" class=\"dataframe\">\n",
       "  <thead>\n",
       "    <tr style=\"text-align: right;\">\n",
       "      <th></th>\n",
       "      <th>category</th>\n",
       "      <th>relevant_category</th>\n",
       "      <th>correaltion</th>\n",
       "      <th>rank</th>\n",
       "    </tr>\n",
       "  </thead>\n",
       "  <tbody>\n",
       "    <tr>\n",
       "      <th>102</th>\n",
       "      <td>sqft_lot</td>\n",
       "      <td>sqft_lot15</td>\n",
       "      <td>0.922681</td>\n",
       "      <td>1</td>\n",
       "    </tr>\n",
       "    <tr>\n",
       "      <th>382</th>\n",
       "      <td>sqft_lot15</td>\n",
       "      <td>sqft_lot</td>\n",
       "      <td>0.922681</td>\n",
       "      <td>1</td>\n",
       "    </tr>\n",
       "    <tr>\n",
       "      <th>213</th>\n",
       "      <td>sqft_above</td>\n",
       "      <td>sqft_living</td>\n",
       "      <td>0.846081</td>\n",
       "      <td>1</td>\n",
       "    </tr>\n",
       "    <tr>\n",
       "      <th>73</th>\n",
       "      <td>sqft_living</td>\n",
       "      <td>sqft_above</td>\n",
       "      <td>0.846081</td>\n",
       "      <td>1</td>\n",
       "    </tr>\n",
       "    <tr>\n",
       "      <th>439</th>\n",
       "      <td>month</td>\n",
       "      <td>year</td>\n",
       "      <td>0.801770</td>\n",
       "      <td>1</td>\n",
       "    </tr>\n",
       "    <tr>\n",
       "      <th>...</th>\n",
       "      <td>...</td>\n",
       "      <td>...</td>\n",
       "      <td>...</td>\n",
       "      <td>...</td>\n",
       "    </tr>\n",
       "    <tr>\n",
       "      <th>57</th>\n",
       "      <td>bathrooms</td>\n",
       "      <td>lat</td>\n",
       "      <td>0.000765</td>\n",
       "      <td>20</td>\n",
       "    </tr>\n",
       "    <tr>\n",
       "      <th>417</th>\n",
       "      <td>year</td>\n",
       "      <td>sqft_lot15</td>\n",
       "      <td>0.000680</td>\n",
       "      <td>20</td>\n",
       "    </tr>\n",
       "    <tr>\n",
       "      <th>397</th>\n",
       "      <td>sqft_lot15</td>\n",
       "      <td>year</td>\n",
       "      <td>0.000680</td>\n",
       "      <td>20</td>\n",
       "    </tr>\n",
       "    <tr>\n",
       "      <th>434</th>\n",
       "      <td>month</td>\n",
       "      <td>zipcode</td>\n",
       "      <td>0.000164</td>\n",
       "      <td>20</td>\n",
       "    </tr>\n",
       "    <tr>\n",
       "      <th>314</th>\n",
       "      <td>zipcode</td>\n",
       "      <td>month</td>\n",
       "      <td>0.000164</td>\n",
       "      <td>20</td>\n",
       "    </tr>\n",
       "  </tbody>\n",
       "</table>\n",
       "<p>420 rows × 4 columns</p>\n",
       "</div>"
      ],
      "text/plain": [
       "        category relevant_category  correaltion  rank\n",
       "102     sqft_lot        sqft_lot15     0.922681     1\n",
       "382   sqft_lot15          sqft_lot     0.922681     1\n",
       "213   sqft_above       sqft_living     0.846081     1\n",
       "73   sqft_living        sqft_above     0.846081     1\n",
       "439        month              year     0.801770     1\n",
       "..           ...               ...          ...   ...\n",
       "57     bathrooms               lat     0.000765    20\n",
       "417         year        sqft_lot15     0.000680    20\n",
       "397   sqft_lot15              year     0.000680    20\n",
       "434        month           zipcode     0.000164    20\n",
       "314      zipcode             month     0.000164    20\n",
       "\n",
       "[420 rows x 4 columns]"
      ]
     },
     "execution_count": 81,
     "metadata": {},
     "output_type": "execute_result"
    }
   ],
   "source": [
    "correlation.index.name = 'category'\n",
    "correlation.T.index.name = 'relevant_category'\n",
    "\n",
    "corr_df = pd.DataFrame(correlation.stack(),columns=['correaltion']).reset_index()\n",
    "corr_df = corr_df.loc[corr_df['category'] != corr_df['relevant_category']]\n",
    "corr_df['rank'] = corr_df.groupby('category')['correaltion'].rank('min',ascending=False).astype(int)\n",
    "corr_df.sort_values('correaltion',ascending=False)"
   ]
  },
  {
   "cell_type": "markdown",
   "metadata": {},
   "source": [
    "### [Price - features] correlation rank\n",
    " - 가격 연관성이 높게 항목\n",
    "     - sqft_living(주거공간 크기) -> grad(집등급) -> sqft_above(지하실 제외 평방 미트) -> sqft_living15(2015 년 기준 집 크기) -> view (집 전망)-> bedroom (방 수) -> lat(위도)\n",
    " - 지어진 년도, 재건축 이슈와는 우선 크게 상관 관계가 없음 => 전처리 및 재조합 고민 필요\n",
    " - 위치 관련 피쳐는 전처리 필요해보임"
   ]
  },
  {
   "cell_type": "code",
   "execution_count": 65,
   "metadata": {
    "execution": {
     "iopub.execute_input": "2023-05-20T00:20:38.494842Z",
     "iopub.status.busy": "2023-05-20T00:20:38.493908Z",
     "iopub.status.idle": "2023-05-20T00:20:38.510772Z",
     "shell.execute_reply": "2023-05-20T00:20:38.510348Z",
     "shell.execute_reply.started": "2023-05-20T00:20:38.494784Z"
    },
    "tags": []
   },
   "outputs": [
    {
     "data": {
      "text/html": [
       "<div>\n",
       "<style scoped>\n",
       "    .dataframe tbody tr th:only-of-type {\n",
       "        vertical-align: middle;\n",
       "    }\n",
       "\n",
       "    .dataframe tbody tr th {\n",
       "        vertical-align: top;\n",
       "    }\n",
       "\n",
       "    .dataframe thead th {\n",
       "        text-align: right;\n",
       "    }\n",
       "</style>\n",
       "<table border=\"1\" class=\"dataframe\">\n",
       "  <thead>\n",
       "    <tr style=\"text-align: right;\">\n",
       "      <th></th>\n",
       "      <th>category</th>\n",
       "      <th>relevant_category</th>\n",
       "      <th>correaltion</th>\n",
       "      <th>rank</th>\n",
       "    </tr>\n",
       "  </thead>\n",
       "  <tbody>\n",
       "    <tr>\n",
       "      <th>32</th>\n",
       "      <td>price</td>\n",
       "      <td>grade</td>\n",
       "      <td>0.662125</td>\n",
       "      <td>1</td>\n",
       "    </tr>\n",
       "    <tr>\n",
       "      <th>26</th>\n",
       "      <td>price</td>\n",
       "      <td>sqft_living</td>\n",
       "      <td>0.646482</td>\n",
       "      <td>2</td>\n",
       "    </tr>\n",
       "    <tr>\n",
       "      <th>40</th>\n",
       "      <td>price</td>\n",
       "      <td>sqft_living15</td>\n",
       "      <td>0.573777</td>\n",
       "      <td>3</td>\n",
       "    </tr>\n",
       "    <tr>\n",
       "      <th>33</th>\n",
       "      <td>price</td>\n",
       "      <td>sqft_above</td>\n",
       "      <td>0.547868</td>\n",
       "      <td>4</td>\n",
       "    </tr>\n",
       "    <tr>\n",
       "      <th>25</th>\n",
       "      <td>price</td>\n",
       "      <td>bathrooms</td>\n",
       "      <td>0.498989</td>\n",
       "      <td>5</td>\n",
       "    </tr>\n",
       "    <tr>\n",
       "      <th>38</th>\n",
       "      <td>price</td>\n",
       "      <td>lat</td>\n",
       "      <td>0.450692</td>\n",
       "      <td>6</td>\n",
       "    </tr>\n",
       "    <tr>\n",
       "      <th>24</th>\n",
       "      <td>price</td>\n",
       "      <td>bedrooms</td>\n",
       "      <td>0.350185</td>\n",
       "      <td>7</td>\n",
       "    </tr>\n",
       "    <tr>\n",
       "      <th>28</th>\n",
       "      <td>price</td>\n",
       "      <td>floors</td>\n",
       "      <td>0.328674</td>\n",
       "      <td>8</td>\n",
       "    </tr>\n",
       "    <tr>\n",
       "      <th>30</th>\n",
       "      <td>price</td>\n",
       "      <td>view</td>\n",
       "      <td>0.291720</td>\n",
       "      <td>9</td>\n",
       "    </tr>\n",
       "    <tr>\n",
       "      <th>34</th>\n",
       "      <td>price</td>\n",
       "      <td>sqft_basement</td>\n",
       "      <td>0.245304</td>\n",
       "      <td>10</td>\n",
       "    </tr>\n",
       "    <tr>\n",
       "      <th>29</th>\n",
       "      <td>price</td>\n",
       "      <td>waterfront</td>\n",
       "      <td>0.113179</td>\n",
       "      <td>11</td>\n",
       "    </tr>\n",
       "    <tr>\n",
       "      <th>36</th>\n",
       "      <td>price</td>\n",
       "      <td>yr_renovated</td>\n",
       "      <td>0.112381</td>\n",
       "      <td>12</td>\n",
       "    </tr>\n",
       "    <tr>\n",
       "      <th>35</th>\n",
       "      <td>price</td>\n",
       "      <td>yr_built</td>\n",
       "      <td>0.097844</td>\n",
       "      <td>13</td>\n",
       "    </tr>\n",
       "    <tr>\n",
       "      <th>27</th>\n",
       "      <td>price</td>\n",
       "      <td>sqft_lot</td>\n",
       "      <td>0.080554</td>\n",
       "      <td>14</td>\n",
       "    </tr>\n",
       "    <tr>\n",
       "      <th>39</th>\n",
       "      <td>price</td>\n",
       "      <td>long</td>\n",
       "      <td>0.071757</td>\n",
       "      <td>15</td>\n",
       "    </tr>\n",
       "    <tr>\n",
       "      <th>41</th>\n",
       "      <td>price</td>\n",
       "      <td>sqft_lot15</td>\n",
       "      <td>0.065771</td>\n",
       "      <td>16</td>\n",
       "    </tr>\n",
       "    <tr>\n",
       "      <th>22</th>\n",
       "      <td>price</td>\n",
       "      <td>id</td>\n",
       "      <td>0.036892</td>\n",
       "      <td>17</td>\n",
       "    </tr>\n",
       "    <tr>\n",
       "      <th>31</th>\n",
       "      <td>price</td>\n",
       "      <td>condition</td>\n",
       "      <td>0.021520</td>\n",
       "      <td>18</td>\n",
       "    </tr>\n",
       "    <tr>\n",
       "      <th>37</th>\n",
       "      <td>price</td>\n",
       "      <td>zipcode</td>\n",
       "      <td>0.009266</td>\n",
       "      <td>19</td>\n",
       "    </tr>\n",
       "    <tr>\n",
       "      <th>42</th>\n",
       "      <td>price</td>\n",
       "      <td>year</td>\n",
       "      <td>0.009247</td>\n",
       "      <td>20</td>\n",
       "    </tr>\n",
       "    <tr>\n",
       "      <th>43</th>\n",
       "      <td>price</td>\n",
       "      <td>month</td>\n",
       "      <td>0.009247</td>\n",
       "      <td>20</td>\n",
       "    </tr>\n",
       "  </tbody>\n",
       "</table>\n",
       "</div>"
      ],
      "text/plain": [
       "   category relevant_category  correaltion  rank\n",
       "32    price             grade     0.662125     1\n",
       "26    price       sqft_living     0.646482     2\n",
       "40    price     sqft_living15     0.573777     3\n",
       "33    price        sqft_above     0.547868     4\n",
       "25    price         bathrooms     0.498989     5\n",
       "38    price               lat     0.450692     6\n",
       "24    price          bedrooms     0.350185     7\n",
       "28    price            floors     0.328674     8\n",
       "30    price              view     0.291720     9\n",
       "34    price     sqft_basement     0.245304    10\n",
       "29    price        waterfront     0.113179    11\n",
       "36    price      yr_renovated     0.112381    12\n",
       "35    price          yr_built     0.097844    13\n",
       "27    price          sqft_lot     0.080554    14\n",
       "39    price              long     0.071757    15\n",
       "41    price        sqft_lot15     0.065771    16\n",
       "22    price                id     0.036892    17\n",
       "31    price         condition     0.021520    18\n",
       "37    price           zipcode     0.009266    19\n",
       "42    price              year     0.009247    20\n",
       "43    price             month     0.009247    20"
      ]
     },
     "execution_count": 65,
     "metadata": {},
     "output_type": "execute_result"
    }
   ],
   "source": [
    "corr_df[corr_df['category']=='price'].sort_values('rank')"
   ]
  },
  {
   "cell_type": "markdown",
   "metadata": {},
   "source": [
    "### 주요 피처와 타 피처 간 연관도 (sqft_living) \n",
    " - sqft_above -> bathrooms -> sqft_living15 -> grade -> bedrooms ...\n",
    " - 면적 관련 피처들과..당연.\n",
    " - Grade, Price\n",
    " - 그외 지어진 년도, 위도 와 상관 관계 의심"
   ]
  },
  {
   "cell_type": "code",
   "execution_count": 68,
   "metadata": {
    "execution": {
     "iopub.execute_input": "2023-05-20T00:28:48.253462Z",
     "iopub.status.busy": "2023-05-20T00:28:48.252693Z",
     "iopub.status.idle": "2023-05-20T00:28:48.271182Z",
     "shell.execute_reply": "2023-05-20T00:28:48.270414Z",
     "shell.execute_reply.started": "2023-05-20T00:28:48.253423Z"
    },
    "tags": []
   },
   "outputs": [
    {
     "data": {
      "text/html": [
       "<div>\n",
       "<style scoped>\n",
       "    .dataframe tbody tr th:only-of-type {\n",
       "        vertical-align: middle;\n",
       "    }\n",
       "\n",
       "    .dataframe tbody tr th {\n",
       "        vertical-align: top;\n",
       "    }\n",
       "\n",
       "    .dataframe thead th {\n",
       "        text-align: right;\n",
       "    }\n",
       "</style>\n",
       "<table border=\"1\" class=\"dataframe\">\n",
       "  <thead>\n",
       "    <tr style=\"text-align: right;\">\n",
       "      <th></th>\n",
       "      <th>category</th>\n",
       "      <th>relevant_category</th>\n",
       "      <th>correaltion</th>\n",
       "      <th>rank</th>\n",
       "    </tr>\n",
       "  </thead>\n",
       "  <tbody>\n",
       "    <tr>\n",
       "      <th>99</th>\n",
       "      <td>sqft_living</td>\n",
       "      <td>sqft_above</td>\n",
       "      <td>0.846081</td>\n",
       "      <td>1</td>\n",
       "    </tr>\n",
       "    <tr>\n",
       "      <th>91</th>\n",
       "      <td>sqft_living</td>\n",
       "      <td>bathrooms</td>\n",
       "      <td>0.748612</td>\n",
       "      <td>2</td>\n",
       "    </tr>\n",
       "    <tr>\n",
       "      <th>106</th>\n",
       "      <td>sqft_living</td>\n",
       "      <td>sqft_living15</td>\n",
       "      <td>0.748214</td>\n",
       "      <td>3</td>\n",
       "    </tr>\n",
       "    <tr>\n",
       "      <th>98</th>\n",
       "      <td>sqft_living</td>\n",
       "      <td>grade</td>\n",
       "      <td>0.717800</td>\n",
       "      <td>4</td>\n",
       "    </tr>\n",
       "    <tr>\n",
       "      <th>90</th>\n",
       "      <td>sqft_living</td>\n",
       "      <td>bedrooms</td>\n",
       "      <td>0.649001</td>\n",
       "      <td>5</td>\n",
       "    </tr>\n",
       "    <tr>\n",
       "      <th>89</th>\n",
       "      <td>sqft_living</td>\n",
       "      <td>price</td>\n",
       "      <td>0.646482</td>\n",
       "      <td>6</td>\n",
       "    </tr>\n",
       "    <tr>\n",
       "      <th>94</th>\n",
       "      <td>sqft_living</td>\n",
       "      <td>floors</td>\n",
       "      <td>0.408417</td>\n",
       "      <td>7</td>\n",
       "    </tr>\n",
       "    <tr>\n",
       "      <th>101</th>\n",
       "      <td>sqft_living</td>\n",
       "      <td>yr_built</td>\n",
       "      <td>0.352702</td>\n",
       "      <td>8</td>\n",
       "    </tr>\n",
       "    <tr>\n",
       "      <th>100</th>\n",
       "      <td>sqft_living</td>\n",
       "      <td>sqft_basement</td>\n",
       "      <td>0.322338</td>\n",
       "      <td>9</td>\n",
       "    </tr>\n",
       "    <tr>\n",
       "      <th>93</th>\n",
       "      <td>sqft_living</td>\n",
       "      <td>sqft_lot</td>\n",
       "      <td>0.307893</td>\n",
       "      <td>10</td>\n",
       "    </tr>\n",
       "    <tr>\n",
       "      <th>105</th>\n",
       "      <td>sqft_living</td>\n",
       "      <td>long</td>\n",
       "      <td>0.292975</td>\n",
       "      <td>11</td>\n",
       "    </tr>\n",
       "    <tr>\n",
       "      <th>107</th>\n",
       "      <td>sqft_living</td>\n",
       "      <td>sqft_lot15</td>\n",
       "      <td>0.286527</td>\n",
       "      <td>12</td>\n",
       "    </tr>\n",
       "    <tr>\n",
       "      <th>96</th>\n",
       "      <td>sqft_living</td>\n",
       "      <td>view</td>\n",
       "      <td>0.227205</td>\n",
       "      <td>13</td>\n",
       "    </tr>\n",
       "    <tr>\n",
       "      <th>103</th>\n",
       "      <td>sqft_living</td>\n",
       "      <td>zipcode</td>\n",
       "      <td>0.209218</td>\n",
       "      <td>14</td>\n",
       "    </tr>\n",
       "    <tr>\n",
       "      <th>95</th>\n",
       "      <td>sqft_living</td>\n",
       "      <td>waterfront</td>\n",
       "      <td>0.072606</td>\n",
       "      <td>15</td>\n",
       "    </tr>\n",
       "    <tr>\n",
       "      <th>102</th>\n",
       "      <td>sqft_living</td>\n",
       "      <td>yr_renovated</td>\n",
       "      <td>0.059647</td>\n",
       "      <td>16</td>\n",
       "    </tr>\n",
       "    <tr>\n",
       "      <th>97</th>\n",
       "      <td>sqft_living</td>\n",
       "      <td>condition</td>\n",
       "      <td>0.059271</td>\n",
       "      <td>17</td>\n",
       "    </tr>\n",
       "    <tr>\n",
       "      <th>88</th>\n",
       "      <td>sqft_living</td>\n",
       "      <td>id</td>\n",
       "      <td>0.043499</td>\n",
       "      <td>18</td>\n",
       "    </tr>\n",
       "    <tr>\n",
       "      <th>104</th>\n",
       "      <td>sqft_living</td>\n",
       "      <td>lat</td>\n",
       "      <td>0.025544</td>\n",
       "      <td>19</td>\n",
       "    </tr>\n",
       "    <tr>\n",
       "      <th>108</th>\n",
       "      <td>sqft_living</td>\n",
       "      <td>year</td>\n",
       "      <td>0.018779</td>\n",
       "      <td>20</td>\n",
       "    </tr>\n",
       "    <tr>\n",
       "      <th>109</th>\n",
       "      <td>sqft_living</td>\n",
       "      <td>month</td>\n",
       "      <td>0.018779</td>\n",
       "      <td>20</td>\n",
       "    </tr>\n",
       "  </tbody>\n",
       "</table>\n",
       "</div>"
      ],
      "text/plain": [
       "        category relevant_category  correaltion  rank\n",
       "99   sqft_living        sqft_above     0.846081     1\n",
       "91   sqft_living         bathrooms     0.748612     2\n",
       "106  sqft_living     sqft_living15     0.748214     3\n",
       "98   sqft_living             grade     0.717800     4\n",
       "90   sqft_living          bedrooms     0.649001     5\n",
       "89   sqft_living             price     0.646482     6\n",
       "94   sqft_living            floors     0.408417     7\n",
       "101  sqft_living          yr_built     0.352702     8\n",
       "100  sqft_living     sqft_basement     0.322338     9\n",
       "93   sqft_living          sqft_lot     0.307893    10\n",
       "105  sqft_living              long     0.292975    11\n",
       "107  sqft_living        sqft_lot15     0.286527    12\n",
       "96   sqft_living              view     0.227205    13\n",
       "103  sqft_living           zipcode     0.209218    14\n",
       "95   sqft_living        waterfront     0.072606    15\n",
       "102  sqft_living      yr_renovated     0.059647    16\n",
       "97   sqft_living         condition     0.059271    17\n",
       "88   sqft_living                id     0.043499    18\n",
       "104  sqft_living               lat     0.025544    19\n",
       "108  sqft_living              year     0.018779    20\n",
       "109  sqft_living             month     0.018779    20"
      ]
     },
     "execution_count": 68,
     "metadata": {},
     "output_type": "execute_result"
    }
   ],
   "source": [
    "corr_df[corr_df['category']=='sqft_living'].sort_values('rank')"
   ]
  },
  {
   "cell_type": "markdown",
   "metadata": {},
   "source": [
    "### 주요 피처와 타 피처 간 연관도 (grade) \n",
    "- sqft_living -> sqft_above\t -> sqft_living15 -> price -> bathrooms ...\n",
    "- 연관도가 높게 나온 항목 \n",
    "    - 집 면적 관련 피처들(sqft_living,sqft_above,sqft_living15,bathrooms,floors)\n",
    "    - 지어진 년도 (yr_build)\n",
    "    - 위치(long)\n",
    "    - 전망\n",
    "- 재건축 관련은 의미가 없어보임"
   ]
  },
  {
   "cell_type": "code",
   "execution_count": 69,
   "metadata": {
    "execution": {
     "iopub.execute_input": "2023-05-20T00:28:48.717115Z",
     "iopub.status.busy": "2023-05-20T00:28:48.716369Z",
     "iopub.status.idle": "2023-05-20T00:28:48.737852Z",
     "shell.execute_reply": "2023-05-20T00:28:48.736615Z",
     "shell.execute_reply.started": "2023-05-20T00:28:48.717027Z"
    },
    "tags": []
   },
   "outputs": [
    {
     "data": {
      "text/html": [
       "<div>\n",
       "<style scoped>\n",
       "    .dataframe tbody tr th:only-of-type {\n",
       "        vertical-align: middle;\n",
       "    }\n",
       "\n",
       "    .dataframe tbody tr th {\n",
       "        vertical-align: top;\n",
       "    }\n",
       "\n",
       "    .dataframe thead th {\n",
       "        text-align: right;\n",
       "    }\n",
       "</style>\n",
       "<table border=\"1\" class=\"dataframe\">\n",
       "  <thead>\n",
       "    <tr style=\"text-align: right;\">\n",
       "      <th></th>\n",
       "      <th>category</th>\n",
       "      <th>relevant_category</th>\n",
       "      <th>correaltion</th>\n",
       "      <th>rank</th>\n",
       "    </tr>\n",
       "  </thead>\n",
       "  <tbody>\n",
       "    <tr>\n",
       "      <th>224</th>\n",
       "      <td>grade</td>\n",
       "      <td>sqft_living</td>\n",
       "      <td>0.717800</td>\n",
       "      <td>1</td>\n",
       "    </tr>\n",
       "    <tr>\n",
       "      <th>231</th>\n",
       "      <td>grade</td>\n",
       "      <td>sqft_above</td>\n",
       "      <td>0.715100</td>\n",
       "      <td>2</td>\n",
       "    </tr>\n",
       "    <tr>\n",
       "      <th>238</th>\n",
       "      <td>grade</td>\n",
       "      <td>sqft_living15</td>\n",
       "      <td>0.665039</td>\n",
       "      <td>3</td>\n",
       "    </tr>\n",
       "    <tr>\n",
       "      <th>221</th>\n",
       "      <td>grade</td>\n",
       "      <td>price</td>\n",
       "      <td>0.662125</td>\n",
       "      <td>4</td>\n",
       "    </tr>\n",
       "    <tr>\n",
       "      <th>223</th>\n",
       "      <td>grade</td>\n",
       "      <td>bathrooms</td>\n",
       "      <td>0.661112</td>\n",
       "      <td>5</td>\n",
       "    </tr>\n",
       "    <tr>\n",
       "      <th>226</th>\n",
       "      <td>grade</td>\n",
       "      <td>floors</td>\n",
       "      <td>0.504506</td>\n",
       "      <td>6</td>\n",
       "    </tr>\n",
       "    <tr>\n",
       "      <th>233</th>\n",
       "      <td>grade</td>\n",
       "      <td>yr_built</td>\n",
       "      <td>0.494338</td>\n",
       "      <td>7</td>\n",
       "    </tr>\n",
       "    <tr>\n",
       "      <th>222</th>\n",
       "      <td>grade</td>\n",
       "      <td>bedrooms</td>\n",
       "      <td>0.386833</td>\n",
       "      <td>8</td>\n",
       "    </tr>\n",
       "    <tr>\n",
       "      <th>237</th>\n",
       "      <td>grade</td>\n",
       "      <td>long</td>\n",
       "      <td>0.227766</td>\n",
       "      <td>9</td>\n",
       "    </tr>\n",
       "    <tr>\n",
       "      <th>228</th>\n",
       "      <td>grade</td>\n",
       "      <td>view</td>\n",
       "      <td>0.211469</td>\n",
       "      <td>10</td>\n",
       "    </tr>\n",
       "    <tr>\n",
       "      <th>235</th>\n",
       "      <td>grade</td>\n",
       "      <td>zipcode</td>\n",
       "      <td>0.182848</td>\n",
       "      <td>11</td>\n",
       "    </tr>\n",
       "    <tr>\n",
       "      <th>229</th>\n",
       "      <td>grade</td>\n",
       "      <td>condition</td>\n",
       "      <td>0.166075</td>\n",
       "      <td>12</td>\n",
       "    </tr>\n",
       "    <tr>\n",
       "      <th>239</th>\n",
       "      <td>grade</td>\n",
       "      <td>sqft_lot15</td>\n",
       "      <td>0.157030</td>\n",
       "      <td>13</td>\n",
       "    </tr>\n",
       "    <tr>\n",
       "      <th>225</th>\n",
       "      <td>grade</td>\n",
       "      <td>sqft_lot</td>\n",
       "      <td>0.156199</td>\n",
       "      <td>14</td>\n",
       "    </tr>\n",
       "    <tr>\n",
       "      <th>236</th>\n",
       "      <td>grade</td>\n",
       "      <td>lat</td>\n",
       "      <td>0.100038</td>\n",
       "      <td>15</td>\n",
       "    </tr>\n",
       "    <tr>\n",
       "      <th>220</th>\n",
       "      <td>grade</td>\n",
       "      <td>id</td>\n",
       "      <td>0.091820</td>\n",
       "      <td>16</td>\n",
       "    </tr>\n",
       "    <tr>\n",
       "      <th>232</th>\n",
       "      <td>grade</td>\n",
       "      <td>sqft_basement</td>\n",
       "      <td>0.084636</td>\n",
       "      <td>17</td>\n",
       "    </tr>\n",
       "    <tr>\n",
       "      <th>227</th>\n",
       "      <td>grade</td>\n",
       "      <td>waterfront</td>\n",
       "      <td>0.065167</td>\n",
       "      <td>18</td>\n",
       "    </tr>\n",
       "    <tr>\n",
       "      <th>234</th>\n",
       "      <td>grade</td>\n",
       "      <td>yr_renovated</td>\n",
       "      <td>0.030901</td>\n",
       "      <td>19</td>\n",
       "    </tr>\n",
       "    <tr>\n",
       "      <th>240</th>\n",
       "      <td>grade</td>\n",
       "      <td>year</td>\n",
       "      <td>0.022527</td>\n",
       "      <td>20</td>\n",
       "    </tr>\n",
       "    <tr>\n",
       "      <th>241</th>\n",
       "      <td>grade</td>\n",
       "      <td>month</td>\n",
       "      <td>0.022527</td>\n",
       "      <td>20</td>\n",
       "    </tr>\n",
       "  </tbody>\n",
       "</table>\n",
       "</div>"
      ],
      "text/plain": [
       "    category relevant_category  correaltion  rank\n",
       "224    grade       sqft_living     0.717800     1\n",
       "231    grade        sqft_above     0.715100     2\n",
       "238    grade     sqft_living15     0.665039     3\n",
       "221    grade             price     0.662125     4\n",
       "223    grade         bathrooms     0.661112     5\n",
       "226    grade            floors     0.504506     6\n",
       "233    grade          yr_built     0.494338     7\n",
       "222    grade          bedrooms     0.386833     8\n",
       "237    grade              long     0.227766     9\n",
       "228    grade              view     0.211469    10\n",
       "235    grade           zipcode     0.182848    11\n",
       "229    grade         condition     0.166075    12\n",
       "239    grade        sqft_lot15     0.157030    13\n",
       "225    grade          sqft_lot     0.156199    14\n",
       "236    grade               lat     0.100038    15\n",
       "220    grade                id     0.091820    16\n",
       "232    grade     sqft_basement     0.084636    17\n",
       "227    grade        waterfront     0.065167    18\n",
       "234    grade      yr_renovated     0.030901    19\n",
       "240    grade              year     0.022527    20\n",
       "241    grade             month     0.022527    20"
      ]
     },
     "execution_count": 69,
     "metadata": {},
     "output_type": "execute_result"
    }
   ],
   "source": [
    "corr_df[corr_df['category']=='grade'].sort_values('rank')"
   ]
  },
  {
   "cell_type": "code",
   "execution_count": 82,
   "metadata": {
    "execution": {
     "iopub.execute_input": "2023-05-20T00:34:06.909362Z",
     "iopub.status.busy": "2023-05-20T00:34:06.908684Z",
     "iopub.status.idle": "2023-05-20T00:34:06.917431Z",
     "shell.execute_reply": "2023-05-20T00:34:06.916261Z",
     "shell.execute_reply.started": "2023-05-20T00:34:06.909314Z"
    }
   },
   "outputs": [],
   "source": [
    "del df"
   ]
  },
  {
   "cell_type": "code",
   "execution_count": null,
   "metadata": {},
   "outputs": [],
   "source": [
    "target = df_train['price']\n",
    "del df_train['price']\n",
    "\n",
    "train_len = len(df_train)\n",
    "test_id = df_test[id][train_len:]"
   ]
  },
  {
   "cell_type": "markdown",
   "metadata": {},
   "source": [
    "## EDA2 -Visualization : Plot(COUNT,BOX,KDE)"
   ]
  },
  {
   "cell_type": "code",
   "execution_count": 84,
   "metadata": {
    "execution": {
     "iopub.execute_input": "2023-05-20T00:36:06.116545Z",
     "iopub.status.busy": "2023-05-20T00:36:06.115851Z",
     "iopub.status.idle": "2023-05-20T00:36:06.126791Z",
     "shell.execute_reply": "2023-05-20T00:36:06.125477Z",
     "shell.execute_reply.started": "2023-05-20T00:36:06.116496Z"
    },
    "tags": []
   },
   "outputs": [],
   "source": [
    "df_train.drop('price',axis=1,inplace=True)"
   ]
  },
  {
   "cell_type": "code",
   "execution_count": 85,
   "metadata": {
    "execution": {
     "iopub.execute_input": "2023-05-20T00:36:42.958046Z",
     "iopub.status.busy": "2023-05-20T00:36:42.957352Z",
     "iopub.status.idle": "2023-05-20T00:36:42.968530Z",
     "shell.execute_reply": "2023-05-20T00:36:42.967405Z",
     "shell.execute_reply.started": "2023-05-20T00:36:42.957997Z"
    }
   },
   "outputs": [
    {
     "data": {
      "text/plain": [
       "(15035, 20)"
      ]
     },
     "metadata": {},
     "output_type": "display_data"
    },
    {
     "data": {
      "text/plain": [
       "(6468, 20)"
      ]
     },
     "metadata": {},
     "output_type": "display_data"
    }
   ],
   "source": [
    "display(df_train.shape,df_test.shape)"
   ]
  },
  {
   "cell_type": "code",
   "execution_count": null,
   "metadata": {},
   "outputs": [],
   "source": []
  },
  {
   "cell_type": "code",
   "execution_count": null,
   "metadata": {},
   "outputs": [],
   "source": []
  },
  {
   "cell_type": "code",
   "execution_count": null,
   "metadata": {},
   "outputs": [],
   "source": []
  },
  {
   "cell_type": "code",
   "execution_count": null,
   "metadata": {},
   "outputs": [],
   "source": []
  },
  {
   "cell_type": "markdown",
   "metadata": {
    "_uuid": "94ad23d7a91a68c1be7fcd4953013f5353541545"
   },
   "source": [
    "- Date 분리 "
   ]
  },
  {
   "cell_type": "code",
   "execution_count": null,
   "metadata": {
    "_uuid": "6c48e1c16ec0725128286a0d524faff9bd725ed4"
   },
   "outputs": [],
   "source": [
    "df['year'] = df['date'].apply(lambda x:x[:4]).astype(int)\n",
    "df['month'] = df['date'].apply(lambda x:x[4:6]).astype(int)\n",
    "df['day'] = df['date'].apply(lambda x:x[6:8]).astype(int)"
   ]
  },
  {
   "cell_type": "code",
   "execution_count": null,
   "metadata": {},
   "outputs": [],
   "source": [
    "count_col = ['year','month', 'condition', 'grade',\n",
    "                  'sqft_living','bathrooms', 'bedrooms','view']"
   ]
  },
  {
   "cell_type": "markdown",
   "metadata": {},
   "source": [
    "### COUNT PLOT"
   ]
  },
  {
   "cell_type": "code",
   "execution_count": null,
   "metadata": {},
   "outputs": [],
   "source": [
    "nrows ,ncols = 4 , 2\n",
    "idx = 0\n",
    "fig, ax = plt.subplots(nrows,ncols,figsize=(ncols*7,nrows*5))\n",
    "for r in range(nrows):\n",
    "    for c in range(ncols):\n",
    "        if idx == len(f_selected_col):\n",
    "            break\n",
    "        sns.countplot(data=df,x=f_selected_col[idx],ax=ax[r,c])\n",
    "        idx += 1"
   ]
  },
  {
   "cell_type": "markdown",
   "metadata": {},
   "source": [
    "### BOX Plot"
   ]
  },
  {
   "cell_type": "code",
   "execution_count": null,
   "metadata": {},
   "outputs": [],
   "source": [
    "nrows ,ncols = 4 , 2\n",
    "idx = 0\n",
    "fig, ax = plt.subplots(nrows,ncols,figsize=(ncols*7,nrows*5))\n",
    "for r in range(nrows):\n",
    "    for c in range(ncols):\n",
    "        if idx == len(f_selected_col):\n",
    "            break\n",
    "        sns.boxplot(data=df,x=f_selected_col[idx],y='price',ax=ax[r,c])\n",
    "        idx += 1"
   ]
  },
  {
   "cell_type": "markdown",
   "metadata": {},
   "source": [
    "### KDE Plot"
   ]
  },
  {
   "cell_type": "code",
   "execution_count": null,
   "metadata": {},
   "outputs": [],
   "source": [
    "nrows ,ncols = 4 , 2\n",
    "idx = 0\n",
    "fig, ax = plt.subplots(nrows,ncols,figsize=(ncols*7,nrows*5))\n",
    "for r in range(nrows):\n",
    "    for c in range(ncols):\n",
    "        if idx == len(f_selected_col):\n",
    "            break\n",
    "        sns.kdeplot(data=df,x=f_selected_col[idx],y='price',ax=ax[r,c])\n",
    "        idx += 1"
   ]
  },
  {
   "cell_type": "code",
   "execution_count": null,
   "metadata": {},
   "outputs": [],
   "source": []
  },
  {
   "cell_type": "markdown",
   "metadata": {},
   "source": [
    "### KDE Plot2"
   ]
  },
  {
   "cell_type": "code",
   "execution_count": null,
   "metadata": {
    "_uuid": "c2aa785314a8bb8d9f84bbc17cb55e38c564a8f3"
   },
   "outputs": [],
   "source": [
    "nrows ,ncols = 4 , 2\n",
    "idx = 0\n",
    "fig, ax = plt.subplots(nrows,ncols,figsize=(ncols*7,nrows*5))\n",
    "for r in range(nrows):\n",
    "    for c in range(ncols):\n",
    "        if idx == len(f_selected_col):\n",
    "            break\n",
    "        sns.kdeplot(data=df[f_selected_col[idx]],ax=ax[r,c])\n",
    "        idx += 1"
   ]
  },
  {
   "cell_type": "code",
   "execution_count": null,
   "metadata": {},
   "outputs": [],
   "source": []
  },
  {
   "cell_type": "markdown",
   "metadata": {},
   "source": [
    "# 데이터 전처리(PreProcessing)"
   ]
  },
  {
   "cell_type": "code",
   "execution_count": null,
   "metadata": {
    "_uuid": "df5891d33b4d5f08c0011b712f8796417564ec17"
   },
   "outputs": [],
   "source": [
    "df_train = pd.read_csv('./data/train.csv')\n",
    "df_test = pd.read_csv('./data/test.csv')\n",
    "\n",
    "print('train data dim : {}'.format(df.shape))\n",
    "print('sub data dim : {}'.format(df_test.shape))"
   ]
  },
  {
   "cell_type": "code",
   "execution_count": null,
   "metadata": {},
   "outputs": [],
   "source": [
    "## 날짜 처리"
   ]
  },
  {
   "cell_type": "markdown",
   "metadata": {},
   "source": [
    "##  Label Encoding & Feature Selection "
   ]
  },
  {
   "cell_type": "markdown",
   "metadata": {},
   "source": [
    "- Price 는 corr() 결과   \n",
    "        sqft_living(주거공간 크기) -> grad(집등급) -> sqft_above(지하실 제외 평방 미트) -> sqft_living15(2015 년 기준 집 크기) -> view (집 전망)-> bedroom (방 수) -> lat(위도) 순으로 연관도가 깊고, \n",
    "- sqft_living(주거공간 크기) 는 corr 결과  \n",
    "        sqft_above -> bathrooms -> sqft_living15 -> grade -> bedrooms ...연관도가 깊게 나오므로, \n",
    "\n",
    "- 집 면적 관련 피쳐들을 단순화 : 주거공간 크기, 평당 가격(ZIPCode 별) , Bedroom 이 외 모든 피처 제거\n"
   ]
  },
  {
   "cell_type": "markdown",
   "metadata": {},
   "source": [
    "### Label Encoding "
   ]
  },
  {
   "cell_type": "code",
   "execution_count": null,
   "metadata": {},
   "outputs": [],
   "source": [
    "#평당 가격 (Kaggle 레퍼런스 노트 참조)\n",
    "le = LabelEncoder()\n",
    "le.fit(df_train['zipcode'])\n",
    "le.fit(df_test['zipcode'])\n",
    "\n",
    "df_train['zipcode'] = le.transform(df_train['zipcode'])\n",
    "df_test['zipcode'] = le.transform(df_test['zipcode'])"
   ]
  },
  {
   "cell_type": "code",
   "execution_count": null,
   "metadata": {},
   "outputs": [],
   "source": [
    "df_train['price_per_land_area'] = df_train['price'] / (df_train['sqft_living'])\n",
    "price_per_ft = df_train.groupby(['zipcode'])['price_per_land_area'].agg({'mean', 'std', 'count'}).reset_index()\n",
    "\n",
    "df_train = pd.merge(df_train, price_per_ft, how='left', on='zipcode')\n",
    "df_test = pd.merge(df_test, price_per_ft, how='left', on='zipcode')\n",
    "\n",
    "\n",
    "del df_train['price_per_land_area']"
   ]
  },
  {
   "cell_type": "markdown",
   "metadata": {},
   "source": [
    "### Feature Selection"
   ]
  },
  {
   "cell_type": "code",
   "execution_count": null,
   "metadata": {},
   "outputs": [],
   "source": [
    "X_train = df_train.drop(['id', 'price'], axis=1)\n",
    "y_train = df_train['price']\n",
    "y_train = np.log1p(y_train)\n",
    "X_test  = df_test.drop(['id'], axis=1)"
   ]
  },
  {
   "cell_type": "code",
   "execution_count": null,
   "metadata": {},
   "outputs": [],
   "source": [
    "for df in [X_train, X_test]:\n",
    "    df['date(new)'] = df['date'].apply(lambda x: int(x[4:8])+800 if x[:4] == '2015' else int(x[4:8])-400)\n",
    "    df['how_old'] = df['date'].apply(lambda x: x[:4]).astype(int) - df[['yr_built', 'yr_renovated']].max(axis=1)\n",
    "    del df['date']\n",
    "    del df['yr_renovated']\n",
    "    del df['yr_built'] \n",
    "    del df['floors'] \n",
    "    del df['sqft_lot']\n",
    "    del df['sqft_lot15']\n",
    "    del df['waterfront']\n",
    "    del df['sqft_above']\n",
    "    del df['sqft_basement']\n",
    "    del df['condition']\n",
    "    del df['sqft_living15']"
   ]
  },
  {
   "cell_type": "markdown",
   "metadata": {},
   "source": [
    "## Log Scaling"
   ]
  },
  {
   "cell_type": "code",
   "execution_count": null,
   "metadata": {},
   "outputs": [],
   "source": [
    "len(X_train.columns)"
   ]
  },
  {
   "cell_type": "code",
   "execution_count": null,
   "metadata": {},
   "outputs": [],
   "source": [
    "rows = (X_train.shape[1]+3) // 4\n",
    "fig, axes = plt.subplots(rows, 4, figsize=(14, rows*5))\n",
    "cols = X_train.columns\n",
    "\n",
    "for r in range(rows):\n",
    "    for c in range(4):\n",
    "        index = 4 * r + c\n",
    "        if index == len(cols):\n",
    "            break\n",
    "        reg = stats.probplot(X_train[cols[index]], plot=axes[r, c])\n",
    "        axes[r, c].set_title(cols[index], fontsize=20)\n",
    "plt.tight_layout()\n",
    "plt.show()"
   ]
  },
  {
   "cell_type": "code",
   "execution_count": null,
   "metadata": {},
   "outputs": [],
   "source": [
    "# Log Scaling\n",
    "log_features = ['bedrooms', 'bathrooms', 'how_old', 'sqft_living', 'mean']\n",
    "for feature in log_features:\n",
    "    for df in [X_train, X_test]:\n",
    "        df[feature] = np.log1p(df[feature])"
   ]
  },
  {
   "cell_type": "code",
   "execution_count": null,
   "metadata": {},
   "outputs": [],
   "source": [
    "rows = (X_train.shape[1]+3) // 4\n",
    "fig, axes = plt.subplots(rows, 4, figsize=(14, rows*5))\n",
    "cols = X_train.columns\n",
    "\n",
    "for r in range(rows):\n",
    "    for c in range(4):\n",
    "        index = 4 * r + c\n",
    "        if index == len(cols):\n",
    "            break\n",
    "        reg = stats.probplot(X_train[cols[index]], plot=axes[r, c])\n",
    "        axes[r, c].set_title(cols[index], fontsize=20)\n",
    "plt.tight_layout()\n",
    "plt.show()"
   ]
  },
  {
   "cell_type": "code",
   "execution_count": null,
   "metadata": {},
   "outputs": [],
   "source": []
  },
  {
   "cell_type": "markdown",
   "metadata": {},
   "source": [
    "## Outlier 탐색 및 제거"
   ]
  },
  {
   "cell_type": "code",
   "execution_count": null,
   "metadata": {},
   "outputs": [],
   "source": [
    "X_train = X_train.replace([np.inf, -np.inf], np.nan)\n",
    "X_train = X_train.fillna(method='bfill')"
   ]
  },
  {
   "cell_type": "markdown",
   "metadata": {},
   "source": [
    "# 데이터 모델링 "
   ]
  },
  {
   "cell_type": "code",
   "execution_count": null,
   "metadata": {},
   "outputs": [],
   "source": [
    "def custom_GridSearch(model, train, y, param_grid, verbose=2, n_jobs=5):\n",
    "    \n",
    "    # GridSearchCV 모델로 초기화\n",
    "    grid_model = GridSearchCV(model,\n",
    "                         param_grid=param_grid,\n",
    "                         scoring='neg_mean_squared_error',\n",
    "                         cv=5,\n",
    "                         verbose=verbose,\n",
    "                         n_jobs=n_jobs)\n",
    "    # 모델 fitting\n",
    "    grid_model.fit(train, y)\n",
    "    \n",
    "    # 결과값 저장\n",
    "    params = grid_model.cv_results_['params']\n",
    "    score = grid_model.cv_results_['mean_test_score']\n",
    "\n",
    "    # 데이터 프레임 생성\n",
    "    results = pd.DataFrame(params)\n",
    "    results['score'] = score\n",
    "    \n",
    "    # RMSLE 값 계산 후 정렬\n",
    "    results['RMSLE'] = np.sqrt(-1 * results['score'])\n",
    "    results = results.sort_values('RMSLE')\n",
    "\n",
    "    return results"
   ]
  },
  {
   "cell_type": "code",
   "execution_count": null,
   "metadata": {},
   "outputs": [],
   "source": []
  },
  {
   "cell_type": "code",
   "execution_count": null,
   "metadata": {},
   "outputs": [],
   "source": []
  },
  {
   "cell_type": "code",
   "execution_count": null,
   "metadata": {},
   "outputs": [],
   "source": []
  },
  {
   "cell_type": "markdown",
   "metadata": {
    "tags": []
   },
   "source": [
    "## XGboost"
   ]
  },
  {
   "cell_type": "code",
   "execution_count": null,
   "metadata": {},
   "outputs": [],
   "source": [
    "'''param = {'num_leaves': 31,\n",
    "         'min_data_in_leaf': 30, \n",
    "         'objective':'regression',\n",
    "         'max_depth': -1,\n",
    "         'learning_rate': 0.015,\n",
    "         \"min_child_samples\": 20,\n",
    "         \"boosting\": \"gbdt\",\n",
    "         \"feature_fraction\": 0.9,\n",
    "         \"bagging_freq\": 1,\n",
    "         \"bagging_fraction\": 0.9 ,\n",
    "         \"bagging_seed\": 11,\n",
    "         \"metric\": 'rmse',\n",
    "         \"lambda_l1\": 0.1,\n",
    "         \"verbosity\": -1,\n",
    "         \"nthread\": 4,\n",
    "         \"random_state\": 4950}'''"
   ]
  },
  {
   "cell_type": "code",
   "execution_count": null,
   "metadata": {},
   "outputs": [],
   "source": [
    "# 파라미터 그리드 설정\n",
    "param_grid = {\n",
    "    'n_estimators': [100, 200, 300],\n",
    "    'max_depth': [1, 2, 4, 6],\n",
    "    'learning_rate': [0.005, 0.01, 0.015]\n",
    "}"
   ]
  },
  {
   "cell_type": "code",
   "execution_count": null,
   "metadata": {
    "tags": []
   },
   "outputs": [],
   "source": [
    "# XGBoost 모델 객체 생성\n",
    "model = XGBRegressor(random_state=36)\n",
    "\n",
    "# GridSearchCV 객체 생성\n",
    "custom_GridSearch(model, X_train, y_train, param_grid, verbose=2, n_jobs=5)\n"
   ]
  },
  {
   "cell_type": "code",
   "execution_count": null,
   "metadata": {},
   "outputs": [],
   "source": [
    "# 최적 파라미터 출력\n",
    "print(grid_search.best_params_)"
   ]
  },
  {
   "cell_type": "code",
   "execution_count": null,
   "metadata": {
    "tags": []
   },
   "outputs": [],
   "source": [
    "from xgboost import XGBRegressor\n",
    "\n",
    "# 최적의 파라미터 값을 사용하여 XGBoost 모델 객체 생성\n",
    "xgb = XGBRegressor(learning_rate=0.05, max_depth=6, n_estimators=300)\n",
    "\n",
    "# 모델 학습\n",
    "xgb.fit(X_train, y_train)\n",
    "\n",
    "# 예측\n",
    "predictions = xgb.predict(X_test)"
   ]
  },
  {
   "cell_type": "code",
   "execution_count": null,
   "metadata": {},
   "outputs": [],
   "source": [
    "predictions"
   ]
  },
  {
   "cell_type": "markdown",
   "metadata": {},
   "source": [
    "## LGBMRegressor"
   ]
  },
  {
   "cell_type": "code",
   "execution_count": null,
   "metadata": {},
   "outputs": [],
   "source": [
    "param_grid = {\n",
    "    'max_depth': [1, 3, 5, 7, 9],  # 1,2,3(데이터 엄청 작을 때만 사용)  3 5 7 9\n",
    "    'learning_rate': [0.0001, 0.001, 0.01, 0.1],\n",
    "    'n_estimators': [50, 70, 90, 100],  # 1000 ~ 5000 예시 케이스 검색.. 일반적인 케이스 정리해보기..\n",
    "    'num_leaves': [40, 50, 60]\n",
    "}"
   ]
  },
  {
   "cell_type": "code",
   "execution_count": null,
   "metadata": {},
   "outputs": [],
   "source": [
    "model = LGBMRegressor(random_state=36)\n",
    "custom_GridSearch(model, X_train, y_train, param_grid, verbose=2, n_jobs=5)"
   ]
  },
  {
   "cell_type": "markdown",
   "metadata": {},
   "source": [
    "** RMSLE : 0.174896 **\n",
    "- Best : \n",
    "    - learning_rate : 0.100\n",
    "    - n_estimators  : 100\n",
    "    - num_leaves    : 60"
   ]
  },
  {
   "cell_type": "code",
   "execution_count": null,
   "metadata": {},
   "outputs": [],
   "source": [
    "# LGBMRegressor 모델 해당 파라미터로 학습\n",
    "\n",
    "model = LGBMRegressor(learning_rate=0.05, max_depth=13, n_estimators=700, num_leaves=31, random_state=random_state)\n",
    "model.fit(train, y)"
   ]
  },
  {
   "cell_type": "code",
   "execution_count": null,
   "metadata": {},
   "outputs": [],
   "source": []
  },
  {
   "cell_type": "code",
   "execution_count": null,
   "metadata": {},
   "outputs": [],
   "source": []
  },
  {
   "cell_type": "code",
   "execution_count": null,
   "metadata": {},
   "outputs": [],
   "source": []
  },
  {
   "cell_type": "code",
   "execution_count": null,
   "metadata": {},
   "outputs": [],
   "source": []
  },
  {
   "cell_type": "code",
   "execution_count": null,
   "metadata": {},
   "outputs": [],
   "source": []
  },
  {
   "cell_type": "code",
   "execution_count": null,
   "metadata": {},
   "outputs": [],
   "source": []
  },
  {
   "cell_type": "code",
   "execution_count": null,
   "metadata": {},
   "outputs": [],
   "source": []
  },
  {
   "cell_type": "code",
   "execution_count": null,
   "metadata": {},
   "outputs": [],
   "source": []
  },
  {
   "cell_type": "code",
   "execution_count": null,
   "metadata": {},
   "outputs": [],
   "source": []
  },
  {
   "cell_type": "code",
   "execution_count": null,
   "metadata": {},
   "outputs": [],
   "source": []
  },
  {
   "cell_type": "code",
   "execution_count": null,
   "metadata": {},
   "outputs": [],
   "source": []
  },
  {
   "cell_type": "code",
   "execution_count": null,
   "metadata": {},
   "outputs": [],
   "source": []
  },
  {
   "cell_type": "code",
   "execution_count": null,
   "metadata": {},
   "outputs": [],
   "source": []
  },
  {
   "cell_type": "code",
   "execution_count": null,
   "metadata": {},
   "outputs": [],
   "source": []
  },
  {
   "cell_type": "code",
   "execution_count": null,
   "metadata": {},
   "outputs": [],
   "source": []
  },
  {
   "cell_type": "code",
   "execution_count": null,
   "metadata": {},
   "outputs": [],
   "source": []
  },
  {
   "cell_type": "code",
   "execution_count": null,
   "metadata": {},
   "outputs": [],
   "source": [
    "#prepare fit model with cross-validation\n",
    "folds = KFold(n_splits=5, shuffle=True, random_state=42)\n",
    "oof = np.zeros(len(df_train))\n",
    "predictions = np.zeros(len(df_test))\n",
    "feature_importance_df = pd.DataFrame()"
   ]
  },
  {
   "cell_type": "code",
   "execution_count": null,
   "metadata": {},
   "outputs": [],
   "source": [
    "X_train = X_train.replace([np.inf, -np.inf], np.nan)\n",
    "X_train = X_train.fillna(method='bfill')"
   ]
  },
  {
   "cell_type": "code",
   "execution_count": null,
   "metadata": {},
   "outputs": [],
   "source": [
    "\n",
    "for fold_, (trn_idx, val_idx) in enumerate(folds.split(df_train)):\n",
    "    trn_data = lgb.Dataset(df_train.iloc[trn_idx][train_columns], label=y_reg.iloc[trn_idx])#, categorical_feature=categorical_feats)\n",
    "    val_data = lgb.Dataset(df_train.iloc[val_idx][train_columns], label=y_reg.iloc[val_idx])#, categorical_feature=categorical_feats)\n",
    "\n",
    "    num_round = 10000\n",
    "    clf = lgb.train(param, trn_data, num_round, valid_sets = [trn_data, val_data], verbose_eval=500, early_stopping_rounds = 100)\n",
    "    oof[val_idx] = clf.predict(df_train.iloc[val_idx][train_columns], num_iteration=clf.best_iteration)\n",
    "    #feature importance\n",
    "    fold_importance_df = pd.DataFrame()\n",
    "    fold_importance_df[\"Feature\"] = train_columns\n",
    "    fold_importance_df[\"importance\"] = clf.feature_importance()\n",
    "    fold_importance_df[\"fold\"] = fold_ + 1\n",
    "    feature_importance_df = pd.concat([feature_importance_df, fold_importance_df], axis=0)\n",
    "    #predictions\n",
    "    predictions += clf.predict(df_test[train_columns], num_iteration=clf.best_iteration) / folds.n_splits\n",
    "    \n",
    "cv = np.sqrt(mean_squared_error(oof, y_reg))\n",
    "print(cv)"
   ]
  },
  {
   "cell_type": "code",
   "execution_count": null,
   "metadata": {},
   "outputs": [],
   "source": []
  },
  {
   "cell_type": "code",
   "execution_count": null,
   "metadata": {},
   "outputs": [],
   "source": [
    "param = {'num_leaves': 31,\n",
    "         'min_data_in_leaf': 30, \n",
    "         'objective':'regression',\n",
    "         'max_depth': -1,\n",
    "         'learning_rate': 0.015,\n",
    "         \"min_child_samples\": 20,\n",
    "         \"boosting\": \"gbdt\",\n",
    "         \"feature_fraction\": 0.9,\n",
    "         \"bagging_freq\": 1,\n",
    "         \"bagging_fraction\": 0.9 ,\n",
    "         \"bagging_seed\": 11,\n",
    "         \"metric\": 'rmse',\n",
    "         \"lambda_l1\": 0.1,\n",
    "         \"verbosity\": -1,\n",
    "         \"nthread\": 4,\n",
    "         \"random_state\": 4950}\n",
    "\n",
    "y_reg = y_train\n",
    "\n",
    "#prepare fit model with cross-validation\n",
    "folds = KFold(n_splits=5, shuffle=True, random_state=42)\n",
    "oof = np.zeros(len(X_train))\n",
    "predictions = np.zeros(len(X_test))\n",
    "feature_importance_df = pd.DataFrame()\n",
    "\n",
    "#run model\n",
    "for fold_, (trn_idx, val_idx) in enumerate(folds.split(X_train)):\n",
    "    trn_data = lgb.Dataset(X_train.iloc[trn_idx][train_columns], label=y_reg.iloc[trn_idx])\n",
    "    val_data = lgb.Dataset(X_train.iloc[val_idx][train_columns], label=y_reg.iloc[val_idx])\n",
    "\n",
    "    num_round = 10000\n",
    "    clf = lgb.train(param, trn_data, num_round, valid_sets = [trn_data, val_data], verbose_eval=500, early_stopping_rounds = 100)\n",
    "    oof[val_idx] = clf.predict(df_train.iloc[val_idx][train_columns], num_iteration=clf.best_iteration)\n",
    "    #feature importance\n",
    "    fold_importance_df = pd.DataFrame()\n",
    "    fold_importance_df[\"Feature\"] = train_columns\n",
    "    fold_importance_df[\"importance\"] = clf.feature_importance()\n",
    "    fold_importance_df[\"fold\"] = fold_ + 1\n",
    "    feature_importance_df = pd.concat([feature_importance_df, fold_importance_df], axis=0)\n",
    "    #predictions\n",
    "    predictions += clf.predict(df_test[train_columns], num_iteration=clf.best_iteration) / folds.n_splits\n",
    "    \n",
    "cv = np.sqrt(mean_squared_error(oof, y_reg))\n",
    "print(cv)"
   ]
  },
  {
   "cell_type": "markdown",
   "metadata": {},
   "source": [
    "### Grid Search"
   ]
  },
  {
   "cell_type": "markdown",
   "metadata": {},
   "source": [
    "### Model Pipeline"
   ]
  },
  {
   "cell_type": "markdown",
   "metadata": {},
   "source": [
    "### Average Blending "
   ]
  },
  {
   "cell_type": "markdown",
   "metadata": {},
   "source": [
    "### Cross Validation "
   ]
  },
  {
   "cell_type": "markdown",
   "metadata": {},
   "source": [
    "# Submission"
   ]
  },
  {
   "cell_type": "code",
   "execution_count": null,
   "metadata": {},
   "outputs": [],
   "source": []
  },
  {
   "cell_type": "markdown",
   "metadata": {
    "_uuid": "a4afe676edcf34f694c95c3f0e6287d13edaee26"
   },
   "source": [
    "## 3. 모델링\n",
    "### Average Blending\n",
    "여러가지 모델의 결과를 산술 평균을 통해 Blending 모델을 만들겠습니다."
   ]
  },
  {
   "cell_type": "code",
   "execution_count": null,
   "metadata": {
    "_uuid": "296645421a135dc34c45f822ce73d31eeb107bdc"
   },
   "outputs": [],
   "source": [
    "gboost = GradientBoostingRegressor(random_state=2019)\n",
    "xgboost = xgb.XGBRegressor(random_state=2019)\n",
    "lightgbm = lgb.LGBMRegressor(random_state=2019)\n",
    "\n",
    "models = [{'model':gboost, 'name':'GradientBoosting'}, {'model':xgboost, 'name':'XGBoost'},\n",
    "          {'model':lightgbm, 'name':'LightGBM'}]"
   ]
  },
  {
   "cell_type": "markdown",
   "metadata": {
    "_uuid": "578896883c6b8c6a2c5785a93121b62506b22a21"
   },
   "source": [
    "### Cross Validation\n",
    "교차 검증을 통해 모델의 성능을 간단히 평가하겠습니다."
   ]
  },
  {
   "cell_type": "code",
   "execution_count": null,
   "metadata": {
    "_uuid": "4b48689d7989107ea3524126c330e2225a58e4d3"
   },
   "outputs": [],
   "source": [
    "def get_cv_score(models):\n",
    "    kfold = KFold(n_splits=5, random_state=2019).get_n_splits(x.values)\n",
    "    for m in models:\n",
    "        print(\"Model {} CV score : {:.4f}\".format(m['name'], np.mean(cross_val_score(m['model'], x.values, y)), \n",
    "                                             kf=kfold))"
   ]
  },
  {
   "cell_type": "code",
   "execution_count": null,
   "metadata": {
    "_uuid": "53ea586dd0b4fe5481db7bfb9cbcb998ef88b648"
   },
   "outputs": [],
   "source": [
    "get_cv_score(models)"
   ]
  },
  {
   "cell_type": "markdown",
   "metadata": {
    "_uuid": "a26c1d6aa9b779077f84ec60b7f29385fc2e058b"
   },
   "source": [
    "### Make Submission"
   ]
  },
  {
   "cell_type": "markdown",
   "metadata": {
    "_uuid": "1004d9b01d1c3068d9e8a81f263315435478e591"
   },
   "source": [
    "회귀 모델의 경우에는 cross_val_score 함수가 R<sup>2</sup>를 반환합니다.<br>\n",
    "R<sup>2</sup> 값이 1에 가까울수록 모델이 데이터를 잘 표현함을 나타냅니다. 3개 트리 모델이 상당히 훈련 데이터에 대해 괜찮은 성능을 보여주고 있습니다.<br> 훈련 데이터셋으로 3개 모델을 학습시키고, Average Blending을 통해 제출 결과를 만들겠습니다."
   ]
  },
  {
   "cell_type": "code",
   "execution_count": null,
   "metadata": {
    "_uuid": "20af2394b94bdc14fe1b23688874fadbf1c2846a"
   },
   "outputs": [],
   "source": [
    "def AveragingBlending(models, x, y, sub_x):\n",
    "    for m in models : \n",
    "        m['model'].fit(x.values, y)\n",
    "    \n",
    "    predictions = np.column_stack([\n",
    "        m['model'].predict(sub_x.values) for m in models\n",
    "    ])\n",
    "    return np.mean(predictions, axis=1)"
   ]
  },
  {
   "cell_type": "code",
   "execution_count": null,
   "metadata": {
    "_uuid": "f7bdb1c740291e6d1721cf02cd3f59bb79153c87"
   },
   "outputs": [],
   "source": [
    "y_pred = AveragingBlending(models, x, y, sub)"
   ]
  },
  {
   "cell_type": "code",
   "execution_count": null,
   "metadata": {
    "_uuid": "9c9d0901bcf5e4754b40a6922292c04951b81bae"
   },
   "outputs": [],
   "source": [
    "sub = pd.DataFrame(data={'id':sub_id,'price':y_pred})"
   ]
  },
  {
   "cell_type": "code",
   "execution_count": null,
   "metadata": {
    "_uuid": "2047d6ee5f5da05e5463d51d1fbbe82a94732a48"
   },
   "outputs": [],
   "source": [
    "sub.to_csv('submission.csv', index=False)"
   ]
  }
 ],
 "metadata": {
  "kernelspec": {
   "display_name": "Python 3.10 (tensorflow)",
   "language": "python",
   "name": "tensorflow"
  },
  "language_info": {
   "codemirror_mode": {
    "name": "ipython",
    "version": 3
   },
   "file_extension": ".py",
   "mimetype": "text/x-python",
   "name": "python",
   "nbconvert_exporter": "python",
   "pygments_lexer": "ipython3",
   "version": "3.10.11"
  },
  "toc-autonumbering": true
 },
 "nbformat": 4,
 "nbformat_minor": 4
}
