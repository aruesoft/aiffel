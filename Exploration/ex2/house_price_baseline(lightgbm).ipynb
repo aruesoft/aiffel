{
 "cells": [
  {
   "cell_type": "code",
   "execution_count": null,
   "metadata": {},
   "outputs": [],
   "source": []
  },
  {
   "cell_type": "markdown",
   "metadata": {
    "jp-MarkdownHeadingCollapsed": true,
    "tags": []
   },
   "source": [
    "# Kaggle Competiton\n",
    "- https://www.kaggle.com/competitions/2019-2nd-ml-month-with-kakr/overview\n",
    "- Note : [Link](https://www.notion.so/parkjaeyoung/Kaggle-4147f4c9dd0b43e284d697c1cb6d7875?pvs=4https://www.notion.so/parkjaeyoung/Kaggle-4147f4c9dd0b43e284d697c1cb6d7875?pvs=4)"
   ]
  },
  {
   "cell_type": "markdown",
   "metadata": {},
   "source": [
    "# Library 및 Data Load"
   ]
  },
  {
   "cell_type": "code",
   "execution_count": 1,
   "metadata": {
    "_uuid": "38bfbd5ada16035c96bb21265c51de80361f17b4",
    "execution": {
     "iopub.execute_input": "2023-05-22T11:48:59.770388Z",
     "iopub.status.busy": "2023-05-22T11:48:59.769312Z",
     "iopub.status.idle": "2023-05-22T11:49:00.469306Z",
     "shell.execute_reply": "2023-05-22T11:49:00.468964Z",
     "shell.execute_reply.started": "2023-05-22T11:48:59.770326Z"
    },
    "tags": []
   },
   "outputs": [],
   "source": [
    "import warnings\n",
    "warnings.filterwarnings(\"ignore\")\n",
    "\n",
    "import pandas as pd\n",
    "import numpy as np\n",
    "\n",
    "import missingno as msno\n",
    "import matplotlib.pyplot as plt\n",
    "import seaborn as sns\n",
    "from scipy import stats\n",
    "\n",
    "from sklearn.ensemble import GradientBoostingRegressor\n",
    "from sklearn.ensemble import RandomForestRegressor\n",
    "from sklearn.ensemble import GradientBoostingRegressor\n",
    "\n",
    "from sklearn.model_selection import KFold, cross_val_score\n",
    "from sklearn.model_selection import cross_val_predict\n",
    "from sklearn.model_selection import GridSearchCV\n",
    "\n",
    "from sklearn.preprocessing import LabelEncoder\n",
    "from sklearn.preprocessing import RobustScaler\n",
    "\n",
    "import xgboost as xgb\n",
    "from xgboost import XGBRegressor\n",
    "\n",
    "import lightgbm as lgb\n",
    "from lightgbm import LGBMRegressor\n",
    "\n",
    "\n",
    "from sklearn.metrics import mean_squared_error\n",
    "from sklearn.pipeline import make_pipeline\n"
   ]
  },
  {
   "cell_type": "code",
   "execution_count": 2,
   "metadata": {
    "execution": {
     "iopub.execute_input": "2023-05-22T11:49:01.707895Z",
     "iopub.status.busy": "2023-05-22T11:49:01.706464Z",
     "iopub.status.idle": "2023-05-22T11:49:01.716363Z",
     "shell.execute_reply": "2023-05-22T11:49:01.714904Z",
     "shell.execute_reply.started": "2023-05-22T11:49:01.707836Z"
    },
    "tags": []
   },
   "outputs": [],
   "source": [
    "pd.options.display.max_rows = 100\n",
    "pd.set_option(\"display.max_rows\", 100)"
   ]
  },
  {
   "cell_type": "markdown",
   "metadata": {},
   "source": [
    "# Data Load"
   ]
  },
  {
   "cell_type": "code",
   "execution_count": 27,
   "metadata": {
    "execution": {
     "iopub.execute_input": "2023-05-22T12:00:51.268659Z",
     "iopub.status.busy": "2023-05-22T12:00:51.267556Z",
     "iopub.status.idle": "2023-05-22T12:00:51.276292Z",
     "shell.execute_reply": "2023-05-22T12:00:51.275065Z",
     "shell.execute_reply.started": "2023-05-22T12:00:51.268596Z"
    },
    "tags": []
   },
   "outputs": [],
   "source": [
    "sub = pd.read_csv('sub.csv',index_col=0)\n",
    "x = pd.read_csv('x.csv',index_col=0)\n",
    "y = pd.read_csv('y.csv',index_col=0)   # Log Scaled\n",
    "\n",
    "y = y['price_logscaled'].to_list()"
   ]
  },
  {
   "cell_type": "code",
   "execution_count": 32,
   "metadata": {
    "execution": {
     "iopub.execute_input": "2023-05-22T12:02:13.349181Z",
     "iopub.status.busy": "2023-05-22T12:02:13.348420Z",
     "iopub.status.idle": "2023-05-22T12:02:13.358003Z",
     "shell.execute_reply": "2023-05-22T12:02:13.357316Z",
     "shell.execute_reply.started": "2023-05-22T12:02:13.349148Z"
    },
    "tags": []
   },
   "outputs": [
    {
     "name": "stdout",
     "output_type": "stream",
     "text": [
      "(15035, 16)\n",
      "15035\n",
      "(6468, 16)\n"
     ]
    }
   ],
   "source": [
    "print(x.shape)\n",
    "print(len(y))\n",
    "print(sub.shape)"
   ]
  },
  {
   "cell_type": "code",
   "execution_count": null,
   "metadata": {},
   "outputs": [],
   "source": []
  },
  {
   "cell_type": "code",
   "execution_count": null,
   "metadata": {},
   "outputs": [],
   "source": []
  },
  {
   "cell_type": "code",
   "execution_count": null,
   "metadata": {},
   "outputs": [],
   "source": []
  },
  {
   "cell_type": "markdown",
   "metadata": {
    "tags": []
   },
   "source": [
    "# Grid Search (LightGBM)"
   ]
  },
  {
   "cell_type": "markdown",
   "metadata": {},
   "source": [
    "#### LightGBM\n",
    "  - Best Parameters: {'colsample_bytree': 0.7, 'max_depth': 15, 'min_split_gain': 0.3, 'n_estimators': 400, 'num_leaves': 50, 'reg_alpha': 1.1, 'reg_lambda': 1.3, 'subsample': 0.9, 'subsample_freq': 20}\n",
    "  - Best Score: 0.030046641343574966\n"
   ]
  },
  {
   "cell_type": "code",
   "execution_count": null,
   "metadata": {
    "execution": {
     "iopub.execute_input": "2023-05-22T01:05:09.565871Z",
     "iopub.status.busy": "2023-05-22T01:05:09.565177Z",
     "iopub.status.idle": "2023-05-22T01:05:09.573127Z",
     "shell.execute_reply": "2023-05-22T01:05:09.572310Z",
     "shell.execute_reply.started": "2023-05-22T01:05:09.565822Z"
    },
    "tags": []
   },
   "outputs": [],
   "source": [
    "\n",
    "# 탐색할 파라미터 그리드 생성\n",
    "param_grid = {\n",
    "     'n_estimators': [300,400,500,700],\n",
    "    'colsample_bytree': [0.6,0.7, 0.8],\n",
    "    'max_depth': [10,15,20],\n",
    "    'num_leaves': [50, 100, 200],\n",
    "    'reg_alpha': [1.1, 1.2, 1.3],\n",
    "    'reg_lambda': [1.1, 1.2, 1.3],\n",
    "    'min_split_gain': [0.2,0.3],\n",
    "    'subsample': [0.9],\n",
    "    'subsample_freq': [20]\n",
    "}\n"
   ]
  },
  {
   "cell_type": "code",
   "execution_count": null,
   "metadata": {
    "execution": {
     "iopub.execute_input": "2023-05-22T01:05:11.466270Z",
     "iopub.status.busy": "2023-05-22T01:05:11.465216Z",
     "iopub.status.idle": "2023-05-22T01:05:11.474248Z",
     "shell.execute_reply": "2023-05-22T01:05:11.473249Z",
     "shell.execute_reply.started": "2023-05-22T01:05:11.466211Z"
    },
    "tags": []
   },
   "outputs": [],
   "source": [
    "gbm_model = lgb.LGBMRegressor(random_state=36)"
   ]
  },
  {
   "cell_type": "code",
   "execution_count": null,
   "metadata": {},
   "outputs": [],
   "source": []
  },
  {
   "cell_type": "code",
   "execution_count": null,
   "metadata": {
    "execution": {
     "iopub.execute_input": "2023-05-22T01:05:20.037070Z",
     "iopub.status.busy": "2023-05-22T01:05:20.035991Z",
     "iopub.status.idle": "2023-05-22T01:07:26.591221Z",
     "shell.execute_reply": "2023-05-22T01:07:26.590678Z",
     "shell.execute_reply.started": "2023-05-22T01:05:20.037013Z"
    },
    "tags": []
   },
   "outputs": [
    {
     "data": {
      "text/html": [
       "<style>#sk-container-id-1 {color: black;background-color: white;}#sk-container-id-1 pre{padding: 0;}#sk-container-id-1 div.sk-toggleable {background-color: white;}#sk-container-id-1 label.sk-toggleable__label {cursor: pointer;display: block;width: 100%;margin-bottom: 0;padding: 0.3em;box-sizing: border-box;text-align: center;}#sk-container-id-1 label.sk-toggleable__label-arrow:before {content: \"▸\";float: left;margin-right: 0.25em;color: #696969;}#sk-container-id-1 label.sk-toggleable__label-arrow:hover:before {color: black;}#sk-container-id-1 div.sk-estimator:hover label.sk-toggleable__label-arrow:before {color: black;}#sk-container-id-1 div.sk-toggleable__content {max-height: 0;max-width: 0;overflow: hidden;text-align: left;background-color: #f0f8ff;}#sk-container-id-1 div.sk-toggleable__content pre {margin: 0.2em;color: black;border-radius: 0.25em;background-color: #f0f8ff;}#sk-container-id-1 input.sk-toggleable__control:checked~div.sk-toggleable__content {max-height: 200px;max-width: 100%;overflow: auto;}#sk-container-id-1 input.sk-toggleable__control:checked~label.sk-toggleable__label-arrow:before {content: \"▾\";}#sk-container-id-1 div.sk-estimator input.sk-toggleable__control:checked~label.sk-toggleable__label {background-color: #d4ebff;}#sk-container-id-1 div.sk-label input.sk-toggleable__control:checked~label.sk-toggleable__label {background-color: #d4ebff;}#sk-container-id-1 input.sk-hidden--visually {border: 0;clip: rect(1px 1px 1px 1px);clip: rect(1px, 1px, 1px, 1px);height: 1px;margin: -1px;overflow: hidden;padding: 0;position: absolute;width: 1px;}#sk-container-id-1 div.sk-estimator {font-family: monospace;background-color: #f0f8ff;border: 1px dotted black;border-radius: 0.25em;box-sizing: border-box;margin-bottom: 0.5em;}#sk-container-id-1 div.sk-estimator:hover {background-color: #d4ebff;}#sk-container-id-1 div.sk-parallel-item::after {content: \"\";width: 100%;border-bottom: 1px solid gray;flex-grow: 1;}#sk-container-id-1 div.sk-label:hover label.sk-toggleable__label {background-color: #d4ebff;}#sk-container-id-1 div.sk-serial::before {content: \"\";position: absolute;border-left: 1px solid gray;box-sizing: border-box;top: 0;bottom: 0;left: 50%;z-index: 0;}#sk-container-id-1 div.sk-serial {display: flex;flex-direction: column;align-items: center;background-color: white;padding-right: 0.2em;padding-left: 0.2em;position: relative;}#sk-container-id-1 div.sk-item {position: relative;z-index: 1;}#sk-container-id-1 div.sk-parallel {display: flex;align-items: stretch;justify-content: center;background-color: white;position: relative;}#sk-container-id-1 div.sk-item::before, #sk-container-id-1 div.sk-parallel-item::before {content: \"\";position: absolute;border-left: 1px solid gray;box-sizing: border-box;top: 0;bottom: 0;left: 50%;z-index: -1;}#sk-container-id-1 div.sk-parallel-item {display: flex;flex-direction: column;z-index: 1;position: relative;background-color: white;}#sk-container-id-1 div.sk-parallel-item:first-child::after {align-self: flex-end;width: 50%;}#sk-container-id-1 div.sk-parallel-item:last-child::after {align-self: flex-start;width: 50%;}#sk-container-id-1 div.sk-parallel-item:only-child::after {width: 0;}#sk-container-id-1 div.sk-dashed-wrapped {border: 1px dashed gray;margin: 0 0.4em 0.5em 0.4em;box-sizing: border-box;padding-bottom: 0.4em;background-color: white;}#sk-container-id-1 div.sk-label label {font-family: monospace;font-weight: bold;display: inline-block;line-height: 1.2em;}#sk-container-id-1 div.sk-label-container {text-align: center;}#sk-container-id-1 div.sk-container {/* jupyter's `normalize.less` sets `[hidden] { display: none; }` but bootstrap.min.css set `[hidden] { display: none !important; }` so we also need the `!important` here to be able to override the default hidden behavior on the sphinx rendered scikit-learn.org. See: https://github.com/scikit-learn/scikit-learn/issues/21755 */display: inline-block !important;position: relative;}#sk-container-id-1 div.sk-text-repr-fallback {display: none;}</style><div id=\"sk-container-id-1\" class=\"sk-top-container\"><div class=\"sk-text-repr-fallback\"><pre>GridSearchCV(cv=5, estimator=LGBMRegressor(random_state=36), n_jobs=-1,\n",
       "             param_grid={&#x27;colsample_bytree&#x27;: [0.6, 0.7, 0.8],\n",
       "                         &#x27;max_depth&#x27;: [10, 15, 20],\n",
       "                         &#x27;min_split_gain&#x27;: [0, 1, 0.2, 0.3],\n",
       "                         &#x27;n_estimators&#x27;: [300, 400, 500, 700],\n",
       "                         &#x27;num_leaves&#x27;: [50, 100, 200], &#x27;reg_alpha&#x27;: [1, 1.1],\n",
       "                         &#x27;reg_lambda&#x27;: [1.2, 1.3, 1.4], &#x27;subsample&#x27;: [0.8, 0.9],\n",
       "                         &#x27;subsample_freq&#x27;: [20]},\n",
       "             scoring=&#x27;neg_mean_squared_error&#x27;)</pre><b>In a Jupyter environment, please rerun this cell to show the HTML representation or trust the notebook. <br />On GitHub, the HTML representation is unable to render, please try loading this page with nbviewer.org.</b></div><div class=\"sk-container\" hidden><div class=\"sk-item sk-dashed-wrapped\"><div class=\"sk-label-container\"><div class=\"sk-label sk-toggleable\"><input class=\"sk-toggleable__control sk-hidden--visually\" id=\"sk-estimator-id-1\" type=\"checkbox\" ><label for=\"sk-estimator-id-1\" class=\"sk-toggleable__label sk-toggleable__label-arrow\">GridSearchCV</label><div class=\"sk-toggleable__content\"><pre>GridSearchCV(cv=5, estimator=LGBMRegressor(random_state=36), n_jobs=-1,\n",
       "             param_grid={&#x27;colsample_bytree&#x27;: [0.6, 0.7, 0.8],\n",
       "                         &#x27;max_depth&#x27;: [10, 15, 20],\n",
       "                         &#x27;min_split_gain&#x27;: [0, 1, 0.2, 0.3],\n",
       "                         &#x27;n_estimators&#x27;: [300, 400, 500, 700],\n",
       "                         &#x27;num_leaves&#x27;: [50, 100, 200], &#x27;reg_alpha&#x27;: [1, 1.1],\n",
       "                         &#x27;reg_lambda&#x27;: [1.2, 1.3, 1.4], &#x27;subsample&#x27;: [0.8, 0.9],\n",
       "                         &#x27;subsample_freq&#x27;: [20]},\n",
       "             scoring=&#x27;neg_mean_squared_error&#x27;)</pre></div></div></div><div class=\"sk-parallel\"><div class=\"sk-parallel-item\"><div class=\"sk-item\"><div class=\"sk-label-container\"><div class=\"sk-label sk-toggleable\"><input class=\"sk-toggleable__control sk-hidden--visually\" id=\"sk-estimator-id-2\" type=\"checkbox\" ><label for=\"sk-estimator-id-2\" class=\"sk-toggleable__label sk-toggleable__label-arrow\">estimator: LGBMRegressor</label><div class=\"sk-toggleable__content\"><pre>LGBMRegressor(random_state=36)</pre></div></div></div><div class=\"sk-serial\"><div class=\"sk-item\"><div class=\"sk-estimator sk-toggleable\"><input class=\"sk-toggleable__control sk-hidden--visually\" id=\"sk-estimator-id-3\" type=\"checkbox\" ><label for=\"sk-estimator-id-3\" class=\"sk-toggleable__label sk-toggleable__label-arrow\">LGBMRegressor</label><div class=\"sk-toggleable__content\"><pre>LGBMRegressor(random_state=36)</pre></div></div></div></div></div></div></div></div></div></div>"
      ],
      "text/plain": [
       "GridSearchCV(cv=5, estimator=LGBMRegressor(random_state=36), n_jobs=-1,\n",
       "             param_grid={'colsample_bytree': [0.6, 0.7, 0.8],\n",
       "                         'max_depth': [10, 15, 20],\n",
       "                         'min_split_gain': [0, 1, 0.2, 0.3],\n",
       "                         'n_estimators': [300, 400, 500, 700],\n",
       "                         'num_leaves': [50, 100, 200], 'reg_alpha': [1, 1.1],\n",
       "                         'reg_lambda': [1.2, 1.3, 1.4], 'subsample': [0.8, 0.9],\n",
       "                         'subsample_freq': [20]},\n",
       "             scoring='neg_mean_squared_error')"
      ]
     },
     "execution_count": 35,
     "metadata": {},
     "output_type": "execute_result"
    }
   ],
   "source": [
    "gbm_grid_search = GridSearchCV(gbm_model, param_grid, cv=5,scoring='neg_mean_squared_error', n_jobs=-1)\n",
    "gbm_grid_search.fit(x, y)"
   ]
  },
  {
   "cell_type": "code",
   "execution_count": null,
   "metadata": {
    "execution": {
     "iopub.execute_input": "2023-05-21T22:41:54.088260Z",
     "iopub.status.busy": "2023-05-21T22:41:54.087807Z",
     "iopub.status.idle": "2023-05-21T22:41:54.096199Z",
     "shell.execute_reply": "2023-05-21T22:41:54.093451Z",
     "shell.execute_reply.started": "2023-05-21T22:41:54.088234Z"
    },
    "tags": []
   },
   "outputs": [
    {
     "name": "stdout",
     "output_type": "stream",
     "text": [
      "Best Parameters: {'colsample_bytree': 0.6, 'max_depth': 10, 'min_split_gain': 0, 'n_estimators': 300, 'num_leaves': 50, 'reg_alpha': 1, 'reg_lambda': 1.3, 'subsample': 0.9, 'subsample_freq': 20}\n",
      "Best Score: 0.025975293963223105\n"
     ]
    }
   ],
   "source": [
    "# 최적 파라미터와 최적 점수 출력\n",
    "print(\"Best Parameters:\", gbm_grid_search.best_params_)\n",
    "print(\"Best Score:\", -gbm_grid_search.best_score_)"
   ]
  },
  {
   "cell_type": "code",
   "execution_count": null,
   "metadata": {},
   "outputs": [],
   "source": []
  },
  {
   "cell_type": "markdown",
   "metadata": {},
   "source": [
    "# Modeling"
   ]
  },
  {
   "cell_type": "code",
   "execution_count": null,
   "metadata": {
    "execution": {
     "iopub.execute_input": "2023-05-21T22:43:19.456151Z",
     "iopub.status.busy": "2023-05-21T22:43:19.455539Z",
     "iopub.status.idle": "2023-05-21T22:43:19.466028Z",
     "shell.execute_reply": "2023-05-21T22:43:19.464836Z",
     "shell.execute_reply.started": "2023-05-21T22:43:19.456113Z"
    },
    "tags": []
   },
   "outputs": [],
   "source": [
    "best_gbm_parameter= {'colsample_bytree': 0.7, \n",
    "                     'max_depth': 15, \n",
    "                     'min_split_gain': 0.3,\n",
    "                     'n_estimators': 400, \n",
    "                     'num_leaves': 50, \n",
    "                     'reg_alpha': 1.1, \n",
    "                     'reg_lambda': 1.3, \n",
    "                     'subsample': 0.9, \n",
    "                     'subsample_freq': 20}"
   ]
  },
  {
   "cell_type": "code",
   "execution_count": null,
   "metadata": {
    "execution": {
     "iopub.execute_input": "2023-05-22T07:33:45.524579Z",
     "iopub.status.busy": "2023-05-22T07:33:45.523809Z",
     "iopub.status.idle": "2023-05-22T07:33:45.531434Z",
     "shell.execute_reply": "2023-05-22T07:33:45.530387Z",
     "shell.execute_reply.started": "2023-05-22T07:33:45.524545Z"
    }
   },
   "outputs": [],
   "source": [
    "#gbm_model = gbm_grid_search.best_estimator_"
   ]
  },
  {
   "cell_type": "code",
   "execution_count": null,
   "metadata": {
    "execution": {
     "iopub.execute_input": "2023-05-21T22:44:49.349996Z",
     "iopub.status.busy": "2023-05-21T22:44:49.349391Z",
     "iopub.status.idle": "2023-05-21T22:44:49.714989Z",
     "shell.execute_reply": "2023-05-21T22:44:49.714715Z",
     "shell.execute_reply.started": "2023-05-21T22:44:49.349957Z"
    },
    "tags": []
   },
   "outputs": [
    {
     "data": {
      "text/html": [
       "<style>#sk-container-id-2 {color: black;background-color: white;}#sk-container-id-2 pre{padding: 0;}#sk-container-id-2 div.sk-toggleable {background-color: white;}#sk-container-id-2 label.sk-toggleable__label {cursor: pointer;display: block;width: 100%;margin-bottom: 0;padding: 0.3em;box-sizing: border-box;text-align: center;}#sk-container-id-2 label.sk-toggleable__label-arrow:before {content: \"▸\";float: left;margin-right: 0.25em;color: #696969;}#sk-container-id-2 label.sk-toggleable__label-arrow:hover:before {color: black;}#sk-container-id-2 div.sk-estimator:hover label.sk-toggleable__label-arrow:before {color: black;}#sk-container-id-2 div.sk-toggleable__content {max-height: 0;max-width: 0;overflow: hidden;text-align: left;background-color: #f0f8ff;}#sk-container-id-2 div.sk-toggleable__content pre {margin: 0.2em;color: black;border-radius: 0.25em;background-color: #f0f8ff;}#sk-container-id-2 input.sk-toggleable__control:checked~div.sk-toggleable__content {max-height: 200px;max-width: 100%;overflow: auto;}#sk-container-id-2 input.sk-toggleable__control:checked~label.sk-toggleable__label-arrow:before {content: \"▾\";}#sk-container-id-2 div.sk-estimator input.sk-toggleable__control:checked~label.sk-toggleable__label {background-color: #d4ebff;}#sk-container-id-2 div.sk-label input.sk-toggleable__control:checked~label.sk-toggleable__label {background-color: #d4ebff;}#sk-container-id-2 input.sk-hidden--visually {border: 0;clip: rect(1px 1px 1px 1px);clip: rect(1px, 1px, 1px, 1px);height: 1px;margin: -1px;overflow: hidden;padding: 0;position: absolute;width: 1px;}#sk-container-id-2 div.sk-estimator {font-family: monospace;background-color: #f0f8ff;border: 1px dotted black;border-radius: 0.25em;box-sizing: border-box;margin-bottom: 0.5em;}#sk-container-id-2 div.sk-estimator:hover {background-color: #d4ebff;}#sk-container-id-2 div.sk-parallel-item::after {content: \"\";width: 100%;border-bottom: 1px solid gray;flex-grow: 1;}#sk-container-id-2 div.sk-label:hover label.sk-toggleable__label {background-color: #d4ebff;}#sk-container-id-2 div.sk-serial::before {content: \"\";position: absolute;border-left: 1px solid gray;box-sizing: border-box;top: 0;bottom: 0;left: 50%;z-index: 0;}#sk-container-id-2 div.sk-serial {display: flex;flex-direction: column;align-items: center;background-color: white;padding-right: 0.2em;padding-left: 0.2em;position: relative;}#sk-container-id-2 div.sk-item {position: relative;z-index: 1;}#sk-container-id-2 div.sk-parallel {display: flex;align-items: stretch;justify-content: center;background-color: white;position: relative;}#sk-container-id-2 div.sk-item::before, #sk-container-id-2 div.sk-parallel-item::before {content: \"\";position: absolute;border-left: 1px solid gray;box-sizing: border-box;top: 0;bottom: 0;left: 50%;z-index: -1;}#sk-container-id-2 div.sk-parallel-item {display: flex;flex-direction: column;z-index: 1;position: relative;background-color: white;}#sk-container-id-2 div.sk-parallel-item:first-child::after {align-self: flex-end;width: 50%;}#sk-container-id-2 div.sk-parallel-item:last-child::after {align-self: flex-start;width: 50%;}#sk-container-id-2 div.sk-parallel-item:only-child::after {width: 0;}#sk-container-id-2 div.sk-dashed-wrapped {border: 1px dashed gray;margin: 0 0.4em 0.5em 0.4em;box-sizing: border-box;padding-bottom: 0.4em;background-color: white;}#sk-container-id-2 div.sk-label label {font-family: monospace;font-weight: bold;display: inline-block;line-height: 1.2em;}#sk-container-id-2 div.sk-label-container {text-align: center;}#sk-container-id-2 div.sk-container {/* jupyter's `normalize.less` sets `[hidden] { display: none; }` but bootstrap.min.css set `[hidden] { display: none !important; }` so we also need the `!important` here to be able to override the default hidden behavior on the sphinx rendered scikit-learn.org. See: https://github.com/scikit-learn/scikit-learn/issues/21755 */display: inline-block !important;position: relative;}#sk-container-id-2 div.sk-text-repr-fallback {display: none;}</style><div id=\"sk-container-id-2\" class=\"sk-top-container\"><div class=\"sk-text-repr-fallback\"><pre>LGBMRegressor(colsample_bytree=0.6, max_depth=10, min_split_gain=0,\n",
       "              n_estimators=300, num_leaves=50, random_state=36, reg_alpha=1,\n",
       "              reg_lambda=1.3, subsample=0.9, subsample_freq=20)</pre><b>In a Jupyter environment, please rerun this cell to show the HTML representation or trust the notebook. <br />On GitHub, the HTML representation is unable to render, please try loading this page with nbviewer.org.</b></div><div class=\"sk-container\" hidden><div class=\"sk-item\"><div class=\"sk-estimator sk-toggleable\"><input class=\"sk-toggleable__control sk-hidden--visually\" id=\"sk-estimator-id-4\" type=\"checkbox\" checked><label for=\"sk-estimator-id-4\" class=\"sk-toggleable__label sk-toggleable__label-arrow\">LGBMRegressor</label><div class=\"sk-toggleable__content\"><pre>LGBMRegressor(colsample_bytree=0.6, max_depth=10, min_split_gain=0,\n",
       "              n_estimators=300, num_leaves=50, random_state=36, reg_alpha=1,\n",
       "              reg_lambda=1.3, subsample=0.9, subsample_freq=20)</pre></div></div></div></div></div>"
      ],
      "text/plain": [
       "LGBMRegressor(colsample_bytree=0.6, max_depth=10, min_split_gain=0,\n",
       "              n_estimators=300, num_leaves=50, random_state=36, reg_alpha=1,\n",
       "              reg_lambda=1.3, subsample=0.9, subsample_freq=20)"
      ]
     },
     "execution_count": 39,
     "metadata": {},
     "output_type": "execute_result"
    }
   ],
   "source": [
    "gbm_model = lgb.LGBMRegressor(random_state=36, n_jobs=-1, **best_gbm_parameter)\n",
    "gbm_model.fit(x, y)"
   ]
  },
  {
   "cell_type": "code",
   "execution_count": null,
   "metadata": {
    "execution": {
     "iopub.execute_input": "2023-05-21T22:44:58.751752Z",
     "iopub.status.busy": "2023-05-21T22:44:58.750506Z",
     "iopub.status.idle": "2023-05-21T22:44:58.774550Z",
     "shell.execute_reply": "2023-05-21T22:44:58.774154Z",
     "shell.execute_reply.started": "2023-05-21T22:44:58.751688Z"
    },
    "tags": []
   },
   "outputs": [],
   "source": [
    "y_pred = gbm_model.predict(sub)"
   ]
  },
  {
   "cell_type": "code",
   "execution_count": null,
   "metadata": {
    "execution": {
     "iopub.execute_input": "2023-05-21T22:45:00.455998Z",
     "iopub.status.busy": "2023-05-21T22:45:00.454980Z",
     "iopub.status.idle": "2023-05-21T22:45:00.467209Z",
     "shell.execute_reply": "2023-05-21T22:45:00.464856Z",
     "shell.execute_reply.started": "2023-05-21T22:45:00.455953Z"
    },
    "tags": []
   },
   "outputs": [],
   "source": [
    "y_pred = np.expm1(y_pred)"
   ]
  },
  {
   "cell_type": "code",
   "execution_count": null,
   "metadata": {
    "execution": {
     "iopub.execute_input": "2023-05-21T22:45:00.930579Z",
     "iopub.status.busy": "2023-05-21T22:45:00.929885Z",
     "iopub.status.idle": "2023-05-21T22:45:00.947520Z",
     "shell.execute_reply": "2023-05-21T22:45:00.945047Z",
     "shell.execute_reply.started": "2023-05-21T22:45:00.930530Z"
    },
    "tags": []
   },
   "outputs": [
    {
     "data": {
      "text/plain": [
       "array([ 505130.07598005,  497950.85272783, 1275140.57589858, ...,\n",
       "        469077.752153  ,  325265.07499629,  460275.88425493])"
      ]
     },
     "execution_count": 42,
     "metadata": {},
     "output_type": "execute_result"
    }
   ],
   "source": [
    "y_pred"
   ]
  },
  {
   "cell_type": "markdown",
   "metadata": {
    "_uuid": "a26c1d6aa9b779077f84ec60b7f29385fc2e058b"
   },
   "source": [
    "### Make Submission"
   ]
  },
  {
   "cell_type": "markdown",
   "metadata": {
    "_uuid": "1004d9b01d1c3068d9e8a81f263315435478e591"
   },
   "source": [
    "회귀 모델의 경우에는 cross_val_score 함수가 R<sup>2</sup>를 반환합니다.<br>\n",
    "R<sup>2</sup> 값이 1에 가까울수록 모델이 데이터를 잘 표현함을 나타냅니다. 3개 트리 모델이 상당히 훈련 데이터에 대해 괜찮은 성능을 보여주고 있습니다.<br> 훈련 데이터셋으로 3개 모델을 학습시키고, Average Blending을 통해 제출 결과를 만들겠습니다."
   ]
  },
  {
   "cell_type": "code",
   "execution_count": null,
   "metadata": {
    "_uuid": "9c9d0901bcf5e4754b40a6922292c04951b81bae",
    "execution": {
     "iopub.execute_input": "2023-05-21T22:45:10.145714Z",
     "iopub.status.busy": "2023-05-21T22:45:10.144264Z",
     "iopub.status.idle": "2023-05-21T22:45:10.159391Z",
     "shell.execute_reply": "2023-05-21T22:45:10.158369Z",
     "shell.execute_reply.started": "2023-05-21T22:45:10.145369Z"
    },
    "tags": []
   },
   "outputs": [],
   "source": [
    "sub_final = pd.DataFrame(data={'id':test_id,'price':y_pred})"
   ]
  },
  {
   "cell_type": "code",
   "execution_count": null,
   "metadata": {
    "_uuid": "2047d6ee5f5da05e5463d51d1fbbe82a94732a48",
    "execution": {
     "iopub.execute_input": "2023-05-21T22:45:10.989296Z",
     "iopub.status.busy": "2023-05-21T22:45:10.988634Z",
     "iopub.status.idle": "2023-05-21T22:45:11.024736Z",
     "shell.execute_reply": "2023-05-21T22:45:11.024156Z",
     "shell.execute_reply.started": "2023-05-21T22:45:10.989259Z"
    },
    "tags": []
   },
   "outputs": [],
   "source": [
    "sub_final.to_csv('submission.csv', index=False)"
   ]
  },
  {
   "cell_type": "markdown",
   "metadata": {
    "execution": {
     "iopub.execute_input": "2023-05-21T22:18:56.269642Z",
     "iopub.status.busy": "2023-05-21T22:18:56.268933Z",
     "iopub.status.idle": "2023-05-21T22:18:56.276460Z",
     "shell.execute_reply": "2023-05-21T22:18:56.275366Z",
     "shell.execute_reply.started": "2023-05-21T22:18:56.269594Z"
    }
   },
   "source": [
    "# Score"
   ]
  },
  {
   "cell_type": "code",
   "execution_count": null,
   "metadata": {},
   "outputs": [],
   "source": []
  }
 ],
 "metadata": {
  "kernelspec": {
   "display_name": "Python 3.10 (tensorflow)",
   "language": "python",
   "name": "tensorflow"
  },
  "language_info": {
   "codemirror_mode": {
    "name": "ipython",
    "version": 3
   },
   "file_extension": ".py",
   "mimetype": "text/x-python",
   "name": "python",
   "nbconvert_exporter": "python",
   "pygments_lexer": "ipython3",
   "version": "3.10.11"
  },
  "toc-autonumbering": true
 },
 "nbformat": 4,
 "nbformat_minor": 4
}
